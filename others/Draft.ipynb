{
 "cells": [
  {
   "cell_type": "code",
   "execution_count": 2,
   "metadata": {
    "scrolled": false
   },
   "outputs": [
    {
     "name": "stdout",
     "output_type": "stream",
     "text": [
      "DataFrame with Column Header Names:\n",
      "      Y      X1    X2  X3\n",
      "0  4264  305657  7.17   0\n",
      "1  4496  328476  6.20   0\n",
      "2  4317  317164  4.61   0\n",
      "3  4292  366745  7.02   0\n",
      "4  4945  265518  8.61   1\n",
      "R^2 Score: 0.6883341607166356\n",
      "Coefficients (Beta_1, Beta_2, Beta_3): [ 7.87080382e-04 -1.31660192e+01  6.23554481e+02]\n",
      "Intercept (Beta_0): 4149.887211954382\n",
      "Intercept: 4149.887211957204\n",
      "Coefficients: [ 7.87080382e-04 -1.31660192e+01  6.23554481e+02]\n",
      "Residual Variance (σ^2) estimate: 20531.869716538447\n",
      "Standard Errors: [1.95565405e+02 3.64553999e-04 2.30917315e+01 6.26409466e+01]\n",
      "z-scores: [21.21994533  2.15902276 -0.57016163  9.95442303]\n",
      "p-values: [0.00000000e+00 3.58765037e-02 5.71227381e-01 2.94209102e-13]\n",
      "                            OLS Regression Results                            \n",
      "==============================================================================\n",
      "Dep. Variable:                      Y   R-squared:                       0.688\n",
      "Model:                            OLS   Adj. R-squared:                  0.669\n",
      "Method:                 Least Squares   F-statistic:                     35.34\n",
      "Date:                Mon, 04 Mar 2024   Prob (F-statistic):           3.32e-12\n",
      "Time:                        14:53:36   Log-Likelihood:                -329.88\n",
      "No. Observations:                  52   AIC:                             667.8\n",
      "Df Residuals:                      48   BIC:                             675.6\n",
      "Df Model:                           3                                         \n",
      "Covariance Type:            nonrobust                                         \n",
      "==============================================================================\n",
      "                 coef    std err          t      P>|t|      [0.025      0.975]\n",
      "------------------------------------------------------------------------------\n",
      "const       4149.8872    195.565     21.220      0.000    3756.677    4543.098\n",
      "X1             0.0008      0.000      2.159      0.036    5.41e-05       0.002\n",
      "X2           -13.1660     23.092     -0.570      0.571     -59.595      33.263\n",
      "X3           623.5545     62.641      9.954      0.000     497.606     749.503\n",
      "==============================================================================\n",
      "Omnibus:                        1.532   Durbin-Watson:                   2.298\n",
      "Prob(Omnibus):                  0.465   Jarque-Bera (JB):                1.504\n",
      "Skew:                           0.332   Prob(JB):                        0.471\n",
      "Kurtosis:                       2.496   Cond. No.                     3.04e+06\n",
      "==============================================================================\n",
      "\n",
      "Notes:\n",
      "[1] Standard Errors assume that the covariance matrix of the errors is correctly specified.\n",
      "[2] The condition number is large, 3.04e+06. This might indicate that there are\n",
      "strong multicollinearity or other numerical problems.\n",
      "Coefficients match (All three methods): True\n",
      "R^2 values (OLS and SciKit) match: True\n",
      "Residual Variance (σ^2) estimate: 20531.869716538447\n",
      "Fitted Model Results:\n",
      "       Coefficient  Standard Error    z-score       p-value\n",
      "const  4149.887212      195.565405  21.219945  0.000000e+00\n",
      "X1        0.000787        0.000365   2.159023  3.587650e-02\n",
      "X2      -13.166019       23.091732  -0.570162  5.712274e-01\n",
      "X3      623.554481       62.640947   9.954423  2.942091e-13\n",
      "[0]\n",
      "[1]\n",
      "[2]\n",
      "[0, 1]\n",
      "[0, 2]\n",
      "[1, 2]\n",
      "[0, 1, 2]\n",
      "Best Subset Predictors for size k:\n",
      " {1: [1], 2: [0, 1], 3: [0, 1, 2]}\n",
      "Optimal k selected using AIC: 3\n",
      "Optimal features: [0, 1, 2]\n",
      "\n",
      "Best Subset Selection Results:\n",
      "Residual Variance (σ^2) estimate: 208790.71162398535\n",
      "    Coefficient  Standard Error   z-score       p-value\n",
      "X1     0.004601        0.001011  4.548860  3.563033e-05\n",
      "X2   389.082690       42.051467  9.252536  2.486620e-12\n",
      "X3   518.124100      199.126582  2.601984  1.222478e-02\n",
      "Forward Selection Predictors: ['X2', 'X1', 'X3']\n",
      "Forward Selection Predictors (Indices): [1, 0, 2]\n",
      "Optimal k selected using AIC: 3\n",
      "Optimal predictors: [1, 0, 2]\n",
      "\n",
      "Forward Selection Results:\n",
      "Residual Variance (σ^2) estimate: 208790.71162398532\n",
      "    Coefficient  Standard Error   z-score       p-value\n",
      "X1     0.004601        0.001011  4.548860  3.563033e-05\n",
      "X2   389.082690       42.051467  9.252536  2.486620e-12\n",
      "X3   518.124100      199.126582  2.601984  1.222478e-02\n",
      "No more predictors to remove.\n",
      "No suitable column found for removal.\n",
      "Backward Selection Predictors: ['X2', 'X1']\n",
      "Backward Selection Predictors (Indices): [1, 0]\n",
      "Optimal k selected using AIC: 2\n",
      "Optimal predictors: [0, 1]\n",
      "\n",
      "Backward Selection Results:\n",
      "Residual Variance (σ^2) estimate: 232886.49027109484\n",
      "    Coefficient  Standard Error   z-score       p-value\n",
      "X1     0.004593        0.001068  4.299445  7.919687e-05\n",
      "X2   397.711835       44.273404  8.983087  5.219865e-12\n",
      "X3          NaN             NaN       NaN           NaN\n",
      "Features in the reduced model: 3\n",
      "Features in the full model (no intercept): 3\n",
      "Total number of observations: 52\n",
      "Warning: The number of predictors in the reduced model is equal to the number of predictors in the full model. Skipping F-test.\n",
      "Features in the reduced model: 3\n",
      "Features in the full model (no intercept): 3\n",
      "Total number of observations: 52\n",
      "Warning: The number of predictors in the reduced model is equal to the number of predictors in the full model. Skipping F-test.\n",
      "Features in the reduced model: 2\n",
      "Features in the full model (no intercept): 3\n",
      "Total number of observations: 52\n",
      "\n",
      "Backward Selection - F-statistic: 496.448785587618\n",
      "Backward Selection - p-value: 1.1102230246251565e-16\n",
      "Backward Selection - Decision: Rejected\n"
     ]
    }
   ],
   "source": [
    "# -*- coding: utf-8 -*-\n",
    "\"\"\"Untitled6.ipynb\n",
    "\n",
    "Automatically generated by Colaboratory.\n",
    "\n",
    "Original file is located at\n",
    "    https://colab.research.google.com/drive/1PQzTvS_-ykONVIpJCdY4_M61T3CYWEPT\n",
    "\n",
    "PART A\n",
    "\"\"\"\n",
    "\n",
    "import numpy as np\n",
    "from sklearn.linear_model import LinearRegression\n",
    "from scipy.stats import t\n",
    "import pandas as pd\n",
    "import statsmodels.api as sm\n",
    "import itertools\n",
    "\n",
    "# Importing the pandas library\n",
    "import pandas as pd\n",
    "\n",
    "# Reading the CSV file 'grocery.txt' with tab delimiter and no header\n",
    "df = pd.read_csv('grocery.txt', delimiter='\\t', header=None)\n",
    "\n",
    "# Naming the columns as 'Y', 'X1', 'X2', and 'X3'\n",
    "df.columns = ['Y', 'X1', 'X2', 'X3']\n",
    "\n",
    "# Printing the DataFrame with column header names\n",
    "print(\"DataFrame with Column Header Names:\")\n",
    "print(df.head())\n",
    "\n",
    "# Importing necessary libraries\n",
    "from sklearn.linear_model import LinearRegression\n",
    "\n",
    "# Creating feature variables X and target variable y\n",
    "X = df.drop('Y', axis=1)  # Features (all columns except 'Y')\n",
    "y = df['Y']               # Target variable ('Y')\n",
    "\n",
    "# Creating and fitting a linear regression model\n",
    "model_linearReg = LinearRegression().fit(X, y)\n",
    "\n",
    "# Calculating R^2 score\n",
    "r2_linearReg = model_linearReg.score(X, y)\n",
    "\n",
    "# Printing R^2 score, coefficients, and intercept\n",
    "print(\"R^2 Score:\", r2_linearReg)\n",
    "print(\"Coefficients (Beta_1, Beta_2, Beta_3):\", model_linearReg.coef_)\n",
    "print(\"Intercept (Beta_0):\", model_linearReg.intercept_)\n",
    "\n",
    "import numpy as np\n",
    "\n",
    "# Finding the number of observations (N) and number of predictors (p)\n",
    "N = len(X)                           # Number of observations\n",
    "p = len(X.columns) + 1               # Number of predictors + 1 (for intercept)\n",
    "\n",
    "# Creating a matrix X_with_intercept to include intercept\n",
    "X_with_intercept = np.empty(shape=(N, p), dtype=float)\n",
    "\n",
    "# Setting the first column of X_with_intercept to 1 for intercept\n",
    "X_with_intercept[:, 0] = 1\n",
    "\n",
    "# Setting the remaining columns of X_with_intercept to X values\n",
    "X_with_intercept[:, 1:p] = X.values\n",
    "\n",
    "# Calculating beta_hat using the normal equation method\n",
    "beta_hat = np.linalg.inv(X_with_intercept.T @ X_with_intercept) @ X_with_intercept.T @ y.values\n",
    "\n",
    "# Extracting intercept and coefficients from beta_hat\n",
    "intercept = beta_hat[0]            # Intercept\n",
    "coefficients = beta_hat[1:]        # Coefficients\n",
    "\n",
    "# Printing the intercept and coefficients\n",
    "print(\"Intercept:\", intercept)\n",
    "print(\"Coefficients:\", coefficients)\n",
    "\n",
    "from scipy.stats import t\n",
    "\n",
    "# Calculating residuals\n",
    "residuals = y.values - X_with_intercept.dot(beta_hat)\n",
    "\n",
    "# Calculating Residual Sum of Squares (RSS)\n",
    "RSS = residuals.T.dot(residuals)\n",
    "\n",
    "# Calculating the number of observations (n) and number of predictors (k)\n",
    "n, k = X_with_intercept.shape\n",
    "\n",
    "# Calculating degrees of freedom\n",
    "degrees_of_freedom = n - k\n",
    "\n",
    "# Estimating the residual variance (σ^2)\n",
    "sigma_hat_squared = RSS / degrees_of_freedom\n",
    "print(\"Residual Variance (σ^2) estimate:\", sigma_hat_squared)\n",
    "\n",
    "# Calculating the variance of beta_hat\n",
    "var_beta_hat = np.linalg.inv(X_with_intercept.T @ X_with_intercept) * sigma_hat_squared\n",
    "\n",
    "# Calculating standard errors of beta_hat\n",
    "se_beta_hat = np.sqrt(np.diag(var_beta_hat))\n",
    "print(\"Standard Errors:\", se_beta_hat)\n",
    "\n",
    "# Calculating z-scores\n",
    "z_scores = beta_hat / se_beta_hat\n",
    "print(\"z-scores:\", z_scores)\n",
    "\n",
    "# Calculating two-sided p-values using the t-distribution\n",
    "p_values = (1 - t.cdf(np.abs(z_scores), df=degrees_of_freedom)) * 2\n",
    "print(\"p-values:\", p_values)\n",
    "\n",
    "import statsmodels.api as sm\n",
    "\n",
    "# Adding a constant term to the predictor variable matrix\n",
    "X_constant = sm.add_constant(X)\n",
    "\n",
    "# Fitting the OLS model\n",
    "model_OLS = sm.OLS(y, X_constant)\n",
    "results_OLS = model_OLS.fit()\n",
    "\n",
    "# Printing the summary table\n",
    "print(results_OLS.summary())\n",
    "\n",
    "# Checking if coefficients are the same for all three methods\n",
    "coefficients_match_all = np.allclose(results_OLS.params[1:], pd.Series(model_linearReg.coef_)) and \\\n",
    "                         np.allclose(results_OLS.params[1:], pd.Series(beta_hat[1:])) and \\\n",
    "                         np.allclose(pd.Series(model_linearReg.coef_), pd.Series(beta_hat[1:]))\n",
    "print(f\"Coefficients match (All three methods): {coefficients_match_all}\")\n",
    "\n",
    "# Validating R^2 values between OLS and Linear Regression\n",
    "r_squared_match = np.isclose(results_OLS.rsquared, r2_linearReg)\n",
    "print(f\"R^2 values (OLS and SciKit) match: {r_squared_match}\")\n",
    "\n",
    "# Create a DataFrame to store the results\n",
    "results_df = pd.DataFrame({\n",
    "    \"Coefficient\": results_OLS.params,\n",
    "    \"Standard Error\": se_beta_hat,\n",
    "    \"z-score\": z_scores,\n",
    "    \"p-value\": p_values\n",
    "}, index=X_constant.columns)\n",
    "\n",
    "# Print Residual Variance (σ^2) estimate\n",
    "print(\"Residual Variance (σ^2) estimate:\", sigma_hat_squared)\n",
    "\n",
    "# Print Fitted Model Results\n",
    "print(\"Fitted Model Results:\")\n",
    "print(results_df)\n",
    "\n",
    "\"\"\"PART B\"\"\"\n",
    "\n",
    "import itertools\n",
    "\n",
    "# Create a dictionary to map column names to their indices\n",
    "predictor_indices = {column_name: index for index, column_name in enumerate(X.columns)}\n",
    "\n",
    "# Iterate over different combinations of predictors\n",
    "for i in range(1, p+1):\n",
    "    for comb in itertools.combinations(X.columns, i):\n",
    "        # Get the indices of the predictors in the current combination\n",
    "        indices = [predictor_indices[column] for column in comb]\n",
    "        print(indices)\n",
    "\n",
    "def Cp(model_subset, sigma2, n):\n",
    "    # Calculate Residual Sum of Squares (RSS)\n",
    "    RSS = model_subset.ssr\n",
    "\n",
    "    # Number of predictors\n",
    "    p = len(model_subset.params)\n",
    "\n",
    "    # Calculate Cp statistic\n",
    "    return (1 / n) * (RSS + 2 * p * sigma2)\n",
    "\n",
    "# Assign values for sigma2, n, and k\n",
    "sigma2 = sigma_hat_squared\n",
    "n, k = X.shape\n",
    "\n",
    "best_models = {}\n",
    "\n",
    "for i in range(1, p+1):\n",
    "    best_subset_Cp = float('inf')\n",
    "    for comb in itertools.combinations(X.columns, i):\n",
    "        # Get the indices of predictors in the current combination\n",
    "        indices = [predictor_indices[column] for column in comb]\n",
    "        predictors = list(indices)\n",
    "\n",
    "        # Fit the subset model and calculate Cp\n",
    "        model_subset = sm.OLS(y, X.iloc[:, predictors]).fit()\n",
    "        current_Cp = Cp(model_subset, sigma2, n)\n",
    "\n",
    "        # Update best subset if current Cp is smaller\n",
    "        if current_Cp < best_subset_Cp:\n",
    "            best_subset_Cp = current_Cp\n",
    "            best_models[i] = predictors\n",
    "\n",
    "# Print the best subset predictors for each size k\n",
    "print(\"Best Subset Predictors for size k:\\n\", best_models)\n",
    "\n",
    "best_subset_AIC = float('inf')\n",
    "best_subset_k = None\n",
    "\n",
    "for k, predictors in best_models.items():\n",
    "    # Fit the subset model and calculate AIC\n",
    "    model_subset = sm.OLS(y, X.iloc[:, predictors]).fit()\n",
    "    AIC = model_subset.aic\n",
    "\n",
    "    # Update best subset AIC and k if current AIC is smaller\n",
    "    if AIC < best_subset_AIC:\n",
    "        best_subset_AIC = AIC\n",
    "        best_subset_k = k\n",
    "\n",
    "# Print the optimal k selected using AIC\n",
    "print(\"Optimal k selected using AIC:\", best_subset_k)\n",
    "\n",
    "# Accessing the optimal features using the selected k\n",
    "optimal_k = best_models[best_subset_k]\n",
    "print(\"Optimal features:\", optimal_k)\n",
    "\n",
    "# Fit the best subset model using the optimal features\n",
    "best_subset_model = sm.OLS(y, X.iloc[:, optimal_k]).fit()\n",
    "\n",
    "# Create a DataFrame to store the results of the best subset model\n",
    "best_subset_results_df = pd.DataFrame({\n",
    "    \"Coefficient\": best_subset_model.params,\n",
    "    \"Standard Error\": best_subset_model.bse,\n",
    "    \"z-score\": best_subset_model.tvalues,\n",
    "    \"p-value\": best_subset_model.pvalues\n",
    "}, index=X.columns)\n",
    "\n",
    "# Print the results for Best Subset Selection\n",
    "print(\"\\nBest Subset Selection Results:\")\n",
    "print(\"Residual Variance (σ^2) estimate:\", best_subset_model.mse_resid)\n",
    "print(best_subset_results_df)\n",
    "\n",
    "\"\"\"FORWARD SELECTION\"\"\"\n",
    "\n",
    "included = []\n",
    "\n",
    "for i in range(p):\n",
    "    excluded = [col for col in X.columns if col not in included]\n",
    "    new_Cp = np.inf\n",
    "    new_predictor = None\n",
    "\n",
    "    for col in excluded:\n",
    "        # Add one predictor at a time and fit the model\n",
    "        X_subset = X[included + [col]]\n",
    "        model = sm.OLS(y, X_subset).fit()\n",
    "\n",
    "        # Calculate Cp for the current model\n",
    "        current_Cp = Cp(model, sigma2, n)\n",
    "\n",
    "        # Update Cp and the new predictor if current Cp is smaller\n",
    "        if current_Cp < new_Cp:\n",
    "            new_Cp = current_Cp\n",
    "            new_predictor = col\n",
    "\n",
    "    # Add the new predictor to the list of included predictors\n",
    "    if new_predictor is not None:\n",
    "        included.append(new_predictor)\n",
    "\n",
    "# Print the predictors selected by forward selection\n",
    "print(\"Forward Selection Predictors:\", included)\n",
    "\n",
    "# Convert predictor names to their respective indices\n",
    "forward_selection_indices = [predictor_indices[predictor] for predictor in included]\n",
    "print(\"Forward Selection Predictors (Indices):\", forward_selection_indices)\n",
    "\n",
    "best_FSsubset_AIC = float('inf')\n",
    "best_FSsubset_k = None\n",
    "forward_AIC = {}\n",
    "\n",
    "for i in range(1, len(forward_selection_indices) + 1):\n",
    "    selected_indices = forward_selection_indices[:i]\n",
    "    model = sm.OLS(y, X.iloc[:, selected_indices]).fit()\n",
    "\n",
    "    forward_AIC[i] = model.aic\n",
    "\n",
    "    if model.aic < best_FSsubset_AIC:\n",
    "        best_FSsubset_AIC = model.aic\n",
    "        best_FSsubset_k = i\n",
    "\n",
    "forward_AIC_series = pd.Series(forward_AIC)\n",
    "\n",
    "print(\"Optimal k selected using AIC:\", best_FSsubset_k)\n",
    "optimal_forward_predictors = forward_selection_indices[:best_FSsubset_k]\n",
    "print(\"Optimal predictors:\", optimal_forward_predictors)\n",
    "\n",
    "# Fit the model using the optimal predictors selected by forward selection\n",
    "forward_selection_model = sm.OLS(y, X.iloc[:, optimal_forward_predictors]).fit()\n",
    "\n",
    "# Create a DataFrame to store the results of the forward selection model\n",
    "forward_selection_results_df = pd.DataFrame({\n",
    "    \"Coefficient\": forward_selection_model.params,\n",
    "    \"Standard Error\": forward_selection_model.bse,\n",
    "    \"z-score\": forward_selection_model.tvalues,\n",
    "    \"p-value\": forward_selection_model.pvalues\n",
    "}, index=X.columns)\n",
    "\n",
    "# Print the results for Forward Selection\n",
    "print(\"\\nForward Selection Results:\")\n",
    "print(\"Residual Variance (σ^2) estimate:\", forward_selection_model.mse_resid)\n",
    "print(forward_selection_results_df)\n",
    "\n",
    "\"\"\"BACKWARD SELECTION\"\"\"\n",
    "\n",
    "included = list(X.columns)\n",
    "best_backward_removed = []\n",
    "\n",
    "for i in range(len(X.columns)):\n",
    "    worst_z_score = float('inf')\n",
    "    next_col = None\n",
    "\n",
    "    for col in included[:]:\n",
    "        copy = included[:]\n",
    "        copy.remove(col)\n",
    "\n",
    "        if not copy:\n",
    "            print(\"No more predictors to remove.\")\n",
    "            break\n",
    "\n",
    "        # Fit the model without the current column\n",
    "        X_subset = X[copy]\n",
    "        model_subset = sm.OLS(y, X_subset).fit()\n",
    "\n",
    "        # Get the absolute value of the last z-score\n",
    "        last_z_score = abs(model_subset.tvalues.iloc[-1])\n",
    "\n",
    "        # Update the worst z-score and the next column to remove if the current z-score is worse\n",
    "        if last_z_score < worst_z_score:\n",
    "            worst_z_score = last_z_score\n",
    "            next_col = col\n",
    "\n",
    "    # Add the next column to remove to the list of removed columns\n",
    "    if next_col is not None:\n",
    "        best_backward_removed.append(next_col)\n",
    "        included.remove(next_col)\n",
    "    else:\n",
    "        print(\"No suitable column found for removal.\")\n",
    "        break\n",
    "\n",
    "# Print the predictors selected by backward selection\n",
    "print(\"Backward Selection Predictors:\", best_backward_removed)\n",
    "\n",
    "# Convert predictor names to their respective indices\n",
    "backward_selection_indices = [predictor_indices[predictor] for predictor in best_backward_removed]\n",
    "print(\"Backward Selection Predictors (Indices):\", backward_selection_indices)\n",
    "\n",
    "included_BS = backward_selection_indices[::-1]\n",
    "\n",
    "best_BSsubset_AIC = float('inf')\n",
    "best_BSsubset_k = None\n",
    "backward_AIC = {}\n",
    "\n",
    "for i in range(1, len(included_BS) + 1):\n",
    "    selected_indices = included_BS[:i]\n",
    "    model = sm.OLS(y, X.iloc[:, selected_indices]).fit()\n",
    "\n",
    "    backward_AIC[i] = model.aic\n",
    "\n",
    "    if model.aic < best_BSsubset_AIC:\n",
    "        best_BSsubset_AIC = model.aic\n",
    "        best_BSsubset_k = i\n",
    "\n",
    "backward_AIC_series = pd.Series(backward_AIC)\n",
    "\n",
    "print(\"Optimal k selected using AIC:\", best_BSsubset_k)\n",
    "optimal_backward_predictors = included_BS[:best_BSsubset_k]\n",
    "print(\"Optimal predictors:\", optimal_backward_predictors)\n",
    "\n",
    "# Fit the model using the optimal predictors selected by backward selection\n",
    "backward_selection_model = sm.OLS(y, X.iloc[:, optimal_backward_predictors]).fit()\n",
    "\n",
    "# Create a DataFrame to store the results of the backward selection model\n",
    "backward_selection_results_df = pd.DataFrame({\n",
    "    \"Coefficient\": backward_selection_model.params,\n",
    "    \"Standard Error\": backward_selection_model.bse,\n",
    "    \"z-score\": backward_selection_model.tvalues,\n",
    "    \"p-value\": backward_selection_model.pvalues\n",
    "}, index=X.columns)\n",
    "\n",
    "# Print the results for Backward Selection\n",
    "print(\"\\nBackward Selection Results:\")\n",
    "print(\"Residual Variance (σ^2) estimate:\", backward_selection_model.mse_resid)\n",
    "print(backward_selection_results_df)\n",
    "\n",
    "\"\"\"PART C\"\"\"\n",
    "\n",
    "from scipy.stats import f\n",
    "\n",
    "def f_test(RSS_reduced, RSS_full, p_reduced, p_full, n, alpha=0.05):\n",
    "    # Calculate the F-statistic\n",
    "    F = ((RSS_reduced - RSS_full) / (p_full - p_reduced)) / (RSS_full / (n - p_full - 1))\n",
    "\n",
    "    # Degrees of freedom\n",
    "    df1 = p_full - p_reduced\n",
    "    df2 = n - p_full - 1\n",
    "\n",
    "    # Calculate the p-value\n",
    "    p_value = 1 - f.cdf(F, df1, df2)\n",
    "\n",
    "    # Make a decision\n",
    "    if p_value < alpha:\n",
    "        decision = \"Rejected\"\n",
    "    else:\n",
    "        decision = \"Failed to Reject\"\n",
    "\n",
    "    return F, p_value, decision\n",
    "\n",
    "# Assign necessary variables\n",
    "sigma2 = results_OLS.mse_resid\n",
    "p_full = len(coefficients)\n",
    "n = len(y)\n",
    "\n",
    "RSS_reduced = best_subset_model.mse_resid\n",
    "p_reduced = len(optimal_k)\n",
    "\n",
    "print(\"Features in the reduced model:\", p_reduced)\n",
    "print(\"Features in the full model (no intercept):\", p_full)\n",
    "print(\"Total number of observations:\", n)\n",
    "\n",
    "if p_reduced == p_full:\n",
    "    print(\"Warning: The number of predictors in the reduced model is equal to the number of predictors in the full model. Skipping F-test.\")\n",
    "else:\n",
    "    F, p_value, decision = f_test(RSS_reduced, sigma2, p_reduced, p_full, n)\n",
    "    print(\"\\nBest Subset Selection - F-statistic:\", F)\n",
    "    print(\"Best Subset Selection - p-value:\", p_value)\n",
    "    print(\"Best Subset Selection - Decision:\", decision)\n",
    "\n",
    "\"\"\"FORWARD SELECTION\"\"\"\n",
    "\n",
    "RSS_reduced = forward_selection_model.mse_resid\n",
    "p_reduced = len(optimal_forward_predictors)\n",
    "\n",
    "print(\"Features in the reduced model:\", p_reduced)\n",
    "print(\"Features in the full model (no intercept):\", p_full)\n",
    "print(\"Total number of observations:\", n)\n",
    "\n",
    "if p_reduced == p_full:\n",
    "    print(\"Warning: The number of predictors in the reduced model is equal to the number of predictors in the full model. Skipping F-test.\")\n",
    "else:\n",
    "    F, p_value, decision = f_test(RSS_reduced, results_OLS.mse_resid, p_reduced, p_full, n)\n",
    "    print(\"\\nForward Selection - F-statistic:\", F)\n",
    "    print(\"Forward Selection - p-value:\", p_value)\n",
    "    print(\"Forward Selection - Decision:\", decision)\n",
    "\n",
    "RSS_reduced = backward_selection_model.mse_resid\n",
    "p_reduced = len(optimal_backward_predictors)\n",
    "\n",
    "print(\"Features in the reduced model:\", p_reduced)\n",
    "print(\"Features in the full model (no intercept):\", p_full)\n",
    "print(\"Total number of observations:\", n)\n",
    "\n",
    "# Check if p_reduced is equal to p_full\n",
    "if p_reduced == p_full:\n",
    "    print(\"Warning: The number of predictors in the reduced model is equal to the number of predictors in the full model. Skipping F-test.\")\n",
    "else:\n",
    "    # If p_reduced is not equal to p_full, perform the F-test\n",
    "    F, p_value, decision = f_test(RSS_reduced, results_OLS.mse_resid, p_reduced, p_full, n)\n",
    "    print(\"\\nBackward Selection - F-statistic:\", F)\n",
    "    print(\"Backward Selection - p-value:\", p_value)\n",
    "    print(\"Backward Selection - Decision:\", decision)"
   ]
  },
  {
   "cell_type": "code",
   "execution_count": 17,
   "metadata": {},
   "outputs": [],
   "source": [
    "A = pd.DataFrame([[ 1,2,3],[4,5,6],[7,8,9]])"
   ]
  },
  {
   "cell_type": "code",
   "execution_count": 18,
   "metadata": {},
   "outputs": [],
   "source": [
    "A.columns = ['name','population','area']"
   ]
  },
  {
   "cell_type": "code",
   "execution_count": 26,
   "metadata": {},
   "outputs": [
    {
     "data": {
      "text/html": [
       "<div>\n",
       "<style scoped>\n",
       "    .dataframe tbody tr th:only-of-type {\n",
       "        vertical-align: middle;\n",
       "    }\n",
       "\n",
       "    .dataframe tbody tr th {\n",
       "        vertical-align: top;\n",
       "    }\n",
       "\n",
       "    .dataframe thead th {\n",
       "        text-align: right;\n",
       "    }\n",
       "</style>\n",
       "<table border=\"1\" class=\"dataframe\">\n",
       "  <thead>\n",
       "    <tr style=\"text-align: right;\">\n",
       "      <th></th>\n",
       "      <th>name</th>\n",
       "      <th>population</th>\n",
       "      <th>area</th>\n",
       "    </tr>\n",
       "  </thead>\n",
       "  <tbody>\n",
       "    <tr>\n",
       "      <th>0</th>\n",
       "      <td>1</td>\n",
       "      <td>2</td>\n",
       "      <td>3</td>\n",
       "    </tr>\n",
       "    <tr>\n",
       "      <th>1</th>\n",
       "      <td>4</td>\n",
       "      <td>5</td>\n",
       "      <td>6</td>\n",
       "    </tr>\n",
       "    <tr>\n",
       "      <th>2</th>\n",
       "      <td>7</td>\n",
       "      <td>8</td>\n",
       "      <td>9</td>\n",
       "    </tr>\n",
       "  </tbody>\n",
       "</table>\n",
       "</div>"
      ],
      "text/plain": [
       "   name  population  area\n",
       "0     1           2     3\n",
       "1     4           5     6\n",
       "2     7           8     9"
      ]
     },
     "execution_count": 26,
     "metadata": {},
     "output_type": "execute_result"
    }
   ],
   "source": [
    "A"
   ]
  },
  {
   "cell_type": "code",
   "execution_count": 27,
   "metadata": {},
   "outputs": [],
   "source": [
    "a1 = A['name']>2"
   ]
  },
  {
   "cell_type": "code",
   "execution_count": 28,
   "metadata": {},
   "outputs": [],
   "source": [
    "a2 = A['population']>2"
   ]
  },
  {
   "cell_type": "code",
   "execution_count": 29,
   "metadata": {},
   "outputs": [
    {
     "data": {
      "text/plain": [
       "0    False\n",
       "1     True\n",
       "2     True\n",
       "Name: name, dtype: bool"
      ]
     },
     "execution_count": 29,
     "metadata": {},
     "output_type": "execute_result"
    }
   ],
   "source": [
    "a1"
   ]
  },
  {
   "cell_type": "code",
   "execution_count": 30,
   "metadata": {},
   "outputs": [
    {
     "data": {
      "text/plain": [
       "0    False\n",
       "1     True\n",
       "2     True\n",
       "Name: population, dtype: bool"
      ]
     },
     "execution_count": 30,
     "metadata": {},
     "output_type": "execute_result"
    }
   ],
   "source": [
    "a2"
   ]
  },
  {
   "cell_type": "code",
   "execution_count": 31,
   "metadata": {},
   "outputs": [
    {
     "data": {
      "text/plain": [
       "0    False\n",
       "1     True\n",
       "2     True\n",
       "dtype: bool"
      ]
     },
     "execution_count": 31,
     "metadata": {},
     "output_type": "execute_result"
    }
   ],
   "source": [
    "a1 & a2"
   ]
  },
  {
   "cell_type": "code",
   "execution_count": 15,
   "metadata": {},
   "outputs": [],
   "source": [
    "a=(A['population']>2)[A['population']>2]"
   ]
  },
  {
   "cell_type": "code",
   "execution_count": 32,
   "metadata": {},
   "outputs": [
    {
     "data": {
      "text/html": [
       "<div>\n",
       "<style scoped>\n",
       "    .dataframe tbody tr th:only-of-type {\n",
       "        vertical-align: middle;\n",
       "    }\n",
       "\n",
       "    .dataframe tbody tr th {\n",
       "        vertical-align: top;\n",
       "    }\n",
       "\n",
       "    .dataframe thead th {\n",
       "        text-align: right;\n",
       "    }\n",
       "</style>\n",
       "<table border=\"1\" class=\"dataframe\">\n",
       "  <thead>\n",
       "    <tr style=\"text-align: right;\">\n",
       "      <th></th>\n",
       "      <th>name</th>\n",
       "      <th>population</th>\n",
       "      <th>area</th>\n",
       "    </tr>\n",
       "  </thead>\n",
       "  <tbody>\n",
       "    <tr>\n",
       "      <th>1</th>\n",
       "      <td>4</td>\n",
       "      <td>5</td>\n",
       "      <td>6</td>\n",
       "    </tr>\n",
       "    <tr>\n",
       "      <th>2</th>\n",
       "      <td>7</td>\n",
       "      <td>8</td>\n",
       "      <td>9</td>\n",
       "    </tr>\n",
       "  </tbody>\n",
       "</table>\n",
       "</div>"
      ],
      "text/plain": [
       "   name  population  area\n",
       "1     4           5     6\n",
       "2     7           8     9"
      ]
     },
     "execution_count": 32,
     "metadata": {},
     "output_type": "execute_result"
    }
   ],
   "source": [
    "A.loc[a1 & a2]"
   ]
  },
  {
   "cell_type": "code",
   "execution_count": null,
   "metadata": {},
   "outputs": [],
   "source": []
  },
  {
   "cell_type": "code",
   "execution_count": null,
   "metadata": {},
   "outputs": [],
   "source": []
  },
  {
   "cell_type": "markdown",
   "metadata": {},
   "source": [
    "IIT Math Stats HW 5 Extra 2"
   ]
  },
  {
   "cell_type": "code",
   "execution_count": 1,
   "metadata": {},
   "outputs": [],
   "source": [
    "import numpy as np\n",
    "import matplotlib.pyplot as plt"
   ]
  },
  {
   "cell_type": "code",
   "execution_count": 2,
   "metadata": {},
   "outputs": [],
   "source": [
    "x = np.random.exponential(size=10)\n",
    "y = np.random.binomial(1, 0.5, 10)\n",
    "doubleExponentialSample = (y*2-1)*x"
   ]
  },
  {
   "cell_type": "code",
   "execution_count": 3,
   "metadata": {},
   "outputs": [],
   "source": [
    "theta = np.linspace(-1,1,20)"
   ]
  },
  {
   "cell_type": "code",
   "execution_count": 4,
   "metadata": {},
   "outputs": [],
   "source": [
    "l = [np.log(2)-sum(abs(doubleExponentialSample-i)) for i in theta]"
   ]
  },
  {
   "cell_type": "code",
   "execution_count": 5,
   "metadata": {},
   "outputs": [
    {
     "data": {
      "text/plain": [
       "<matplotlib.legend.Legend at 0x22e7a9bd128>"
      ]
     },
     "execution_count": 5,
     "metadata": {},
     "output_type": "execute_result"
    },
    {
     "data": {
      "image/png": "[encoded data removed]",
      "text/plain": [
       "<Figure size 720x360 with 1 Axes>"
      ]
     },
     "metadata": {
      "needs_background": "light"
     },
     "output_type": "display_data"
    }
   ],
   "source": [
    "fig = plt.figure()\n",
    "fig.set_size_inches(10,5)\n",
    "ax = fig.add_subplot(111)\n",
    "A = ax.plot(theta,l,label='likelihood of double exponential distribution')\n",
    "ax.legend()"
   ]
  },
  {
   "cell_type": "markdown",
   "metadata": {},
   "source": [
    "EM Algorithm 6.6.4"
   ]
  },
  {
   "cell_type": "code",
   "execution_count": 6,
   "metadata": {},
   "outputs": [],
   "source": [
    "x = [125,18,20,34]\n",
    "n=4\n",
    "theta = 1/n*(x[0]-x[1]-x[2]+x[3])\n",
    "theta0 = 0"
   ]
  },
  {
   "cell_type": "code",
   "execution_count": 7,
   "metadata": {},
   "outputs": [],
   "source": [
    "diff = abs(theta-theta0)\n",
    "max_iter = 100\n",
    "cvg_diff = 1e-5\n",
    "k=0\n",
    "theta_list=[]\n",
    "\n",
    "while diff>cvg_diff and k<max_iter:\n",
    "    theta0=theta\n",
    "    theta = (x[0]*theta0+2*x[3]+x[3]*theta0)/(n*theta0+2*(x[1]+x[2]+x[3]))\n",
    "    diff = abs(theta-theta0)\n",
    "    theta_list.append(theta)"
   ]
  },
  {
   "cell_type": "code",
   "execution_count": 8,
   "metadata": {},
   "outputs": [
    {
     "data": {
      "text/plain": [
       "51"
      ]
     },
     "execution_count": 8,
     "metadata": {},
     "output_type": "execute_result"
    }
   ],
   "source": [
    "len(theta_list)"
   ]
  },
  {
   "cell_type": "code",
   "execution_count": 9,
   "metadata": {},
   "outputs": [
    {
     "data": {
      "text/plain": [
       "[18.406603773584905,\n",
       " 13.760507880910684,\n",
       " 11.333891318311,\n",
       " 9.877112717373448,\n",
       " 8.928531161911485,\n",
       " 8.277793733022602,\n",
       " 7.815256175006035,\n",
       " 7.478135735365121,\n",
       " 7.22790639859813,\n",
       " 7.0396487985859135,\n",
       " 6.896572068532827,\n",
       " 6.786993125209353,\n",
       " 6.702573744498635,\n",
       " 6.637241774691265,\n",
       " 6.586503930718002,\n",
       " 6.546992720971632,\n",
       " 6.516158791217409,\n",
       " 6.492056662651968,\n",
       " 6.473192260947366,\n",
       " 6.458412418999544,\n",
       " 6.446823563585368,\n",
       " 6.437731111803287,\n",
       " 6.4305938264046,\n",
       " 6.4249891414419364,\n",
       " 6.420586637374892,\n",
       " 6.417127635755336,\n",
       " 6.414409430494423,\n",
       " 6.412273058000301,\n",
       " 6.410593784579657,\n",
       " 6.409273690383333,\n",
       " 6.408235877295004,\n",
       " 6.407419938634063,\n",
       " 6.406778411746387,\n",
       " 6.406273997735897,\n",
       " 6.405877380891928,\n",
       " 6.405565517501877,\n",
       " 6.405320292417619,\n",
       " 6.405127463974526,\n",
       " 6.404975835144693,\n",
       " 6.4048566022741324,\n",
       " 6.4047628432690304,\n",
       " 6.404689115318416,\n",
       " 6.4046311386774954,\n",
       " 6.404585548079845,\n",
       " 6.404549697302055,\n",
       " 6.404521505508068,\n",
       " 6.404499336436782,\n",
       " 6.4044819034097955,\n",
       " 6.404468194639149,\n",
       " 6.404457414495757,\n",
       " 6.404448937327258]"
      ]
     },
     "execution_count": 9,
     "metadata": {},
     "output_type": "execute_result"
    }
   ],
   "source": [
    "theta_list"
   ]
  },
  {
   "cell_type": "code",
   "execution_count": 10,
   "metadata": {},
   "outputs": [
    {
     "data": {
      "image/png": "[encoded data removed]",
      "text/plain": [
       "<Figure size 720x360 with 1 Axes>"
      ]
     },
     "metadata": {
      "needs_background": "light"
     },
     "output_type": "display_data"
    }
   ],
   "source": [
    "fig = plt.figure()\n",
    "fig.set_size_inches(10,5)\n",
    "ax = fig.add_subplot(111)\n",
    "A = ax.plot(theta_list)"
   ]
  },
  {
   "cell_type": "markdown",
   "metadata": {},
   "source": [
    "Math Stats HW9 9.26"
   ]
  },
  {
   "cell_type": "code",
   "execution_count": 11,
   "metadata": {},
   "outputs": [],
   "source": [
    "from scipy.stats import poisson"
   ]
  },
  {
   "cell_type": "code",
   "execution_count": 139,
   "metadata": {},
   "outputs": [],
   "source": [
    "lambda_list=np.linspace(0.01,62,6200)"
   ]
  },
  {
   "cell_type": "code",
   "execution_count": 140,
   "metadata": {
    "scrolled": true
   },
   "outputs": [
    {
     "name": "stderr",
     "output_type": "stream",
     "text": [
      "E:\\Programs\\Anaconda3\\lib\\site-packages\\ipykernel_launcher.py:1: RuntimeWarning: divide by zero encountered in log\n",
      "  \"\"\"Entry point for launching an IPython kernel.\n"
     ]
    }
   ],
   "source": [
    "c_list=np.log(poisson.ppf(0.9,lambda_list))*np.log(lambda_list/62)-9*(lambda_list-62)"
   ]
  },
  {
   "cell_type": "code",
   "execution_count": 141,
   "metadata": {},
   "outputs": [],
   "source": [
    "ans=np.exp(558-9*lambda_list)*(9*lambda_list/558)**558<c_list"
   ]
  },
  {
   "cell_type": "code",
   "execution_count": 144,
   "metadata": {},
   "outputs": [
    {
     "name": "stdout",
     "output_type": "stream",
     "text": [
      "61.89\n"
     ]
    }
   ],
   "source": [
    "k=0\n",
    "for i in ans:\n",
    "    if not i:\n",
    "        print(lambda_list[k])\n",
    "        break\n",
    "    k=k+1"
   ]
  },
  {
   "cell_type": "code",
   "execution_count": 145,
   "metadata": {},
   "outputs": [],
   "source": [
    "lambda_list=np.linspace(62.01,100,3800)"
   ]
  },
  {
   "cell_type": "code",
   "execution_count": 155,
   "metadata": {},
   "outputs": [],
   "source": [
    "c_list=np.log(poisson.ppf(0.9,lambda_list))*np.log(lambda_list/62)-9*(lambda_list-62)"
   ]
  },
  {
   "cell_type": "code",
   "execution_count": 156,
   "metadata": {},
   "outputs": [],
   "source": [
    "ans=np.exp(558-9*lambda_list)*(9*lambda_list/558)**558<c_list"
   ]
  },
  {
   "cell_type": "code",
   "execution_count": 157,
   "metadata": {},
   "outputs": [
    {
     "name": "stdout",
     "output_type": "stream",
     "text": [
      "62.019999999999996\n"
     ]
    }
   ],
   "source": [
    "k=0\n",
    "for i in ans:\n",
    "    k=k+1\n",
    "    if not i:\n",
    "        print(lambda_list[k])\n",
    "        break"
   ]
  },
  {
   "cell_type": "code",
   "execution_count": 159,
   "metadata": {},
   "outputs": [],
   "source": [
    "from scipy.stats import chi2"
   ]
  },
  {
   "cell_type": "code",
   "execution_count": 165,
   "metadata": {},
   "outputs": [
    {
     "data": {
      "text/plain": [
       "66.37943613057222"
      ]
     },
     "execution_count": 165,
     "metadata": {},
     "output_type": "execute_result"
    }
   ],
   "source": [
    "chi2.ppf(0.95,1116)/18"
   ]
  },
  {
   "cell_type": "code",
   "execution_count": 166,
   "metadata": {},
   "outputs": [
    {
     "data": {
      "text/plain": [
       "57.85413174301712"
      ]
     },
     "execution_count": 166,
     "metadata": {},
     "output_type": "execute_result"
    }
   ],
   "source": [
    "chi2.ppf(0.05,1118)/18"
   ]
  },
  {
   "cell_type": "code",
   "execution_count": 3,
   "metadata": {
    "code_folding": [
     0
    ]
   },
   "outputs": [
    {
     "data": {
      "text/plain": [
       "6"
      ]
     },
     "execution_count": 3,
     "metadata": {},
     "output_type": "execute_result"
    }
   ],
   "source": [
    "def prod(*numbers):\n",
    "    if not numbers:\n",
    "        raise TypeError\n",
    "    number=1\n",
    "    for i in numbers:\n",
    "        number = number * i\n",
    "    return number\n",
    "\n",
    "prod(1,1,1,2,3)"
   ]
  },
  {
   "cell_type": "code",
   "execution_count": 4,
   "metadata": {},
   "outputs": [
    {
     "data": {
      "text/plain": [
       "216"
      ]
     },
     "execution_count": 4,
     "metadata": {},
     "output_type": "execute_result"
    }
   ],
   "source": [
    "prod(6,6,6)"
   ]
  },
  {
   "cell_type": "markdown",
   "metadata": {},
   "source": [
    "20200601 Edith learning Python"
   ]
  },
  {
   "cell_type": "code",
   "execution_count": 1,
   "metadata": {},
   "outputs": [],
   "source": [
    "import re\n",
    "from datetime import datetime, timezone, timedelta"
   ]
  },
  {
   "cell_type": "code",
   "execution_count": 64,
   "metadata": {},
   "outputs": [],
   "source": [
    "dt_str='2015-6-1 08:10:30'\n",
    "tz_str='UTC+7:00'"
   ]
  },
  {
   "cell_type": "code",
   "execution_count": 46,
   "metadata": {},
   "outputs": [],
   "source": [
    "exec('tz_utc = timezone(timedelta(hours='+tz+'))')"
   ]
  },
  {
   "cell_type": "code",
   "execution_count": 48,
   "metadata": {},
   "outputs": [],
   "source": [
    "dt = datetime.strptime(dt_str, '%Y-%m-%d %H:%M:%S').replace(tzinfo=tz_utc)"
   ]
  },
  {
   "cell_type": "code",
   "execution_count": 49,
   "metadata": {},
   "outputs": [
    {
     "data": {
      "text/plain": [
       "datetime.datetime(2015, 6, 1, 8, 10, 30, tzinfo=datetime.timezone(datetime.timedelta(seconds=25200)))"
      ]
     },
     "execution_count": 49,
     "metadata": {},
     "output_type": "execute_result"
    }
   ],
   "source": [
    "dt"
   ]
  },
  {
   "cell_type": "code",
   "execution_count": 50,
   "metadata": {},
   "outputs": [
    {
     "data": {
      "text/plain": [
       "1433121030.0"
      ]
     },
     "execution_count": 50,
     "metadata": {},
     "output_type": "execute_result"
    }
   ],
   "source": [
    "dt.timestamp() #1433121030"
   ]
  },
  {
   "cell_type": "code",
   "execution_count": null,
   "metadata": {},
   "outputs": [],
   "source": []
  },
  {
   "cell_type": "code",
   "execution_count": null,
   "metadata": {},
   "outputs": [],
   "source": []
  }
 ],
 "metadata": {
  "kernelspec": {
   "display_name": "Python 3 (ipykernel)",
   "language": "python",
   "name": "python3"
  },
  "language_info": {
   "codemirror_mode": {
    "name": "ipython",
    "version": 3
   },
   "file_extension": ".py",
   "mimetype": "text/x-python",
   "name": "python",
   "nbconvert_exporter": "python",
   "pygments_lexer": "ipython3",
   "version": "3.9.13"
  },
  "toc": {
   "base_numbering": 1,
   "nav_menu": {},
   "number_sections": true,
   "sideBar": true,
   "skip_h1_title": false,
   "title_cell": "Table of Contents",
   "title_sidebar": "Contents",
   "toc_cell": false,
   "toc_position": {},
   "toc_section_display": true,
   "toc_window_display": false
  },
  "varInspector": {
   "cols": {
    "lenName": 16,
    "lenType": 16,
    "lenVar": 40
   },
   "kernels_config": {
    "python": {
     "delete_cmd_postfix": "",
     "delete_cmd_prefix": "del ",
     "library": "var_list.py",
     "varRefreshCmd": "print(var_dic_list())"
    },
    "r": {
     "delete_cmd_postfix": ") ",
     "delete_cmd_prefix": "rm(",
     "library": "var_list.r",
     "varRefreshCmd": "cat(var_dic_list()) "
    }
   },
   "types_to_exclude": [
    "module",
    "function",
    "builtin_function_or_method",
    "instance",
    "_Feature"
   ],
   "window_display": false
  }
 },
 "nbformat": 4,
 "nbformat_minor": 2
}
