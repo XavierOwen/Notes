{
 "cells": [
  {
   "cell_type": "markdown",
   "metadata": {},
   "source": [
    "# <center>Econometrics HW_08</center>\n",
    "\n",
    "**<center>11510691 程远星$\\DeclareMathOperator*{\\argmin}{argmin}\n",
    "\\DeclareMathOperator*{\\argmax}{argmax}\n",
    "\\DeclareMathOperator*{\\plim}{plim}\n",
    "\\newcommand{\\using}[1]{\\stackrel{\\mathrm{#1}}{=}}\n",
    "\\newcommand{\\ffrac}{\\displaystyle \\frac}\n",
    "\\newcommand{\\asim}{\\overset{\\text{a}}{\\sim}}\n",
    "\\newcommand{\\space}{\\text{ }}\n",
    "\\newcommand{\\bspace}{\\;\\;\\;\\;}\n",
    "\\newcommand{\\QQQ}{\\boxed{?\\:}}\n",
    "\\newcommand{\\void}{\\left.\\right.}\n",
    "\\newcommand{\\Tran}[1]{{#1}^{\\mathrm{T}}}\n",
    "\\newcommand{\\d}[1]{\\displaystyle{#1}}\n",
    "\\newcommand{\\CB}[1]{\\left\\{ #1 \\right\\}}\n",
    "\\newcommand{\\SB}[1]{\\left[ #1 \\right]}\n",
    "\\newcommand{\\P}[1]{\\left( #1 \\right)}\n",
    "\\newcommand{\\abs}[1]{\\left| #1 \\right|}\n",
    "\\newcommand{\\norm}[1]{\\left\\| #1 \\right\\|}\n",
    "\\newcommand{\\dd}{\\mathrm{d}}\n",
    "\\newcommand{\\Exp}{\\mathrm{E}}\n",
    "\\newcommand{\\RR}{\\mathbb{R}}\n",
    "\\newcommand{\\EE}{\\mathbb{E}}\n",
    "\\newcommand{\\NN}{\\mathbb{N}}\n",
    "\\newcommand{\\ZZ}{\\mathbb{Z}}\n",
    "\\newcommand{\\QQ}{\\mathbb{Q}}\n",
    "\\newcommand{\\AcA}{\\mathscr{A}}\n",
    "\\newcommand{\\FcF}{\\mathscr{F}}\n",
    "\\newcommand{\\Var}[2][\\,\\!]{\\mathrm{Var}_{#1}\\left[#2\\right]}\n",
    "\\newcommand{\\Avar}[2][\\,\\!]{\\mathrm{Avar}_{#1}\\left[#2\\right]}\n",
    "\\newcommand{\\Cov}[2][\\,\\!]{\\mathrm{Cov}_{#1}\\left(#2\\right)}\n",
    "\\newcommand{\\Corr}[2][\\,\\!]{\\mathrm{Corr}_{#1}\\left(#2\\right)}\n",
    "\\newcommand{\\I}[1]{\\mathrm{I}\\left( #1 \\right)}\n",
    "\\newcommand{\\N}[1]{\\mathcal{N} \\left( #1 \\right)}\n",
    "\\newcommand{\\ow}{\\text{otherwise}}\n",
    "\\void^\\dagger$</center>**"
   ]
  },
  {
   "cell_type": "markdown",
   "metadata": {},
   "source": [
    "## Question 5\n",
    "\n",
    "$\\P{1}$\n",
    "\n",
    "$\\bspace$The two set of standard errors are so close and there's really no needs to distinguish them from each other.\n",
    "\n",
    "$\\P{2}$\n",
    "\n",
    "$\\bspace$Holding all other variables fixed, the probability of smoking changes by about $-0.029\\times4=-0.116$.\n",
    "\n",
    "$\\P{3}$\n",
    "\n",
    "$$\\abs{\\ffrac{0.02} {2\\times 0.00026}}\\approx 38.46153846153846$$\n",
    "\n",
    "$\\P{4}$\n",
    "\n",
    "$\\bspace$Holding other factors in the equation fixed, the probability to smoke will decrease $0.101$ for a person in a state with restaurant smoking restrictions.\n",
    "\n",
    "$\\P{5}$\n",
    "\n",
    "$$\\begin{align}\\widehat{\\text{smoke}} &= 0.656-0.069\\times\\log\\P{67.44} + 0.012\\times\\log\\P{6500} - 0.029 \\times 16\\\\\n",
    "&\\bspace+ 0.0207\\times77 -0.00026\\times77^2 -0.101\\times0-0.026\\times 0\\\\\n",
    "&\\approx 0.0052\n",
    "\\end{align}$$"
   ]
  },
  {
   "cell_type": "markdown",
   "metadata": {},
   "source": [
    "## Question 6\n",
    "\n",
    "$\\P{1}$\n",
    "\n",
    "$\\bspace$The numerator has $k+1$ regressors, and that's the $df$ for it. For the denominator, its $df$ is $n-\\P{k+2}$\n",
    "\n",
    "$\\P{2}$\n",
    "\n",
    "$\\bspace$In BP test, there's one more regressor thus it's got a higher $R$-squared. In White test, since $R^2$ measures the proportion a model can explain, adding the original regressors rather than the regressed one from their regression can, of course, explain more. So the $R^2$ in this new test can not be less than that in White test.\n",
    "\n",
    "$\\P{3}$\n",
    "\n",
    "$\\bspace$For $t$ test statistic will be a little bit smaller however the change of $F$ statistic is unpredictable. The $\\text{SSR}$s will be larger while $df$s also do.\n",
    "\n",
    "$\\P{4}$\n",
    "\n",
    "$\\bspace$Collinearity. Since the newly added variable is a linear combination of all other variables except for the last one."
   ]
  },
  {
   "cell_type": "markdown",
   "metadata": {},
   "source": [
    "## Question 7\n",
    "\n",
    "$\\P{1}$\n",
    "\n",
    "$\\bspace$Since the two are uncorrelated, we have $\\Var{u_{i,e}} = \\Var{f_i} + \\Var{v_{i,e}} = \\sigma_f^2 + \\sigma_v^2$\n",
    "\n",
    "$\\P{2}$\n",
    "\n",
    "$$\\begin{align}\n",
    "\\Cov{u_{i,e},u_{i,g}} &= \\Cov{f_i + v_{i,e},f_i + v_{i,g}}\\\\\n",
    "&= \\Cov{f_i,f_i} + \\Cov{f_i,v_{i,g}} + \\Cov{v_{i,e},f_i} + \\Cov{v_{i,e},v_{i,g}}\\\\\n",
    "&= \\Cov{f_i,f_i} + 0 + 0 + 0 = \\Var{f_i}\n",
    "\\end{align}$$\n",
    "\n",
    "$\\P{3}$\n",
    "\n",
    "$$\\begin{align}\n",
    "\\Var{\\bar u_i} &= \\Var{\\ffrac{1} {m_i}\\sum_{e=1}^{m_i} u_{i,e}} \\\\\n",
    "&= \\Var{f_i + \\ffrac{1} {m_i}\\sum_{e=1}^{m_i} v_{i,e}}\\\\\n",
    "&= \\Var{f_i} + \\Var{\\ffrac{1} {m_i}\\sum_{e=1}^{m_i} v_{i,e}}\\\\\n",
    "&= \\sigma_f^2 + \\ffrac{\\sigma_v^2} {m_i}\n",
    "\\end{align}$$\n",
    "\n",
    "$\\P{4}$\n",
    "\n",
    "$\\bspace$From the weighted OLS method, our target is to find some specific weight so that $\\Var{\\bar u_i} = \\ffrac{\\sigma_f^2} {m_i}$. If we take the weight so that the data are simply averaged, then like the preceding problem, we failed."
   ]
  }
 ],
 "metadata": {
  "kernelspec": {
   "display_name": "Python 3",
   "language": "python",
   "name": "python3"
  },
  "language_info": {
   "codemirror_mode": {
    "name": "ipython",
    "version": 3
   },
   "file_extension": ".py",
   "mimetype": "text/x-python",
   "name": "python",
   "nbconvert_exporter": "python",
   "pygments_lexer": "ipython3",
   "version": "3.5.2"
  },
  "toc": {
   "colors": {
    "hover_highlight": "#DAA520",
    "navigate_num": "#000000",
    "navigate_text": "#333333",
    "running_highlight": "#FF0000",
    "selected_highlight": "#FFD700",
    "sidebar_border": "#EEEEEE",
    "wrapper_background": "#FFFFFF"
   },
   "moveMenuLeft": true,
   "nav_menu": {
    "height": "52px",
    "width": "252px"
   },
   "navigate_menu": true,
   "number_sections": true,
   "sideBar": true,
   "threshold": 4,
   "toc_cell": false,
   "toc_section_display": "block",
   "toc_window_display": false,
   "widenNotebook": false
  }
 },
 "nbformat": 4,
 "nbformat_minor": 2
}
