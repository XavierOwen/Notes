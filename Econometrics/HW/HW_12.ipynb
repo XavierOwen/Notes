{
 "cells": [
  {
   "cell_type": "markdown",
   "metadata": {},
   "source": [
    "# <center>Econometrics HW_12</center>\n",
    "\n",
    "**<center>11510691 程$\n",
    "% color\n",
    "% Aquamarine, black, blue, brown, cyan, darkgray, gray, green, lightgray, lime, magenta, olive, orange, pink, purple, red, teal, violet, white, yellow\n",
    "\\DeclareMathOperator*{\\argmin}{argmin}\n",
    "\\DeclareMathOperator*{\\argmax}{argmax}\n",
    "\\DeclareMathOperator*{\\plim}{plim}\n",
    "\\newcommand{\\ffrac}{\\displaystyle \\frac}\n",
    "\\newcommand{\\d}[1]{\\displaystyle{#1}}\n",
    "\\newcommand{\\space}{\\text{ }}\n",
    "\\newcommand{\\bspace}{\\;\\;\\;\\;}\n",
    "\\newcommand{\\bbspace}{\\;\\;\\;\\;\\;\\;\\;\\;}\n",
    "\\newcommand{\\QQQ}{\\boxed{?\\:}}\n",
    "\\newcommand{\\void}{\\left.\\right.}\n",
    "\\newcommand{\\Tran}[1]{{#1}^{\\mathrm{T}}}\n",
    "\\newcommand{\\CB}[1]{\\left\\{ #1 \\right\\}}\n",
    "\\newcommand{\\SB}[1]{\\left[ #1 \\right]}\n",
    "\\newcommand{\\P}[1]{\\left( #1 \\right)}\n",
    "\\newcommand{\\abs}[1]{\\left| #1 \\right|}\n",
    "\\newcommand{\\norm}[1]{\\left\\| #1 \\right\\|}\n",
    "\\newcommand{\\given}[1]{\\left. #1 \\right|}\n",
    "\\newcommand{\\using}[1]{\\stackrel{\\mathrm{#1}}{=}}\n",
    "\\newcommand{\\asim}{\\overset{\\text{a}}{\\sim}}\n",
    "\\newcommand{\\RR}{\\mathbb{R}}\n",
    "\\newcommand{\\EE}{\\mathbb{E}}\n",
    "\\newcommand{\\II}{\\mathbb{I}}\n",
    "\\newcommand{\\NN}{\\mathbb{N}}\n",
    "\\newcommand{\\ZZ}{\\mathbb{Z}}\n",
    "\\newcommand{\\QQ}{\\mathbb{Q}}\n",
    "\\newcommand{\\PP}{\\mathbb{P}}\n",
    "\\newcommand{\\AcA}{\\mathcal{A}}\n",
    "\\newcommand{\\FcF}{\\mathcal{F}}\n",
    "\\newcommand{\\AsA}{\\mathscr{A}}\n",
    "\\newcommand{\\FsF}{\\mathscr{F}}\n",
    "\\newcommand{\\dd}{\\mathrm{d}}\n",
    "\\newcommand{\\I}[1]{\\mathrm{I}\\left( #1 \\right)}\n",
    "\\newcommand{\\N}[1]{\\mathcal{N}\\left( #1 \\right)}\n",
    "\\newcommand{\\Exp}[1]{\\mathrm{E}\\left[ #1 \\right]}\n",
    "\\newcommand{\\Var}[1]{\\mathrm{Var}\\left[ #1 \\right]}\n",
    "\\newcommand{\\Avar}[1]{\\mathrm{Avar}\\left[ #1 \\right]}\n",
    "\\newcommand{\\Cov}[1]{\\mathrm{Cov}\\left( #1 \\right)}\n",
    "\\newcommand{\\Corr}[1]{\\mathrm{Corr}\\left( #1 \\right)}\n",
    "\\newcommand{\\ExpH}{\\mathrm{E}}\n",
    "\\newcommand{\\VarH}{\\mathrm{Var}}\n",
    "\\newcommand{\\AVarH}{\\mathrm{Avar}}\n",
    "\\newcommand{\\CovH}{\\mathrm{Cov}}\n",
    "\\newcommand{\\CorrH}{\\mathrm{Corr}}\n",
    "\\newcommand{\\ow}{\\text{otherwise}}\n",
    "\\newcommand{\\wp}{\\text{with probability }}\n",
    "\\newcommand{\\FSD}{\\text{FSD}}\n",
    "\\newcommand{\\SSD}{\\text{SSD}}$远星$^\\dagger$</center>**"
   ]
  },
  {
   "cell_type": "markdown",
   "metadata": {},
   "source": [
    "## Question 15.e1\n",
    "\n",
    "$\\bspace$To prove the two methods lead to the same estimation, is equivalent to prove the following three\n",
    "\n",
    "$$\\left\\{\\begin{align}\n",
    "\\sum_{i=1}^n \\hat\\beta_1 y_{i2} &= \\sum_{i=1}^n \\hat\\beta_1 \\hat y_{i2}\\\\\n",
    "\\sum_{i=1}^n z_{i1}\\hat \\beta_1 y_{i2} &= \\sum_{i=1}^n z_{i1}\\hat\\beta_1 \\hat y_{i2}\\\\\n",
    "\\sum_{i=1}^n \\hat y_{i2} \\hat \\beta_1 y_{i2} &= \\sum_{i=1}^n \\hat y_{i2}\\hat\\beta_1 \\hat y_{i2}\\\\\n",
    "\\end{align}\\right.$$\n",
    "\n",
    "$\\bspace$The first one is true because $\\sum_{i=1}^n \\P{y_{i2} - \\hat y_{i2}} = \\sum \\hat v_{i2}=0$. The second one is true because $\\sum_{i=1}^n z_{i1}\\P{y_{i2} - \\hat y_{i2}} = \\Cov{z_1,\\hat v_2} = 0$. The third one is true because $\\sum_{i=1}^n \\hat y_{i2}\\P{y_{i2} - \\hat y_{i2}} = \\Cov{\\hat y_2,\\hat v_2} = 0$"
   ]
  },
  {
   "cell_type": "markdown",
   "metadata": {},
   "source": [
    "***\n",
    "$\\\\[20em]$"
   ]
  },
  {
   "cell_type": "markdown",
   "metadata": {},
   "source": [
    "$\\\\[10em]$"
   ]
  }
 ],
 "metadata": {
  "kernelspec": {
   "display_name": "Python 3",
   "language": "python",
   "name": "python3"
  },
  "language_info": {
   "codemirror_mode": {
    "name": "ipython",
    "version": 3
   },
   "file_extension": ".py",
   "mimetype": "text/x-python",
   "name": "python",
   "nbconvert_exporter": "python",
   "pygments_lexer": "ipython3",
   "version": "3.5.2"
  }
 },
 "nbformat": 4,
 "nbformat_minor": 2
}
