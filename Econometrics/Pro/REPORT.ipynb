{
 "cells": [
  {
   "cell_type": "markdown",
   "metadata": {},
   "source": [
    "<center><span style=\"font-size:34px; font-weight:bold\">Econometrics Project</span><br></center>\n",
    "\n",
    "<span><br></span>\n",
    "\n",
    "<center style=\"font-size:18px\">\n",
    "    11510691 CHENG Yuanxing, 11510806 HU Xiaoyi, 11510810 HE Wanting\n",
    "</center>\n",
    "\n",
    "In our project we explore the relation between **commodity prices index** and the **CPI**.\n",
    "\n",
    "We collect the time series of both indexes, explore the cointegration between them and finally discuss the implications."
   ]
  },
  {
   "cell_type": "code",
   "execution_count": 1,
   "metadata": {},
   "outputs": [
    {
     "name": "stderr",
     "output_type": "stream",
     "text": [
      "c:\\program files\\python35\\lib\\site-packages\\statsmodels\\compat\\pandas.py:56: FutureWarning: The pandas.core.datetools module is deprecated and will be removed in a future version. Please use the pandas.tseries module instead.\n",
      "  from pandas.core import datetools\n"
     ]
    }
   ],
   "source": [
    "# required libraries\n",
    "import numpy as np\n",
    "import pandas as pd\n",
    "import matplotlib.pyplot as plt\n",
    "import datetime as dt\n",
    "import statsmodels.api as sm\n",
    "from arch.unitroot import PhillipsPerron"
   ]
  },
  {
   "cell_type": "markdown",
   "metadata": {},
   "source": [
    "# Get data\n",
    "\n",
    "We use data of American monthly CPI index from year $1978$ to year $2017$. Here the **Consumer Price Index** research series using current methods (CPI-U-RS) presents an estimate of the **CPI** for all Urban Consumers (CPI-U) from $1978$ to present that incorporates most of the improvements made over that time span into the entire series."
   ]
  },
  {
   "cell_type": "code",
   "execution_count": 2,
   "metadata": {},
   "outputs": [
    {
     "data": {
      "text/html": [
       "<div>\n",
       "<style>\n",
       "    .dataframe thead tr:only-child th {\n",
       "        text-align: right;\n",
       "    }\n",
       "\n",
       "    .dataframe thead th {\n",
       "        text-align: left;\n",
       "    }\n",
       "\n",
       "    .dataframe tbody tr th {\n",
       "        vertical-align: top;\n",
       "    }\n",
       "</style>\n",
       "<table border=\"1\" class=\"dataframe\">\n",
       "  <thead>\n",
       "    <tr style=\"text-align: right;\">\n",
       "      <th></th>\n",
       "      <th>YEAR</th>\n",
       "      <th>JAN</th>\n",
       "      <th>FEB</th>\n",
       "      <th>MAR</th>\n",
       "      <th>APR</th>\n",
       "      <th>MAY</th>\n",
       "      <th>JUNE</th>\n",
       "      <th>JULY</th>\n",
       "      <th>AUG</th>\n",
       "      <th>SEP</th>\n",
       "      <th>OCT</th>\n",
       "      <th>NOV</th>\n",
       "      <th>DEC</th>\n",
       "      <th>AVG</th>\n",
       "    </tr>\n",
       "  </thead>\n",
       "  <tbody>\n",
       "    <tr>\n",
       "      <th>0</th>\n",
       "      <td>1977</td>\n",
       "      <td>NaN</td>\n",
       "      <td>NaN</td>\n",
       "      <td>NaN</td>\n",
       "      <td>NaN</td>\n",
       "      <td>NaN</td>\n",
       "      <td>NaN</td>\n",
       "      <td>NaN</td>\n",
       "      <td>NaN</td>\n",
       "      <td>NaN</td>\n",
       "      <td>NaN</td>\n",
       "      <td>NaN</td>\n",
       "      <td>100.3</td>\n",
       "      <td>NaN</td>\n",
       "    </tr>\n",
       "    <tr>\n",
       "      <th>1</th>\n",
       "      <td>1978</td>\n",
       "      <td>100.8</td>\n",
       "      <td>101.3</td>\n",
       "      <td>101.8</td>\n",
       "      <td>102.7</td>\n",
       "      <td>103.6</td>\n",
       "      <td>104.2</td>\n",
       "      <td>104.7</td>\n",
       "      <td>105.3</td>\n",
       "      <td>106.1</td>\n",
       "      <td>106.7</td>\n",
       "      <td>107.4</td>\n",
       "      <td>108.2</td>\n",
       "      <td>104.4</td>\n",
       "    </tr>\n",
       "    <tr>\n",
       "      <th>2</th>\n",
       "      <td>1979</td>\n",
       "      <td>109.0</td>\n",
       "      <td>109.9</td>\n",
       "      <td>110.8</td>\n",
       "      <td>111.8</td>\n",
       "      <td>112.8</td>\n",
       "      <td>114.0</td>\n",
       "      <td>115.0</td>\n",
       "      <td>115.9</td>\n",
       "      <td>116.7</td>\n",
       "      <td>117.9</td>\n",
       "      <td>118.6</td>\n",
       "      <td>119.8</td>\n",
       "      <td>114.3</td>\n",
       "    </tr>\n",
       "    <tr>\n",
       "      <th>3</th>\n",
       "      <td>1980</td>\n",
       "      <td>121.2</td>\n",
       "      <td>122.6</td>\n",
       "      <td>123.8</td>\n",
       "      <td>124.6</td>\n",
       "      <td>125.6</td>\n",
       "      <td>126.4</td>\n",
       "      <td>127.4</td>\n",
       "      <td>128.5</td>\n",
       "      <td>129.8</td>\n",
       "      <td>130.6</td>\n",
       "      <td>131.7</td>\n",
       "      <td>132.5</td>\n",
       "      <td>127.0</td>\n",
       "    </tr>\n",
       "  </tbody>\n",
       "</table>\n",
       "</div>"
      ],
      "text/plain": [
       "   YEAR    JAN    FEB    MAR    APR    MAY   JUNE   JULY    AUG    SEP    OCT  \\\n",
       "0  1977    NaN    NaN    NaN    NaN    NaN    NaN    NaN    NaN    NaN    NaN   \n",
       "1  1978  100.8  101.3  101.8  102.7  103.6  104.2  104.7  105.3  106.1  106.7   \n",
       "2  1979  109.0  109.9  110.8  111.8  112.8  114.0  115.0  115.9  116.7  117.9   \n",
       "3  1980  121.2  122.6  123.8  124.6  125.6  126.4  127.4  128.5  129.8  130.6   \n",
       "\n",
       "     NOV    DEC    AVG  \n",
       "0    NaN  100.3    NaN  \n",
       "1  107.4  108.2  104.4  \n",
       "2  118.6  119.8  114.3  \n",
       "3  131.7  132.5  127.0  "
      ]
     },
     "execution_count": 2,
     "metadata": {},
     "output_type": "execute_result"
    }
   ],
   "source": [
    "# Use American monthly CPI index from year 1978 to year 2017, seasonally adjusted, available at \n",
    "# https://www.bls.gov/cpi/research-series/allitems.xlsx\n",
    "rawdata = pd.read_excel('AmeriCPI.xlsx', sheetname=1, header = 6)\n",
    "rawdata.head(4)"
   ]
  },
  {
   "cell_type": "markdown",
   "metadata": {},
   "source": [
    "As researched by *R.A. Pecchenino(1992)*, the CPI is considered cointegrated with the commodity price indices. Here we use the  Dow Jones Commodity Index as our data resources."
   ]
  },
  {
   "cell_type": "code",
   "execution_count": 3,
   "metadata": {},
   "outputs": [
    {
     "data": {
      "text/html": [
       "<div>\n",
       "<style>\n",
       "    .dataframe thead tr:only-child th {\n",
       "        text-align: right;\n",
       "    }\n",
       "\n",
       "    .dataframe thead th {\n",
       "        text-align: left;\n",
       "    }\n",
       "\n",
       "    .dataframe tbody tr th {\n",
       "        vertical-align: top;\n",
       "    }\n",
       "</style>\n",
       "<table border=\"1\" class=\"dataframe\">\n",
       "  <thead>\n",
       "    <tr style=\"text-align: right;\">\n",
       "      <th></th>\n",
       "      <th>Effective date</th>\n",
       "      <th>Dow Jones Commodity Index TR</th>\n",
       "      <th>Dow Jones Commodity Index ER</th>\n",
       "      <th>Dow Jones Commodity Index</th>\n",
       "    </tr>\n",
       "  </thead>\n",
       "  <tbody>\n",
       "    <tr>\n",
       "      <th>0</th>\n",
       "      <td>2008-05-30</td>\n",
       "      <td>562.18</td>\n",
       "      <td>410.73</td>\n",
       "      <td>682.15</td>\n",
       "    </tr>\n",
       "    <tr>\n",
       "      <th>1</th>\n",
       "      <td>2008-06-02</td>\n",
       "      <td>566.74</td>\n",
       "      <td>414.00</td>\n",
       "      <td>687.58</td>\n",
       "    </tr>\n",
       "    <tr>\n",
       "      <th>2</th>\n",
       "      <td>2008-06-03</td>\n",
       "      <td>559.74</td>\n",
       "      <td>408.86</td>\n",
       "      <td>679.04</td>\n",
       "    </tr>\n",
       "    <tr>\n",
       "      <th>3</th>\n",
       "      <td>2008-06-04</td>\n",
       "      <td>556.23</td>\n",
       "      <td>406.28</td>\n",
       "      <td>674.75</td>\n",
       "    </tr>\n",
       "    <tr>\n",
       "      <th>4</th>\n",
       "      <td>2008-06-05</td>\n",
       "      <td>567.26</td>\n",
       "      <td>414.32</td>\n",
       "      <td>688.11</td>\n",
       "    </tr>\n",
       "  </tbody>\n",
       "</table>\n",
       "</div>"
      ],
      "text/plain": [
       "  Effective date   Dow Jones Commodity Index TR  Dow Jones Commodity Index ER  \\\n",
       "0      2008-05-30                        562.18                        410.73   \n",
       "1      2008-06-02                        566.74                        414.00   \n",
       "2      2008-06-03                        559.74                        408.86   \n",
       "3      2008-06-04                        556.23                        406.28   \n",
       "4      2008-06-05                        567.26                        414.32   \n",
       "\n",
       "   Dow Jones Commodity Index  \n",
       "0                     682.15  \n",
       "1                     687.58  \n",
       "2                     679.04  \n",
       "3                     674.75  \n",
       "4                     688.11  "
      ]
     },
     "execution_count": 3,
     "metadata": {},
     "output_type": "execute_result"
    }
   ],
   "source": [
    "# The CPI is considered cointegrated with the commodity price indices, as researched by R.A. Pecchenino(1992)\n",
    "rawdata2 = pd.read_excel('DJCI.xls', header = 6, skip_footer=129)\n",
    "# TR: total return, ER: excess return\n",
    "rawdata2.head()"
   ]
  },
  {
   "cell_type": "code",
   "execution_count": 4,
   "metadata": {
    "scrolled": true
   },
   "outputs": [],
   "source": [
    "rawdata2 = rawdata2.iloc[1:,[0,3]]\n",
    "rawdata2.index = range(len(rawdata2))\n",
    "# remove an additional space, and remave the last column\n",
    "rawdata2.columns = ['Effective date','DJCI']\n",
    "#resmaple the data by the time unit of months taking averge\n",
    "resampled = rawdata2.resample('M', on='Effective date').mean()\n",
    "data_array2 = np.ravel(resampled)"
   ]
  },
  {
   "cell_type": "code",
   "execution_count": 6,
   "metadata": {},
   "outputs": [],
   "source": [
    "# The Dow Jones Commodity Index was recorded from 2018 the June, so we match the two\n",
    "data_array1 = np.insert(rawdata.iloc[32:,1:13].values,0,rawdata.iloc[31,6:13])"
   ]
  },
  {
   "cell_type": "markdown",
   "metadata": {},
   "source": [
    "# Stationary test"
   ]
  },
  {
   "cell_type": "code",
   "execution_count": 7,
   "metadata": {},
   "outputs": [
    {
     "data": {
      "text/html": [
       "<table class=\"simpletable\">\n",
       "<caption>Phillips-Perron Test (Z-tau)</caption>\n",
       "<tr>\n",
       "  <td>Test Statistic</td>     <td>0.491</td>\n",
       "</tr>\n",
       "<tr>\n",
       "  <td>P-value</td>            <td>0.985</td>\n",
       "</tr>\n",
       "<tr>\n",
       "  <td>Lags</td>                  <td>13</td>\n",
       "</tr>\n",
       "</table>"
      ],
      "text/plain": [
       "<class 'arch.unitroot.unitroot.PhillipsPerron'>\n",
       "\"\"\"\n",
       "     Phillips-Perron Test (Z-tau)    \n",
       "=====================================\n",
       "Test Statistic                  0.491\n",
       "P-value                         0.985\n",
       "Lags                               13\n",
       "-------------------------------------\n",
       "\n",
       "Trend: Constant\n",
       "Critical Values: -3.49 (1%), -2.89 (5%), -2.58 (10%)\n",
       "Null Hypothesis: The process contains a unit root.\n",
       "Alternative Hypothesis: The process is weakly stationary.\n",
       "\"\"\""
      ]
     },
     "execution_count": 7,
     "metadata": {},
     "output_type": "execute_result"
    }
   ],
   "source": [
    "# Phillips Perron test\n",
    "# http://arch.readthedocs.io/en/latest/unitroot/tests.html#phillips-perron-testing\n",
    "pp1 = PhillipsPerron(data_array1)\n",
    "pp1"
   ]
  },
  {
   "cell_type": "code",
   "execution_count": 8,
   "metadata": {},
   "outputs": [
    {
     "data": {
      "text/html": [
       "<table class=\"simpletable\">\n",
       "<caption>Phillips-Perron Test (Z-tau)</caption>\n",
       "<tr>\n",
       "  <td>Test Statistic</td>     <td>3.512</td>\n",
       "</tr>\n",
       "<tr>\n",
       "  <td>P-value</td>            <td>1.000</td>\n",
       "</tr>\n",
       "<tr>\n",
       "  <td>Lags</td>                  <td>13</td>\n",
       "</tr>\n",
       "</table>"
      ],
      "text/plain": [
       "<class 'arch.unitroot.unitroot.PhillipsPerron'>\n",
       "\"\"\"\n",
       "     Phillips-Perron Test (Z-tau)    \n",
       "=====================================\n",
       "Test Statistic                  3.512\n",
       "P-value                         1.000\n",
       "Lags                               13\n",
       "-------------------------------------\n",
       "\n",
       "Trend: No Trend\n",
       "Critical Values: -2.59 (1%), -1.94 (5%), -1.61 (10%)\n",
       "Null Hypothesis: The process contains a unit root.\n",
       "Alternative Hypothesis: The process is weakly stationary.\n",
       "\"\"\""
      ]
     },
     "execution_count": 8,
     "metadata": {},
     "output_type": "execute_result"
    }
   ],
   "source": [
    "# 'nc' indicates no trend component in the test\n",
    "pp1.trend = 'nc'\n",
    "pp1"
   ]
  },
  {
   "cell_type": "code",
   "execution_count": 9,
   "metadata": {},
   "outputs": [
    {
     "data": {
      "text/html": [
       "<table class=\"simpletable\">\n",
       "<caption>Phillips-Perron Test (Z-tau)</caption>\n",
       "<tr>\n",
       "  <td>Test Statistic</td>    <td>-1.969</td>\n",
       "</tr>\n",
       "<tr>\n",
       "  <td>P-value</td>            <td>0.301</td>\n",
       "</tr>\n",
       "<tr>\n",
       "  <td>Lags</td>                  <td>13</td>\n",
       "</tr>\n",
       "</table>"
      ],
      "text/plain": [
       "<class 'arch.unitroot.unitroot.PhillipsPerron'>\n",
       "\"\"\"\n",
       "     Phillips-Perron Test (Z-tau)    \n",
       "=====================================\n",
       "Test Statistic                 -1.969\n",
       "P-value                         0.301\n",
       "Lags                               13\n",
       "-------------------------------------\n",
       "\n",
       "Trend: Constant\n",
       "Critical Values: -3.49 (1%), -2.89 (5%), -2.58 (10%)\n",
       "Null Hypothesis: The process contains a unit root.\n",
       "Alternative Hypothesis: The process is weakly stationary.\n",
       "\"\"\""
      ]
     },
     "execution_count": 9,
     "metadata": {},
     "output_type": "execute_result"
    }
   ],
   "source": [
    "pp2 = PhillipsPerron(data_array2)\n",
    "pp2"
   ]
  },
  {
   "cell_type": "code",
   "execution_count": 10,
   "metadata": {},
   "outputs": [
    {
     "data": {
      "text/html": [
       "<table class=\"simpletable\">\n",
       "<caption>Phillips-Perron Test (Z-tau)</caption>\n",
       "<tr>\n",
       "  <td>Test Statistic</td>    <td>-1.950</td>\n",
       "</tr>\n",
       "<tr>\n",
       "  <td>P-value</td>            <td>0.628</td>\n",
       "</tr>\n",
       "<tr>\n",
       "  <td>Lags</td>                  <td>13</td>\n",
       "</tr>\n",
       "</table>"
      ],
      "text/plain": [
       "<class 'arch.unitroot.unitroot.PhillipsPerron'>\n",
       "\"\"\"\n",
       "     Phillips-Perron Test (Z-tau)    \n",
       "=====================================\n",
       "Test Statistic                 -1.950\n",
       "P-value                         0.628\n",
       "Lags                               13\n",
       "-------------------------------------\n",
       "\n",
       "Trend: Constant and Linear Time Trend\n",
       "Critical Values: -4.04 (1%), -3.45 (5%), -3.15 (10%)\n",
       "Null Hypothesis: The process contains a unit root.\n",
       "Alternative Hypothesis: The process is weakly stationary.\n",
       "\"\"\""
      ]
     },
     "execution_count": 10,
     "metadata": {},
     "output_type": "execute_result"
    }
   ],
   "source": [
    "# 'ct' indicates a constant and linear time trend in the test\n",
    "pp2.trend = 'ct'\n",
    "pp2"
   ]
  },
  {
   "cell_type": "markdown",
   "metadata": {},
   "source": [
    "The *null hypothesis* of the **Phillips-Perron test** is that there is a unit root, with the *alternative* that there is no unit root. If the $p$ value is above a critical size, then the null cannot be rejected that there and the series appears to be a unit root. So here we can't reject the *null* and thus, it's *unstationary*."
   ]
  },
  {
   "cell_type": "markdown",
   "metadata": {},
   "source": [
    "# Cointegration test and stationary test on the spread"
   ]
  },
  {
   "cell_type": "markdown",
   "metadata": {},
   "source": [
    "Here we intend to run the regression:\n",
    "\n",
    "$$\\text{Commodity price index}_t = \\alpha + \\beta CPI_t +\\delta_1 \\Delta CPI_{t-1} + \\delta_2 \\Delta CPI_{t-2} + \\gamma_1 \\Delta CPI_{t+1}+ \\gamma_2 \\Delta CPI_{t+2}+e_t $$"
   ]
  },
  {
   "cell_type": "code",
   "execution_count": 11,
   "metadata": {},
   "outputs": [],
   "source": [
    "regression_data2 = data_array2[5:]\n",
    "regression_data1 = data_array1[5:]\n",
    "delta_data_array1 = data_array1[:-1] - data_array1[1:]\n",
    "delta_tp2 = delta_data_array1[4:]\n",
    "delta_tp1 = delta_data_array1[3:-1]\n",
    "delta_tm1 = delta_data_array1[1:-3]\n",
    "delta_tm2 = delta_data_array1[:-4]"
   ]
  },
  {
   "cell_type": "code",
   "execution_count": 12,
   "metadata": {},
   "outputs": [],
   "source": [
    "# Find the cointgration parameter\n",
    "regression_matrix = sm.add_constant(np.array([regression_data1,delta_tm1,delta_tm2,delta_tp1,delta_tp2]).T)\n",
    "model = sm.OLS(regression_data2,regression_matrix)\n",
    "results = model.fit()"
   ]
  },
  {
   "cell_type": "code",
   "execution_count": 13,
   "metadata": {},
   "outputs": [
    {
     "data": {
      "text/plain": [
       "array([978.27893045,  -1.1649586 , -27.56662999, -29.45654111,\n",
       "       -31.77281647, -19.26055131])"
      ]
     },
     "execution_count": 13,
     "metadata": {},
     "output_type": "execute_result"
    }
   ],
   "source": [
    "# coefficients: alpha, beta, detla_1, delta_2, gamma_1, gamma_2\n",
    "results.params"
   ]
  },
  {
   "cell_type": "markdown",
   "metadata": {},
   "source": [
    "$$\\begin{array}{cc} \\hline\n",
    "\\text{parameter}&\\text{value}\\\\ \\hline\n",
    "\\alpha & 978.27893045 \\\\\n",
    "\\beta & -1.1649586\\\\\n",
    "\\delta_1 & -27.56662999\\\\\n",
    "\\delta_2 &  -29.45654111\\\\\n",
    "\\gamma_1 & -31.77281647\\\\\n",
    "\\gamma_2 & -19.2605513\\\\ \\hline\n",
    "\\end{array}$$"
   ]
  },
  {
   "cell_type": "code",
   "execution_count": 14,
   "metadata": {},
   "outputs": [],
   "source": [
    "beta = results.params[1]"
   ]
  },
  {
   "cell_type": "markdown",
   "metadata": {},
   "source": [
    "Cointegration is defined as following: If $\\{y_t: t = 0,1,...\\}$ and $\\{x_t: t=0,1,...\\}$ are two $I(1)$ processes, then, in general, $y_t - \\beta x_t$ is an $I(1)$ process for any number $\\beta$. Nevertheless, it is *possible* that for some $\\beta \\neq 0$, $y_t - \\beta x_t$ is an $I(0)$ process, which means it has constant mean, constant variance, and autocorrelations that depend only on the time distance between two variables. If such a $\\beta$ exists, we say that $y$ and $x$ are **cointegrated**, and we call $\\beta$ the cointegration parameter.  \n",
    "So now we compute the new series spread \n",
    "\n",
    "$$\\text{spread}_t = \\text{Commodity price index}_t - \\beta \\text{CPI}_t $$"
   ]
  },
  {
   "cell_type": "code",
   "execution_count": 15,
   "metadata": {},
   "outputs": [
    {
     "data": {
      "text/html": [
       "<table class=\"simpletable\">\n",
       "<caption>Phillips-Perron Test (Z-tau)</caption>\n",
       "<tr>\n",
       "  <td>Test Statistic</td>    <td>-1.969</td>\n",
       "</tr>\n",
       "<tr>\n",
       "  <td>P-value</td>            <td>0.300</td>\n",
       "</tr>\n",
       "<tr>\n",
       "  <td>Lags</td>                  <td>13</td>\n",
       "</tr>\n",
       "</table>"
      ],
      "text/plain": [
       "<class 'arch.unitroot.unitroot.PhillipsPerron'>\n",
       "\"\"\"\n",
       "     Phillips-Perron Test (Z-tau)    \n",
       "=====================================\n",
       "Test Statistic                 -1.969\n",
       "P-value                         0.300\n",
       "Lags                               13\n",
       "-------------------------------------\n",
       "\n",
       "Trend: Constant\n",
       "Critical Values: -3.49 (1%), -2.89 (5%), -2.58 (10%)\n",
       "Null Hypothesis: The process contains a unit root.\n",
       "Alternative Hypothesis: The process is weakly stationary.\n",
       "\"\"\""
      ]
     },
     "execution_count": 15,
     "metadata": {},
     "output_type": "execute_result"
    }
   ],
   "source": [
    "# Phipplip Perron test on the spread\n",
    "spread = data_array2 - beta*data_array1\n",
    "pp3 = PhillipsPerron(spread)\n",
    "pp3"
   ]
  },
  {
   "cell_type": "code",
   "execution_count": 16,
   "metadata": {
    "scrolled": true
   },
   "outputs": [
    {
     "data": {
      "text/html": [
       "<table class=\"simpletable\">\n",
       "<caption>Phillips-Perron Test (Z-tau)</caption>\n",
       "<tr>\n",
       "  <td>Test Statistic</td>    <td>-1.970</td>\n",
       "</tr>\n",
       "<tr>\n",
       "  <td>P-value</td>            <td>0.617</td>\n",
       "</tr>\n",
       "<tr>\n",
       "  <td>Lags</td>                  <td>13</td>\n",
       "</tr>\n",
       "</table>"
      ],
      "text/plain": [
       "<class 'arch.unitroot.unitroot.PhillipsPerron'>\n",
       "\"\"\"\n",
       "     Phillips-Perron Test (Z-tau)    \n",
       "=====================================\n",
       "Test Statistic                 -1.970\n",
       "P-value                         0.617\n",
       "Lags                               13\n",
       "-------------------------------------\n",
       "\n",
       "Trend: Constant and Linear Time Trend\n",
       "Critical Values: -4.04 (1%), -3.45 (5%), -3.15 (10%)\n",
       "Null Hypothesis: The process contains a unit root.\n",
       "Alternative Hypothesis: The process is weakly stationary.\n",
       "\"\"\""
      ]
     },
     "execution_count": 16,
     "metadata": {},
     "output_type": "execute_result"
    }
   ],
   "source": [
    "# 'ct' indicates a constant and linear time trend in the test\n",
    "pp3.trend = 'ct'\n",
    "pp3"
   ]
  },
  {
   "cell_type": "markdown",
   "metadata": {},
   "source": [
    "According to the p-value, we cannot reject the null hypothesis that the process contains a unit root. If two series are cointegrated, this should be an $I(0)$ process, this is a contradiction, so two series are not integrated."
   ]
  },
  {
   "cell_type": "markdown",
   "metadata": {},
   "source": [
    "# Include the spread, the ECM"
   ]
  },
  {
   "cell_type": "markdown",
   "metadata": {},
   "source": [
    "As $x_t$ and $y_t$ are $I(1)$ processes and are *not* integrated, we might estimate a model in first differences. The term $\\delta(y_{t-1}-\\beta x_{t-1})$ is called the *error correction term*, we can introduce its lag into the model and comstruct an error collection model. An error correction model allows us to study the short-run dynamics in the relationship between $x$ and $y$."
   ]
  },
  {
   "cell_type": "code",
   "execution_count": 17,
   "metadata": {},
   "outputs": [],
   "source": [
    "demeaned_spread = spread - np.mean(spread)\n",
    "demeaned_spread = demeaned_spread[5:]"
   ]
  },
  {
   "cell_type": "code",
   "execution_count": 18,
   "metadata": {},
   "outputs": [],
   "source": [
    "ECM_regression_data2 = data_array2[5:] - data_array2[4:-1]\n",
    "ECM_delta2_tm1 = data_array2[4:-1] - data_array2[3:-2]\n",
    "ECM_regression_matrix = np.array([demeaned_spread,ECM_delta2_tm1,delta_tm1]).T\n",
    "ECM_model = sm.OLS(ECM_regression_data2,ECM_regression_matrix)\n",
    "ECM_results = ECM_model.fit()"
   ]
  },
  {
   "cell_type": "code",
   "execution_count": 19,
   "metadata": {},
   "outputs": [
    {
     "data": {
      "text/plain": [
       "array([-0.00329482,  0.34211161,  0.54969131])"
      ]
     },
     "execution_count": 19,
     "metadata": {},
     "output_type": "execute_result"
    }
   ],
   "source": [
    "# coefficients: theta_0, theta_1, theta_2\n",
    "ECM_results.params"
   ]
  },
  {
   "cell_type": "markdown",
   "metadata": {},
   "source": [
    "# Plot"
   ]
  },
  {
   "cell_type": "code",
   "execution_count": 20,
   "metadata": {
    "scrolled": true
   },
   "outputs": [
    {
     "data": {
      "text/plain": [
       "<matplotlib.text.Text at 0x549bf63400>"
      ]
     },
     "execution_count": 20,
     "metadata": {},
     "output_type": "execute_result"
    },
    {
     "data": {
      "image/png": "[encoded data removed]",
      "text/plain": [
       "<matplotlib.figure.Figure at 0x549c054780>"
      ]
     },
     "metadata": {},
     "output_type": "display_data"
    }
   ],
   "source": [
    "fig = plt.figure()\n",
    "fig.set_size_inches(10,5)\n",
    "ax = fig.add_subplot(111)\n",
    "A = ax.plot(spread,label='spread')\n",
    "unit = np.ones_like(spread)\n",
    "up_sigma = np.mean(spread) + np.std(spread)\n",
    "up_sigma = up_sigma*unit\n",
    "down_sigma = np.mean(spread) - np.std(spread)\n",
    "down_sigma = down_sigma*unit\n",
    "B = ax.plot(down_sigma,'--',label='down_sigma')\n",
    "C = ax.plot(up_sigma,'--',label='up_sigma')\n",
    "ax.legend()\n",
    "ax.set_ylabel('spread')"
   ]
  },
  {
   "cell_type": "code",
   "execution_count": 21,
   "metadata": {},
   "outputs": [
    {
     "data": {
      "text/plain": [
       "0.34782608695652173"
      ]
     },
     "execution_count": 21,
     "metadata": {},
     "output_type": "execute_result"
    }
   ],
   "source": [
    "up_exceed = np.where(spread - up_sigma>0,True,False)\n",
    "down_exceed = np.where(down_sigma - spread>0,True,False)\n",
    "exceed = up_exceed|down_exceed\n",
    "exceed_rate = len(exceed[exceed])/len(exceed)\n",
    "exceed_rate"
   ]
  },
  {
   "cell_type": "markdown",
   "metadata": {},
   "source": [
    "***"
   ]
  }
 ],
 "metadata": {
  "kernelspec": {
   "display_name": "Python 3",
   "language": "python",
   "name": "python3"
  },
  "language_info": {
   "codemirror_mode": {
    "name": "ipython",
    "version": 3
   },
   "file_extension": ".py",
   "mimetype": "text/x-python",
   "name": "python",
   "nbconvert_exporter": "python",
   "pygments_lexer": "ipython3",
   "version": "3.5.2"
  },
  "toc": {
   "colors": {
    "hover_highlight": "#DAA520",
    "navigate_num": "#000000",
    "navigate_text": "#333333",
    "running_highlight": "#FF0000",
    "selected_highlight": "#FFD700",
    "sidebar_border": "#EEEEEE",
    "wrapper_background": "#FFFFFF"
   },
   "moveMenuLeft": true,
   "nav_menu": {
    "height": "12px",
    "width": "252px"
   },
   "navigate_menu": true,
   "number_sections": true,
   "sideBar": true,
   "threshold": 4,
   "toc_cell": false,
   "toc_section_display": "block",
   "toc_window_display": false,
   "widenNotebook": false
  }
 },
 "nbformat": 4,
 "nbformat_minor": 2
}
