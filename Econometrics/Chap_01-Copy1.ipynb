{
 "cells": [
  {
   "cell_type": "markdown",
   "metadata": {},
   "source": [
    "# The Nature of Econometrics and Economic Data\n",
    "\n",
    "\n",
    "Econometrics = use of statistical methods to analyze economic data, typically, *nonexperimental* data. (Not by simple sample method, cause the data will not repeat in future)\n",
    "\n",
    "## Typical goals\n",
    "\n",
    "- Estimating relationships between economic variables\n",
    "    - GDP\n",
    "    - investing, consumption, net export\n",
    "    - ...\n",
    "- Testing economic theories and hypothesis\n",
    "    - The average volatility of a stock price is $0$\n",
    "    - ...\n",
    "- Forecasting economic variables\n",
    "- Evaluating and implementing government and business policy\n",
    "    - Comparasion,after the policy and before the policy"
   ]
  },
  {
   "cell_type": "markdown",
   "metadata": {},
   "source": [
    "## Steps\n",
    "\n",
    "1. Economic model (find the ref and skip this)\n",
    "    - from a deterministic economic model by allowing for uncertainty\n",
    "    - from an economic model which itself is stochastic\n",
    "2. Econometric model (find it on Wikipedia)\n",
    "\n",
    "$Remark$\n",
    "\n",
    "> The econometric models consider the uncertainty (thus, statistical models) of economic data, while the economic model, doesn't. \n",
    ">![](./figs/funny.jpg)\n",
    "\n",
    "## Models\n",
    "\n",
    "- Maybe macro or micro\n",
    "    - An economic model is a set of assumptions that describes the behavior of an economu, or more general, a phenomenon. The expression could be in the form of words, diagrams, whatever.\n",
    "- Use optimizing behaviour, equilibrium modeling, ...\n",
    "- Establish relationships between economic variables\n",
    "\n",
    "$Remark$\n",
    "\n",
    ">- sometimes the functional form of relationship is *not* required to be specified\n",
    ">- and the equation could have been postulated *without* economic assumption\n",
    ">- Add an error $u$\n",
    ">- Also the econometric models may be used for hypothesis testing, like whether a parameter is different from $0$, or close to that, hence abandon it.\n",
    "\n",
    "## Data\n",
    "\n",
    "- Cross-sectional data (table, like with company names as row indexes and several financial indexes as column indexes)\n",
    "    - Sample of individuals, households, or other units of interest at a given point of time, or in a given period\n",
    "    - Cross-sectional observations are more or less *independent*, say, a *pure random sampling* from a population\n",
    "    - Sometimes pure random sampling is violated, there might be units refusing to respond the survey\n",
    "    - this kind of data is typically encountered in applied econometrics$\\\\[0.6em]$\n",
    "- Time-series data\n",
    "    - Observations of a variable or several variables over *time*\n",
    "    - Typically, they are *serially correlated*\n",
    "    - ordering of observations conveys important information\n",
    "    - Typical features: trends and seasonality (yearly, daily, ...)$\\\\[0.6em]$\n",
    "- Pooled cross sections (混合截面数据) (mixed cross-sectional data)\n",
    "    - Two or more cross sections are combined in one data set\n",
    "    - Cross sections are drawn *independently* of each other\n",
    "    - Pooled cross sections often uesd to evaluate policy changes\n",
    "    - An easy example: in year $1994$ a policy was enfoced and there're two cross-sectional data table of year $1993$ and $1995$, from *two independent random sample*. Combine the two together and that's it.\n",
    "- Panel/Longitudinal data (面板数据)\n",
    "    - The same cross sectional *units* are followed over time\n",
    "    - Panel data have a *cross-sectional* and a *time series* dimension\n",
    "    - Can be used to account for time-irrelevant variables and\n",
    "\n",
    "More about data\n",
    "\n",
    "- Nonexperimental data (observational data, or retrospective data): not accumulated through controlled experiments, to emphasize the fact that the researcher is a passive collector of the data.\n",
    "- Experimental data: collected in laboratory environments in the natural sciences (harder for social sciences)\n",
    "\n",
    "$Remark$\n",
    "\n",
    ">Use of inappropriate methods may lead to misleading results"
   ]
  },
  {
   "cell_type": "markdown",
   "metadata": {},
   "source": [
    "## Causality and the notion of ceteris paribus\n",
    "\n",
    "$Def$\n",
    "\n",
    "The causal effect of $x$ on $y$: How does variable $y$ changes if variable $x$ is changed but all other relevant factors remain\n",
    "\n",
    "ceteris paribus: 其他条件不变. And most economic questions are ceteris paribus questions"
   ]
  },
  {
   "cell_type": "markdown",
   "metadata": {},
   "source": [
    "## Testing predictions of economic theories\n",
    "\n",
    "Other than causal effect, the economic theories can also be stated as a hypothesis. For example, the expectations hypothesis, saying that long term interest rates equal compounded expected short term interest rates.\n",
    "\n",
    "$$\\left(1+r_{lt}\\right)^n = \\left(1 + r_{\\texttt{year}1}^e\\right)\\cdot \\left(1  + r_{\\texttt{year}2}^e\\right) \\cdots \\left(1  + r_{\\texttt{year}1}^e\\right)$$"
   ]
  },
  {
   "cell_type": "markdown",
   "metadata": {},
   "source": [
    "***"
   ]
  }
 ],
 "metadata": {
  "kernelspec": {
   "display_name": "Python 3",
   "language": "python",
   "name": "python3"
  },
  "language_info": {
   "codemirror_mode": {
    "name": "ipython",
    "version": 3
   },
   "file_extension": ".py",
   "mimetype": "text/x-python",
   "name": "python",
   "nbconvert_exporter": "python",
   "pygments_lexer": "ipython3",
   "version": "3.5.2"
  },
  "toc": {
   "colors": {
    "hover_highlight": "#DAA520",
    "navigate_num": "#000000",
    "navigate_text": "#333333",
    "running_highlight": "#FF0000",
    "selected_highlight": "#FFD700",
    "sidebar_border": "#EEEEEE",
    "wrapper_background": "#FFFFFF"
   },
   "moveMenuLeft": true,
   "nav_menu": {
    "height": "49px",
    "width": "252px"
   },
   "navigate_menu": true,
   "number_sections": true,
   "sideBar": true,
   "threshold": 4,
   "toc_cell": false,
   "toc_section_display": "block",
   "toc_window_display": false,
   "widenNotebook": false
  }
 },
 "nbformat": 4,
 "nbformat_minor": 2
}
