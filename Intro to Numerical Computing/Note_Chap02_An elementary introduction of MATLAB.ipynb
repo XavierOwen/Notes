{
 "cells": [
  {
   "cell_type": "markdown",
   "metadata": {},
   "source": [
    "# MATLAB interface\n",
    "MATLAB recognizes **`pi`**, **`sin`**, **`cos`**, ..., as $\\pi$, sine and cosine functions, etc.\n",
    "\n",
    "use **```clear all```** to clear all the previous histories before you start a new programming.\n",
    "\n",
    "# Exit from MATLAB and MATLAB M-file\n",
    "When you fi",
    "nish the programming, save the ",
    "file as a **.m** ",
    "file, like **`example.m`**, where \"example\" is the name of the ",
    "file. After you edit and save this **`example.m`** ",
    "file, you can run the commands in this ",
    "file by typing\n",
    "\n",
    "    example\n",
    "on the MATLAB command window. All lines (except comments) in the ",
    "file will be implemented in the order that they were written.\n",
    "\n",
    "To keep (or print) the results of your program shown on the command window, you can use the MATLAB *diary toggle*. For example, if you key in **`diary HWresult`** on the command window, then any commands keyed in after that and any results shown on the command window will be saved to the fi",
    "le **`HWresult`**, until you key in **`diary off`**\n",
    "on the command window to stop it. Then you can print the result ",
    "file **`HWresult`**.\n",
    "\n",
    "# Vector and Matrix Operations\n",
    "The backslash operation `\\` in MATLAB solves square linear system $A\\mathbf{x} = \\mathbf{b}$; by typing\n",
    "\n",
    "    x = A\\b;\n",
    "Here $\\mathbf{b}$ need to be a column vector, which have the same row number as that of the matrix $A$. You\n",
    "can also obtain $\\mathbf{x}$ by typing\n",
    "\n",
    "    x = inv(A) * b,\n",
    "where `inv(A)` is the inverse of $A$. But computing the inverse of a matrix is more expensive than solving system of linear equations.\n",
    "\n",
    "# `for` and `while` loops\n",
    ">**e.g.**\n",
    ">```\n",
    "for i = 1 : 10\n",
    "    x(i) = 5 * i;\n",
    "end\n",
    "```\n",
    "> or\n",
    ">```\n",
    "i = 1\n",
    "while (i <= 10)\n",
    "    x(i) = 5 * i;\n",
    "    i = i + 1;\n",
    "end\n",
    "```\n",
    "> generates the vector `x = [5 10 15 20 25 30 35 40 45 50]`.\n",
    "\n",
    "# Define your own function in M-file\n",
    "It can also be written as a MATLAB function.\n",
    ">**e.g.**  \n",
    ">`squarefunction.m`\n",
    ">```\n",
    "function y = squarefunction(x);\n",
    "% This is a square function\n",
    "y = x * x;\n",
    "```\n",
    "> Then you can implement this function from the MATLAB command window,\n",
    ">```\n",
    "squarefunction\n",
    "y = squarefunction(2.0)\n",
    "```\n",
    "> generates the vector `x = [5 10 15 20 25 30 35 40 45 50]`.\n",
    "\n",
    "The other way to express a function is the inline function.\n",
    ">**e.g.**  \n",
    ">To define $f(x)=x^2 -2x + 8$, we can key in like this:\n",
    "```\n",
    "f = @(x) x.^2 - 2 * x + 8\n",
    "```\n",
    "> After that we can do a little plotting\n",
    "```\n",
    "fplot(f, [-2, 4]);\n",
    "```\n",
    "> or \n",
    "```\n",
    "x = -2:0.1:4;\n",
    "plot(x, f(x));\n",
    "```\n",
    "> generates the plot of the function on the interval $[2, 4]$.\n",
    "\n",
    "For other ways to generate plots, see below.\n",
    "\n",
    "# Generates plots"
   ]
  }
 ],
 "metadata": {
  "kernelspec": {
   "display_name": "Python 3",
   "language": "python",
   "name": "python3"
  },
  "language_info": {
   "codemirror_mode": {
    "name": "ipython",
    "version": 3
   },
   "file_extension": ".py",
   "mimetype": "text/x-python",
   "name": "python",
   "nbconvert_exporter": "python",
   "pygments_lexer": "ipython3",
   "version": "3.5.2"
  },
  "toc": {
   "colors": {
    "hover_highlight": "#DAA520",
    "navigate_num": "#000000",
    "navigate_text": "#333333",
    "running_highlight": "#FF0000",
    "selected_highlight": "#FFD700",
    "sidebar_border": "#EEEEEE",
    "wrapper_background": "#FFFFFF"
   },
   "moveMenuLeft": true,
   "nav_menu": {
    "height": "109px",
    "width": "252px"
   },
   "navigate_menu": true,
   "number_sections": true,
   "sideBar": true,
   "threshold": 4,
   "toc_cell": false,
   "toc_section_display": "block",
   "toc_window_display": false,
   "widenNotebook": false
  }
 },
 "nbformat": 4,
 "nbformat_minor": 2
}
