{
 "cells": [
  {
   "cell_type": "markdown",
   "metadata": {},
   "source": [
    "# 基础\n",
    "\n",
    "**算法**：编写一段计算机程序，以实现一种已有的方法来解决某个问题。比如欧几里得算法\n",
    "\n",
    ">自然语言描述\n",
    ">\n",
    ">计算两个非负整数$p$和$q$的最大公约数：若$q$是$0$，则最大公约数为$p$。否则，将$p$除以$q$得到余数$r$，$p$和$q$的最大公约数即为$q$和$r$的最大公约数。\n",
    ">\n",
    ">Python语言描述"
   ]
  },
  {
   "cell_type": "code",
   "execution_count": 1,
   "metadata": {
    "scrolled": true
   },
   "outputs": [
    {
     "name": "stdout",
     "output_type": "stream",
     "text": [
      "Overwriting gcd.py\n"
     ]
    }
   ],
   "source": [
    "%%writefile gcd.py\n",
    "def gcd(p, q):\n",
    "    pTrue = isinstance(p,int)\n",
    "    qTrue = isinstance(q,int)\n",
    "    if pTrue and qTrue:\n",
    "        if q == 0:\n",
    "            return p\n",
    "        r = p%q\n",
    "        return gcd(q,r)\n",
    "    else:\n",
    "        print(\"Error!\")\n",
    "        return 0"
   ]
  },
  {
   "cell_type": "code",
   "execution_count": 2,
   "metadata": {},
   "outputs": [],
   "source": [
    "%run gcd"
   ]
  },
  {
   "cell_type": "code",
   "execution_count": 3,
   "metadata": {},
   "outputs": [
    {
     "data": {
      "text/plain": [
       "352"
      ]
     },
     "execution_count": 3,
     "metadata": {},
     "output_type": "execute_result"
    }
   ],
   "source": [
    "# sample\n",
    "gcd(11*256,22*16)"
   ]
  },
  {
   "cell_type": "code",
   "execution_count": 4,
   "metadata": {},
   "outputs": [
    {
     "name": "stdout",
     "output_type": "stream",
     "text": [
      "Variable   Type        Data/Info\n",
      "--------------------------------\n",
      "gcd        function    <function gcd at 0x000000490C0DDA60>\n"
     ]
    }
   ],
   "source": [
    "%whos"
   ]
  },
  {
   "cell_type": "markdown",
   "metadata": {},
   "source": [
    "## 基础编程模型\n",
    "\n",
    "- 程序是对算法精确、优雅和完全的描述\n",
    "- 可以运行程序来学习算法的性质\n",
    "- 可以在程序中使用"
   ]
  },
  {
   "cell_type": "code",
   "execution_count": 5,
   "metadata": {},
   "outputs": [
    {
     "name": "stdout",
     "output_type": "stream",
     "text": [
      "Overwriting newtonRootFinder.py\n"
     ]
    }
   ],
   "source": [
    "%%writefile newtonRootFinder.py\n",
    "def sqrt_Newton(c):\n",
    "    cTrue = isinstance(c,(int,float))\n",
    "    if cTrue:\n",
    "        if c<0:\n",
    "            return None\n",
    "        err = 10**(-15)\n",
    "        t = c\n",
    "        while abs(t-c/t)>err*t:\n",
    "            t = (c/t+t)/2\n",
    "        \n",
    "        return t"
   ]
  },
  {
   "cell_type": "code",
   "execution_count": 6,
   "metadata": {},
   "outputs": [
    {
     "name": "stdout",
     "output_type": "stream",
     "text": [
      "16.0312195418814\n",
      "16.0312195418814\n"
     ]
    }
   ],
   "source": [
    "%run newtonRootFinder\n",
    "# sample\n",
    "print(sqrt_Newton(257))\n",
    "print(257**0.5)"
   ]
  },
  {
   "cell_type": "code",
   "execution_count": null,
   "metadata": {},
   "outputs": [],
   "source": []
  },
  {
   "cell_type": "code",
   "execution_count": null,
   "metadata": {},
   "outputs": [],
   "source": []
  }
 ],
 "metadata": {
  "kernelspec": {
   "display_name": "Python 3",
   "language": "python",
   "name": "python3"
  },
  "language_info": {
   "codemirror_mode": {
    "name": "ipython",
    "version": 3
   },
   "file_extension": ".py",
   "mimetype": "text/x-python",
   "name": "python",
   "nbconvert_exporter": "python",
   "pygments_lexer": "ipython3",
   "version": "3.5.2"
  },
  "toc": {
   "colors": {
    "hover_highlight": "#DAA520",
    "navigate_num": "#000000",
    "navigate_text": "#333333",
    "running_highlight": "#FF0000",
    "selected_highlight": "#FFD700",
    "sidebar_border": "#EEEEEE",
    "wrapper_background": "#FFFFFF"
   },
   "moveMenuLeft": true,
   "nav_menu": {
    "height": "49.1333px",
    "width": "252px"
   },
   "navigate_menu": true,
   "number_sections": true,
   "sideBar": true,
   "threshold": 4,
   "toc_cell": false,
   "toc_section_display": "block",
   "toc_window_display": false,
   "widenNotebook": false
  }
 },
 "nbformat": 4,
 "nbformat_minor": 2
}
