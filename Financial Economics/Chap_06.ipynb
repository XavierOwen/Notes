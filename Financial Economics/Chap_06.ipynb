{
 "cells": [
  {
   "cell_type": "markdown",
   "metadata": {},
   "source": [
    "# Expected Utility Function期望效用函数\n",
    "\n",
    "## Expected Utility Function\n",
    "\n",
    "$$\\DeclareMathOperator*{\\argmin}{argmin}\n",
    "\\DeclareMathOperator*{\\argmax}{argmax}\n",
    "\\DeclareMathOperator*{\\plim}{plim}\n",
    "\\newcommand{\\using}[1]{\\stackrel{\\mathrm{#1}}{=}}\n",
    "\\newcommand{\\ffrac}{\\displaystyle \\frac}\n",
    "\\newcommand{\\asim}{\\overset{\\text{a}}{\\sim}}\n",
    "\\newcommand{\\space}{\\text{ }}\n",
    "\\newcommand{\\bspace}{\\;\\;\\;\\;}\n",
    "\\newcommand{\\QQQ}{\\boxed{?\\:}}\n",
    "\\newcommand{\\void}{\\left.\\right.}\n",
    "\\newcommand{\\Tran}[1]{{#1}^{\\mathrm{T}}}\n",
    "\\newcommand{\\d}[1]{\\displaystyle{#1}}\n",
    "\\newcommand{\\CB}[1]{\\left\\{ #1 \\right\\}}\n",
    "\\newcommand{\\SB}[1]{\\left[ #1 \\right]}\n",
    "\\newcommand{\\P}[1]{\\left( #1 \\right)}\n",
    "\\newcommand{\\abs}[1]{\\left| #1 \\right|}\n",
    "\\newcommand{\\norm}[1]{\\left\\| #1 \\right\\|}\n",
    "\\newcommand{\\dd}{\\mathrm{d}}\n",
    "\\newcommand{\\Exp}{\\mathrm{E}}\n",
    "\\newcommand{\\RR}{\\mathbb{R}}\n",
    "\\newcommand{\\EE}{\\mathbb{E}}\n",
    "\\newcommand{\\NN}{\\mathbb{N}}\n",
    "\\newcommand{\\ZZ}{\\mathbb{Z}}\n",
    "\\newcommand{\\QQ}{\\mathbb{Q}}\n",
    "\\newcommand{\\AcA}{\\mathscr{A}}\n",
    "\\newcommand{\\FcF}{\\mathscr{F}}\n",
    "\\newcommand{\\Var}[2][\\,\\!]{\\mathrm{Var}_{#1}\\left[#2\\right]}\n",
    "\\newcommand{\\Cov}[2][\\,\\!]{\\mathrm{Cov}_{#1}\\left(#2\\right)}\n",
    "\\newcommand{\\Corr}[2][\\,\\!]{\\mathrm{Corr}_{#1}\\left(#2\\right)}\n",
    "\\newcommand{\\I}[1]{\\mathrm{I}\\left( #1 \\right)}\n",
    "\\newcommand{\\N}[1]{\\mathrm{N} \\left( #1 \\right)}\n",
    "\\newcommand{\\ow}{\\text{otherwise}}U\\P{c} = \\sum_{\\omega \\in \\Omega} \\pi_\\omega u_\\omega\\P{c_0, c_{1\\omega}}$$"
   ]
  },
  {
   "cell_type": "markdown",
   "metadata": {},
   "source": [
    "This is the ***expected utility function***. Here $\\pi_\\omega$ is the probability that state $\\omega$ happens, $u_\\omega\\P{c_0,c_{1\\omega}}$ is the utility of the agent by **consumption path** from $c_0$ to $c_{1\\omega}$.\n",
    "\n",
    "$Remark$\n",
    "\n",
    ">Still, it's a utility function, just in the form of somehow a expectation.\n",
    "\n",
    "$Axiom.4$ Independency\n",
    "\n",
    "Suppose consumption plans $c$ and $c'$, have the same consumption path $x$ in terms of a certain state, then if we replace $x$ with another path $y$, the order of $c$ and $c'$ reamins unchanged.（渣翻。。。）\n",
    "\n",
    "$Remark$\n",
    "\n",
    ">Rephrase: Consider two consumption plan $c$ and $c'$, they are same if we only focus on only one state, $\\omega$, meaning that $\\SB{e_0;e_{1\\omega}}$ are the same for these two consumption plans. Then if still we have $c \\succsim c'$, then consumption plan $c$ must provide a better consumption path than $c'$ to some of other states. So just replace $x$ with $y$ won't affect the fact that $c \\succsim c'$.\n",
    ">\n",
    ">This is to say that the preference of consumption path to states other than $\\omega$, keeps unaffected from the consumption in state $\\omega$.\n",
    ">\n",
    ">Or in short, The utilities from the consumption in different states are independent from each other.\n",
    ">\n",
    ">Theoretically, this axiom is necessary since the states are also independent from each other.\n",
    "\n",
    "$Theroem.1$ **Debreu**\n",
    "\n",
    "Under the assumption of independency, the utility funciton defined in $Theorem2.1$ has the form of expected utility function as discribed before."
   ]
  },
  {
   "cell_type": "markdown",
   "metadata": {},
   "source": [
    "## Additional Assumptions\n",
    "\n",
    "To further simplify the expression for the expected utility function, we list some common assumptions.\n",
    "\n",
    "### Independent state\n",
    "\n",
    "Sometimes the utility of a consumption path could be state-dependent, meaning that for same consumption paths may have different utility in different states. Here's the assumption to eliminate that possibility:\n",
    "\n",
    "$$u_\\omega\\P{c_0,c_{1\\omega}} = u\\P{c_0,c_{1\\omega}} \\Rightarrow U\\P{c} = \\sum_{\\omega \\in \\Omega} p_\\omega \\cdot u\\P{c_0,c_{1\\omega}}$$\n",
    "\n",
    "### Additivity of Time\n",
    "\n",
    "It's also a terrible thing in the original expression that the utility from consumption in period $1$ may be dependent on the consumption in period $0$. Or mathematically, $\\ffrac{\\partial^2 u\\P{c_0,c_{1\\omega}}} {\\partial c_0 \\partial c_{1\\omega}} \\neq0$. Well, that's not what we want. So we now assume that\n",
    "\n",
    "$$\\ffrac{\\partial^2 u\\P{c_0,c_{1\\omega}}} {\\partial c_0 \\partial c_{1\\omega}} = \\partial^2_{c_{\\void_0},c_{\\void_ {1\\omega}}} u\\P{c_0,c_{1\\omega}}= 0$$\n",
    "\n",
    "And we're not gonna stop here. Further, we let $u\\P{c_0,c_1} = u_0\\P{c_0} + u_1\\P{c_1}$, the ***time addictive*** (or ***time separable***) utility function. This is to say that:\n",
    "\n",
    "$\\bspace$The utility from a consumption path is the sum of utiliry from each period.\n",
    "\n",
    "After that, we can rewrite the expected utility function in this way:\n",
    "\n",
    "$$U\\P{c} = u_0\\P{c_0} + \\sum_{\\omega\\in\\Omega} p_\\omega u_1\\P{c_{1\\omega}}$$\n",
    "\n",
    "<center>And, oh my greed human... still not enough?</center>\n",
    "\n",
    "We further assume that $u_1\\P{\\cdot} = \\rho \\cdot u_0\\P{\\cdot}$ where $\\rho>0$. So that all are $u$ and we will write\n",
    "\n",
    "$$U\\P{c} = u\\P{c_0} + \\rho\\sum_{\\omega\\in\\Omega}p_\\omega u\\P{c_{1\\omega}}$$\n",
    "\n",
    "The next thing to point out is that one key feature from $U$ that is also different from $u$, the ***Ordinailty序数性*** where $u$ is with ***Cardinality基数性***: if we apply a *positive monotonical* (*not linear*) function on $U$, the relative order of **consumption plans** will remain the same and $u$, doesn't have that property.\n",
    "\n",
    "So when comparing the different consumption palns, the relative number of $u$ is important. While with the form of $U$, the preference of an agent can be expressed by $u$ solely, or a positive linear transform of $u$."
   ]
  },
  {
   "cell_type": "markdown",
   "metadata": {},
   "source": [
    "## Extension of Expected Utility Function\n",
    "\n",
    "Something related to *behavioral finance*\n",
    "\n",
    "- habbit formation习惯\n",
    "- catching up with the Jones攀比\n",
    "- state dependence状态依赖（行为经济）\n",
    "- first order risk aversion (Prospect Theory)一阶风险厌恶\n",
    "- uncertainty aversion不确定性厌恶\n",
    "\n",
    "Habbit formation is the violation of time addictivity. An example could be: \n",
    "\n",
    "$$u_\\omega \\P{c_0,c_1} = u\\P{c_0,c_1} =u\\P{c_0} + \\rho u\\P{c_1 - hc_0}, \\bspace h \\geq 0 $$\n",
    "\n",
    "here the utility in period $1$ is dependent on the increment of consumption.\n",
    "\n",
    "***\n",
    "Catching up with the Jones is to say that the utility also dependent on others' consumption. An example could be:\n",
    "\n",
    "$$u_\\omega \\P{c_0,c_1} = u\\P{c_0 - kC_0} + \\rho u\\P{c_1 - kC_1}, \\bspace 0 \\leq k < 1$$\n",
    "\n",
    "here $C_0$ and $C_1$ are the consumption of the whole market, $kC_0$ and $kC_1$ are the average. \n",
    "\n",
    "***\n",
    "As for the risk aversion, we first point out that there's a common assumption that the utility function is continuous and differentiable.\n",
    "\n",
    "The first order risk aversion is about when the utility function is *not* differentiable. And the uncertainty aversion is about when the independency axiom doesn't hold."
   ]
  },
  {
   "cell_type": "markdown",
   "metadata": {},
   "source": [
    "## Summary\n",
    "\n",
    "- 在独立性(Independency)公理的假设下，效用函数(Utility Function, $U$)可以表示成不同消费路径效用的期望值，即期望效用函数(Expected Utility Function)\n",
    "\n",
    "$$U\\P{c} = \\sum_{\\omega\\in\\Omega} \\pi_\\omega u_\\omega \\P{c_0,c_{1\\omega}}$$\n",
    "\n",
    "- 进一步假设状态独立(Independent state)与时间可加(Additivity of Time)，此期望效用函数可以进一步简化\n",
    "\n",
    "$$U\\P{c} = u_0\\P{c_0} + \\sum_{\\omega\\in\\Omega} p_\\omega u_1\\P{c_{1\\omega}}$$\n",
    "\n",
    "- $U$具有序数性(Ordinailty)，$u$则有基数性(Cardinality)\n",
    "- 进一步拓宽期望效用函数，可以体现行为模式如习惯，攀比等等"
   ]
  },
  {
   "cell_type": "markdown",
   "metadata": {},
   "source": [
    "***"
   ]
  }
 ],
 "metadata": {
  "kernelspec": {
   "display_name": "Python 3",
   "language": "python",
   "name": "python3"
  },
  "language_info": {
   "codemirror_mode": {
    "name": "ipython",
    "version": 3
   },
   "file_extension": ".py",
   "mimetype": "text/x-python",
   "name": "python",
   "nbconvert_exporter": "python",
   "pygments_lexer": "ipython3",
   "version": "3.5.2"
  },
  "toc": {
   "colors": {
    "hover_highlight": "#DAA520",
    "navigate_num": "#000000",
    "navigate_text": "#333333",
    "running_highlight": "#FF0000",
    "selected_highlight": "#FFD700",
    "sidebar_border": "#EEEEEE",
    "wrapper_background": "#FFFFFF"
   },
   "moveMenuLeft": true,
   "nav_menu": {
    "height": "69px",
    "width": "252px"
   },
   "navigate_menu": true,
   "number_sections": true,
   "sideBar": true,
   "threshold": 4,
   "toc_cell": false,
   "toc_section_display": "block",
   "toc_window_display": false,
   "widenNotebook": false
  }
 },
 "nbformat": 4,
 "nbformat_minor": 2
}
