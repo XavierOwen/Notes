{
 "cells": [
  {
   "cell_type": "markdown",
   "metadata": {},
   "source": [
    "# <center> AcM HW04 </center>\n",
    "<center> Yuanxing Cheng, Xavier, 程远星, 810925466 </center>  \n",
    "    \n",
    "## Question 1\n",
    "$\\newcommand{\\ffrac}{\\displaystyle \\frac}\n",
    "\\newcommand{\\Tran}[1]{{#1}^{\\mathrm{T}}}\n",
    "\\newcommand{\\d}[1]{\\displaystyle{#1}}\n",
    "\\newcommand{\\Var}[1]{\\mathrm{Var}\\left[#1\\right]}\n",
    "\\newcommand{\\using}[1]{\\stackrel{\\mathrm{#1}}{=}}\n",
    "\\newcommand{\\EE}[1]{\\mathbb{E}\\left[ #1 \\right]}\n",
    "\\newcommand{\\I}[1]{\\mathrm{I}\\left( #1 \\right)}$\n",
    "\n",
    "($\\mathrm{a}$) \n",
    "\n",
    "$\\begin{align}\n",
    "\\mathrm{PV} &= \\sum\\limits_{t=0}^{47-45} \\upsilon^{t}\\cdot S_{t+1} \\cdot {_{t}}p_{45} \\\\\n",
    "&= S_1 + \\upsilon \\cdot S_2 \\cdot \\left( 1 - q_{45}\\right) + \\upsilon^2 \\cdot S_3 \\cdot p_{45}\\cdot p_{46} \\\\\n",
    "&= \\$ 1000 + \\ffrac{1} {1.07} \\times \\$ 1200 \\cdot \\left( 1 - 0.015\\right) + \\left(\\ffrac{1} {1.07}\\right)^2 \\times \\$ 2000 \\cdot \\left( 1 - 0.015\\right)\\left( 1 - 0.018\\right) \\\\\n",
    "&= \\$ 3794.37505458992\n",
    "\\end{align}$\n",
    "\n",
    "$$\\\\[1em]$$\n",
    "\n",
    "($\\mathrm{b}$) \n",
    "\n",
    "$\\begin{align}\n",
    "\\mathrm{PV} &= \\sum\\limits_{t=0}^{47-45} \\upsilon^{t+1}\\cdot S_{t+1} \\cdot {_{t+1}}p_{45} \\\\\n",
    "&= \\upsilon \\cdot S_1 \\cdot \\left( 1 - q_{45}\\right) + \\upsilon^2 \\cdot S_2 \\cdot \\cdot p_{45} \\cdot p_{46} + \\upsilon^3 \\cdot S_3 \\cdot p_{45} \\cdot p_{46} \\cdot p_{47}\\\\\n",
    "&= \\ffrac{1} {1.07} \\times \\$ 1000 \\cdot \\left( 1 - 0.015\\right) + \\left( \\ffrac{1} {1.07}\\right)^2 \\cdot \\$ 1200\n",
    "\\cdot 0.985 \\cdot \\left( 1 - 0.018\\right) \\\\\n",
    "&\\;\\;\\;\\;+ \\left(\\ffrac{1} {1.07}\\right)^3 \\times \\$ 2000 \\cdot 0.985 \\cdot 0.982 \\cdot \\left( 1 - 0.021\\right) \\\\\n",
    "&= \\$ 3480.3805580702056\n",
    "\\end{align}$"
   ]
  },
  {
   "cell_type": "markdown",
   "metadata": {},
   "source": [
    "$$\\\\[22em]$$"
   ]
  },
  {
   "cell_type": "markdown",
   "metadata": {},
   "source": [
    "## Question 2\n",
    "\n",
    "$\\begin{align}\n",
    "\\newcommand{\\d}[1]{\\displaystyle{#1}} \n",
    "\\bar{a}_{x:\\overline{1}\\d{|}} &= \\int_{0}^{1}e^{-\\delta t} {_{t}}p_{x} \\; \\mathrm{d}t \\\\\n",
    "&= \\int_{0}^{1}e^{-\\delta t} \\left(\\exp\\left\\{-\\int_{0}^{t}\\mu_{x+s}\\;\\mathrm{d}s\\right\\}\\right) \\; \\mathrm{d}t \\\\\n",
    "&= \\int_{0}^{1}e^{-\\delta t} e^{-\\mu t} \\; \\mathrm{d}t \\\\\n",
    "&= -\\ffrac{1} {\\delta + \\mu} e^{-\\left( \\delta + \\mu \\right)t} \\;\\Big.\\Big|_{0}^{1} \\\\\n",
    "&= -\\ffrac{1} {\\delta + \\mu} e^{-\\left( \\delta + \\mu \\right)} + \\ffrac{1} {\\delta + \\mu}\n",
    "\\end{align}$\n"
   ]
  },
  {
   "cell_type": "markdown",
   "metadata": {},
   "source": [
    "$$\\\\[46em]$$"
   ]
  },
  {
   "cell_type": "markdown",
   "metadata": {},
   "source": [
    "## Question 3\n",
    "\n",
    "$\\begin{align}\n",
    "\\ddot{a}_{x:\\overline{4}\\d{|}} &= \\sum_{k=0}^{4-1} \\ddot{a}_{\\overline{k+1}\\d{|}} \\cdot {_{k|}}q_{x} + {_{4}}p_{x} \\cdot \\ddot{a}_{\\overline{4}\\d{|}} \\\\\n",
    "&= \\sum_{k=0}^{4-1} \\ddot{a}_{\\overline{k+1}\\d{|}} \\cdot {_{k|}}q_{x} + \\left[1-\\big( \\left(1 - {_{1}}p_{x}\\right) + \\left({_{1}}p_{x} - {_{2}}p_{x}\\right) + \\left({_{2}}p_{x} - {_{3}}p_{x}\\right) + \\left({_{3}}p_{x} - {_{4}}p_{x}\\right) \\big) \\right] \\cdot \\ddot{a}_{\\overline{4}\\d{|}} \\\\\n",
    "&= \\ddot{a}_{\\overline{1}\\d{|}} \\cdot {_{0|}}q_{x} + \\ddot{a}_{\\overline{2}\\d{|}} \\cdot {_{1|}}q_{x} + \\ddot{a}_{\\overline{3}\\d{|}} \\cdot {_{2|}}q_{x} + \\ddot{a}_{\\overline{4}\\d{|}} \\cdot {_{3|}}q_{x} + \\left(1- {_{0|}}p_{x} - {_{1|}}p_{x} - {_{2|}}p_{x} - {_{3|}}p_{x} \\right) \\cdot \\ddot{a}_{\\overline{4}\\d{|}} \\\\[0.5em]\n",
    "&= 1.00 \\times 0.33 + 1.93 \\times 0.24 + 2.80 \\times 0.16 + 3.62 \\times 0.11 + \\left( 1 - 0.33 - 0.24 - 0.16 - 0.11\\right) \\times 3.62\\\\[0.5em]\n",
    "&= 2.2186\n",
    "\\end{align}$"
   ]
  },
  {
   "cell_type": "markdown",
   "metadata": {},
   "source": [
    "$$\\\\[48em]$$"
   ]
  },
  {
   "cell_type": "markdown",
   "metadata": {},
   "source": [
    "## Question 4\n",
    "\n",
    "Since $\n",
    "\\Var{\\bar{a}_{\\overline{T_x}\\d{|}}} = \\Var{\\ffrac{1 - \\upsilon^{T_x}} {\\delta}} = \\ffrac{{^{2}}\\bar{A}_x - \\bar{A}_x^2} {\\delta^2} = 4$, we have\n",
    "\n",
    "$\\bar{A}_x = \\sqrt{{^{2}}\\bar{A}_x - \\delta^2 \\cdot \\Var{\\bar{a}_{\\overline{T_x}\\d{|}}}} = \\sqrt{0.08 - 0.1^2 \\cdot 4} = 0.2$, so that finally\n",
    "\n",
    "$\\bar{a}_x = \\ffrac{1 - \\bar{A}_x} {\\delta} = \\ffrac{1 - 0.2} {0.1} = 8$"
   ]
  },
  {
   "cell_type": "markdown",
   "metadata": {},
   "source": [
    "$$\\\\[50em]$$"
   ]
  },
  {
   "cell_type": "markdown",
   "metadata": {},
   "source": [
    "## Question 5\n",
    "\n",
    "$\\begin{align}\n",
    "\\bar{a}_{\\overline{x:\\overline{10}\\d{|}}} &= \\bar{a}_{\\overline{10}\\d{|}} + {_{10}}E_{x} \\cdot \\bar{a}_{x+10} \\\\\n",
    "&= \\frac{1-\\upsilon^{10}} {\\delta} + {_{10}}p_{x} \\cdot \\upsilon^{10} \\cdot \\frac{1-\\bar{A}_{x+10}} {\\delta} \\\\\n",
    "&= \\frac{1-\\left(\\ffrac{1} {1+i}\\right)^{10}} {\\log(1+i)} + {_{10}}p_{x} \\cdot \\left(\\frac{1} {1+i}\\right)^{10} \\cdot \\frac{1-\\left(\\ffrac{\\bar{A}_{x} - \\bar{A}_{x:\\overline{10}\\d{|}}^{1}} {{_{10}}p_{x} \\cdot \\left(\\frac{1} {1+i}\\right)^{10}}\\right)} {\\log(1+i)} \\\\\n",
    "&= 17.207417\n",
    "\\end{align}$"
   ]
  }
 ],
 "metadata": {
  "kernelspec": {
   "display_name": "Python 3",
   "language": "python",
   "name": "python3"
  },
  "language_info": {
   "codemirror_mode": {
    "name": "ipython",
    "version": 3
   },
   "file_extension": ".py",
   "mimetype": "text/x-python",
   "name": "python",
   "nbconvert_exporter": "python",
   "pygments_lexer": "ipython3",
   "version": "3.5.2"
  },
  "toc": {
   "colors": {
    "hover_highlight": "#DAA520",
    "navigate_num": "#000000",
    "navigate_text": "#333333",
    "running_highlight": "#FF0000",
    "selected_highlight": "#FFD700",
    "sidebar_border": "#EEEEEE",
    "wrapper_background": "#FFFFFF"
   },
   "moveMenuLeft": true,
   "nav_menu": {
    "height": "172px",
    "width": "252px"
   },
   "navigate_menu": true,
   "number_sections": true,
   "sideBar": true,
   "threshold": 4,
   "toc_cell": false,
   "toc_section_display": "block",
   "toc_window_display": false,
   "widenNotebook": false
  }
 },
 "nbformat": 4,
 "nbformat_minor": 2
}
