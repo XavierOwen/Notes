{
 "cells": [
  {
   "cell_type": "markdown",
   "metadata": {},
   "source": [
    "# <center>Models and Pricing of Financial Derivatives HW_04</center>\n",
    "\n",
    "**<center>11510691 程远星$\\DeclareMathOperator*{\\argmin}{argmin}\n",
    "\\DeclareMathOperator*{\\argmax}{argmax}\n",
    "\\DeclareMathOperator*{\\plim}{plim}\n",
    "\\newcommand{\\ffrac}{\\displaystyle \\frac}\n",
    "\\newcommand{\\d}[1]{\\displaystyle{#1}}\n",
    "\\newcommand{\\space}{\\text{ }}\n",
    "\\newcommand{\\bspace}{\\;\\;\\;\\;}\n",
    "\\newcommand{\\bbspace}{\\;\\;\\;\\;\\;\\;\\;\\;}\n",
    "\\newcommand{\\QQQ}{\\boxed{?\\:}}\n",
    "\\newcommand{\\void}{\\left.\\right.}\n",
    "\\newcommand{\\Tran}[1]{{#1}^{\\mathrm{T}}}\n",
    "\\newcommand{\\CB}[1]{\\left\\{ #1 \\right\\}}\n",
    "\\newcommand{\\SB}[1]{\\left[ #1 \\right]}\n",
    "\\newcommand{\\P}[1]{\\left( #1 \\right)}\n",
    "\\newcommand{\\abs}[1]{\\left| #1 \\right|}\n",
    "\\newcommand{\\norm}[1]{\\left\\| #1 \\right\\|}\n",
    "\\newcommand{\\given}[1]{\\left. #1 \\right|}\n",
    "\\newcommand{\\using}[1]{\\stackrel{\\mathrm{#1}}{=}}\n",
    "\\newcommand{\\asim}{\\overset{\\text{a}}{\\sim}}\n",
    "\\newcommand{\\RR}{\\mathbb{R}}\n",
    "\\newcommand{\\EE}{\\mathbb{E}}\n",
    "\\newcommand{\\II}{\\mathbb{I}}\n",
    "\\newcommand{\\NN}{\\mathbb{N}}\n",
    "\\newcommand{\\ZZ}{\\mathbb{Z}}\n",
    "\\newcommand{\\QQ}{\\mathbb{Q}}\n",
    "\\newcommand{\\PP}{\\mathbb{P}}\n",
    "\\newcommand{\\AcA}{\\mathcal{A}}\n",
    "\\newcommand{\\FcF}{\\mathcal{F}}\n",
    "\\newcommand{\\AsA}{\\mathscr{A}}\n",
    "\\newcommand{\\FsF}{\\mathscr{F}}\n",
    "\\newcommand{\\dd}{\\mathrm{d}}\n",
    "\\newcommand{\\I}[1]{\\mathrm{I}\\left( #1 \\right)}\n",
    "\\newcommand{\\N}[1]{\\mathcal{N}\\left( #1 \\right)}\n",
    "\\newcommand{\\Exp}[1]{\\mathrm{E}\\left[ #1 \\right]}\n",
    "\\newcommand{\\Var}[1]{\\mathrm{Var}\\left[ #1 \\right]}\n",
    "\\newcommand{\\Avar}[1]{\\mathrm{Avar}\\left[ #1 \\right]}\n",
    "\\newcommand{\\Cov}[1]{\\mathrm{Cov}\\left( #1 \\right)}\n",
    "\\newcommand{\\Corr}[1]{\\mathrm{Corr}\\left( #1 \\right)}\n",
    "\\newcommand{\\ExpH}{\\mathrm{E}}\n",
    "\\newcommand{\\VarH}{\\mathrm{Var}}\n",
    "\\newcommand{\\AVarH}{\\mathrm{Avar}}\n",
    "\\newcommand{\\CovH}{\\mathrm{Cov}}\n",
    "\\newcommand{\\CorrH}{\\mathrm{Corr}}\n",
    "\\newcommand{\\ow}{\\text{otherwise}}\n",
    "\\newcommand{\\wp}{\\text{with probability }}\n",
    "\\newcommand{\\FSD}{\\text{FSD}}\n",
    "\\newcommand{\\SSD}{\\text{SSD}}\n",
    "\\void^\\dagger$</center>**"
   ]
  },
  {
   "cell_type": "markdown",
   "metadata": {},
   "source": [
    "## Question 1\n",
    "\n",
    "A stock price is currently $50$ bucks. Assume that the expected return from the stock is $18\\%$ and its volatility is $30\\%$. What is the probability distribution for the stock price in $2$ years? Calculate the mean and standard deviation of the distribution.\n",
    "\n",
    "$\\bspace Answer$\n",
    "\n",
    ">$S_T$ is lognormally distributed. At $T=2$, we have \n",
    ">\n",
    ">$$\\begin{align}\n",
    "S_T &= S_0 \\cdot \\exp\\CB{\\P{\\mu - \\ffrac{\\sigma^2}{2}}T +\\sigma W_T}\\\\\n",
    "&= 50 \\exp\\CB{2\\P{0.18 - \\ffrac{0.3^2}{2}} + 0.3 W_2}\\\\\n",
    "\\Rightarrow \\log S_T &\\sim \\N{\\log 50 + 0.27, 2\\times0.3^2}\\sim \\N{4.1820,0.1800}\n",
    "\\end{align}$$\n",
    ">\n",
    ">$$\n",
    "\\begin{align}\\Exp{S_T} &= e^{\\mu-\\sigma^2/2}=e^{\\log 50 + 0.27 + 0.3^2} = 71.6665\\\\\n",
    "\\sqrt{\\Var{S_T}} &= \\sqrt{\\P{\\exp\\CB{\\sigma ^{2}}-1}\\exp\\CB{2\\mu +\\sigma ^{2}}} \\\\\n",
    "&= \\sqrt{ \\P{e^{0.18}-1} \\exp\\CB{2\\log 50+0.54+0.18}} = 31.8265\\end{align}$$"
   ]
  },
  {
   "cell_type": "markdown",
   "metadata": {},
   "source": [
    "## Question 2\n",
    "\n",
    "A stock price follows geometric Brownian motion with an expected return of $16\\%$ and a volatility of $35\\%$. The current price is $\\$38$.\n",
    "\n",
    "$\\P{\\text a}$ What is the probability that a European call option on the stock with an exercise price of $\\$40$ and a maturity date in $6$ months will be exercised?\n",
    "\n",
    "$\\bspace Answer$\n",
    "\n",
    ">We first calculate the distribution of the future stock price. Similarly, \n",
    ">\n",
    ">$$S_T = 38\\exp\\CB{0.5\\P{0.16 - \\ffrac{0.35^2}{2}} + 0.35 W_{0.5}}\\Rightarrow \\log S_T \\sim\\N{3.6870,0.06125}$$\n",
    ">\n",
    ">Since $\\log$ function is monotonic, we have the probability\n",
    ">\n",
    ">$$\\begin{align}\n",
    "P\\CB{S_T > 40} &= P\\CB{\\log S_T > \\log 40} \\\\\n",
    "&= 1- \\N{\\ffrac{\\log 40 - 3.6870}{\\sqrt{0.06125}}}\\\\\n",
    "&= 1 - 0.5031 = 0.4969\n",
    "\\end{align}$$\n",
    "\n",
    "$\\P{\\text b}$ What is the probability that a European put option on the stock with the same exercise price and maturity will be exercised?\n",
    "\n",
    "$\\bspace Answer$\n",
    "\n",
    ">As for put option, the probablity to exercise is $P\\CB{S_T < 40} = 0.5031$"
   ]
  },
  {
   "cell_type": "markdown",
   "metadata": {},
   "source": [
    "## Question 3\n",
    "\n",
    "A financial institution plans to offer a security that pays off a dollar amount equal to $S_T^2$ at time $T$, where $S_T$ is the price at time $T$ of a stock that pays *no dividends*.\n",
    "\n",
    "$\\P{\\text a}$ Use *risk-neutral valuation* to calculate the price of the security at time $t$ in terms of the stock price $S_t$.\n",
    "\n",
    "$\\bspace Answer$\n",
    "\n",
    ">We first find the risk neutral measure $\\QQ$ under which the discounted stock price $\\CB{ \\tilde S_t}_{t\\geq 0}$ is a martingale. Then $\\given{\\ffrac{\\dd\\QQ}{\\dd\\PP}}_{\\FcF_t} = \\exp\\CB{-\\theta W_t - \\ffrac{1}{2}\\theta^2 t}$, where $\\theta = \\ffrac{\\mu - r}{\\sigma}$, under which $\\dd S_t = rS_t\\dd t + \\sigma S_t \\dd \\widetilde W_t$. Using the risk-neutral valuation method we have\n",
    ">\n",
    ">$$\\begin{align}\n",
    "V_t &= \\ExpH^\\QQ_t\\SB{e^{-r\\P{T-t}} S_T^2}\\\\\n",
    "&= \\ExpH^\\QQ\\SB{e^{-r\\P{T-t}} S_T^2 \\mid S_t}\\\\\n",
    "&= e^{-r\\P{T-t}} \\ExpH^\\QQ\\SB{S_t^2\\P{\\exp\\CB{\\P{r-\\ffrac{\\sigma^2}{2}}\\P{T-t} + \\sigma\\P{\\widetilde W_T-\\widetilde W_t}}}^2 \\mid S_t}\\\\\n",
    "&= e^{-r\\P{T-t}}\\ExpH^{\\QQ}_t\\SB{S_t^2} \\cdot \\exp\\CB{\\P{2r - \\sigma^2}\\P{T-t}} \\cdot \\ExpH_t^\\QQ \\SB{\\exp\\CB{2\\sigma \\P{\\widetilde W_T-\\widetilde W_t}}}\\\\\n",
    "&= S_t^2\\exp\\CB{\\P{-r + 2r - \\sigma^2 + \\ffrac{4\\sigma^2}{2}}\\P{T-t}}\\\\\n",
    "&= S_t^2\\exp\\CB{\\P{r+\\sigma^2}\\P{T-t}} \\equiv f\n",
    "\\end{align}$$\n",
    "\n",
    "$\\P{\\text b}$ Confirm that your price satisfies the differential equation\n",
    "\n",
    "$$\\ffrac{\\partial f}{\\partial t} + \\ffrac{1}{2} \\sigma^2 S_t^2 \\ffrac{\\partial^2 f}{\\partial S_t^2} + rS_t \\ffrac{\\partial f}{\\partial S_t} = rf$$\n",
    "\n",
    "$\\bspace Answer$\n",
    "\n",
    ">The result is obvious using the Feynman-Kac theorem. Or applying Itô's formula term by term, we have\n",
    ">\n",
    ">$$\\begin{align}\n",
    "& \\ffrac{\\partial f}{\\partial t} + \\ffrac{1}{2} \\sigma^2 S_t^2 \\ffrac{\\partial^2 f}{\\partial S_t^2} + rS_t \\ffrac{\\partial f}{\\partial S_t} - rf\\\\\n",
    "=\\; & - \\P{r+\\sigma^2} f + \\ffrac{1}{2} \\sigma^2 S_t^2 \\cdot \\ffrac{2f}{S_t^2} + rS_t \\cdot\\ffrac{2f}{S_t} - rf = 0\n",
    "\\end{align}$$"
   ]
  },
  {
   "cell_type": "markdown",
   "metadata": {},
   "source": [
    "## Question 4\n",
    "\n",
    "Consider an option on a *non-dividend-paying* stock when the stock price is $\\$30$, the exercise price is $\\$29$, the risk-free interest rate is $5\\%$, the volatility is $25\\%$ per annum, and the time to maturity is $4$ months.\n",
    "\n",
    "$\\P{\\text a}$ What is the price of the option if it is a European call?\n",
    "\n",
    "$\\bspace Answer$\n",
    "\n",
    ">$$\\begin{align}\n",
    "d_1 &= \\ffrac{1}{\\sigma\\sqrt{T-0}} \\P{\\log\\ffrac{S_0}{K} + \\P{r+\\ffrac{1}{2}\\sigma^2}\\P{T-0}} = \\ffrac{1}{0.25\\sqrt{1/3} }\\P{\\log\\ffrac{30}{29} + \\ffrac{1}{3}\\P{0.05+\\ffrac{1}{2}0.25^2}} = 0.4225\\\\\n",
    "d_2 &= \\ffrac{1}{\\sigma\\sqrt{T-0}} \\P{\\log\\ffrac{S_0}{K} + \\P{r-\\ffrac{1}{2}\\sigma^2}\\P{T-0}} = \\ffrac{1}{0.25\\sqrt{1/3} }\\P{\\log\\ffrac{30}{29} + \\ffrac{1}{3}\\P{0.05-\\ffrac{1}{2}0.25^2}} = 0.2782\\\\\n",
    "c &= S_t\\N{d_1} - Ke^{-r\\P{T-t}} \\N{d_2} = 30 \\times 0.6637 - 29 e^{-0.05 /3 } \\times 0.6096 = 2.5251\n",
    "\\end{align}$$\n",
    "\n",
    "$\\P{\\text b}$ What is the price of the option if it is an American call?\n",
    "\n",
    "$\\bspace Answer$\n",
    "\n",
    ">The American Call option has the same price with the European Call option and thus, $2.5251$.\n",
    "\n",
    "$\\P{\\text c}$ What is the price of the option if it is a European put?\n",
    "\n",
    "$\\bspace Answer$\n",
    "\n",
    ">$p = Ke^{-r\\P{T-t}} \\N{-d_2} - S_t\\N{-d_1} = 29 e^{-0.05 /3 } \\times \\P{1-0.6096} - 30\\times \\P{1-0.6637} = 1.0458$\n",
    "\n",
    "$\\P{\\text d}$ Verify that putCcall parity holds.\n",
    "\n",
    "$\\bspace Answer$\n",
    "\n",
    ">$c + Ke^{-rT} -p-S_0 = 2.5251 - 1.0458 + 29 e^{-0.05 /3 } - 30 \\approx 0 $, and thus the parity holds"
   ]
  },
  {
   "cell_type": "markdown",
   "metadata": {},
   "source": [
    "## Question 5\n",
    "\n",
    "Consider a derivative that pays off $S_T^n$ at time $T$, where $S_T$ is the stock price at that time. When the stock price follows *geometric Brownian motion*, it can be shown that its price at time $t\\leq T$, has the form\n",
    "\n",
    "$$h\\P{t,T}S^n$$\n",
    "\n",
    "where $S$ is the stock price at time $t$ and $h$ is a function only of $t$ and $T$.\n",
    "\n",
    "$\\P{\\text a}$ By substituting into the Black-Scholes-Merton partial differential equation, derive an ordinary differential equation satisfied by $h(t, T)$.\n",
    "\n",
    "$\\bspace Answer$\n",
    "\n",
    ">The BS Formula for european call option is \n",
    ">\n",
    ">$$\\ffrac{\\partial c}{\\partial t} + \\ffrac{1}{2} \\sigma^2 S_t^2 \\ffrac{\\partial^2 c}{\\partial S_t^2} + rS_t \\ffrac{\\partial c}{\\partial S_t} - rc = 0$$\n",
    ">\n",
    ">so similarly, letting $V_t = h\\P{t,T} S^n$ we write \n",
    ">\n",
    ">$$\\ffrac{\\partial h\\P{t,T}}{\\partial t} + \\ffrac{h\\P{t,T}}{2} \\sigma^2 \\cdot n\\P{n-1} + rh\\P{t,T} \\cdot n-rh\\P{t,T} = 0$$\n",
    "\n",
    "$\\P{\\text b}$ What is the boundary condition for the differential equation for $h(t, T)$\n",
    "\n",
    "$\\bspace Answer$\n",
    "\n",
    ">At the boundary time, $t = T$, the payoff is $S_T^n = h\\P{T,T}S_T^n$ and thus $h\\P{T,T} = 1$. \n",
    "\n",
    "$\\P{\\text c}$ Show that $h\\P{t,T} = \\exp\\CB{\\P{\\ffrac{n\\P{n-1}}{2}\\sigma^2+ \\P{n-1}r}\\P{T-t}}$ where $r$ is the *risk-free interest rate* and $\\sigma$ is the stock price *volatility*.\n",
    "\n",
    "$\\bspace Answer$\n",
    "\n",
    ">Using the risk-neutral valuation we have\n",
    ">\n",
    ">$$\\begin{align}V_t &= h\\P{t,T} S_t^n \\\\\n",
    "&= \\ExpH^\\QQ_t\\SB{e^{-r\\P{T-t}} S_T^n} \\\\\n",
    "&= e^{-r\\P{T-t}}\\ExpH^\\QQ_t\\SB{ S_t^n \\exp\\CB{n\\P{r-\\ffrac{\\sigma^2}{2}}\\P{T-t} + n\\sigma\\P{\\widetilde W_T - \\widetilde W_t}}} \\\\\n",
    "&= S_t^n e^{\\P{n-1}r\\P{T-t}} \\cdot \\exp\\CB{-\\ffrac{\\sigma^2}{2}n\\P{T-t}} e^{n^2\\sigma^2 \\P{T-t}/2}\\\\\n",
    "&= S_t^n \\exp\\CB{\\P{\\ffrac{n\\P{n-1}}{2}\\sigma^2+ \\P{n-1}r}\\P{T-t}}\\\\\n",
    "\\Rightarrow h\\P{t,T} &= \\exp\\CB{\\P{\\ffrac{n\\P{n-1}}{2}\\sigma^2+ \\P{n-1}r}\\P{T-t}}\n",
    "\\end{align}$$\n",
    "\n",
    "$Remark$\n",
    "\n",
    ">You can also rewrite the ODE, trying to solve that. More details can be seen in file `Review.pdf`"
   ]
  },
  {
   "cell_type": "markdown",
   "metadata": {},
   "source": [
    "## Question 6\n",
    "\n",
    "Show that the Black-Scholes formulas for call and put options satisfy put-call parity.\n",
    "\n",
    "$\\bspace Answer$\n",
    "\n",
    ">$$\\begin{align}\n",
    "&c\\P{t,S_t} + Ke^{-r\\P{T-t}} - p\\P{t,S_t} - S_t\\\\\n",
    "=\\;& S_t\\N{d_1} - Ke^{-r\\P{T-t}} \\N{d_2} + Ke^{-r\\P{T-t}} - \\P{Ke^{-r\\P{T-t}} \\N{-d_2} - S_t\\N{-d_1}} - S_t\\\\\n",
    "=\\;& S_t\\P{\\N{d_1} + \\N{-d_1} - 1} - Ke^{-r\\P{T-t}} \\N{d_2} \\P{\\N{d_2} + \\N{-d_2} - 1 }\\\\\n",
    "=\\;& S_t \\cdot 0 - Ke^{-r\\P{T-t}} \\cdot 0 = 0\n",
    "\\end{align}$$"
   ]
  },
  {
   "cell_type": "markdown",
   "metadata": {},
   "source": [
    "## Question 7\n",
    "\n",
    "Let $S\\P0 = \\$100.00$, $K_1 = \\$92.00$, $K_2 = \\$125.00$, and $r = 5\\%$. Find the Black-Scholes formula\n",
    "for the option paying $\\$10.00$ in $3$ months if $S\\P T \\leq K_1$ or if $S\\P T \\geq K_2$, and zero otherwise, in the Black-Scholes continuous-time model.\n",
    "\n",
    "$\\bspace Answer$\n",
    "\n",
    ">The equation for the option keeps unchanged, only the boundary condition alted.\n",
    ">\n",
    ">$$\\ffrac{\\partial V}{\\partial t} + \\ffrac{1}{2} \\sigma^2 S_t^2 \\ffrac{\\partial^2 V}{\\partial S_t^2} + rS_t \\ffrac{\\partial V}{\\partial S_t} - rV = 0\\\\\n",
    "V\\P{T,S_T} = 10 - 10 \\cdot \\mathbf{1}_{K_1 < S_T < K_2}$$\n",
    ">\n",
    ">We solve this using the Feynman-Kac theorem\n",
    "\n",
    ">$$\\begin{align}\n",
    "V\\P{t,S_t} &= \\ExpH^\\QQ\\SB{e^{-r\\P{T-t}} \\P{10 - 10 \\cdot \\mathbf{1}_{K_1 < S_T < K_2}} \\mid S_t}\\\\\n",
    "&= 10 e^{-r\\P{T-t}}\\P{1 - \\ExpH^\\QQ_t\\SB{ \\mathbf{1}_{K_1 < S_T < K_2} }}\\\\\n",
    "&= 10 e^{-r\\P{T-t}}\\P{1 - \\P{\\ExpH^\\QQ_t\\SB{ \\mathbf{1}_{S_T>K_1}} - \\ExpH^\\QQ_t\\SB{ \\mathbf{1}_{S_T>K_2}}}}\\\\\n",
    "&= 10 e^{-r\\P{T-t}}\\P{\\N{-k_1} + \\N{k_2}}\\\\\n",
    "k_1 &= \\ffrac{1}{\\sigma\\sqrt{T-t}} \\P{\\log\\ffrac{S_t}{K_1} + \\P{r-\\ffrac{1}{2}\\sigma^2}\\P{T-t}}\\\\\n",
    "k_2 &= \\ffrac{1}{\\sigma\\sqrt{T-t}} \\P{\\log\\ffrac{S_t}{K_2} + \\P{r-\\ffrac{1}{2}\\sigma^2}\\P{T-t}}\n",
    "\\end{align}$$\n",
    ">\n",
    ">When $t=0$, we have\n",
    ">\n",
    ">$$\\begin{align}\n",
    "V &= 10 e^{-0.05\\times 3/12}\\P{\\N{-k_1} + \\N{k_2}}\\\\\n",
    "&=9.8758\\P{\\N{-k_1} + \\N{k_2}} \\\\\n",
    "k_1 &= \\ffrac{1}{\\sigma\\sqrt{T}} \\P{\\log\\ffrac{S_t}{K_1} + \\P{r-\\ffrac{1}{2}\\sigma^2}T}\\\\\n",
    "k_2 &= \\ffrac{1}{\\sigma\\sqrt{T}} \\P{\\log\\ffrac{S_t}{K_2} + \\P{r-\\ffrac{1}{2}\\sigma^2}T}\n",
    "\\end{align}$$"
   ]
  },
  {
   "cell_type": "markdown",
   "metadata": {},
   "source": [
    "## Question 8\n",
    "\n",
    "A portfolio manger manages portfolio whose current value is $2$ *million*. She assumes the *portfolio value* satisfies the Black-Scholes model, with $\\sigma = 0.2$. The interest rate is $r = 0.3$. For simplicity, we assume *zero dividend* rate. The manager wants to protect the portfolio by *replicating a put option* on its value, with *strike price* equal to $1.9$ *million* and maturity one year. What amount does she have to *sell* from the portfolio *today*, or add to the portfolio, in order to start replicating the put option?\n",
    "\n",
    "$\\bspace Answer$\n",
    "\n",
    ">$$-\\Delta_p = -\\ffrac{\\pi_0}{S_0} = -\\ffrac{\\partial p}{\\partial S_t} = 1 - \\N{d_1} = \\N{-d_1} = 0.03169$$\n",
    ">\n",
    ">Thus she need to sell $S_0 \\cdot 0.03169 = 0.06338$ million amount to start replicating."
   ]
  },
  {
   "cell_type": "markdown",
   "metadata": {},
   "source": [
    "***"
   ]
  },
  {
   "cell_type": "code",
   "execution_count": 1,
   "metadata": {},
   "outputs": [],
   "source": [
    "import math as m\n",
    "import scipy.stats as scs"
   ]
  },
  {
   "cell_type": "code",
   "execution_count": 2,
   "metadata": {},
   "outputs": [
    {
     "data": {
      "text/plain": [
       "4.182023005428146"
      ]
     },
     "execution_count": 2,
     "metadata": {},
     "output_type": "execute_result"
    }
   ],
   "source": [
    "mu = m.log(50)+0.27\n",
    "mu"
   ]
  },
  {
   "cell_type": "code",
   "execution_count": 3,
   "metadata": {},
   "outputs": [
    {
     "data": {
      "text/plain": [
       "71.666470728017"
      ]
     },
     "execution_count": 3,
     "metadata": {},
     "output_type": "execute_result"
    }
   ],
   "source": [
    "m.exp(mu+0.3**2)"
   ]
  },
  {
   "cell_type": "code",
   "execution_count": 4,
   "metadata": {
    "scrolled": false
   },
   "outputs": [
    {
     "data": {
      "text/plain": [
       "31.826478776054607"
      ]
     },
     "execution_count": 4,
     "metadata": {},
     "output_type": "execute_result"
    }
   ],
   "source": [
    "m.sqrt((m.exp(0.18)-1)*m.exp(2*mu+0.18))"
   ]
  },
  {
   "cell_type": "markdown",
   "metadata": {},
   "source": [
    "***"
   ]
  },
  {
   "cell_type": "code",
   "execution_count": 5,
   "metadata": {},
   "outputs": [
    {
     "data": {
      "text/plain": [
       "3.6869611597263856"
      ]
     },
     "execution_count": 5,
     "metadata": {},
     "output_type": "execute_result"
    }
   ],
   "source": [
    "mu = m.log(38)+0.08-0.35**2/4\n",
    "mu"
   ]
  },
  {
   "cell_type": "code",
   "execution_count": 6,
   "metadata": {},
   "outputs": [
    {
     "data": {
      "text/plain": [
       "0.06124999999999999"
      ]
     },
     "execution_count": 6,
     "metadata": {},
     "output_type": "execute_result"
    }
   ],
   "source": [
    "sigma = m.pow(0.35,2)*0.5\n",
    "sigma"
   ]
  },
  {
   "cell_type": "code",
   "execution_count": 7,
   "metadata": {},
   "outputs": [
    {
     "data": {
      "text/plain": [
       "0.50309220249891906"
      ]
     },
     "execution_count": 7,
     "metadata": {},
     "output_type": "execute_result"
    }
   ],
   "source": [
    "scs.norm.cdf((m.log(40)-mu)/m.sqrt(sigma))"
   ]
  },
  {
   "cell_type": "markdown",
   "metadata": {},
   "source": [
    "***"
   ]
  },
  {
   "cell_type": "code",
   "execution_count": 8,
   "metadata": {
    "scrolled": true
   },
   "outputs": [
    {
     "name": "stdout",
     "output_type": "stream",
     "text": [
      "0.42251567731743644\n",
      "0.27817811002003\n"
     ]
    }
   ],
   "source": [
    "d1 = 4*m.sqrt(3)*(m.log(30/29)+(0.05+0.25*0.25/2)/3)\n",
    "d2 = 4*m.sqrt(3)*(m.log(30/29)+(0.05-0.25*0.25/2)/3)\n",
    "print(d1)\n",
    "print(d2)"
   ]
  },
  {
   "cell_type": "code",
   "execution_count": 9,
   "metadata": {},
   "outputs": [
    {
     "data": {
      "text/plain": [
       "2.525146966700003"
      ]
     },
     "execution_count": 9,
     "metadata": {},
     "output_type": "execute_result"
    }
   ],
   "source": [
    "30*scs.norm.cdf(d1)-29*m.exp(-0.05/3)*scs.norm.cdf(d2)"
   ]
  },
  {
   "cell_type": "code",
   "execution_count": 10,
   "metadata": {},
   "outputs": [
    {
     "data": {
      "text/plain": [
       "1.045819127526908"
      ]
     },
     "execution_count": 10,
     "metadata": {},
     "output_type": "execute_result"
    }
   ],
   "source": [
    "29*m.exp(-0.05/3)*scs.norm.cdf(-d2) - 30*scs.norm.cdf(-d1)"
   ]
  },
  {
   "cell_type": "markdown",
   "metadata": {},
   "source": [
    "***"
   ]
  },
  {
   "cell_type": "code",
   "execution_count": 11,
   "metadata": {
    "scrolled": true
   },
   "outputs": [
    {
     "data": {
      "text/plain": [
       "9.875778004938814"
      ]
     },
     "execution_count": 11,
     "metadata": {},
     "output_type": "execute_result"
    }
   ],
   "source": [
    "10*m.exp(-0.05*3/12)"
   ]
  },
  {
   "cell_type": "markdown",
   "metadata": {},
   "source": [
    "***"
   ]
  },
  {
   "cell_type": "code",
   "execution_count": 12,
   "metadata": {},
   "outputs": [
    {
     "data": {
      "text/plain": [
       "0.031693548850187665"
      ]
     },
     "execution_count": 12,
     "metadata": {},
     "output_type": "execute_result"
    }
   ],
   "source": [
    "d_1 = 5*(m.log(2/1.9)+0.3+0.2*0.1)\n",
    "scs.norm.cdf(-d_1)"
   ]
  }
 ],
 "metadata": {
  "kernelspec": {
   "display_name": "Python 3",
   "language": "python",
   "name": "python3"
  },
  "language_info": {
   "codemirror_mode": {
    "name": "ipython",
    "version": 3
   },
   "file_extension": ".py",
   "mimetype": "text/x-python",
   "name": "python",
   "nbconvert_exporter": "python",
   "pygments_lexer": "ipython3",
   "version": "3.5.2"
  },
  "toc": {
   "colors": {
    "hover_highlight": "#DAA520",
    "navigate_num": "#000000",
    "navigate_text": "#333333",
    "running_highlight": "#FF0000",
    "selected_highlight": "#FFD700",
    "sidebar_border": "#EEEEEE",
    "wrapper_background": "#FFFFFF"
   },
   "moveMenuLeft": true,
   "nav_menu": {
    "height": "69px",
    "width": "252px"
   },
   "navigate_menu": true,
   "number_sections": true,
   "sideBar": true,
   "threshold": 4,
   "toc_cell": false,
   "toc_section_display": "block",
   "toc_window_display": false,
   "widenNotebook": false
  }
 },
 "nbformat": 4,
 "nbformat_minor": 2
}
