{
 "cells": [
  {
   "cell_type": "markdown",
   "metadata": {},
   "source": [
    "# <center>Models and Pricing of Financial Derivativs HW_01</center>\n",
    "\n",
    "**<center>11510691 程远星</center>**\n",
    "\n"
   ]
  },
  {
   "cell_type": "markdown",
   "metadata": {},
   "source": [
    "## Question 1\n",
    "\n",
    "Explain carefully the difference between *selling* a *call* option and *buying* a *put* option.\n",
    "\n",
    "$Answer$\n",
    "\n",
    ">$\\DeclareMathOperator*{\\argmin}{argmin}\n",
    "\\DeclareMathOperator*{\\argmax}{argmax}\n",
    "\\newcommand{\\using}[1]{\\stackrel{\\mathrm{#1}}{=}}\n",
    "\\newcommand{\\ffrac}{\\displaystyle \\frac}\n",
    "\\newcommand{\\space}{\\text{ }}\n",
    "\\newcommand{\\bspace}{\\;\\;\\;\\;}\n",
    "\\newcommand{\\QQQ}{\\boxed{?\\:}}\n",
    "\\newcommand{\\void}{\\left.\\right.}\n",
    "\\newcommand{\\CB}[1]{\\left\\{ #1 \\right\\}}\n",
    "\\newcommand{\\SB}[1]{\\left[ #1 \\right]}\n",
    "\\newcommand{\\P}[1]{\\left( #1 \\right)}\n",
    "\\newcommand{\\dd}{\\mathrm{d}}\n",
    "\\newcommand{\\Tran}[1]{{#1}^{\\mathrm{T}}}\n",
    "\\newcommand{\\d}[1]{\\displaystyle{#1}}\n",
    "\\newcommand{\\EE}[2][\\,\\!]{\\mathbb{E}_{#1}\\left[#2\\right]}\n",
    "\\newcommand{\\Var}[2][\\,\\!]{\\mathrm{Var}_{#1}\\left[#2\\right]}\n",
    "\\newcommand{\\Cov}[2][\\,\\!]{\\mathrm{Cov}_{#1}\\left(#2\\right)}\n",
    "\\newcommand{\\Corr}[2][\\,\\!]{\\mathrm{Corr}_{#1}\\left(#2\\right)}\n",
    "\\newcommand{\\I}[1]{\\mathrm{I}\\left( #1 \\right)}\n",
    "\\newcommand{\\N}[1]{\\mathrm{N} \\left( #1 \\right)}\n",
    "\\newcommand{\\ow}{\\text{otherwise}}$Selling a call option: As the writer of the call option, I give the holder the right to buy an asset at a specified time $T$ for a specified price $K$. My payoff would be $-\\max\\P{S_T - K,0} = \\min\\P{K-S_T,0}$ for european call options. If I sold an american call option, the holder can exercise at any time before $T$.\n",
    ">\n",
    ">Buying a put option: As the holder of the put option, I actually was granted the right to sell an asset at a specified time $T$ for a specified price $K$. My payoff would be $\\max\\P{K - S_T, 0}$ Or before $T$ if what I bought is an american put option."
   ]
  },
  {
   "cell_type": "markdown",
   "metadata": {},
   "source": [
    "## Question 2\n",
    "\n",
    "The current price of a stock is $\\$94$, and $3$-month European call option with a strike price of $\\$95$ currently sell for $\\$4.70$. An investor who feels that the price of the stock will increase is trying to decide between buying $100$ shares and buying $2, 000$ call options ($20$ contracts). Both strategies involve an investment of $\\$9, 400$. What advice would you give? How high does the stock price have to rise for the option strategy to be more profitable?\n",
    "\n",
    "$Answer$\n",
    "\n",
    ">We can write their profit function on the stock price $S_t$.\n",
    ">\n",
    ">- Stock: $100\\P{S_t - 94}$\n",
    ">- Option: $2000\\big(\\max\\P{S_t - 95,0} - 4.7\\big)$\n",
    ">\n",
    ">They intersect at two points, $\\P{0,0}$ and $\\P{100,600}$. It's generally acknowledge that it's of higher possibility that the stock price moves less than more, thus I personally think that holding the stocks rather than the options have a better chance to profit.\n",
    ">\n",
    ">As for the second question, since we've already acquire their intersection, we can say that when the stock price goes higher than $100$, options will win more."
   ]
  },
  {
   "cell_type": "markdown",
   "metadata": {},
   "source": [
    "## Question 3\n",
    "\n",
    "A trader *buys* a *European call* option and *sells* a *European put* option. The options have the same underlying asset, strike price, and maturity. Describe the trader’s ***position***. Under what circumstances does the price of the call equal the price of the put?\n",
    "\n",
    "$Answer$\n",
    "\n",
    ">For the call, he has paid $c$ to buy the right that he can use $K$ to buy the underlying asset as time $T$. For the put, he has received $p$ and given the right to someone else selling him the asset at price $K$ at time $T$. The terminal payoff of the trader is\n",
    ">\n",
    ">$$\\P{S_T - K}^+ - \\P{K-S_T}^+ = S_T - K$$\n",
    ">\n",
    ">To let the prices equal, by the **Put-call parity** (or to avoid proving it, we replicate the strategy by buying an asset and borrowing $Ke^{-rT}$ at time $0$), we have \n",
    ">\n",
    ">$$c-p = S_0 - Ke^{-rT}$$\n",
    ">\n",
    ">Thus when $S_0 = Ke^{-rT}$, the price of the call $c$ equals the price of the put $p$."
   ]
  },
  {
   "cell_type": "markdown",
   "metadata": {},
   "source": [
    "## Question 4\n",
    "\n",
    "The price of a stock is $\\$40$. The price of a $1$-year *European put* option on the stock with a strike price of $\\$30$ is quoted as $\\$7$ and the price of a $1$-year *European call* option on the stock with a strike price of $\\$50$ is quoted as $\\$5$. Suppose that an investor *buys* $100$ shares, *shorts* $100$ *call* options, and *buys* $100$ put options. Draw a diagram illustrating how the investor’s ***profit or loss*** varies with the stock price over the next year. How does your answer change if the investor *buys* $100$ shares, *shorts* $200$ *call* options, and *buys* $200$ *put* options?\n",
    "\n",
    "$Answer$\n",
    "\n",
    ">We first write its payoff function on the stock price:\n",
    ">\n",
    ">$$\\begin{align}\n",
    "p &= 100S_T -100 \\cdot\\max\\P{S_T - 50, 0} + 100\\cdot \\max\\P{30 - S_T,0}\\\\\n",
    "&= \\begin{cases}\n",
    "5000, &\\text{if } S_T \\geq 50 \\\\\n",
    "100S_T, &\\text{if } 50 \\geq S_T \\geq 30 \\\\\n",
    "3000, &\\text{if } 30 \\geq S_T \\geq 0\n",
    "\\end{cases}\n",
    "\\end{align}\n",
    "$$\n",
    ">\n",
    ">![](../figs/HW_fig1.5A_fixed.png)\n",
    ">\n",
    ">After that, the payoff would change to:\n",
    "\n",
    ">$$\\begin{align}\n",
    "p &= 100\\P{S_T - 40} + 200\\SB{5 - \\max\\P{S_T - 50, 0}} + 200\\SB{\\max\\P{30 - S_T,0} - 7}\\\\\n",
    "&= \\begin{cases}\n",
    "10000 - 100S_T, &\\text{if } S_T \\geq 50 \\\\\n",
    "100S_T, &\\text{if } 50 \\geq S_T \\geq 30 \\\\\n",
    "6000 - 100S_T, &\\text{if } 30 \\geq S_T \\geq 0\n",
    "\\end{cases}\n",
    "\\end{align}\n",
    "$$\n",
    ">\n",
    ">![](../figs/HW_fig1.5B_fixed.png)\n",
    ">\n",
    ">Also note that the investor has paid $4200$ and $4400$ initially for the two portfolios, respectively."
   ]
  },
  {
   "cell_type": "markdown",
   "metadata": {},
   "source": [
    "## Question 5\n",
    "\n",
    "What is a *lower bound* for the price of a $1$-month *European put* option on a non-dividend-paying stock when the stock price is $\\$12$, the strike price is $\\$15$, and the risk-free interest rate is $6\\%$ per annum?\n",
    "\n",
    "$Answer$\n",
    "\n",
    ">The lower bound of the option can be obtained using the formula\n",
    ">\n",
    ">$\\begin{align}\n",
    "p &\\geq K e^{-rT} - S_0 \\\\\n",
    "&= 15 \\cdot e^{-6\\% \\times 1/12} - 12 \\\\\n",
    "&\\approx 2.93\n",
    "\\end{align}$\n",
    ">\n",
    ">To prove this formula (***inevitable***!): \n",
    ">\n",
    ">- we construct a arbitrage portfolio: if not, then $p<Ke^{-rT}-S_0$. Thus we buy this put using $p$, buy an asset using $S_0$, sell $p+S_0$ much bonds. (**Zero Input**). At time $T$, we sell the asset using the put option and obtain $K$, pay the bonds $\\P{p+S_0}e^{rT}$, and our profit is $K - \\P{p+S_0}e^{rT} = e^{rT}\\P{Ke^{-rT} - S_0 - p}>0$. (**Positive Output**)\n",
    ">- consider two portolios at time $0$: $A$: a put and an asset $S_0$; $B$: cash $Ke^{-rT}$. At time $T$, $A$ worth $\\P{K-S_T}^+ + S_T = \\max\\P{K,S_T}$ however $B$ worth $K\\leq \\max\\P{K,S_T}$. Thus at time $0$ this relationship turns to $p \\geq K e^{-rT} - S_0$"
   ]
  },
  {
   "cell_type": "markdown",
   "metadata": {},
   "source": [
    "## Qustion 6\n",
    "\"The *early exercise* of an American *put* is a trade-off between the *time value of money* and the *insurance value of a put*.\" Explain this statement.\n",
    "\n",
    "$Answer$\n",
    "\n",
    ">The early exercise of an American put option is to sell the stock to the writer at the Strike price $K$ before the expiration date $T$. Suppose he exercised at time $t$ thus his time value of money is $Ke^{-r\\P{T-t}}$. But then he can not sell the stock at $K$ at time $T$ any more. In return, he is now able to earn interest on it between the time of the early exercise and the expiration date."
   ]
  },
  {
   "cell_type": "markdown",
   "metadata": {},
   "source": [
    "## Question 7\n",
    "\n",
    "The price of a non-dividend-paying stock is $19$ and the price of a $3$-month European call option on the stock with a strike price of $\\$20$ is $\\$1$. The risk-free rate is $4\\%$ per annum. What is the price of a $3$-month European put option with a strike price of $\\$20$?\n",
    "\n",
    "$Answer$\n",
    "\n",
    ">By the put-call parity, we have: $1 + 20 \\times e^{-4\\% \\times 0.25} = p + 19$ thus $p = 1.80$\n",
    ">\n",
    ">To prove this parity (***inevitable***!), consider two portfolios at time $0$\n",
    ">\n",
    ">- a call and bond worth $c + Ke^{-rT}$\n",
    "- a put and an asset worth $p + S_0$\n",
    ">\n",
    ">At time $T$ these two portfolios both worth $\\max\\P{S_T,K}$ thus at time $0$, we have $c + Ke^{-rT} = p + S_0$"
   ]
  },
  {
   "cell_type": "markdown",
   "metadata": {},
   "source": [
    "## Question 8\n",
    "\n",
    "A $1$-month European put option on a non-dividend-paying stock is currently selling for $\\$2.50$. The stock price is $\\$47$, the strike price is $\\$50$, and the risk-free interest rate is $6\\%$ per annum. What opportunities are there for an arbitrageur?\n",
    "\n",
    "$Answer$\n",
    "\n",
    ">Based on the put-call parity, $c + Ke^{-rT} = S_0 + p \\Longrightarrow c + 49.75 = 47+2.5$. Thus there's always a chance for arbitraging. He can buy a stock and a put option using the borrowed money, $49.5$ with interest rate $6\\%$.\n",
    ">\n",
    ">Then he can win $50 - 49.5e^{0.06\\times 1/12} \\approx 0.25 $ if the stock price goes lower than $50$ or more if the stock price goes higher than $50$. "
   ]
  },
  {
   "cell_type": "markdown",
   "metadata": {},
   "source": [
    "## Question 9\n",
    "\n",
    "$\\P{1}$ The price of an American call on a non-dividend-paying stock is $\\$4$. The stock price is $\\$31$, the strike price is $\\$30$, and the expiration date is in $3$ months. The risk-free interest rate is $8\\%$. Derive upper and lower bounds for the price of an American put on the same stock with the same strike price and expiration date.\n",
    "\n",
    "$Answer$\n",
    "\n",
    ">$P \\geq p = c + Ke^{-rT}-S_0 = C + Ke^{-rT} - S_0 = 4 + 30 e^{-8\\%\\times1/4} -31 \\approx 2.41$\n",
    ">\n",
    ">And to find something that keeps over an American Put, we can use $K$ cash at the beginning, thus $c + K \\geq P+ S_0$ always holds. Therefore, $P \\leq c + K - S_0 = C + K - S_0 = 4 + 30 - 31 = 3$\n",
    "\n",
    "$\\P{2}$ Explain carefully the arbitrage opportunities in Problem $9(1)$ if the American put price is greater than the calculated upper bound.\n",
    "\n",
    "$Answer$\n",
    "\n",
    ">If the American Put price is greater than $3$ that is to say that $P \\geq C + K - S_0$, then we write an American put option and sell it to somebody, then use the money to buy a American call option, to borrow a stock then sell it to gain $S_0$. Send $K$ cash to the bank. Then when the American put option holder want to exercise, we can instantly use $K = 30$ to buy the stock and return to the stock lender. Up to now, we start from nothing to a American call option and a positive payoff and some interest."
   ]
  },
  {
   "cell_type": "markdown",
   "metadata": {},
   "source": [
    "## Question 10\n",
    "\n",
    "$\\P{1}$ Suppose that $c_1$ , $c_2$ , and $c_3$ are the prices of European call options with strike prices $K_1$, $K_2$, and $K_3$, respectively, where $K_3 > K_2 > K_1$ and $K_3 − K_2 = K_2 − K_1$. All options have the same maturity. Show that $c_2 \\leq 0.5\\P{c_1 + c_3}$\n",
    "\n",
    "$Answer$\n",
    "\n",
    ">If not, then $2c_2 > c_1 + c_3$. So that we have the arbitrage chance. First write two call option with strike price $K_2$ and then use the money gained to buy two call option with strike price $K_1$ and $K_3$. We already have some money left now.\n",
    ">\n",
    ">Then we the exercise time comes, we can exercise all three at the same time since $2K_2 = K_1 + K_3$, meaning that we gain money from nothing. Thus $2c_2 \\leq c_1 + c_3$.\n",
    "\n",
    "$\\P{2}$ What is the result corresponding to that in Problem $10(1)$ For European put options?\n",
    "\n",
    "$Answer$\n",
    "\n",
    ">$p_2 \\leq 0.5\\P{p_1 + p_3}$, the proof is similar to the preceding one."
   ]
  },
  {
   "cell_type": "code",
   "execution_count": 8,
   "metadata": {},
   "outputs": [],
   "source": [
    "import math as m\n",
    "import numpy as np\n",
    "import matplotlib.pyplot as plt"
   ]
  },
  {
   "cell_type": "code",
   "execution_count": 9,
   "metadata": {},
   "outputs": [],
   "source": [
    "X = np.linspace(0,80,9)\n",
    "Y = np.zeros(9)\n",
    "Y[0:4] = 3000\n",
    "Y[4:6]= 100 * X[4:6]\n",
    "Y[6:9]= 5000"
   ]
  },
  {
   "cell_type": "code",
   "execution_count": 10,
   "metadata": {},
   "outputs": [
    {
     "data": {
      "text/plain": [
       "<matplotlib.text.Text at 0xb0318520b8>"
      ]
     },
     "execution_count": 10,
     "metadata": {},
     "output_type": "execute_result"
    },
    {
     "data": {
      "image/png": "[encoded data removed]",
      "text/plain": [
       "<matplotlib.figure.Figure at 0xb031896278>"
      ]
     },
     "metadata": {},
     "output_type": "display_data"
    }
   ],
   "source": [
    "fig = plt.figure()\n",
    "fig.set_size_inches(10,5)\n",
    "ax  = fig.add_subplot(111)\n",
    "ax.plot(X,Y)\n",
    "ax.set_xlabel('Stock Price')\n",
    "ax.set_ylabel('Payoff')"
   ]
  },
  {
   "cell_type": "code",
   "execution_count": 11,
   "metadata": {},
   "outputs": [],
   "source": [
    "X = np.linspace(0,80,9)\n",
    "Y = np.zeros(9)\n",
    "Y[0:4] = 6000 - 100*X[0:4]\n",
    "Y[4:6]= 100 * X[4:6]\n",
    "Y[6:9]= 10000 - 100*X[6:9]"
   ]
  },
  {
   "cell_type": "code",
   "execution_count": 12,
   "metadata": {},
   "outputs": [
    {
     "data": {
      "text/plain": [
       "<matplotlib.text.Text at 0xb0318c0828>"
      ]
     },
     "execution_count": 12,
     "metadata": {},
     "output_type": "execute_result"
    },
    {
     "data": {
      "image/png": "[encoded data removed]",
      "text/plain": [
       "<matplotlib.figure.Figure at 0xb0328eebe0>"
      ]
     },
     "metadata": {},
     "output_type": "display_data"
    }
   ],
   "source": [
    "fig = plt.figure()\n",
    "fig.set_size_inches(10,5)\n",
    "ax  = fig.add_subplot(111)\n",
    "ax.plot(X,Y)\n",
    "ax.set_xlabel('Stock Price')\n",
    "ax.set_ylabel('Payoff')"
   ]
  },
  {
   "cell_type": "code",
   "execution_count": 13,
   "metadata": {
    "scrolled": false
   },
   "outputs": [
    {
     "data": {
      "text/plain": [
       "<matplotlib.text.Text at 0xb032974c88>"
      ]
     },
     "execution_count": 13,
     "metadata": {},
     "output_type": "execute_result"
    },
    {
     "data": {
      "image/png": "[encoded data removed]",
      "text/plain": [
       "<matplotlib.figure.Figure at 0xb032952898>"
      ]
     },
     "metadata": {},
     "output_type": "display_data"
    }
   ],
   "source": [
    "# another method\n",
    "fig, axs = plt.subplots()\n",
    "fig.set_size_inches(10,5)\n",
    "axs.plot(X,Y)\n",
    "axs.set_xlabel('Stock Price')\n",
    "axs.set_ylabel('Payoff')"
   ]
  },
  {
   "cell_type": "code",
   "execution_count": 14,
   "metadata": {},
   "outputs": [
    {
     "data": {
      "text/plain": [
       "2.9251871878902342"
      ]
     },
     "execution_count": 14,
     "metadata": {},
     "output_type": "execute_result"
    }
   ],
   "source": [
    "15*m.exp(-0.005)-12"
   ]
  },
  {
   "cell_type": "code",
   "execution_count": null,
   "metadata": {},
   "outputs": [],
   "source": []
  }
 ],
 "metadata": {
  "kernelspec": {
   "display_name": "Python 3",
   "language": "python",
   "name": "python3"
  },
  "language_info": {
   "codemirror_mode": {
    "name": "ipython",
    "version": 3
   },
   "file_extension": ".py",
   "mimetype": "text/x-python",
   "name": "python",
   "nbconvert_exporter": "python",
   "pygments_lexer": "ipython3",
   "version": "3.5.2"
  },
  "toc": {
   "colors": {
    "hover_highlight": "#DAA520",
    "navigate_num": "#000000",
    "navigate_text": "#333333",
    "running_highlight": "#FF0000",
    "selected_highlight": "#FFD700",
    "sidebar_border": "#EEEEEE",
    "wrapper_background": "#FFFFFF"
   },
   "moveMenuLeft": true,
   "nav_menu": {
    "height": "12px",
    "width": "252px"
   },
   "navigate_menu": true,
   "number_sections": true,
   "sideBar": true,
   "threshold": 4,
   "toc_cell": false,
   "toc_section_display": "block",
   "toc_window_display": false,
   "widenNotebook": false
  }
 },
 "nbformat": 4,
 "nbformat_minor": 2
}
