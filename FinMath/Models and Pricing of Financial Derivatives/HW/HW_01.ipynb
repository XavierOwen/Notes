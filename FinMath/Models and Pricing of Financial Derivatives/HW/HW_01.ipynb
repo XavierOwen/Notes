{
 "cells": [
  {
   "cell_type": "markdown",
   "metadata": {},
   "source": [
    "# <center>Models and Pricing of Financial Derivativs HW_01</center>\n",
    "\n",
    "**<center>11510691 程远星</center>**\n",
    "\n"
   ]
  },
  {
   "cell_type": "markdown",
   "metadata": {},
   "source": [
    "## Question 1\n",
    "\n",
    "$\\DeclareMathOperator*{\\argmin}{argmin}\n",
    "\\DeclareMathOperator*{\\argmax}{argmax}\n",
    "\\newcommand{\\using}[1]{\\stackrel{\\mathrm{#1}}{=}}\n",
    "\\newcommand{\\ffrac}{\\displaystyle \\frac}\n",
    "\\newcommand{\\space}{\\text{ }}\n",
    "\\newcommand{\\bspace}{\\;\\;\\;\\;}\n",
    "\\newcommand{\\QQQ}{\\boxed{?\\:}}\n",
    "\\newcommand{\\void}{\\left.\\right.}\n",
    "\\newcommand{\\CB}[1]{\\left\\{ #1 \\right\\}}\n",
    "\\newcommand{\\SB}[1]{\\left[ #1 \\right]}\n",
    "\\newcommand{\\P}[1]{\\left( #1 \\right)}\n",
    "\\newcommand{\\dd}{\\mathrm{d}}\n",
    "\\newcommand{\\Tran}[1]{{#1}^{\\mathrm{T}}}\n",
    "\\newcommand{\\d}[1]{\\displaystyle{#1}}\n",
    "\\newcommand{\\EE}[2][\\,\\!]{\\mathbb{E}_{#1}\\left[#2\\right]}\n",
    "\\newcommand{\\Var}[2][\\,\\!]{\\mathrm{Var}_{#1}\\left[#2\\right]}\n",
    "\\newcommand{\\Cov}[2][\\,\\!]{\\mathrm{Cov}_{#1}\\left(#2\\right)}\n",
    "\\newcommand{\\Corr}[2][\\,\\!]{\\mathrm{Corr}_{#1}\\left(#2\\right)}\n",
    "\\newcommand{\\I}[1]{\\mathrm{I}\\left( #1 \\right)}\n",
    "\\newcommand{\\N}[1]{\\mathrm{N} \\left( #1 \\right)}\n",
    "\\newcommand{\\ow}{\\text{otherwise}}\\bspace$Selling a call option: As the writer of the call option, I give the holder the right to buy an asset at a specified time $T$ for a specified price $K$. My payoff would be $-\\max\\P{S_T - K,0}$ for european call options. If I sold an american call option, the holder can exercise at any time before $T$.\n",
    "\n",
    "$\\bspace$Buying a put option: As the holder of the put option, I actually was granted the right to sell an asset at a specified time $T$ for a specified price $K$. My payoff would be $\\max\\P{K - S_T, 0}$ Or before $T$ if what I bought is an american put option."
   ]
  },
  {
   "cell_type": "markdown",
   "metadata": {},
   "source": [
    "## Question 2\n",
    "\n",
    "$\\bspace$We can write their profit function on the stock price $S_t$.\n",
    "\n",
    "- Stock: $100\\P{S_t - 94}$\n",
    "- Option: $2000\\big(\\max\\P{S_t - 95,0} - 4.7\\big)$\n",
    "\n",
    "$\\bspace$They intersect at two points, $\\P{0,0}$ and $\\P{100,600}$. It's generally acknowledge that it's of higher possibility that the stock price moves less than more, thus I personally think that holding the stocks rather than the options have a better chance to profit.\n",
    "\n",
    "$\\bspace$As for the second question, since we've already acquire their intersection, we can say that when the stock price goes higher than $100$, options will win more."
   ]
  },
  {
   "cell_type": "markdown",
   "metadata": {},
   "source": [
    "## Question 3\n",
    "\n",
    "$\\bspace$The trader now in the call holder's position. He has paid $c$ to buy the right that he can use $K$ to buy the underlying asset as time $T$. Also in the put writer's position. He has received $p$ and given the right to someone else selling him the asset at price $K$ at time $T$.\n",
    "\n",
    "$\\bspace$To let the prices equal, by the **Put-call parity**, we have $S_0 = Ke^{-rT}$, the time value of $K$ is equal to the initial price of the asset."
   ]
  },
  {
   "cell_type": "markdown",
   "metadata": {},
   "source": [
    "## Question 4\n",
    "\n",
    "$\\bspace$We first write its payoff function on the stock price:\n",
    "\n",
    "$$\\begin{align}\n",
    "p &= 100\\P{S_T - 40} + 100\\SB{5 - \\max\\P{S_T - 50, 0}} + 100\\SB{\\max\\P{30 - S_T,0} - 7}\\\\\n",
    "&= \\begin{cases}\n",
    "800, &\\text{if } S_T \\geq 50 \\\\\n",
    "100S_T - 4200, &\\text{if } 50 \\geq S_T \\geq 30 \\\\\n",
    "-1200, &\\text{if } 30 \\geq S_T \\geq 0\n",
    "\\end{cases}\n",
    "\\end{align}\n",
    "$$\n",
    "\n",
    "![](../figs/HW_fig1.5A.png)\n",
    "\n",
    "After that, the payoff would change to:\n",
    "\n",
    "$$\\begin{align}\n",
    "p &= 100\\P{S_T - 40} + 200\\SB{5 - \\max\\P{S_T - 50, 0}} + 200\\SB{\\max\\P{30 - S_T,0} - 7}\\\\\n",
    "&= \\begin{cases}\n",
    "5600 - 100S_T, &\\text{if } S_T \\geq 50 \\\\\n",
    "100S_T - 4400, &\\text{if } 50 \\geq S_T \\geq 30 \\\\\n",
    "1600 - 100S_T, &\\text{if } 30 \\geq S_T \\geq 0\n",
    "\\end{cases}\n",
    "\\end{align}\n",
    "$$\n",
    "\n",
    "![](../figs/HW_fig1.5B.png)"
   ]
  },
  {
   "cell_type": "markdown",
   "metadata": {},
   "source": [
    "## Question 5\n",
    "\n",
    "$\\bspace$The lower bound of the option can be obtained using the formula\n",
    "\n",
    "$\\bspace\\begin{align}\n",
    "c &\\geq K e^{-rT} - S_0 \\\\\n",
    "&= 15 \\cdot e^{-6\\% \\times 1/12} - 12 \\\\\n",
    "&\\approx 2.93\n",
    "\\end{align}$"
   ]
  },
  {
   "cell_type": "markdown",
   "metadata": {},
   "source": [
    "## Qustion 6\n",
    "\n",
    "$\\bspace$The early exercise of an American put option is to sell the stock to the writer at the Strike price $K$ before the expiration date $T$. Suppose he exercised at time $t$ thus his time value of money is $Ke^{-r\\P{T-t}}$. But then he can not sell the stock at $K$ at time $T$ any more."
   ]
  },
  {
   "cell_type": "markdown",
   "metadata": {},
   "source": [
    "## Question 7\n",
    "\n",
    "$\\bspace$By the put-call parity, we have: $1 + 20 \\times e^{-4\\% \\times 0.25} = p + 19$ thus $p = 1.80$"
   ]
  },
  {
   "cell_type": "markdown",
   "metadata": {},
   "source": [
    "## Question 8\n",
    "\n",
    "$\\bspace$Based on the put-call parity, $c + Ke^{-rT} = S_0 + p \\Longrightarrow c + 49.75 = 47+2.5$. Thus there's always a chance for arbitraging. He can use the same strategy that is to buy a stock and a put option using the borrowed money, $49.5$ with interest rate $6\\%$.\n",
    "\n",
    "$\\bspace$Then he can win $50 - 49.5e^{0.06\\times 1/12} \\approx 0.25 $ if the stock price goes lower than $50$ or more if the stock price goes higher than $50$."
   ]
  },
  {
   "cell_type": "markdown",
   "metadata": {},
   "source": [
    "## Question 9\n",
    "\n",
    "$\\P{1}$\n",
    "\n",
    "$\\bspace P \\geq p = c + Ke^{-rT}-S_0 = C + Ke^{-rT} - S_0 = 4 + 30 e^{-8\\%\\times1/4} -31 \\approx 2.41$\n",
    "\n",
    "$\\bspace$And to find something that keeps over an American Put, we can use $K$ cash at the beginning, thus $c + K \\geq P+ S_0$ always holds. Therefore, $P \\leq c + K - S_0 = C + K - S_0 = 4 + 30 - 31 = 3$\n",
    "\n",
    "$\\P{2}$\n",
    "\n",
    "$\\bspace$If the American Put price is greater than $3$ that is to say that $P \\geq C + K - S_0$, then we write an American put option and sell it to somebody, then use the money to buy a American call option, to borrow a stock and sell it to gain $S_0$. Send $K$ cash to the bank. Then when the American put option holder want to exercise, we can instantly use $K = 30$ to buy the stock and return to the stock lender. Up to now, we start from nothing to a American call option and a positive payoff and some interest."
   ]
  },
  {
   "cell_type": "markdown",
   "metadata": {},
   "source": [
    "## Question 10\n",
    "\n",
    "$\\P{1}$\n",
    "\n",
    "$\\bspace$If not, then $2c_2 > c_1 + c_3$. So that we have the arbitrage chance. First write two call option with strike price $K_2$ and then use the money gained to buy two call option with strike price $K_1$ and $K_3$. We already have some money left now.\n",
    "\n",
    "$\\bspace$Then we the exercise time comes, we can exercise all three at the same time since $2K_2 = K_1 + K_3$, meaning that we gain money from nothing. Thus $2c_2 \\leq c_1 + c_3$.\n",
    "\n",
    "$\\P{2}$\n",
    "\n",
    "$$p_2 \\leq 0.5\\P{p_1 + p_3}$$\n",
    "\n",
    "$\\bspace$The proof is obvious, similar to the preceding one."
   ]
  }
 ],
 "metadata": {
  "kernelspec": {
   "display_name": "Python 3",
   "language": "python",
   "name": "python3"
  },
  "language_info": {
   "codemirror_mode": {
    "name": "ipython",
    "version": 3
   },
   "file_extension": ".py",
   "mimetype": "text/x-python",
   "name": "python",
   "nbconvert_exporter": "python",
   "pygments_lexer": "ipython3",
   "version": "3.5.2"
  },
  "toc": {
   "colors": {
    "hover_highlight": "#DAA520",
    "navigate_num": "#000000",
    "navigate_text": "#333333",
    "running_highlight": "#FF0000",
    "selected_highlight": "#FFD700",
    "sidebar_border": "#EEEEEE",
    "wrapper_background": "#FFFFFF"
   },
   "moveMenuLeft": true,
   "nav_menu": {
    "height": "12px",
    "width": "252px"
   },
   "navigate_menu": true,
   "number_sections": true,
   "sideBar": true,
   "threshold": 4,
   "toc_cell": false,
   "toc_section_display": "block",
   "toc_window_display": false,
   "widenNotebook": false
  }
 },
 "nbformat": 4,
 "nbformat_minor": 2
}
