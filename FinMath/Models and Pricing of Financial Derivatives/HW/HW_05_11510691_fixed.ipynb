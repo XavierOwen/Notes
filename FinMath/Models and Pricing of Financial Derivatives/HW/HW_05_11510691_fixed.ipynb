{
 "cells": [
  {
   "cell_type": "markdown",
   "metadata": {},
   "source": [
    "# <center>Models and Pricing of Financial Derivatives HW_05</center>\n",
    "\n",
    "**<center>11510691 程远星$\\DeclareMathOperator*{\\argmin}{argmin}\n",
    "\\DeclareMathOperator*{\\argmax}{argmax}\n",
    "\\DeclareMathOperator*{\\plim}{plim}\n",
    "\\newcommand{\\ffrac}{\\displaystyle \\frac}\n",
    "\\newcommand{\\d}[1]{\\displaystyle{#1}}\n",
    "\\newcommand{\\space}{\\text{ }}\n",
    "\\newcommand{\\bspace}{\\;\\;\\;\\;}\n",
    "\\newcommand{\\bbspace}{\\;\\;\\;\\;\\;\\;\\;\\;}\n",
    "\\newcommand{\\QQQ}{\\boxed{?\\:}}\n",
    "\\newcommand{\\void}{\\left.\\right.}\n",
    "\\newcommand{\\Tran}[1]{{#1}^{\\mathrm{T}}}\n",
    "\\newcommand{\\CB}[1]{\\left\\{ #1 \\right\\}}\n",
    "\\newcommand{\\SB}[1]{\\left[ #1 \\right]}\n",
    "\\newcommand{\\P}[1]{\\left( #1 \\right)}\n",
    "\\newcommand{\\abs}[1]{\\left| #1 \\right|}\n",
    "\\newcommand{\\norm}[1]{\\left\\| #1 \\right\\|}\n",
    "\\newcommand{\\given}[1]{\\left. #1 \\right|}\n",
    "\\newcommand{\\using}[1]{\\stackrel{\\mathrm{#1}}{=}}\n",
    "\\newcommand{\\asim}{\\overset{\\text{a}}{\\sim}}\n",
    "\\newcommand{\\RR}{\\mathbb{R}}\n",
    "\\newcommand{\\EE}{\\mathbb{E}}\n",
    "\\newcommand{\\II}{\\mathbb{I}}\n",
    "\\newcommand{\\NN}{\\mathbb{N}}\n",
    "\\newcommand{\\ZZ}{\\mathbb{Z}}\n",
    "\\newcommand{\\QQ}{\\mathbb{Q}}\n",
    "\\newcommand{\\PP}{\\mathbb{P}}\n",
    "\\newcommand{\\AcA}{\\mathcal{A}}\n",
    "\\newcommand{\\FcF}{\\mathcal{F}}\n",
    "\\newcommand{\\AsA}{\\mathscr{A}}\n",
    "\\newcommand{\\FsF}{\\mathscr{F}}\n",
    "\\newcommand{\\dd}{\\mathrm{d}}\n",
    "\\newcommand{\\I}[1]{\\mathrm{I}\\left( #1 \\right)}\n",
    "\\newcommand{\\N}[1]{\\mathcal{N}\\left( #1 \\right)}\n",
    "\\newcommand{\\Exp}[1]{\\mathrm{E}\\left[ #1 \\right]}\n",
    "\\newcommand{\\Var}[1]{\\mathrm{Var}\\left[ #1 \\right]}\n",
    "\\newcommand{\\Avar}[1]{\\mathrm{Avar}\\left[ #1 \\right]}\n",
    "\\newcommand{\\Cov}[1]{\\mathrm{Cov}\\left( #1 \\right)}\n",
    "\\newcommand{\\Corr}[1]{\\mathrm{Corr}\\left( #1 \\right)}\n",
    "\\newcommand{\\ExpH}{\\mathrm{E}}\n",
    "\\newcommand{\\VarH}{\\mathrm{Var}}\n",
    "\\newcommand{\\AVarH}{\\mathrm{Avar}}\n",
    "\\newcommand{\\CovH}{\\mathrm{Cov}}\n",
    "\\newcommand{\\CorrH}{\\mathrm{Corr}}\n",
    "\\newcommand{\\ow}{\\text{otherwise}}\n",
    "\\newcommand{\\wp}{\\text{with probability }}\n",
    "\\newcommand{\\FSD}{\\text{FSD}}\n",
    "\\newcommand{\\SSD}{\\text{SSD}}\n",
    "\\void^\\dagger$</center>**"
   ]
  },
  {
   "cell_type": "markdown",
   "metadata": {},
   "source": [
    "## Question 1\n",
    "\n",
    "Describe the payoff from a portfolio consisting of a *floating strike lookback call* and a *floating strike lookback put* with the same maturity.\n",
    "\n",
    "$\\bspace Answer$\n",
    "\n",
    ">$$\\P{S_T -\\min_{0\\leq t\\leq T}S_t} + \\P{\\max_{0\\leq t\\leq T}S_t - S_T} = \\max_{0\\leq t\\leq T}S_t - \\min_{0\\leq t\\leq T}S_t$$"
   ]
  },
  {
   "cell_type": "markdown",
   "metadata": {},
   "source": [
    "## Question 2\n",
    "\n",
    "Explain why a regular European call option is the sum of a *down-and-out European call* and a *down-and-in European call*. Is the same true for American call options?\n",
    "\n",
    "$Answer$\n",
    "\n",
    ">$$\\ExpH^\\QQ_t\\SB{e^{-r\\P{T-t}} \\P{S_T- K}^+ \\mathbf 1_{\\CB{\\min\\limits_{0\\leq t\\leq T}\\;\\:S_t \\leq L}}} + \\ExpH^\\QQ_t\\SB{e^{-r\\P{T-t}} \\P{S_T- K}^+ \\mathbf 1_{\\CB{\\min\\limits_{0\\leq t\\leq T}\\;\\:S_t > L}}} = \\ExpH^\\QQ_t\\SB{e^{-r\\P{T-t}} \\P{S_T- K}^+}$$\n",
    ">\n",
    ">The left hand side is just $c_{\\text{di}} + c_{\\text{do}}$ and the right hand side is the regular $c$. And surely this equation does not hold for American calls since $C=c$, $C_{\\text{do}} \\geq c_{\\text{do}}$ and $C_{\\text{di}} \\geq c_{\\text{di}}$."
   ]
  },
  {
   "cell_type": "markdown",
   "metadata": {},
   "source": [
    "## Question 3\n",
    "\n",
    "How can the value of a *forward start put option* on a *non-dividend-paying stock* be calculated if it is agreed that the strike price will be $10\\%$ greater than the stock price at the time the option starts?\n",
    "\n",
    "$\\bspace Answer$\n",
    "\n",
    ">$$\\begin{align}\n",
    "&\\ExpH^\\QQ\\SB{e^{-r\\P{T-0}}\\P{1.1\\cdot S_{t_{\\void_1}} - S_T}^+ \\mid \\FcF_0}\\\\\n",
    "=\\;& \\ExpH^\\QQ\\SB{e^{-rt_{\\void_1}} \\ExpH^\\QQ \\SB{e^{-r\\P{T-t_{\\void_1}}}\\P{1.1\\cdot S_{t_{\\void_1}} - S_T}^+ \\mid \\FcF_{t_{\\void_1}}} \\mid \\FcF_0}\\\\\n",
    "=\\;& \\ExpH^\\QQ_0\\SB{p\\P{t_1,S_{t_{\\void_1}},T,1.1\\cdot S_{t_{\\void_1}}} e^{-rt_{\\void_1}}}\\\\\n",
    "=\\;& \\ExpH^\\QQ_0\\SB{ \\ffrac{S_{t_{\\void_1}}}{e^{rt_{\\void_1}}} p\\P{t_1,1,T,1.1}},\\bspace \\text{martingale}\\\\\n",
    "=\\;& S_{t_{\\void_0}} \\cdot p\\P{t_1,1,T,1.1} = S_0 \\cdot p\\P{t_1,1,T,1.1}\\\\\n",
    "=\\;& p\\P{t_1,S_0,T,1.1\\cdot S_0}\\\\\n",
    "=\\;& 1.1\\cdot S_0 e^{-r\\P{T-t_{\\void_1}}}\\N{-d_2'} - S_0 \\N{-d_1'}\\\\\n",
    "\\end{align}$$\n",
    "\n",
    ">where $d_{1,2} = \\ffrac{1}{\\sigma\\sqrt{T-t_1}} \\P{\\log \\ffrac{1}{1.1} + \\P{r\\pm\\ffrac{\\sigma^2}{2}}\\P{T-t_1}}$"
   ]
  },
  {
   "cell_type": "markdown",
   "metadata": {},
   "source": [
    "## Question 3*\n",
    "\n",
    "Consider the claim which pays $S_{T_1}/S_{T_0}$ at time $T_1 > T_0 > 0$. What's the value of the claim at time $T_0$? What is the price of the claim at time zero?\n",
    "\n",
    "$\\bspace Answer$\n",
    "\n",
    ">To calculate $\\ExpH_{T_0}^\\QQ\\SB{e^{-r\\P{T_1-T_0}} \\ffrac{S_{T_1}}{S_{T_0}}}$, note that under $\\QQ$, $e^{rt}S_t$ is a martingale. Thus\n",
    ">\n",
    ">$$\\ExpH_{T_0}^\\QQ\\SB{e^{-rT_1}S_{T_1}} = \\ExpH_{T_0}^\\QQ\\SB{e^{-rT_0}S_{T_0}} \\Rightarrow \\ExpH_{T_0}^\\QQ\\SB{e^{-r\\P{T_1-T_0}} \\ffrac{S_{T_1}}{S_{T_0}}} = 1$$\n",
    ">\n",
    ">Then at time $0$, $\\ExpH_{0}^\\QQ\\SB{e^{-r\\P{T_1-0}} \\ffrac{S_{T_1}}{S_{T_0}}} =\\ExpH_{0}^\\QQ\\SB{\\ExpH_{T_0}^\\QQ \\SB{e^{-rT_1} \\ffrac{S_{T_1}}{S_{T_0}}}} = e^{-rT_0}$\n",
    ">***\n",
    ">Or, if you cannot find that $e^{rt}S_t$ is a martingale, you can still solve is alternatively. Under $\\QQ$, we have $\\dd S_t = r S_t \\dd t + \\sigma S_t \\dd W_t$ and thus we write\n",
    ">\n",
    ">$$S_{T_1} = S_{T_0} \\exp\\CB{\\P{r-\\ffrac{\\sigma^2}{2}}\\P{T_1-T_0} +\\sigma \\P{W_{T_1} - W_{T_0}}}$$\n",
    ">\n",
    ">Then, $\\ExpH_{T_0}^\\QQ\\SB{e^{-r\\P{T_1-T_0}} \\ffrac{S_{T_1}}{S_{T_0}}} = \\ExpH_{T_0}^\\QQ\\SB{\\exp\\CB{\\P{-\\ffrac{\\sigma^2}{2}}\\P{T_1-T_0} +\\sigma \\P{W_{T_1} - W_{T_0}}}}=1$"
   ]
  },
  {
   "cell_type": "markdown",
   "metadata": {},
   "source": [
    "## Question 4\n",
    "\n",
    "Calculate the price of a $1$-year European option to give up $100$ ounces of *silver in exchange for* $1$ ounce of *gold*. The current prices of gold and silver are $\\$380$ and $\\$4$, respectively; the risk-free interest rate is $10\\%$ per annum; the volatility of each commodity price is $20\\%$; and the correlation between the two prices is $0.7$. Ignore storage costs.\n",
    "\n",
    "$\\bspace Answer$\n",
    "\n",
    ">Consider this as an exchange option with $S_0^\\P2 = 380$ and $S_0^\\P1 = 100\\times4 = 400$.\n",
    ">\n",
    ">$$\\begin{align}\n",
    "\\sigma^2 &= \\sigma_1^2+\\sigma^2 - \\rho\\sigma_1\\sigma_2 = 0.2^2+0.2^2-2\\times0.7\\times0.2^2 = 0.024\\\\\n",
    "\\hat d_1 &= \\ffrac{1}{\\sigma\\sqrt{T-0}} \\SB{\\log\\P{\\ffrac{S_0^{\\P2}}{S_0^{\\P1}}}+ \\ffrac{1}{2}\\sigma^2\\P{T-0}} = \\ffrac{1}{\\sqrt{0.024}}\\P{\\log\\ffrac{380}{400} + \\ffrac{1}{2}\\times 0.024 \\times 1} = -0.253637\\\\\n",
    "\\hat d_2 &= \\ffrac{1}{\\sigma\\sqrt{T-0}} \\SB{\\log\\P{\\ffrac{S_0^{\\P2}}{S_0^{\\P1}}}- \\ffrac{1}{2}\\sigma^2\\P{T-0}} = \\ffrac{1}{\\sqrt{0.024}}\\P{\\log\\ffrac{380}{400} - \\ffrac{1}{2}\\times 0.024 \\times 1} = -0.408556\n",
    "\\end{align}$$\n",
    ">\n",
    ">$$c\\P{t,S_0^{\\P1},S_0^{\\P2}} = S_0^{\\P2} \\N{\\hat d_1} - S_0^{\\P1} \\N{\\hat d_2} = 380\\N{-0.253637} - 400\\N{-0.408556} = 15.384386$$\n",
    "\n",
    "$Remark$\n",
    "\n",
    ">To derive the formula for this is interesting, indeed, so try to understand that!"
   ]
  },
  {
   "cell_type": "markdown",
   "metadata": {},
   "source": [
    "## Question 5\n",
    "\n",
    "A financial institution has the following portfolio of over-the-counter options on sterling:\n",
    "\n",
    "$$\\begin{array}{crrrrr}\\hline\n",
    "\\text{Type}& \\text{Position}& \\text{Delta of option}& \\text{Gamma of option}& \\text{Vega of options}\\\\ \\hline\n",
    "\\text{Call} & -1,000& 0.50& 2.2& 1.8 \\\\\n",
    "\\text{Call} & -500& 0.80& 0.6& 0.2 \\\\\n",
    "\\text{Put} & -2,000& -0.40& 1.3& 0.7 \\\\\n",
    "\\text{Call} & -500& 0.70& 1.8& 1.4 \\\\ \\hline\n",
    "\\end{array}\n",
    "$$\n",
    "\n",
    "Also, a traded option is available with a delta of $0.6$, a gamma of $1.5$, and a vega of $0.8$.\n",
    "\n",
    "$\\P1$ What position in the traded option and in sterling would make the portfolio both *gamma neutral* and *delta neutral*?\n",
    "\n",
    "$\\bspace Answer$\n",
    "\n",
    ">We'll calculate the greeks of the portfolio first.\n",
    ">\n",
    ">$$\\begin{align}\n",
    "\\Gamma&= -1000\\times 2.2-500\\times 0.6 - 2000\\times 1.3 - 500\\times 1.8 = -6000\\\\\n",
    "\\Delta&= -1000\\times 0.5 - 500\\times0.8-2000\\times\\P{-0.4}-500\\times 0.7 = -450\\\\\n",
    "{\\large\\nu}&= -1000\\times 1.8 - 500 \\times0.5-2000\\times 0.7 - 500 \\times 1.4 = -4000\n",
    "\\end{align}$$\n",
    ">\n",
    ">Gamma Neutral can be reached by including in the portfolio a long position of $\\ffrac{6000}{1.5} = 4000$ in the traded option. Then the Delta moves to $-450+4000\\times 0.6 = 1950$. Thus, $1950$ units of the underlying asset must be sold from the portfolio to keep it Delta Neutral.\n",
    "\n",
    "$\\P2$ What position in the traded option and in sterling would make the portfolio both *vega neutral* and *delta neutral*?\n",
    "\n",
    "$\\bspace Answer$\n",
    "\n",
    ">Vega Neutral can be reached by including in the portfolio a long position of $\\ffrac{4000}{0.8} = 5000$ in the traded option. Then the Delta moves to $-450+5000\\times 0.6 = 2550$. Thus, $2550$ units of the underlying asset must be sold from the portfolio to keep it Delta Neutral."
   ]
  },
  {
   "cell_type": "markdown",
   "metadata": {},
   "source": [
    "## Question 6\n",
    "\n",
    "With the notations used under the Black-Scholes model:\n",
    "\n",
    "$\\P1$ What's $\\mathcal{N}'\\P{x}$\n",
    "\n",
    "$\\bspace Answer$\n",
    "\n",
    ">$$\\mathcal{N}'\\P x = f\\P x = \\ffrac{1}{\\sqrt{2\\pi}} \\exp\\CB{-\\ffrac{x^2}{2}}$$\n",
    "\n",
    "$\\P2$ Show that $S_t\\mathcal{N}'\\P{d_1} = Ke^{-r\\P{T-t}}\\mathcal{N}'\\P{d_2}$, where $S_t$ is the stock price at time $t$ and \n",
    "\n",
    "$$d_{1,2} = \\ffrac{\\ln\\P{S_t/K}+\\P{r\\pm \\sigma^2/2}\\P{T-t}}{\\sigma\\sqrt{T-t}}$$\n",
    "\n",
    "$\\bspace Answer$\n",
    "\n",
    ">$$\\begin{align}\n",
    "\\ffrac{\\mathcal{N}'\\P{d_1}}{\\mathcal{N}'\\P{d_2}}&= \\exp\\CB{-\\ffrac{d_1^2 - d_2^2}{2}}\\\\\n",
    "&= \\exp\\CB{-\\ffrac{4\\P{\\ln\\P{S/K}+r\\P{T-t}}\\ffrac{\\sigma^2}{2}\\P{T-t}}{2\\sigma^2\\P{T-t}}}\\\\\n",
    "&= \\ffrac{K}{S}e^{-r\\P{T-t}}\\\\\n",
    "\\Rightarrow S\\mathcal{N}'\\P{d_1} &= K e^{-r\\P{T-t}} \\mathcal{N}'\\P{d_2}\n",
    "\\end{align}$$\n",
    "\n",
    "$\\P3$ Calculate $\\ffrac{\\partial d_1}{\\partial S}$ and $\\ffrac{\\partial d_2}{\\partial S}$\n",
    "\n",
    "$\\bspace Answer$\n",
    "\n",
    ">$$\\ffrac{\\partial d_1}{\\partial S} = \\ffrac{\\partial d_2}{\\partial S} = \\ffrac{1}{S\\sigma\\sqrt{T-t}}$$\n",
    "\n",
    "$\\P4$ Show that when $c = S_t\\N{d_1}-Ke^{-r\\P{T-t}}\\N{d_2}$, it follows that \n",
    "\n",
    "$$\\ffrac{\\partial c}{\\partial t} = - rKe^{-r\\P{T-t}}\\N{d_2} - S_t\\mathcal{N}'\\P{d_1} \\ffrac{\\sigma}{2\\sqrt{T-t}}$$\n",
    "\n",
    "$\\bspace Answer$\n",
    "\n",
    ">$$\\begin{align}\n",
    "\\ffrac{\\partial c}{\\partial t} &= S\\ffrac{\\partial \\N{d_1}}{\\partial d_1}\\ffrac{\\partial d_1}{\\partial t} - rKe^{-r\\P{T-t}}\\N{d_2} - Ke^{-r\\P{T-t}}\\ffrac{\\partial \\N{d_2}}{\\partial d_2}\\ffrac{\\partial d_2}{\\partial t}\\\\\n",
    "&= \\ffrac{\\partial d_1}{\\partial t}\\cdot K e^{-r\\P{T-t}} \\mathcal{N}'\\P{d_2} - rKe^{-r\\P{T-t}}\\N{d_2} - Ke^{-r\\P{T-t}}\\mathcal{N}'\\P{d_2}\\ffrac{\\partial d_2}{\\partial t}\\\\\n",
    "&= - rKe^{-r\\P{T-t}}\\N{d_2} + \\ffrac{\\partial\\P{ d_1 - d_2}}{\\partial t}\\cdot K e^{-r\\P{T-t}} \\mathcal{N}'\\P{d_2}\\\\\n",
    "&= - rKe^{-r\\P{T-t}}\\N{d_2} + S_t\\mathcal{N}'\\P{d_1} \\cdot \\P{-\\ffrac{\\sigma}{2\\sqrt{T-t}}}\n",
    "\\end{align}$$\n",
    "\n",
    "$\\P5$ Show that $\\ffrac{\\partial c}{\\partial S} = \\N{d_1}$\n",
    "\n",
    "$\\bspace Answer$\n",
    "\n",
    ">$$\\begin{align}\n",
    "\\ffrac{\\partial c}{\\partial S} &= \\N{d_1} + S\\mathcal{N}'\\P{d_1} \\cdot \\ffrac{\\partial d_1}{\\partial S} - K e^{-r\\P{T-t}} \\mathcal{N}'\\P{d_2}\\cdot \\ffrac{\\partial d_2}{\\partial S}\\\\\n",
    "&= \\N{d_1} + S\\mathcal{N}'\\P{d_1} \\cdot \\ffrac{\\partial d_1}{\\partial S} - S\\mathcal{N}'\\P{d_1} \\cdot \\ffrac{\\partial d_1}{\\partial S}\\\\\n",
    "&= \\N{d_1}\n",
    "\\end{align}$$\n",
    "\n",
    "$\\P 6$ Show that $c$ satisfies the Black-Scholes differential equation.\n",
    "\n",
    "$\\bspace Answer$\n",
    "\n",
    ">$$\\begin{align}\n",
    "&\\ffrac{\\partial c}{\\partial t} + rS\\ffrac{\\partial c}{\\partial S} + \\ffrac{1}{2}\\sigma^2 S^2\\ffrac{\\partial^2 c}{\\partial S^2} - rc \\\\\n",
    "=\\;& - rKe^{-r\\P{T-t}}\\N{d_2} - S\\mathcal{N}'\\P{d_1} \\cdot \\ffrac{\\sigma}{2\\sqrt{T-t}} + rS \\cdot \\N{d_1}\\\\\n",
    "&\\bspace + \\ffrac{1}{2}\\sigma^2 S^2 \\ffrac{1}{\\sigma S\\sqrt{T-t}}\\mathcal{N}'\\P{d_1} - r\\P{S\\N{d_1} - Ke^{-r\\P{T-t}}\\N{d_2}}\\\\\n",
    "=\\;& 0+0 = 0\n",
    "\\end{align}$$\n",
    "\n",
    "$\\P7$ Show that $c$ satisfies the boundary condition for a European call option, $i.e.$, $c = \\max\\P{S −K, 0}$ as $t \\to T$.\n",
    "\n",
    "$\\bspace Answer$\n",
    "\n",
    ">As $t\\to T$, $d_{1,2}\\to\\infty$ and thus $\\N{d_1} \\to1$ and $\\N{d_2}\\to 1$. Then $c = S-K$, if the call option is exercise, and $c=0$, otherwise. So the boundary condition is $c = \\max\\P{S-K,0}$ as $t\\to T$."
   ]
  },
  {
   "cell_type": "markdown",
   "metadata": {},
   "source": [
    "## Question 7\n",
    "\n",
    "Use the *put-call parity* relationship to derive, for a non-dividend-paying stock, the relationship between:\n",
    "\n",
    "$\\P1$ The $\\Delta$ of a *European call* and the $\\Delta$ of a *European put*\n",
    "\n",
    "$\\bspace Answer$\n",
    "\n",
    ">$$\\ffrac{\\partial\\P{c+Ke^{-r\\P{T-t}}}}{\\partial S} = \\ffrac{\\partial\\P{p+S}}{\\partial S} \\Rightarrow \\ffrac{\\partial c}{\\partial S} = \\ffrac{\\partial p}{\\partial S} + 1 \\Rightarrow \\Delta_c = \\Delta_p+1$$\n",
    "\n",
    "$\\P2$ The $\\Gamma$ of a *European call* and the $\\Gamma$ of a *European put*\n",
    "\n",
    "$\\bspace Answer$\n",
    "\n",
    ">Following the preceding one, we differentiate it again with respect to $S$ as well and obtain\n",
    ">\n",
    ">$$\\ffrac{\\partial^2 p}{\\partial S^2} = \\ffrac{\\partial^2 c}{\\partial S^2}\\Rightarrow \\Gamma_c = \\Gamma_p$$\n",
    "\n",
    "$\\P3$ The $\\large \\nu$ of a *European call* and the $\\large \\nu$ of a *European put*\n",
    "\n",
    "$\\bspace Answer$\n",
    "\n",
    ">$$\\ffrac{\\partial\\P{c+Ke^{-r\\P{T-t}}}}{\\partial \\sigma} = \\ffrac{\\partial\\P{p+S}}{\\partial \\sigma} \\Rightarrow \\ffrac{\\partial c}{\\partial \\sigma} = \\ffrac{\\partial p}{\\partial \\sigma} \\Rightarrow {\\large\\nu}_c = {\\large\\nu}_p$$\n",
    "\n",
    "$\\P4$ The $\\Theta$ of a *European call* and the $\\Theta$ of a *European put*\n",
    "\n",
    "$\\bspace Answer$\n",
    "\n",
    ">$$\\ffrac{\\partial\\P{c+Ke^{-r\\P{T-t}}}}{\\partial t} = \\ffrac{\\partial\\P{p+S}}{\\partial t} \\Rightarrow \\ffrac{\\partial c}{\\partial t} + rK^{-r\\P{T-t}}= \\ffrac{\\partial p}{\\partial t} \\Rightarrow \\Theta_c + rK^{-r\\P{T-t}} = \\Theta_p$$"
   ]
  },
  {
   "cell_type": "markdown",
   "metadata": {},
   "source": [
    "***"
   ]
  },
  {
   "cell_type": "code",
   "execution_count": 1,
   "metadata": {},
   "outputs": [],
   "source": [
    "import math\n",
    "import scipy.stats as scs"
   ]
  },
  {
   "cell_type": "code",
   "execution_count": 2,
   "metadata": {},
   "outputs": [
    {
     "data": {
      "text/plain": [
       "0.024000000000000007"
      ]
     },
     "execution_count": 2,
     "metadata": {},
     "output_type": "execute_result"
    }
   ],
   "source": [
    "0.04+0.04-2*0.7*0.04"
   ]
  },
  {
   "cell_type": "code",
   "execution_count": 3,
   "metadata": {},
   "outputs": [
    {
     "data": {
      "text/plain": [
       "-0.40855645848264455"
      ]
     },
     "execution_count": 3,
     "metadata": {},
     "output_type": "execute_result"
    }
   ],
   "source": [
    "math.pow(0.024,-0.5)*(-0.012+math.log(38/40))"
   ]
  },
  {
   "cell_type": "code",
   "execution_count": 4,
   "metadata": {},
   "outputs": [
    {
     "data": {
      "text/plain": [
       "15.384385517742544"
      ]
     },
     "execution_count": 4,
     "metadata": {},
     "output_type": "execute_result"
    }
   ],
   "source": [
    "380*scs.norm.cdf(math.pow(0.024,-0.5)*(0.012+math.log(38/40)))-\\\n",
    "400*scs.norm.cdf(math.pow(0.024,-0.5)*(-0.012+math.log(38/40)))"
   ]
  }
 ],
 "metadata": {
  "kernelspec": {
   "display_name": "Python 3",
   "language": "python",
   "name": "python3"
  },
  "language_info": {
   "codemirror_mode": {
    "name": "ipython",
    "version": 3
   },
   "file_extension": ".py",
   "mimetype": "text/x-python",
   "name": "python",
   "nbconvert_exporter": "python",
   "pygments_lexer": "ipython3",
   "version": "3.5.2"
  },
  "toc": {
   "colors": {
    "hover_highlight": "#DAA520",
    "navigate_num": "#000000",
    "navigate_text": "#333333",
    "running_highlight": "#FF0000",
    "selected_highlight": "#FFD700",
    "sidebar_border": "#EEEEEE",
    "wrapper_background": "#FFFFFF"
   },
   "moveMenuLeft": true,
   "nav_menu": {
    "height": "69px",
    "width": "252px"
   },
   "navigate_menu": true,
   "number_sections": true,
   "sideBar": true,
   "threshold": 4,
   "toc_cell": false,
   "toc_section_display": "block",
   "toc_window_display": false,
   "widenNotebook": false
  }
 },
 "nbformat": 4,
 "nbformat_minor": 2
}
