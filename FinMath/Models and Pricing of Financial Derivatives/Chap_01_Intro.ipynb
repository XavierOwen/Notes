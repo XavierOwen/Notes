{
 "cells": [
  {
   "cell_type": "markdown",
   "metadata": {},
   "source": [
    "曾萍萍$\\DeclareMathOperator*{\\argmin}{argmin}\n",
    "\\newcommand{\\ffrac}{\\displaystyle \\frac}\n",
    "\\newcommand{\\Tran}[1]{{#1}^{\\mathrm{T}}}\n",
    "\\newcommand{\\d}[1]{\\displaystyle{#1}}\n",
    "\\newcommand{\\EE}[2][\\,\\!]{\\mathbb{E}_{#1}\\left[#2\\right]}\n",
    "\\newcommand{\\dd}{\\mathrm{d}}\n",
    "\\newcommand{\\Var}[2][\\,\\!]{\\mathrm{Var}_{#1}\\left[#2\\right]}\n",
    "\\newcommand{\\Cov}[2][\\,\\!]{\\mathrm{Cov}_{#1}\\left(#2\\right)}\n",
    "\\newcommand{\\Corr}[2][\\,\\!]{\\mathrm{Corr}_{#1}\\left(#2\\right)}\n",
    "\\newcommand{\\using}[1]{\\stackrel{\\mathrm{#1}}{=}}\n",
    "\\newcommand{\\I}[1]{\\mathrm{I}\\left( #1 \\right)}\n",
    "\\newcommand{\\N}[1]{\\mathrm{N} \\left( #1 \\right)}\n",
    "\\newcommand{\\space}{\\text{ }}\n",
    "\\newcommand{\\bspace}{\\;\\;\\;\\;}\n",
    "\\newcommand{\\QQQ}{\\boxed{?\\:}}\n",
    "\\newcommand{\\CB}[1]{\\left\\{ #1 \\right\\}}\n",
    "\\newcommand{\\SB}[1]{\\left[ #1 \\right]}\n",
    "\\newcommand{\\P}[1]{\\left( #1 \\right)}\n",
    "\\newcommand{\\ow}{\\text{otherwise}}$\n",
    "\n",
    "Ref books:\n",
    "\n",
    "- Options, Futures, and Other Derivatives 9th\n",
    "- A course in Financial Calculus\n",
    "- Stochastic Calculus for Finance I and II\n",
    "- Mathematical models of Financial Derivatives\n",
    "- Intro to probability models, chapter 4, 6, 10"
   ]
  },
  {
   "cell_type": "markdown",
   "metadata": {},
   "source": [
    "# Intro to Financial Derivatives\n",
    "\n",
    "***Derivative***: a financial instrument whose *value* depends on the values of more basic underlying variables标的物, say, stock options.\n",
    "\n",
    "***forward contract（期货）***: an *agreement* to *buy* (or sell) an asset on a specified future date $T$ for a specified price $K$.\n",
    "\n",
    "- must be enforced, or exercised, whatever!\n",
    "- Payoff for the buyer: $S_T - K$, where $S_T$ is the ***asset price*** at $T$. (linear relation)\n",
    "- Buyers are referred to as having ***long*** positions; sellers are referred to as having ***short*** positions. Selling a forward is also known as ***writing*** the forward.\n",
    "- It costs *nothing* to ***enter*** into a forward contract. The 'pricing problem' is to determine the fair value of $K$.\n",
    "\n",
    "$Remark$: *enter* is just to buy it."
   ]
  },
  {
   "cell_type": "markdown",
   "metadata": {},
   "source": [
    "## European and American options\n",
    "\n",
    "***European call (put) option***: gives its holder the *right* to buy (sell) an asset at a specified time $T$ for a specified price $K$.\n",
    "\n",
    "- $T$ is called the exercise, or expiration, date or the ***maturity***. $K$ is the ***strike price***.\n",
    "    - $Remark$: $T$ is normally a day, not a specified time stamp!\n",
    "- Payoff of a European call option for the holder: $\\P{S_T-K}^{+} = \\max \\P{S_T - K, 0}$\n",
    "    - if $S_T > K$, in the money\n",
    "    - if $S_T = K$, at the money\n",
    "    - if $S_T < K$, out of the money\n",
    "    - $Remark$: in, at, or out of the money is to talk about the *payoff*, not the *profit*. So there's NOTHING to do with the *cost*.\n",
    "- Payoff of a European put option for the holder: $\\P{-S_T+K}^{+} = \\max \\P{K - S_T, 0}$\n",
    "- Payoff of the seller: just add a minus sign ($-$) to the preceding two expressions.\n",
    "\n",
    "![](./figs/summary_callPut_plot.png)\n",
    "\n",
    "![](./figs/summary_callPut_formula.png)\n",
    "\n",
    "***American options***: just like the european one except for that they can be exercised at *any* time up to the expiration date.\n",
    "\n",
    "***Time value of the money***: assume that for any time $T'$, the value at time zero of a dollar promised at $T'$ is $\\exp\\CB{-rT'}$ for some constant $r > 0$ (continuous compounding连续复利). Here $r$ is the ***risk-free rate***.\n",
    "\n",
    "***Arbitrage opportunity***: An opportunity to lock into a $\\QQQ$***risk-free profit***.\n",
    "\n",
    "$Assumptions$\n",
    "\n",
    ">- No transactions cost\n",
    "- Borrowing and lending are possible at the risk-free interest rate\n",
    "- No arbitrage opportunity"
   ]
  },
  {
   "cell_type": "markdown",
   "metadata": {},
   "source": [
    "## Pricing a forward\n",
    "\n",
    "$Proposition$\n",
    "\n",
    "In the absence of arbitrage, the **strike price** in a **forward contract** with **expiry date** $T$ on a *stock*, whose value at time zero is $K = S_0 e^{rT}$. Here $S_0 e^{rT}$ is called ***arbitrage price*** (or ***forward price***).\n",
    "\n",
    "$Proof$ based on the absence of arbitrage\n",
    "\n",
    ">$\\P{1}$ if $K > S_0 e^{rT}$, the seller of a forward can make a profit. Strategy: Sell a forward (NO COST!) and borrow $S_0$ to buy one unit of stock at time $0$. At time $T$, we must repay $S_0 e^{rT}$ to the bank and sell the stock for $K$, leaving us the profit: $K - S_0 e^{rT}$；\n",
    ">\n",
    ">$\\P{2}$ if $K < S_0 e^{rT}$ similarly, there still the chance to arbitrage. Strategy: Buy a forward and sell a unit of stock at time $0$ for $S_0$ to buy cash fund. At time $T$, the bond deliver $S_0 e^{rT}$ to us and then we ues $K$ to buy back the stock, leaving us the profit: $S_0 e^{rT} - K$.\n",
    "\n",
    "$Remark$\n",
    "> ***Short selling***, allows you to sell the stock without actually hold that, but need to pay back though."
   ]
  },
  {
   "cell_type": "markdown",
   "metadata": {},
   "source": [
    "## Properties of European options\n",
    "\n",
    "$Def$\n",
    "\n",
    "$c$ ($p$): Value of European call (put) option at time $0$\n",
    "\n",
    "- Upper bounds for European call and put options: $c \\leq S_0$ and $p \\leq K e^{-rT}$\n",
    "    - $c \\leq S_0$ is to say that if not, then as the seller of this call option, I can at least buy a stock at $S_0$ after selling the option and give it to you when you really want to exercise. But still, I've already made profit\n",
    "    - $p \\leq K e^{-rT}$ is to say that if not, then as the seller of this put option, I can put $K e^{-rT}$ much money in the bank after selling the option and use $K$ much money to buy the stock you hold back if you really want to exercise. But still, I've already made profit$\\\\[0.6em]$\n",
    "    - or using the real strategy, by $\\P{S_T - K}^+ \\leq S_T$ and $\\P{K - S_T}^+ \\leq K$.$\\\\[0.7em]$\n",
    "- Low bound for European call and put options: $c \\geq \\max \\P{S_0 - Ke^{-rT},0}$ and $p \\geq \\max \\P{Ke^{-rT} - S_0,0}$\n",
    "    - The result is obvious, Intuitively. The lower bounds are the value of their final respective payoffs at time $0$. So that the seller will not price them even lower\n",
    "    - $Remark$: at any time if the value of a portfolio is higher than the other one, then it's always higher.\n",
    "    - Or prove them by math, using the real strategies$\\\\[0.6em]$\n",
    "        - A: one European call at $c$ and cash $Ke^{-rT}$; B: one share at $S_0$. At time T, the value of A is $\\P{S_T-K}^+ + K = \\max\\P{S_T,K} \\geq S_T$. Thus at time $0$, $c + Ke^{-rT} \\geq S_0$ and $c \\geq 0$$\\\\[0.5em]$\n",
    "        - A: one European put at $p$ and a share at $S_0$; B: cash $Ke^{-rT}$. At time $T$, blahblahblah$\\\\[0.7em]$\n",
    "- ***Put-call parity***: for call option and put option with same **strike price**, we have:$\\\\[0.6em]$\n",
    "$$c + Ke^{-rT} = p + S_0$$\n",
    "\n",
    "    - Holding a European call is equivalent to holding a European put and a forward:\n",
    "    - At $T$, $\\P{S_T - K}^+ = S_T - K + \\P{K - S_T}^+$ so that at $0$: $c = S_0 - Ke^{-rT} + p$"
   ]
  },
  {
   "cell_type": "markdown",
   "metadata": {},
   "source": [
    "## Properties of American options\n",
    "\n",
    "$Def$\n",
    "\n",
    "$C$ ($P$): Value of American call (put) option at time $0$\n",
    "\n",
    "- Bonds for American call and put options: $\\\\[0.6em]$\n",
    "$$\n",
    "S_0 - Ke^{-rT} \\leq c \\leq C \\leq S_0 \\\\\n",
    "Ke^{-rT} - S_0 \\leq p \\leq P \\leq K $$\n",
    "\n",
    "$Lemma$\n",
    "\n",
    "It is never optimal to exercise an **American call option** on a ***non-dividend-paying stock*** *before* the expiration date.\n",
    "\n",
    "$\\QQQ\\surd$ what's that? Just a stock that never pays dividends or, just at that period, no dividends will be paid.\n",
    "\n",
    "$Proof$\n",
    "\n",
    "> We first build a portfolio, $A$, that is an American call option and cash $K e^{-r\\P{T-0}}$ at time $0$. And $B$, with just $1$ share.\n",
    ">\n",
    ">Now if the American call option is exercised at any time $t$ before the expiration date $T$, $i.e.$, $t < T$, then it's obvious that at that time the value of portfolio $A$ is $Ke^{-r\\P{T-t}} - K$ and one share while $B$ is still with a share.\n",
    ">\n",
    ">And that's not the end, we still need to prove that portfolio $A$'s value is greater than $B$'s at time $t \\geq T$. And that's true, obviously.\n",
    "\n",
    "Alternative $Proof$\n",
    "\n",
    ">We first observe that $S_0 - K < S_0 - K e^{-rT} \\leq c  \\leq C$. Then denote the value of Ameriacn call option at time $t$, $C\\P{t}$, then we can prove that $S_t -K < S_t - K e^{-r\\P{T-t}} \\leq C\\P{t}$\n",
    "\n",
    "And for American put option, since immediate exercise is always possible so that at least, $P \\geq K - S_0$."
   ]
  },
  {
   "cell_type": "markdown",
   "metadata": {},
   "source": [
    "***\n",
    "**Question** \n",
    "\n",
    "Stocks $Y$ and $Z$ have prices $Y_0 = 50$ and $Z_0 = 60$. Option paying $\\max\\P{Y_T , Z_T }$ has $\\texttt{time-}0$ price $75$. Price an option paying $\\min\\P{Y_T , Z_T }$.\n",
    "\n",
    "> First notice that $\\max\\P{Y_T , Z_T } + \\min\\P{Y_T , Z_T } = Y_T - Z_T $, thus at time $0$, we have the equation: $75 + ? = Y_0 + Z_0 = 110$ which imply that $\\min\\P{Y_T , Z_T } = 35$."
   ]
  }
 ],
 "metadata": {
  "kernelspec": {
   "display_name": "Python 3",
   "language": "python",
   "name": "python3"
  },
  "language_info": {
   "codemirror_mode": {
    "name": "ipython",
    "version": 3
   },
   "file_extension": ".py",
   "mimetype": "text/x-python",
   "name": "python",
   "nbconvert_exporter": "python",
   "pygments_lexer": "ipython3",
   "version": "3.5.2"
  },
  "toc": {
   "colors": {
    "hover_highlight": "#DAA520",
    "navigate_num": "#000000",
    "navigate_text": "#333333",
    "running_highlight": "#FF0000",
    "selected_highlight": "#FFD700",
    "sidebar_border": "#EEEEEE",
    "wrapper_background": "#FFFFFF"
   },
   "moveMenuLeft": true,
   "nav_menu": {
    "height": "129px",
    "width": "252px"
   },
   "navigate_menu": true,
   "number_sections": true,
   "sideBar": true,
   "threshold": 4,
   "toc_cell": false,
   "toc_section_display": "block",
   "toc_window_display": false,
   "widenNotebook": false
  }
 },
 "nbformat": 4,
 "nbformat_minor": 2
}
