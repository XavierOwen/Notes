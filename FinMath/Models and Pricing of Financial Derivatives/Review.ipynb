{
 "cells": [
  {
   "cell_type": "markdown",
   "metadata": {},
   "source": [
    "<center style=\"font-size:36px;\">**Review**</center>\n",
    "\n",
    "<center>**程远星**$\\DeclareMathOperator*{\\argmin}{argmin}\n",
    "\\DeclareMathOperator*{\\argmax}{argmax}\n",
    "\\DeclareMathOperator*{\\plim}{plim}\n",
    "\\newcommand{\\using}[1]{\\stackrel{\\mathrm{#1}}{=}}\n",
    "\\newcommand{\\ffrac}{\\displaystyle \\frac}\n",
    "\\newcommand{\\asim}{\\overset{\\text{a}}{\\sim}}\n",
    "\\newcommand{\\space}{\\text{ }}\n",
    "\\newcommand{\\bspace}{\\;\\;\\;\\;}\n",
    "\\newcommand{\\QQQ}{\\boxed{?\\:}}\n",
    "\\newcommand{\\void}{\\left.\\right.}\n",
    "\\newcommand{\\Tran}[1]{{#1}^{\\mathrm{T}}}\n",
    "\\newcommand{\\d}[1]{\\displaystyle{#1}}\n",
    "\\newcommand{\\CB}[1]{\\left\\{ #1 \\right\\}}\n",
    "\\newcommand{\\SB}[1]{\\left[ #1 \\right]}\n",
    "\\newcommand{\\P}[1]{\\left( #1 \\right)}\n",
    "\\newcommand{\\abs}[1]{\\left| #1 \\right|}\n",
    "\\newcommand{\\norm}[1]{\\left\\| #1 \\right\\|}\n",
    "\\newcommand{\\dd}{\\mathrm{d}}\n",
    "\\newcommand{\\Exp}{\\mathrm{E}}\n",
    "\\newcommand{\\RR}{\\mathbb{R}}\n",
    "\\newcommand{\\EE}{\\mathbb{E}}\n",
    "\\newcommand{\\II}{\\mathbb{I}}\n",
    "\\newcommand{\\NN}{\\mathbb{N}}\n",
    "\\newcommand{\\ZZ}{\\mathbb{Z}}\n",
    "\\newcommand{\\QQ}{\\mathbb{Q}}\n",
    "\\newcommand{\\PP}{\\mathbb{P}}\n",
    "\\newcommand{\\AcA}{\\mathcal{A}}\n",
    "\\newcommand{\\FcF}{\\mathcal{F}}\n",
    "\\newcommand{\\AsA}{\\mathscr{A}}\n",
    "\\newcommand{\\FsF}{\\mathscr{F}}\n",
    "\\newcommand{\\Var}[2][\\,\\!]{\\mathrm{Var}_{#1}\\left[#2\\right]}\n",
    "\\newcommand{\\Avar}[2][\\,\\!]{\\mathrm{Avar}_{#1}\\left[#2\\right]}\n",
    "\\newcommand{\\Cov}[2][\\,\\!]{\\mathrm{Cov}_{#1}\\left(#2\\right)}\n",
    "\\newcommand{\\Corr}[2][\\,\\!]{\\mathrm{Corr}_{#1}\\left(#2\\right)}\n",
    "\\newcommand{\\I}[1]{\\mathrm{I}\\left( #1 \\right)}\n",
    "\\newcommand{\\N}[1]{\\mathcal{N} \\left( #1 \\right)}\n",
    "\\newcommand{\\ow}{\\text{otherwise}}\n",
    "\\newcommand{\\FSD}{\\text{FSD}}\n",
    "\\void^\\dagger$</center>"
   ]
  },
  {
   "cell_type": "markdown",
   "metadata": {},
   "source": [
    "## Question 1\n",
    "\n",
    "Let $S_t$ denote the stock price at time $t$. Under the physical (objective) measure $P$, the stock price $S_t$  follows the Black-Schole model given by:\n",
    "\n",
    "$$\\dd S_t = \\mu S_t \\dd t + \\sigma S_t \\dd W_t$$\n",
    "\n",
    "A financial institution plans to offer a security that pays off a dollar amount equal to $S^2_T$ at time $T$.\n",
    "\n",
    "$\\P{1}$ Use the risk-neutral valuation method to derive the pricing formula of the security at time $t$ (in terms of the expectation).\n",
    "\n",
    ">Under risk neutral world this process is a martingale, which could help us find the risk neutral measure (this is a time-continuous world). Under $\\PP$ measure we have:\n",
    ">\n",
    ">$$\\dd \\tilde S_t = \\P{\\mu - r} \\tilde S_t \\dd t + \\sigma \\tilde S_t \\dd W_t$$\n",
    ">\n",
    ">Then transfer to $\\QQ$ measure we find the standard brownian motion $\\widetilde W_t$ under $\\QQ$, so that the drift is $0$, which leads to $\\dd \\tilde S_t = \\sigma \\tilde S_t \\dd \\widetilde W_t$.\n",
    ">\n",
    ">Balence the two equations we have\n",
    ">\n",
    ">$$ \\dd \\widetilde W_t = \\dd W_t + \\ffrac{\\mu - r}{\\sigma}\\dd t $$\n",
    ">\n",
    ">Then using the Girsanov's Theorem, we have\n",
    ">\n",
    ">$$\\left.\\ffrac{\\dd \\QQ}{\\dd \\PP}\\right|_{\\FcF_t} = \\exp\\CB{-\\ffrac{\\mu - r}{\\sigma}W_t - \\ffrac{1}{2} \\P{\\ffrac{\\mu - r}{\\sigma}}^2t }$$\n",
    ">\n",
    ">With $\\QQ$, we now can write\n",
    ">\n",
    ">$$V_t = \\Exp^\\QQ\\SB{e^{-r\\P{T-t}} S_T^2\\mid \\FcF_t} = e^{-r\\P{T-t}}\\Exp^{\\QQ}_t\\SB{S_T^2}$$\n",
    "\n",
    "$\\P{2}$ Under the risk-neutral measure, according to the corresponding stochastic differential equation for $S_t$, solve $S_T$ in terms of $S_t$.\n",
    "\n",
    ">To solve the differential equation under risk-neutral measure, we first write the equation and separate the variables by taking the $\\log$ function:\n",
    ">\n",
    ">$$ \\dd \\tilde S_t = \\sigma \\tilde S_t \\dd \\widetilde W_t \\Longrightarrow \\dd S_t = rS_t\\dd t + \\sigma S_t \\dd \\widetilde W_t \\Longrightarrow\\dd\\log S_t \\using{ \\text{Itô's formula} } \\P{r-\\ffrac{\\sigma^2}{2}}\\dd t + \\sigma \\dd \\widetilde W_t$$\n",
    ">\n",
    ">Take the integral from $t$ to $T$, we have\n",
    ">\n",
    ">$$S_T = S_t \\cdot\\exp\\CB{\\P{r-\\ffrac{\\sigma^2}{2}}\\P{T-t} +\\sigma \\P{\\widetilde W_T-\\widetilde W_t}}$$\n",
    "\n",
    "$\\P{3}$ Assume that the formula $\\Exp^\\PP \\SB{\\exp\\CB{\\alpha W_t}} = \\exp\\CB{\\ffrac{\\alpha^2}{2}t}$ is known and a similar result holds under the risk-neutral measure. According to the derived pricing formula in $\\P{1}$ by making use of $\\P 2$, calculate the price of the security at time $t$.\n",
    "\n",
    "> $$\\begin{align}\n",
    "V_t &= e^{-r\\P{T-t}}\\Exp^{\\QQ}_t\\SB{S_T^2} \\\\\n",
    "&= e^{-r\\P{T-t}}\\Exp^{\\QQ}_t\\SB{\\P{S_t \\cdot\\exp\\CB{\\P{r-\\ffrac{\\sigma^2}{2}}\\P{T-t} +\\sigma \\P{\\widetilde W_T-\\widetilde W_t}}}^2}\\\\\n",
    "&= e^{-r\\P{T-t}}\\Exp^{\\QQ}_t\\SB{S_t^2} \\cdot \\exp\\CB{\\P{2r - \\sigma^2}\\P{T-t}} \\cdot \\Exp_t^\\QQ \\SB{\\exp\\CB{2\\sigma \\P{\\widetilde W_T-\\widetilde W_t}}}\\\\\n",
    "&= \\exp\\CB{\\P{-r + 2r - \\sigma^2 - \\ffrac{4\\sigma^2}{2}}\\P{T-t}}\\cdot S_t^2\\\\\n",
    "&= \\exp\\CB{\\P{r+\\sigma^2}\\P{T-t}}\\cdot S_t^2\n",
    "\\end{align}$$\n",
    "\n",
    "$\\P{4}$ Confirm that your price satisfies the differential equation.\n",
    "\n",
    "$$\\ffrac{\\partial f}{\\partial t} + rS_t\\ffrac{\\partial f}{\\partial S_t} + \\ffrac{1}{2}\\sigma^2S_t^2\\ffrac{\\partial^2 f}{\\partial S_t^2} = rf$$\n",
    "\n",
    ">It's easy to see the result by taking the derivatives term by term, or using the Feynman-Kac formula. First we let $f\\P{t} = V_t$\n",
    ">\n",
    ">The second equation is satisfied since the payoff is $\\Phi\\P{X} = S_T^2 = f\\P{T}$. Then the first equation, since $\\mu_t = rS_t$, $\\sigma_t = \\sigma S_t$, it can't be more obvious."
   ]
  },
  {
   "cell_type": "markdown",
   "metadata": {},
   "source": [
    "## Question 2\n",
    "see HW_04_Question_5 for complete solution. However here we present another method to solve for $h_t$. Still we have the BS equation $\\ffrac{\\partial c}{\\partial t} + \\ffrac{1}{2}\\sigma^2S_t^2\\ffrac{\\partial^2 c}{\\partial S_t^2} + rS_t\\ffrac{\\partial c}{\\partial S_t} - rc = 0$, then substituting $V = h\\P{t,T}S^n$, we have the differential equation\n",
    "\n",
    "$$\\ffrac{\\partial h\\P{t,T}}{\\partial t} + \\ffrac{h\\P{t,T}}{2} \\sigma^2 \\cdot n\\P{n-1} + rh\\P{t,T} \\cdot n-rh\\P{t,T} = 0$$\n",
    "\n",
    "Or, like this: $\\ffrac{h_t}{h} = -r\\P{n-1} - \\ffrac{1}{2}\\sigma^2 n\\P{n-1}$. The solution to this is\n",
    "\n",
    "$$\\ln h = \\P{-r\\P{n-1} - \\ffrac{1}{2}\\sigma^2 n\\P{n-1}} t + k$$\n",
    "\n",
    "since when $t = T$, $\\ln h = 0$ it follows that $k = \\P{r\\P{n-1} + \\ffrac{1}{2}\\sigma^2 n\\P{n-1}}T$ thus\n",
    "\n",
    "$$\\ln h = \\P{r\\P{n-1} + \\ffrac{1}{2}\\sigma^2 n\\P{n-1}}\\P{T-t}$$"
   ]
  },
  {
   "cell_type": "markdown",
   "metadata": {},
   "source": [
    "## Question 4\n",
    "\n",
    "Consider the three-step binomial tree and set $T = 3$, $S_0 = 80$, $u = 1.5$, $d=0.5$, $p_u = 0.6$, $p_d = 0.4$, and for computational simplicity, $r=0$. We consider a European call option on the underlying stock. The date of expiration of the option is $T=3$, and the strike price is $K=80$. Suppose that at time $t = 1$ the stock price has gone up to $120$, and that the market price of the option turns out to be $50.0$. Show explicitly how you can make an arbitrage profit.\n",
    "\n",
    ">Ignore $p_u$ and $p_d$ and things will be easy."
   ]
  },
  {
   "cell_type": "markdown",
   "metadata": {},
   "source": [
    "## Question 5\n",
    "\n",
    "Consider a two-period Cox-Ross-Rubinstein model with $S_0 = 100$, $u = 1.01$, $d = 1/u$, and $r = 0.005$. Find a replicating portfolio in this model for the put option $g\\P{s} = \\P{100-s}^+$\n",
    "\n",
    ">There's no authentic answer for this. So the formulas are presented here\n",
    ">\n",
    ">$$q = \\ffrac{e^{rT}-1/u}{u-1/u} = \\ffrac{ue^{rT}-1}{u^2-1}$$"
   ]
  },
  {
   "cell_type": "markdown",
   "metadata": {},
   "source": [
    "## Question 6\n",
    "\n",
    "Prove directly from the definition of Itô integrals, that\n",
    "\n",
    "$$\\int_0^t s\\;\\dd W_s = tW_t - \\int_0^t W_s\\;\\dd s$$\n",
    "\n",
    ">Split the interval $\\SB{0,t}$ into any $n$ subintervals $[t_j,t_{j+1})$, then we obtain\n",
    ">\n",
    ">$$\\begin{align}\n",
    "\\sum_{j=0}^{n-1} t_j\\P{W_{t_{\\void_{j+1}}} - W_{t_{\\void_j}}}&= \\sum_{j=0}^{n-1} t_j W_{t_{\\void_{j+1}}} - \\sum_{j=0}^{n-1} t_j W_{t_{\\void_{j}}}\\\\\n",
    "&= \\sum_{j=0}^{n-1} \\P{t_j-t_{j+1}+t_{j+1}} W_{t_{\\void_{j+1}}} - \\sum_{j=0}^{n-1} t_j W_{t_{\\void_{j}}}\\\\\n",
    "&= \\sum_{j=0}^{n-1} \\P{t_j-t_{j+1}}W_{t_{\\void_{j+1}}} + \\sum_{j=0}^{n-1} \\P{t_{j+1} W_{t_{\\void_{j+1}}} - t_j W_{t_{\\void_{j}}}}\\\\\n",
    "&= -\\sum_{j=0}^{n-1} \\P{t_{j+1}-t_j}W_{t_{\\void_{j+1}}} + tW_t - 0W_0\n",
    "\\end{align}$$\n",
    ">\n",
    ">Let the *mesh* of this partition tend to zero, we have\n",
    ">\n",
    ">$$\\int_0^t s\\;\\dd W_s = tW_t - \\int_0^t W_s\\;\\dd s$$"
   ]
  },
  {
   "cell_type": "markdown",
   "metadata": {},
   "source": [
    "## Question 7\n",
    "\n",
    "Use Itô's Formula to show that $\\d{\\int_0^t s\\;\\dd W_s = tW_t - \\int_0^t W_s\\;\\dd s}$\n",
    "\n",
    ">An application of Itô's Formula to $tW_t$ gives\n",
    ">\n",
    ">$$\\dd \\P{tW_t}= \\P{W_t + 0 + 0}\\dd t + t \\dd W_t\\Rightarrow tW_t = \\int_0^t s\\;\\dd W_s + \\int_0^t W_s\\;\\dd s$$"
   ]
  },
  {
   "cell_type": "markdown",
   "metadata": {},
   "source": [
    "## Question 8\n",
    "\n",
    "Suppose that $X$ has the stochastic differential $\\dd X\\P t = \\alpha X\\P t\\dd t + \\sigma\\dd W\\P t$ where $X\\P0 = x$ and $\\alpha$ is a real number, compute $\\Exp\\SB{X\\P t}$\n",
    "\n",
    ">Denote $Y_t = X_t e^{-\\alpha t}$ trying to eliminate the alpha in the SDE:\n",
    ">\n",
    ">$$\\begin{align}\n",
    "\\dd Y\\P t &= \\P{-\\alpha\\cdot e^{-\\alpha t}X\\P t + e^{-\\alpha t}\\cdot \\alpha X\\P t+0}\\dd t + \\sigma \\cdot e^{-\\alpha t}\\dd W_t\\\\\n",
    "&= \\sigma \\cdot e^{-\\alpha t}\\dd W_t\\\\\n",
    "\\end{align}$$\n",
    ">\n",
    ">Integral both sides of the equation above, with $Y_0 = x\\cdot e^0 = x$, we have\n",
    ">\n",
    ">$$Y\\P t=x + \\sigma \\int_0^t e^{-\\alpha s}\\;\\dd W_s \\Rightarrow X_t = xe^{\\alpha t} + e^{\\alpha t}\\sigma \\int_0^t e^{-\\alpha s}\\;\\dd W_s$$\n",
    ">\n",
    ">Thus, $\\Exp\\SB{X\\P t} = xe^{\\alpha t}$\n",
    "\n",
    "## Question 8.extended\n",
    "\n",
    "Now what if $\\dd X\\P t = \\alpha X\\P t\\dd t + \\sigma X\\P t\\dd W\\P t$ with same conditions?\n",
    "\n",
    ">Easy to find that using the same method we have this is still $xe^{\\alpha t}$, and here's another method, by directly solve the SDE: given the equation we have\n",
    ">\n",
    ">$$\\dd \\log X\\P t = \\P{\\alpha - \\ffrac{\\sigma^2}{2}}\\dd t + \\sigma \\dd W_t$$\n",
    ">\n",
    ">Take the integral, we have\n",
    ">\n",
    ">$$\\log\\ffrac{X\\P t}{X\\P0} = \\P{\\alpha - \\ffrac{\\sigma^2}{2}}t + \\sigma W_t\\Rightarrow X\\P t = x\\cdot \\exp\\CB{\\P{\\alpha - \\ffrac{\\sigma^2}{2}}t + \\sigma W_t}$$\n",
    ">\n",
    ">$$\\Exp\\SB{X\\P t} = x \\cdot \\exp\\CB{\\P{\\alpha - \\ffrac{\\sigma^2}{2}}t}\\cdot\\exp\\CB{\\ffrac{\\sigma^2}{2}t} = xe^{\\alpha t}$$"
   ]
  },
  {
   "cell_type": "markdown",
   "metadata": {},
   "source": [
    "## Question 9\n",
    "\n",
    "Let $X$ and $Y$ be given as the solutions to the following system of stochastic differential equations\n",
    "\n",
    "$$\\begin{align}\n",
    "\\dd X\\P{t} &= \\alpha X_{t} \\dd t- Y\\P{t} \\dd W\\P{t}, X\\P{0} = x_0\\\\\n",
    "\\dd Y\\P{t} &= \\alpha Y_{t} \\dd t- X\\P{t} \\dd W\\P{t}, Y\\P{0} = y_0\n",
    "\\end{align}$$\n",
    "\n",
    "Prove that the process $R$ defined by $R\\P{t} = X^2 \\P{t} + Y^2 \\P{t}$ is deterministic.\n",
    "\n",
    ">$$\\begin{align}\\dd X^2\\P{t} &= \\P{0+\\alpha X\\P{t} \\cdot 2X\\P{t} + \\ffrac{1}{2}Y^2\\P{t}\\cdot 2}\\dd t-Y\\P{t}\\cdot 2X\\P{t}\\dd W_t\\\\\n",
    "&= 2\\alpha X^2\\P{t} \\dd t + Y^2\\P{t} \\dd t - 2X\\P{t}Y\\P{t} \\dd W_t\\\\\n",
    "\\dd Y^2\\P{t} &= \\P{0+\\alpha Y\\P{t} \\cdot 2X\\P{t} + \\ffrac{1}{2}X^2\\P{t}\\cdot 2}\\dd t+X\\P{t}\\cdot 2Y\\P{t}\\dd W_t\\\\\n",
    "&= 2\\alpha Y^2\\P{t} \\dd t + X^2\\P{t} \\dd t + 2X\\P{t}Y\\P{t} \\dd W_t\\\\\n",
    "\\dd R &= \\P{2\\alpha + 1 }\\P{X^2 \\P{t} + Y^2 \\P{t}}\\dd t = \\P{2\\alpha + 1}R\\dd t\\end{align}$$\n"
   ]
  },
  {
   "cell_type": "markdown",
   "metadata": {},
   "source": [
    "## Question 10\n",
    "\n",
    "Suppose that the stock price today is $S_t = 2.00$, interest rate $r = 0$, and the time to maturity is $3$ months. Consider a contingent claim whose (Black-Scholes) price is given by the function\n",
    "\n",
    "$$V\\P{t,S_t} = S_t^2 e^{2\\P{T-t}}$$\n",
    "\n",
    "where the time is in annual terms.\n",
    "\n",
    "$\\P{\\text a}$ What is the claim price today?\n",
    "\n",
    ">$$V\\P{t,S_t} = S_t^2 e^{2\\P{T-t}} = 2^2 e^{2\\times3/12} = 6.5949$$\n",
    "\n",
    "$\\P{\\text b}$ Find the volatility $\\sigma$\n",
    "\n",
    ">We can use the same way to derive the Black-Scholes-Merton equation, and plug $V$ in we have\n",
    ">\n",
    ">$$\\begin{align}\n",
    "0 &= \\ffrac{\\partial V}{\\partial t} + \\ffrac{1}{2}\\sigma^2S_t^2\\ffrac{\\partial^2 V}{\\partial S_t^2} + rS_t\\ffrac{\\partial V}{\\partial S_t} - rV\\\\\n",
    "&= -2S_t^2 e^{2\\P{T-t}} + \\ffrac{1}{2}\\sigma^2 S_t^2 \\times 2e^{2\\P{T-t}} + 0 - 0\\\\\n",
    "\\sigma^2 &= 2 \\Rightarrow \\sigma = \\sqrt 2\n",
    "\\end{align}$$\n",
    ">\n",
    ">Or using risk neutral valuation, since the terminal payoff is $V\\P{T,S_T} = S_T^2$, we have\n",
    ">\n",
    ">$$\\begin{align}\n",
    "V\\P{t} &= \\Exp_t^\\QQ\\SB{S_T^2 e^{-r\\P{T-t}}}\\\\\n",
    "&= \\Exp_t^\\QQ\\SB{S_T^2}\\\\\n",
    "&= \\Exp_t^\\QQ\\SB{ S_t^2 \\exp\\CB{2\\P{r-\\ffrac{\\sigma^2}{2}}\\P{T-t} + 2\\sigma\\P{W_T-W_t}} }\\\\\n",
    "&= S_t^2 e^{-\\sigma^2\\P{T-t}}\\Exp^\\QQ_t\\SB{e^{2\\sigma\\P{W_T-W_t}}}\\\\\n",
    "&= S_t^2 e^{-\\sigma^2\\P{T-t}}\\exp\\CB{\\ffrac{\\P{2\\sigma}^2}{2}\\P{T-t}}\\\\\n",
    "&= S_t^2 e^{\\sigma^2\\P{T-t}}\n",
    "\\end{align}$$\n",
    ">\n",
    ">Thus, $\\sigma^2 = 2$\n",
    "\n",
    "$\\P{\\text c}$ If the stock at maturity is $S(T) = 2.00$, what is the payoff of the claim at maturity?\n",
    "\n",
    ">$$V\\P{T,S_T} = 2^2 e^0 = 4$$"
   ]
  },
  {
   "cell_type": "markdown",
   "metadata": {},
   "source": [
    "***"
   ]
  },
  {
   "cell_type": "code",
   "execution_count": 1,
   "metadata": {},
   "outputs": [],
   "source": [
    "import math"
   ]
  },
  {
   "cell_type": "code",
   "execution_count": 2,
   "metadata": {},
   "outputs": [
    {
     "data": {
      "text/plain": [
       "6.594885082800513"
      ]
     },
     "execution_count": 2,
     "metadata": {},
     "output_type": "execute_result"
    }
   ],
   "source": [
    "4*math.exp(0.5)"
   ]
  },
  {
   "cell_type": "code",
   "execution_count": null,
   "metadata": {},
   "outputs": [],
   "source": []
  }
 ],
 "metadata": {
  "kernelspec": {
   "display_name": "Python 3",
   "language": "python",
   "name": "python3"
  },
  "language_info": {
   "codemirror_mode": {
    "name": "ipython",
    "version": 3
   },
   "file_extension": ".py",
   "mimetype": "text/x-python",
   "name": "python",
   "nbconvert_exporter": "python",
   "pygments_lexer": "ipython3",
   "version": "3.5.2"
  },
  "toc": {
   "colors": {
    "hover_highlight": "#DAA520",
    "navigate_num": "#000000",
    "navigate_text": "#333333",
    "running_highlight": "#FF0000",
    "selected_highlight": "#FFD700",
    "sidebar_border": "#EEEEEE",
    "wrapper_background": "#FFFFFF"
   },
   "moveMenuLeft": true,
   "nav_menu": {
    "height": "92px",
    "width": "252px"
   },
   "navigate_menu": true,
   "number_sections": true,
   "sideBar": true,
   "threshold": 4,
   "toc_cell": false,
   "toc_section_display": "block",
   "toc_window_display": false,
   "widenNotebook": false
  }
 },
 "nbformat": 4,
 "nbformat_minor": 2
}
