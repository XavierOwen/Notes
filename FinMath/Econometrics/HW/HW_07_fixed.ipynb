{
 "cells": [
  {
   "cell_type": "markdown",
   "metadata": {},
   "source": [
    "# <center>Econometrics HW_07</center>\n",
    "\n",
    "**<center>11510691 程远星$\\DeclareMathOperator*{\\argmin}{argmin}\n",
    "\\DeclareMathOperator*{\\argmax}{argmax}\n",
    "\\DeclareMathOperator*{\\plim}{plim}\n",
    "\\newcommand{\\using}[1]{\\stackrel{\\mathrm{#1}}{=}}\n",
    "\\newcommand{\\ffrac}{\\displaystyle \\frac}\n",
    "\\newcommand{\\asim}{\\overset{\\text{a}}{\\sim}}\n",
    "\\newcommand{\\space}{\\text{ }}\n",
    "\\newcommand{\\bspace}{\\;\\;\\;\\;}\n",
    "\\newcommand{\\QQQ}{\\boxed{?\\:}}\n",
    "\\newcommand{\\void}{\\left.\\right.}\n",
    "\\newcommand{\\Tran}[1]{{#1}^{\\mathrm{T}}}\n",
    "\\newcommand{\\d}[1]{\\displaystyle{#1}}\n",
    "\\newcommand{\\CB}[1]{\\left\\{ #1 \\right\\}}\n",
    "\\newcommand{\\SB}[1]{\\left[ #1 \\right]}\n",
    "\\newcommand{\\P}[1]{\\left( #1 \\right)}\n",
    "\\newcommand{\\abs}[1]{\\left| #1 \\right|}\n",
    "\\newcommand{\\norm}[1]{\\left\\| #1 \\right\\|}\n",
    "\\newcommand{\\dd}{\\mathrm{d}}\n",
    "\\newcommand{\\Exp}{\\mathrm{E}}\n",
    "\\newcommand{\\RR}{\\mathbb{R}}\n",
    "\\newcommand{\\EE}{\\mathbb{E}}\n",
    "\\newcommand{\\NN}{\\mathbb{N}}\n",
    "\\newcommand{\\ZZ}{\\mathbb{Z}}\n",
    "\\newcommand{\\QQ}{\\mathbb{Q}}\n",
    "\\newcommand{\\AcA}{\\mathscr{A}}\n",
    "\\newcommand{\\FcF}{\\mathscr{F}}\n",
    "\\newcommand{\\Var}[2][\\,\\!]{\\mathrm{Var}_{#1}\\left[#2\\right]}\n",
    "\\newcommand{\\Avar}[2][\\,\\!]{\\mathrm{Avar}_{#1}\\left[#2\\right]}\n",
    "\\newcommand{\\Cov}[2][\\,\\!]{\\mathrm{Cov}_{#1}\\left(#2\\right)}\n",
    "\\newcommand{\\Corr}[2][\\,\\!]{\\mathrm{Corr}_{#1}\\left(#2\\right)}\n",
    "\\newcommand{\\I}[1]{\\mathrm{I}\\left( #1 \\right)}\n",
    "\\newcommand{\\N}[1]{\\mathcal{N} \\left( #1 \\right)}\n",
    "\\newcommand{\\ow}{\\text{otherwise}}\n",
    "\\void^\\dagger$</center>**"
   ]
  },
  {
   "cell_type": "markdown",
   "metadata": {},
   "source": [
    "## Question 2\n",
    "\n",
    "$\\P{1}$\n",
    "\n",
    "$\\bspace$Fix all other variables, we have $\\Delta \\log\\P{\\text{bwght}} = -\\beta_{\\text{cigs}}\\Delta \\text{cigs} = -0.0044\\Delta \\text{cigs}$ meaning that the percent change of $\\text{bwght}$ is $-0.0044$ times of the change of $\\text{cigs}$. So for smoking $10$ more per day, we have $\\Delta \\text{cigs} = 10$ and thus we have a $4.4\\%$ lower $\\text{bwght}$.\n",
    "\n",
    "$\\P{2}$\n",
    "\n",
    "$\\bspace$Since the parameter for the dummy variable $\\text{white}$ is $0.055$ we assert that a white baby is to weigh about $5.5\\%$ more than nonwhite baby, holding all other variables fixed. \n",
    "\n",
    "$\\bspace$The $t$-statistic is $55/13 = 4.230769230769231$. Well, big enough for the critical value, so the difference is statistically significant.\n",
    "\n",
    "$\\P{3}$\n",
    "\n",
    "$\\bspace$The $t$-statistic is just $1$. Not statistically significant. If it do increase by one unit, the $\\text{bwght}$ will decrease by $0.3\\%$.\n",
    "\n",
    "$\\P{4}$\n",
    "\n",
    "$\\bspace$The restricted model where $\\text{motheduc} = \\text{fatheduc} = 0$, has less samples meaning that we can't use the result in the first estimation to obtain the $F$ statistic when conducting joint significance test for $\\text{motheduc}$ and $\\text{fatheduc}$. To do so, we need to limit the sample who has the data for $\\text{motheduc}$ and $\\text{fatheduc}$ in the first estimation and redo the estimation with less samples."
   ]
  },
  {
   "cell_type": "markdown",
   "metadata": {},
   "source": [
    "## Question 3\n",
    "\n",
    "$\\P{1}$\n",
    "\n",
    "$\\bspace$Surely there is since the $t$ statistic for $\\text{hsize}^2$ is $2.19/0.53=4.132075471698113$, way more than the critical value. And the optimal $\\text{hsize}$ can be solved by:\n",
    "\n",
    "$$\\text{hsize}^* = \\abs{\\ffrac{19.30} {2\\times2.19}} = 4.4063926940639275$$\n",
    "\n",
    "$\\bspace$And since it's *measured in hundreds*, the optimal size of graduating class is about $441$. \n",
    "\n",
    "$\\P{2}$\n",
    "\n",
    "$\\bspace$The difference between these two groups lies only in their sex so the different, according to the estimated model, is $45.09$. The $t$ statistic for this difference is $-45.09/4.29=-10.510489510489512$ which means that, well, statistically significant.\n",
    "\n",
    "$\\P{3}$\n",
    "\n",
    "$\\bspace$Similarly, we have the difference is $169.81$ and the $t$ statistic is $-169.81/12.71=-\n",
    "13.360346184107001$. So, statistically significant.\n",
    "\n",
    "$\\P{4}$\n",
    "\n",
    "$\\bspace$Now the situation is different in that we have add the last parameter, and their difference is $62.31-169.81=-107.5$. However there's no $t$ statistic for testing the statistical significance. We can change the third composite dummy variable $\\text{female}\\cdot\\text{black}$ to $\\text{male}\\cdot\\text{black}$ then do the estimation again. Done!"
   ]
  },
  {
   "cell_type": "markdown",
   "metadata": {},
   "source": [
    "## Question 8\n",
    "\n",
    "$\\P{1}$\n",
    "\n",
    "$$\\log\\P{\\text{wag}} = \\beta_0 + \\beta_1 \\text{mus} + \\beta_2\\text{edu} + \\beta_3\\text{exp} + \\beta_4\\text{male} + u$$\n",
    "\n",
    "$\\P{2}$\n",
    "\n",
    "$$\\log\\P{\\text{wag}} = \\beta_0 + \\beta_1 \\text{mus} + \\beta_2\\text{edu} + \\beta_3\\text{exp} + \\beta_4\\text{male} + \\beta_5\\text{male}\\cdot\\text{mus} + u$$\n",
    "\n",
    "$\\bspace$Add $\\text{male}\\cdot\\text{mus}$ and things can be done. And $H_0:\\beta_5 = 0$.\n",
    "\n",
    "$\\P{3}$\n",
    "\n",
    "$$\\log\\P{\\text{wag}} = \\beta_0 + \\beta_{11} \\text{lmu} + \\beta_{12} \\text{mmu} + \\beta_{13} \\text{hmu} + \\beta_2\\text{edu} + \\beta_3\\text{exp} + \\beta_4\\text{male} + u$$\n",
    "\n",
    "$\\P{4}$\n",
    "\n",
    "$\\bspace H_0:\\beta_{11} = \\beta_{12} = \\beta_{13} = 0$. Suppose that there're $n$ samples then $df_r = n-4$ and $df_{ur} = n-7$. The $F$ statistic is then \n",
    "\n",
    "$$F = \\ffrac{\\ffrac{\\text{SSR}_r - \\text{SSR}_{ur}} {3}} {\\ffrac{\\text{SSR}_{ur}} {n-7}}$$\n",
    "\n",
    "$\\bspace$And then compare this to the critical value $F_{3,n-7}$. If it's greater than the critical value, then we reject the null hypothesis and claim that the variables indicating the four groups of marijuana user are jointly statistically significant. Otherwise, nothing can we say.\n",
    "\n",
    "$\\P{5}$\n",
    "\n",
    "$\\bspace$How could everyone be so honest that they are drug users, or addicts. So data from the survey will, as far as I can guess, will be far less than the real data, which result in a rather high significance in the model, comparing to the real one."
   ]
  }
 ],
 "metadata": {
  "kernelspec": {
   "display_name": "Python 3",
   "language": "python",
   "name": "python3"
  },
  "language_info": {
   "codemirror_mode": {
    "name": "ipython",
    "version": 3
   },
   "file_extension": ".py",
   "mimetype": "text/x-python",
   "name": "python",
   "nbconvert_exporter": "python",
   "pygments_lexer": "ipython3",
   "version": "3.5.2"
  },
  "toc": {
   "colors": {
    "hover_highlight": "#DAA520",
    "navigate_num": "#000000",
    "navigate_text": "#333333",
    "running_highlight": "#FF0000",
    "selected_highlight": "#FFD700",
    "sidebar_border": "#EEEEEE",
    "wrapper_background": "#FFFFFF"
   },
   "moveMenuLeft": true,
   "nav_menu": {
    "height": "52px",
    "width": "252px"
   },
   "navigate_menu": true,
   "number_sections": true,
   "sideBar": true,
   "threshold": 4,
   "toc_cell": false,
   "toc_section_display": "block",
   "toc_window_display": false,
   "widenNotebook": false
  }
 },
 "nbformat": 4,
 "nbformat_minor": 2
}
