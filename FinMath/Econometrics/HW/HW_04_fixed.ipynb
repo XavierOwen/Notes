{
 "cells": [
  {
   "cell_type": "markdown",
   "metadata": {},
   "source": [
    "# <center>Econometrics HW_01</center>\n",
    "**<center>11510691 程远星$\\DeclareMathOperator*{\\argmin}{argmin}\n",
    "\\newcommand{\\using}[1]{\\stackrel{\\mathrm{#1}}{=}}\n",
    "\\newcommand{\\ffrac}{\\displaystyle \\frac}\n",
    "\\newcommand{\\space}{\\text{ }}\n",
    "\\newcommand{\\bspace}{\\;\\;\\;\\;}\n",
    "\\newcommand{\\QQQ}{\\boxed{?\\:}}\n",
    "\\newcommand{\\void}{\\left.\\right.}\n",
    "\\newcommand{\\CB}[1]{\\left\\{ #1 \\right\\}}\n",
    "\\newcommand{\\SB}[1]{\\left[ #1 \\right]}\n",
    "\\newcommand{\\P}[1]{\\left( #1 \\right)}\n",
    "\\newcommand{\\dd}{\\mathrm{d}}\n",
    "\\newcommand{\\Tran}[1]{{#1}^{\\mathrm{T}}}\n",
    "\\newcommand{\\d}[1]{\\displaystyle{#1}}\n",
    "\\newcommand{\\EE}[2][\\,\\!]{\\mathbb{E}_{#1}\\left[#2\\right]}\n",
    "\\newcommand{\\Var}[2][\\,\\!]{\\mathrm{Var}_{#1}\\left[#2\\right]}\n",
    "\\newcommand{\\Cov}[2][\\,\\!]{\\mathrm{Cov}_{#1}\\left(#2\\right)}\n",
    "\\newcommand{\\Corr}[2][\\,\\!]{\\mathrm{Corr}_{#1}\\left(#2\\right)}\n",
    "\\newcommand{\\I}[1]{\\mathrm{I}\\left( #1 \\right)}\n",
    "\\newcommand{\\N}[1]{\\mathrm{N} \\left( #1 \\right)}\n",
    "\\newcommand{\\ow}{\\text{otherwise}}$</center>**"
   ]
  },
  {
   "cell_type": "markdown",
   "metadata": {},
   "source": [
    "## Question 1\n",
    "\n",
    "$\\P{1}$\n",
    "\n",
    "$\\bspace\\begin{cases}\n",
    "H_0: \\beta_3 = 0, & \\text{null hypothesis} \\\\\n",
    "H_1: \\beta_3 \\neq 0, & \\text{alternative hypothesis}\n",
    "\\end{cases}$\n",
    "\n",
    "$\\P{2}$\n",
    "\n",
    "$\\bspace$Intuitively they should be positive. Because larger population will cause an increse in the demand of housing, or more specificly, rental since it's a college town. Moreover, when the average income is higher, it's nature to predict that rental market will adjust itself to a higher rent, thus $\\beta_1$ and $\\beta_2$ are both positive.\n",
    "\n",
    "$\\P{3}$\n",
    "\n",
    "$\\bspace$It's wrong since the coefficient for $\\texttt{population}$ is an elasticity rather a normal slope parameter.\n",
    "\n",
    "$\\P{4}$\n",
    "\n",
    "$\\bspace$Referring the probability table with $\\texttt{df} = 60$ and $1\\%$ confidence level, the critical value is $2.660$. Then the $\\texttt{t-}$statistics is:\n",
    "\n",
    "$$t = \\ffrac{\\hat\\beta_3} {\\text{se}\\P{\\hat\\beta_3}} = \\ffrac{0.0056} {0.0017}=3.2941$$\n",
    "\n",
    "$\\bspace$way higher than the critical value, thus conclusion can be drawn that slope parameter $\\beta_3$ is statistically different from $0$ at $1\\%$ confidence level."
   ]
  },
  {
   "cell_type": "markdown",
   "metadata": {},
   "source": [
    "## Question 2\n",
    "\n",
    "$\\P{1}$\n",
    "\n",
    "$$\\begin{align}\n",
    "\\Var{\\hat\\beta_1 - 3 \\hat\\beta_2} &= \\Cov{\\hat\\beta_1,\\hat\\beta_1} + \\P{-3}^2 \\Cov{\\hat\\beta_2,\\hat\\beta_2} -3 \\Cov{\\hat\\beta_1,\\hat\\beta_2} -3 \\Cov{\\hat\\beta_1,\\hat\\beta_2}\\\\\n",
    "&= \\Var{\\hat\\beta_1} + 9\\Var{\\hat\\beta_2} -6 \\Cov{\\hat\\beta_1,\\hat\\beta_2}\n",
    "\\end{align}$$\n",
    "\n",
    "$\\P{2}$\n",
    "\n",
    "$$t = \\ffrac{\\hat\\beta_1 - 3\\hat\\beta_2 -  1} {\\text{se}\\P{\\hat\\beta_1 - 3\\hat\\beta_2}} = \\ffrac{\\hat\\beta_1 - 3\\hat\\beta_2 -  1} {\\sqrt{\\P{\\text{se}\\P{\\hat\\beta_1}^2} + 9\\P{\\text{se}\\P{\\hat\\beta_2}^2} - 6\\widehat{\\text{Cov}}\\P{\\hat\\beta_1, \\hat\\beta_2}}}$$\n",
    "\n",
    "$\\P{3}$\n",
    "\n",
    "$$\\begin{align}\n",
    "y &= \\beta_0 + \\P{\\theta_1 + 3 \\beta_2} x_1 + \\beta_2 x_2 + \\beta_3 x_3 + u \\\\\n",
    "&= \\beta_0 + \\theta_1 x_1 + \\beta_2 \\P{x_2 + 3x_1} + \\beta_3 x_3 + u \\\\\n",
    "\\end{align}$$"
   ]
  },
  {
   "cell_type": "markdown",
   "metadata": {},
   "source": [
    "## Question 3\n",
    "\n",
    "$\\P{1}$\n",
    "\n",
    "$\\bspace$We first refer to the statistic table and find the critical value of $\\text{df} = 120$ (closet one to $n = 142-4-1 = 137$) and $5\\%$ confidence level, it's 2.45. Then the $\\texttt{F-}$value is:\n",
    "\n",
    "$$F = \\ffrac{\\ffrac{R^2} {k}} {\\ffrac{1-R^2} {n-k-1}}=1.409$$\n",
    "\n",
    "$\\bspace$way less than the critical value, so that we fail to reject the null hypothesis, can't tell anything. Also, \n",
    "\n",
    "$$t_1 = \\ffrac{\\hat\\beta_1} {\\text{se}\\P{\\hat\\beta_1}} = \\ffrac{0.321} {0.201}=1.597\\\\\n",
    "t_2 = \\ffrac{\\hat\\beta_2} {\\text{se}\\P{\\hat\\beta_2}} = \\ffrac{0.043} {0.078}=0.551\\\\\n",
    "t_3 = \\ffrac{\\hat\\beta_3} {\\text{se}\\P{\\hat\\beta_3}} = \\ffrac{0.0051} {0.0047}=1.085\\\\\n",
    "t_4 = \\ffrac{\\hat\\beta_4} {\\text{se}\\P{\\hat\\beta_4}} = \\ffrac{0.0035} {0.0022}=1.591$$\n",
    "\n",
    "$\\bspace$no explanatory variable is individually significant at $5\\%$ confidence level since the one with biggest statistic is still less than $1.980$ from the statistic table of $5\\%$ confidence level and $120$ degree of freedom, two-sided.\n",
    "\n",
    "$\\P{2}$\n",
    "\n",
    "$\\bspace$Use the similar method we can find that $F = 1.169$. Boo-Nah... No changes from the previous conclusion.\n",
    "\n",
    "$\\P{3}$\n",
    "\n",
    "$\\bspace$There'll be error when we try to find the value of $\\log\\P{\\texttt{dkr}}$! It's out of log functions' domain.\n",
    "\n",
    "$\\P{4}$\n",
    "\n",
    "$\\bspace$Weak.\n",
    "\n",
    "- At $5\\%$ confidency level, no individual variables is significant, jointly as well\n",
    "- Low $R^2$ meaning that the variance of the dependent variable almost can't be explained by the independent variables"
   ]
  }
 ],
 "metadata": {
  "kernelspec": {
   "display_name": "Python 3",
   "language": "python",
   "name": "python3"
  },
  "language_info": {
   "codemirror_mode": {
    "name": "ipython",
    "version": 3
   },
   "file_extension": ".py",
   "mimetype": "text/x-python",
   "name": "python",
   "nbconvert_exporter": "python",
   "pygments_lexer": "ipython3",
   "version": "3.5.2"
  },
  "toc": {
   "colors": {
    "hover_highlight": "#DAA520",
    "navigate_num": "#000000",
    "navigate_text": "#333333",
    "running_highlight": "#FF0000",
    "selected_highlight": "#FFD700",
    "sidebar_border": "#EEEEEE",
    "wrapper_background": "#FFFFFF"
   },
   "moveMenuLeft": true,
   "nav_menu": {
    "height": "12px",
    "width": "252px"
   },
   "navigate_menu": true,
   "number_sections": true,
   "sideBar": true,
   "threshold": 4,
   "toc_cell": false,
   "toc_section_display": "block",
   "toc_window_display": false,
   "widenNotebook": false
  }
 },
 "nbformat": 4,
 "nbformat_minor": 2
}
