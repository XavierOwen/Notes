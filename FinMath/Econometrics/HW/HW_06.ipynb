{
 "cells": [
  {
   "cell_type": "markdown",
   "metadata": {},
   "source": [
    "# <center>Econometrics HW_06</center>\n",
    "\n",
    "**<center>11510691 程远星$\\DeclareMathOperator*{\\argmin}{argmin}\n",
    "\\DeclareMathOperator*{\\argmax}{argmax}\n",
    "\\DeclareMathOperator*{\\plim}{plim}\n",
    "\\newcommand{\\using}[1]{\\stackrel{\\mathrm{#1}}{=}}\n",
    "\\newcommand{\\ffrac}{\\displaystyle \\frac}\n",
    "\\newcommand{\\asim}{\\overset{\\text{a}}{\\sim}}\n",
    "\\newcommand{\\space}{\\text{ }}\n",
    "\\newcommand{\\bspace}{\\;\\;\\;\\;}\n",
    "\\newcommand{\\QQQ}{\\boxed{?\\:}}\n",
    "\\newcommand{\\void}{\\left.\\right.}\n",
    "\\newcommand{\\Tran}[1]{{#1}^{\\mathrm{T}}}\n",
    "\\newcommand{\\d}[1]{\\displaystyle{#1}}\n",
    "\\newcommand{\\CB}[1]{\\left\\{ #1 \\right\\}}\n",
    "\\newcommand{\\SB}[1]{\\left[ #1 \\right]}\n",
    "\\newcommand{\\P}[1]{\\left( #1 \\right)}\n",
    "\\newcommand{\\abs}[1]{\\left| #1 \\right|}\n",
    "\\newcommand{\\norm}[1]{\\left\\| #1 \\right\\|}\n",
    "\\newcommand{\\dd}{\\mathrm{d}}\n",
    "\\newcommand{\\Exp}{\\mathrm{E}}\n",
    "\\newcommand{\\RR}{\\mathbb{R}}\n",
    "\\newcommand{\\EE}{\\mathbb{E}}\n",
    "\\newcommand{\\NN}{\\mathbb{N}}\n",
    "\\newcommand{\\ZZ}{\\mathbb{Z}}\n",
    "\\newcommand{\\QQ}{\\mathbb{Q}}\n",
    "\\newcommand{\\AcA}{\\mathscr{A}}\n",
    "\\newcommand{\\FcF}{\\mathscr{F}}\n",
    "\\newcommand{\\Var}[2][\\,\\!]{\\mathrm{Var}_{#1}\\left[#2\\right]}\n",
    "\\newcommand{\\Avar}[2][\\,\\!]{\\mathrm{Avar}_{#1}\\left[#2\\right]}\n",
    "\\newcommand{\\Cov}[2][\\,\\!]{\\mathrm{Cov}_{#1}\\left(#2\\right)}\n",
    "\\newcommand{\\Corr}[2][\\,\\!]{\\mathrm{Corr}_{#1}\\left(#2\\right)}\n",
    "\\newcommand{\\I}[1]{\\mathrm{I}\\left( #1 \\right)}\n",
    "\\newcommand{\\N}[1]{\\mathcal{N} \\left( #1 \\right)}\n",
    "\\newcommand{\\ow}{\\text{otherwise}}\n",
    "\\void^\\dagger$</center>**"
   ]
  },
  {
   "cell_type": "markdown",
   "metadata": {},
   "source": [
    "## Question 6.3\n",
    "\n",
    "$\\P{1}$\n",
    "\n",
    "$\\bspace$The turning point is computed as\n",
    "\n",
    "$$x^* = \\abs{\\ffrac{\\hat\\beta_1} {2\\hat\\beta_2}} = \\abs{\\ffrac{0.00030} {0.00000000140}} = 21428.571428571428$$\n",
    "\n",
    "$\\P{2}$\n",
    "\n",
    "$\\bspace$After rescaling things would be different, so we'd better look into its $t$ statistics:\n",
    "\n",
    "$$t = -\\ffrac{70} {37} = -1.89189189$$\n",
    "\n",
    "$\\bspace$so for test with $H_1: \\beta_1 < 0$ we are $95\\%$ confident that $H_1$ is true. So I choose to keep that parameter.\n",
    "\n",
    "$\\P{3,4}$\n",
    "\n",
    "$\\bspace$If we rescale the $\\text{sales}$ to its $1000$ times, the new estimated model would be\n",
    "\n",
    "$$\\begin{array}{llll}\n",
    "\\widehat{\\text{rdinterns}} =& \\!\\!\\!\\!2.613\\; + &\\!\\!\\!\\!0.30\\cdot\\text{salesbil}\\; - &\\!\\!\\!\\! 0.0070 \\cdot \\text{salesbil}^2 \\\\\n",
    "&\\!\\!\\!\\!\\P{0.429} & \\!\\!\\!\\!\\P{0.14} & \\!\\!\\!\\!\\P{0.0037}\n",
    "\\end{array} \\\\[1.5em]\n",
    "n = 32, R^2 = 0.1484$$\n",
    "\n",
    "$\\bspace$I prefer the new one because in this scale few computation errors will happen during calculation by computers."
   ]
  },
  {
   "cell_type": "markdown",
   "metadata": {},
   "source": [
    "## Question 6.4\n",
    "\n",
    "$\\P{1}$\n",
    "\n",
    "$\\bspace$It's obvious that if holding all factors fixed except $\\text{educ}$ we have\n",
    "\n",
    "$$\\P{\\Delta \\log\\P{\\text{wage}}}=\\beta_1 \\Delta \\text{educ} + \\beta_2\\P{\\Delta\\text{educ}}\\cdot \\text{pareduc}$$\n",
    "\n",
    "so that $\\ffrac{\\Delta\\log\\P{\\text{wage}}} {\\Delta\\log\\P{\\text{educ}}} = \\beta_1 + \\beta_2 \\cdot \\text{pareduc}$\n",
    "\n",
    "$\\bspace$As for the sign of $\\beta_2$, I would say it's positive, at least it's another year of education. How come it's negative😕😕😕?\n",
    "\n",
    "$\\P{2}$\n",
    "\n",
    "$\\bspace$The positive coefficient indicates a positive effect of $\\text{pareduc}\\cdot\\text{educ}$. For $\\text{pareduc} = 32,24$, their difference in estimated return to $\\text{educ}$ is $0.00078\\P{32-24} = 0.00624$.\n",
    "\n",
    "$\\P{3}$\n",
    "\n",
    "$\\bspace$The estimate model is presented in our textbook. There, the $t$ statistic for $\\text{pareduc}\\cdot\\text{educ}$ is\n",
    "\n",
    "$$t = -\\ffrac{0.016} {0.012} = -1.33$$\n",
    "\n",
    "$\\bspace$which is not statistically significant at $10\\%$ confident level. So we cann't make a conclusion on whether the return to $\\text{educ}$ depends positively on parent education or not."
   ]
  },
  {
   "cell_type": "markdown",
   "metadata": {},
   "source": [
    "## Question 6.8\n",
    "\n",
    "$\\P{1}$\n",
    "\n",
    "$\\bspace$Adding $\\text{attend}$ to our model, then we are measuring the effect with attendance fixed. But I don't think that's the usual case. If we leave it out, then the parameter is measuring the $\\text{alcohol}$ effects on $\\text{colGPA}$, whether attending or not.\n",
    "\n",
    "$\\P{2}$\n",
    "\n",
    "$\\bspace$These data are not hard to obtained and can be a reflection on their high school performance. So, putting them in the model is like adding the cherry on a cake. I am for it."
   ]
  }
 ],
 "metadata": {
  "kernelspec": {
   "display_name": "Python 3",
   "language": "python",
   "name": "python3"
  },
  "language_info": {
   "codemirror_mode": {
    "name": "ipython",
    "version": 3
   },
   "file_extension": ".py",
   "mimetype": "text/x-python",
   "name": "python",
   "nbconvert_exporter": "python",
   "pygments_lexer": "ipython3",
   "version": "3.5.2"
  },
  "toc": {
   "colors": {
    "hover_highlight": "#DAA520",
    "navigate_num": "#000000",
    "navigate_text": "#333333",
    "running_highlight": "#FF0000",
    "selected_highlight": "#FFD700",
    "sidebar_border": "#EEEEEE",
    "wrapper_background": "#FFFFFF"
   },
   "moveMenuLeft": true,
   "nav_menu": {
    "height": "52px",
    "width": "252px"
   },
   "navigate_menu": true,
   "number_sections": true,
   "sideBar": true,
   "threshold": 4,
   "toc_cell": false,
   "toc_section_display": "block",
   "toc_window_display": false,
   "widenNotebook": false
  }
 },
 "nbformat": 4,
 "nbformat_minor": 2
}
