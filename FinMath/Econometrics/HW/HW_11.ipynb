{
 "cells": [
  {
   "cell_type": "markdown",
   "metadata": {},
   "source": [
    "# <center>Econometrics HW_11</center>\n",
    "\n",
    "**<center>11510691 程远星$\\DeclareMathOperator*{\\argmin}{argmin}\n",
    "\\DeclareMathOperator*{\\argmax}{argmax}\n",
    "\\DeclareMathOperator*{\\plim}{plim}\n",
    "\\newcommand{\\ffrac}{\\displaystyle \\frac}\n",
    "\\newcommand{\\d}[1]{\\displaystyle{#1}}\n",
    "\\newcommand{\\space}{\\text{ }}\n",
    "\\newcommand{\\bspace}{\\;\\;\\;\\;}\n",
    "\\newcommand{\\bbspace}{\\;\\;\\;\\;\\;\\;\\;\\;}\n",
    "\\newcommand{\\QQQ}{\\boxed{?\\:}}\n",
    "\\newcommand{\\void}{\\left.\\right.}\n",
    "\\newcommand{\\Tran}[1]{{#1}^{\\mathrm{T}}}\n",
    "\\newcommand{\\CB}[1]{\\left\\{ #1 \\right\\}}\n",
    "\\newcommand{\\SB}[1]{\\left[ #1 \\right]}\n",
    "\\newcommand{\\P}[1]{\\left( #1 \\right)}\n",
    "\\newcommand{\\abs}[1]{\\left| #1 \\right|}\n",
    "\\newcommand{\\norm}[1]{\\left\\| #1 \\right\\|}\n",
    "\\newcommand{\\given}[1]{\\left. #1 \\right|}\n",
    "\\newcommand{\\using}[1]{\\stackrel{\\mathrm{#1}}{=}}\n",
    "\\newcommand{\\asim}{\\overset{\\text{a}}{\\sim}}\n",
    "\\newcommand{\\RR}{\\mathbb{R}}\n",
    "\\newcommand{\\EE}{\\mathbb{E}}\n",
    "\\newcommand{\\II}{\\mathbb{I}}\n",
    "\\newcommand{\\NN}{\\mathbb{N}}\n",
    "\\newcommand{\\ZZ}{\\mathbb{Z}}\n",
    "\\newcommand{\\QQ}{\\mathbb{Q}}\n",
    "\\newcommand{\\PP}{\\mathbb{P}}\n",
    "\\newcommand{\\AcA}{\\mathcal{A}}\n",
    "\\newcommand{\\FcF}{\\mathcal{F}}\n",
    "\\newcommand{\\AsA}{\\mathscr{A}}\n",
    "\\newcommand{\\FsF}{\\mathscr{F}}\n",
    "\\newcommand{\\dd}{\\mathrm{d}}\n",
    "\\newcommand{\\I}[1]{\\mathrm{I}\\left( #1 \\right)}\n",
    "\\newcommand{\\N}[1]{\\mathcal{N}\\left( #1 \\right)}\n",
    "\\newcommand{\\Exp}[1]{\\mathrm{E}\\left[ #1 \\right]}\n",
    "\\newcommand{\\Var}[1]{\\mathrm{Var}\\left[ #1 \\right]}\n",
    "\\newcommand{\\Avar}[1]{\\mathrm{Avar}\\left[ #1 \\right]}\n",
    "\\newcommand{\\Cov}[1]{\\mathrm{Cov}\\left( #1 \\right)}\n",
    "\\newcommand{\\Corr}[1]{\\mathrm{Corr}\\left( #1 \\right)}\n",
    "\\newcommand{\\ExpH}{\\mathrm{E}}\n",
    "\\newcommand{\\VarH}{\\mathrm{Var}}\n",
    "\\newcommand{\\AVarH}{\\mathrm{Avar}}\n",
    "\\newcommand{\\CovH}{\\mathrm{Cov}}\n",
    "\\newcommand{\\CorrH}{\\mathrm{Corr}}\n",
    "\\newcommand{\\ow}{\\text{otherwise}}\n",
    "\\newcommand{\\wp}{\\text{with probability }}\n",
    "\\newcommand{\\FSD}{\\text{FSD}}\n",
    "\\newcommand{\\SSD}{\\text{SSD}}$</center>**\n"
   ]
  },
  {
   "cell_type": "markdown",
   "metadata": {},
   "source": [
    "## Question 14.3\n",
    "\n",
    "$\\P{\\text i}$\n",
    "\n",
    "$\\bspace \\forall \\, t$, $\\Exp{v_{it}} = 0 \\Rightarrow \\Exp{e_{it}} = \\Exp{v_{it} - \\theta \\bar v_i} = 0 - \\theta \\cdot \\Exp{\\bar v_i} = 0$\n",
    "\n",
    "$\\P{\\text{ii}}$\n",
    "\n",
    "$$\\begin{align}\n",
    "\\Var{e_{it}} &= \\Var{v_{it} - \\theta \\cdot \\bar v_i}\\\\\n",
    "&= \\Var{v_{it}} + \\theta^2 \\cdot\\Var{\\bar v_i} - 2\\theta \\cdot \\Cov{v_{it},\\bar v_i}\\\\\n",
    "&= \\Var{a_i} + \\Var{u_{it}} + \\theta^2 \\cdot\\P{\\Var{a_i} + \\Var{\\bar u_i}} - 2\\theta \\cdot \\Cov{a_i + u_{it},a_i + \\bar u_i}\\\\\n",
    "&= \\sigma_a^2 + \\sigma_u^2 + \\theta^2\\P{\\sigma_a^2 + \\ffrac{\\sigma_u^2}{T}} - 2\\theta \\P{\\sigma_a^2 + \\ffrac{\\sigma_u^2}{T}}\\\\\n",
    "&= \\sigma_a^2 + \\sigma_u^2 + \\P{1 + \\ffrac{\\sigma_u^2}{\\sigma_u^2 + T\\sigma_a^2} - 2\\sqrt{\\ffrac{\\sigma_u^2}{\\sigma_u^2 + T\\sigma_a^2}}}\\P{\\sigma_a^2 + \\ffrac{\\sigma_u^2}{T}} - 2\\P{1 - \\sqrt{\\ffrac{\\sigma_u^2}{\\sigma_u^2 + T\\sigma_a^2}}} \\P{\\sigma_a^2 + \\ffrac{\\sigma_u^2}{T}}\\\\\n",
    "&= \\sigma_u^2\n",
    "\\end{align}$$\n",
    "\n",
    "$\\P{\\text{iii}}$\n",
    "\n",
    "$$\\begin{align}\n",
    "\\Cov{e_{it},e_{is}}&= \\Cov{v_{it}-\\theta\\bar v_i,v_{is}-\\theta\\bar v_i}\\\\\n",
    "&= \\Exp{e_{it}\\cdot e_{is}} - \\Exp{e_{it}}\\cdot \\Exp{e_{is}}\\\\\n",
    "&= \\Exp{e_{it}\\cdot e_{is}}\\\\\n",
    "&= \\Exp{v_{it}\\cdot v_{is}} - \\lambda \\P{\\Exp{\\bar v_i \\cdot v_{is}} + \\Exp{v_{it} \\cdot \\bar v_i}} + \\lambda^2 \\Exp{\\bar v_i^2}\\\\\n",
    "&= \\sigma_a^2 - 2\\theta \\P{\\sigma_a^2 + \\ffrac{\\sigma_u^2}{T}} + \\theta^2\\P{\\sigma_a^2 + \\ffrac{\\sigma_u^2}{T}}\\\\\n",
    "&= \\sigma_a^2 - \\sigma_a^2 = 0,\\bspace t \\neq s\n",
    "\\end{align}$$"
   ]
  },
  {
   "cell_type": "markdown",
   "metadata": {},
   "source": [
    "***"
   ]
  }
 ],
 "metadata": {
  "kernelspec": {
   "display_name": "Python 3",
   "language": "python",
   "name": "python3"
  },
  "language_info": {
   "codemirror_mode": {
    "name": "ipython",
    "version": 3
   },
   "file_extension": ".py",
   "mimetype": "text/x-python",
   "name": "python",
   "nbconvert_exporter": "python",
   "pygments_lexer": "ipython3",
   "version": "3.5.2"
  },
  "toc": {
   "colors": {
    "hover_highlight": "#DAA520",
    "navigate_num": "#000000",
    "navigate_text": "#333333",
    "running_highlight": "#FF0000",
    "selected_highlight": "#FFD700",
    "sidebar_border": "#EEEEEE",
    "wrapper_background": "#FFFFFF"
   },
   "moveMenuLeft": true,
   "nav_menu": {
    "height": "32px",
    "width": "252px"
   },
   "navigate_menu": true,
   "number_sections": true,
   "sideBar": true,
   "threshold": 4,
   "toc_cell": false,
   "toc_section_display": "block",
   "toc_window_display": false,
   "widenNotebook": false
  }
 },
 "nbformat": 4,
 "nbformat_minor": 2
}
