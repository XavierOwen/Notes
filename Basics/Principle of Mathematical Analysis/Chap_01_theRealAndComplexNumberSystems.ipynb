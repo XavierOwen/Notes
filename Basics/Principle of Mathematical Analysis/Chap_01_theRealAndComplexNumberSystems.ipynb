{
 "cells": [
  {
   "cell_type": "markdown",
   "metadata": {},
   "source": [
    "# The Real and Complex Number Systems\n",
    "\n",
    "<small>Xavier$\\DeclareMathOperator*{\\argmin}{argmin}\n",
    "\\DeclareMathOperator*{\\argmax}{argmax}\n",
    "\\DeclareMathOperator*{\\plim}{plim}\n",
    "\\newcommand{\\space}{\\;\\;}\n",
    "\\newcommand{\\bspace}{\\;\\;\\;\\;}\n",
    "\\newcommand{\\Bspace}{\\;\\;\\;\\;\\;\\;}\n",
    "\\newcommand{\\bbspace}{\\;\\;\\;\\;\\;\\;\\;\\;}\n",
    "\\newcommand{\\BBspace}{\\;\\;\\;\\;\\;\\;\\;\\;\\;\\;}\n",
    "\\newcommand{\\QQQ}{\\boxed{?\\:}}\n",
    "\\newcommand{\\void}{\\left.\\right.}\n",
    "\\newcommand{\\myEmphy}[2][#880015]{\\color{#1}{#2}}\n",
    "\\newcommand{\\myEmphyQ}{\\color{#880015}}\n",
    "\\newcommand{\\myBox}[2][9px, border:2px solid #880015]{\\bbox[#1]{#2}}\n",
    "\\newcommand{\\myBoxQ}{\\bbox[9px, border:2px solid #880015]}\n",
    "\\newcommand{\\ffrac}[2]{\\displaystyle{\\frac{#1}{#2}}}\n",
    "\\newcommand{\\d}[1]{\\displaystyle{#1}}\n",
    "\\newcommand{\\Tran}[1]{{#1}^{\\mathrm{T}}}\n",
    "\\newcommand{\\CB}[1]{\\left\\{ #1 \\right\\}}\n",
    "\\newcommand{\\SB}[1]{\\left[ #1 \\right]}\n",
    "\\newcommand{\\Pare}[1]{\\left( #1 \\right)}\n",
    "\\newcommand{\\abs}[1]{\\left| #1 \\right|}\n",
    "\\newcommand{\\norm}[1]{\\left\\| #1 \\right\\|}\n",
    "\\newcommand{\\refs}[1]{\\tag{#1}\\label{#1}}\n",
    "\\newcommand{\\given}[1]{\\left. #1 \\right|}\n",
    "\\newcommand{\\using}[1]{\\stackrel{\\mathrm{#1}}{=}}\n",
    "\\newcommand{\\asim}{\\overset{\\text{a}}{\\sim}}\n",
    "\\newcommand{\\RR}{\\mathbb{R}}\n",
    "\\newcommand{\\EE}{\\mathbb{E}}\n",
    "\\newcommand{\\II}{\\mathbb{I}}\n",
    "\\newcommand{\\NN}{\\mathbb{N}}\n",
    "\\newcommand{\\ZZ}{\\mathbb{Z}}\n",
    "\\newcommand{\\QQ}{\\mathbb{Q}}\n",
    "\\newcommand{\\PP}{\\mathbb{P}}\n",
    "\\newcommand{\\AcA}{\\mathcal{A}}\n",
    "\\newcommand{\\FcF}{\\mathcal{F}}\n",
    "\\newcommand{\\AsA}{\\mathscr{A}}\n",
    "\\newcommand{\\FsF}{\\mathscr{F}}\n",
    "\\newcommand{\\dd}{\\mathrm{d}}\n",
    "\\newcommand{\\I}[1]{\\mathrm{I}\\left( #1 \\right)}\n",
    "\\newcommand{\\N}[1]{\\mathcal{N}\\left( #1 \\right)}\n",
    "\\newcommand{\\Exp}[1]{\\mathrm{E}\\left[ #1 \\right]}\n",
    "\\newcommand{\\Var}[1]{\\mathrm{Var}\\left[ #1 \\right]}\n",
    "\\newcommand{\\Avar}[1]{\\mathrm{Avar}\\left[ #1 \\right]}\n",
    "\\newcommand{\\Cov}[1]{\\mathrm{Cov}\\left( #1 \\right)}\n",
    "\\newcommand{\\Corr}[1]{\\mathrm{Corr}\\left( #1 \\right)}\n",
    "\\newcommand{\\ExpH}{\\mathrm{E}}\n",
    "\\newcommand{\\VarH}{\\mathrm{Var}}\n",
    "\\newcommand{\\AVarH}{\\mathrm{Avar}}\n",
    "\\newcommand{\\CovH}{\\mathrm{Cov}}\n",
    "\\newcommand{\\CorrH}{\\mathrm{Corr}}\n",
    "\\newcommand{\\ow}{\\text{otherwise}}\n",
    "\\newcommand{\\wp}{\\text{with probability }}\n",
    "\\newcommand{\\FSD}{\\text{FSD}}\n",
    "\\newcommand{\\SSD}{\\text{SSD}}^\\dagger$ at 181016</small>\n",
    "\n",
    "## Intro\n",
    "\n",
    "We need an accurately defined number concept. **Rational number** system is *inadequate*, not a field, not an ordered set.\n",
    "\n",
    "> There's no rational $p$ such that $p^2=2$.\n",
    "\n",
    "Thus we have **irrational numbers**.\n",
    "\n",
    "- often written as infinite decimal expansions\n",
    "- considered to be \"approximated\" by the corresponding finite decimals\n",
    "\n",
    "**e.g.1**\n",
    "\n",
    "Show equation\n",
    "\n",
    "$$p^2=2\\tag{1}\\label{1}$$\n",
    "\n",
    "is not satisfied by any rational $p$.\n",
    "\n",
    "**Proof**\n",
    "\n",
    ">Write $p=m/n$ where $m$ and $n$ are integers that are not both even, since $p$ is rational. Thus we have\n",
    ">\n",
    ">$$m^2 = 2n^2$$\n",
    ">\n",
    ">Thus $m^2$ must be even and so is $m$. So $4\\mid 2n^2 \\Rightarrow 2\\mid n^2$. Similarly, $n$ is even, which is contrary to our choice of $m$ and $n$. Thus $\\Pare{\\ref{1}}$ is impossible.\n",
    "\n",
    "***"
   ]
  },
  {
   "cell_type": "markdown",
   "metadata": {},
   "source": [
    "Let's go deeper. Suppose $A$ is the set of all *positive* rationals $p$ such that $p^2<2$ and suppose $B$ consist of all *positive* rationals $p$ such that $p^2>2$. Now we show that ***$A$ contains no largest number and $B$ contains no smallest***.\n",
    "\n",
    "Out strategy is to prove that: ***for every $p$ in $A$ we can find a rational $q$ in $A$ such that $p<q$ and for every $p$ in $B$ we can find a rational $q$ such that $q<p$***.\n",
    "\n",
    ">We associate with each rational $p>0$ the number\n",
    ">\n",
    ">$$q = p - \\dfrac{p^2-2}{p+2} = \\dfrac{2p+2}{p+2}\\tag{2}\\label{2}$$\n",
    ">\n",
    ">Then\n",
    ">\n",
    ">$$q^2-2 = \\dfrac{2\\Pare{p^2-2}}{\\Pare{p+2}^2}\\tag{3}\\label{3}$$\n",
    ">\n",
    ">If $p$ is in $A$ then $p^2-2<0$. $\\eqref{2}$ shows that $q>p$, and $\\Pare{\\ref{3}}$ shows that $q^2<2$. Thus $q$ is in $A$.\n",
    ">\n",
    ">If $p$ is in $B$ then $p^2-2>0$. $\\Pare{\\ref{2}}$ shows that $0<q<p$, and $\\Pare{\\ref{3}}$ shows that $q^2>2$. Thus $q$ is in $B$.\n",
    "\n",
    "$Remark$\n",
    "\n",
    "The above discussion is to show that the **rational number system** has certain *gaps*. The **real number system** fills these *gaps*.\n",
    "***"
   ]
  },
  {
   "cell_type": "markdown",
   "metadata": {},
   "source": [
    "To elucidate the structure of real number system, as well as that of the complex numbers, we need to discuss some concepts of **ordered set** and **field**.\n",
    "\n",
    "Start with the **standard set-theoretic terminology**\n",
    "\n",
    "$Def$\n",
    "\n",
    "- If $A$ is any set, we write $x\\in A$ to indicate that $x$ is a member, or an element of $A$.\n",
    "- If not, we write: $x\\notin A$\n",
    "- The set with no element is called the **empty set**, otherwise **nonempty**.\n",
    "- If $A$ and $B$ are sets, and if every element of $A$ is an element of $B$, we say that $A$ is a **subset** of $B$, and write $A \\subset B$, or $B \\supset A$. If, in addition, there is an element of $B$ which is not in $A$, then $A$ is said to be a **proper subset** of $B$. Note that $A \\subset A$ for *every* set $A$.\n",
    "- Let $\\QQ$ denote the set of all rational numbers.\n",
    "---"
   ]
  },
  {
   "cell_type": "markdown",
   "metadata": {},
   "source": [
    "## Ordered Sets\n",
    "\n",
    "$Def$\n",
    "\n",
    "Let $S$ be a set. An **order** on $S$ is a relation, denoted by $<$, with the following two properties.\n",
    "\n",
    "1. If $x\\in S$ and $y\\in S$ then *one and only one* of the following three statements is true.\n",
    "    1. $x<y$\n",
    "    2. $x=y$\n",
    "    3. $y<x$\n",
    "2. If $x,y,z \\in S$, if $x < y$ and $y<z$, then $x<z$\n",
    "\n",
    "and the statement $x<y$ can be read as \"$x$ is smaller than $y$\" or \"$x$ is less than $y$\" or \"$x$ proceeds $y$\". And the notation $x\\leq y$ indicates that $x<y$ or $x=y$, which is the negation of $x>y$.\n",
    "\n",
    "And an **ordered set** is a set $S$ in which an **order** is defined.\n",
    "\n",
    "**e.g.**\n",
    "\n",
    "$\\QQ$ is an **ordered set** if for two elements $r$ and $s$, $r<s$ is defined to mean that $s-r$ is a positive rational number\n",
    "***\n",
    "\n",
    "Suppose $S$ is an **ordered set**, and $E \\subset S$. If there exists a $\\beta \\in S$ such that $x\\leq \\beta$ for every $x \\in E$, we say that $E$ is **bounded above**, and call $\\beta$ an **upper bound** of $E$. Similarly, we can define the **lower bound** with $\\geq$ in replace with $\\leq$.\n",
    "\n",
    "Suppose $S$ is an ordered set, $E \\subset S$, and $E$ is bounded above. Suppose there exists an $\\alpha \\in S$ with the following properties:\n",
    "\n",
    "- $\\alpha$ is an upper bound of $E$.\n",
    "- If $\\gamma < \\alpha$ then $\\gamma$ is not an upper bound of $E$.\n",
    "\n",
    "Then $\\alpha$ is called the **least upper bound** of $E$, or the **supremum** of $E$, and we write\n",
    "\n",
    "$$\\alpha = \\sup E$$\n",
    "\n",
    "Similarly we have the **greatest lower bound**, or **infimum**, of a set $E$ which is written as $\\inf E$.\n",
    "***"
   ]
  },
  {
   "cell_type": "markdown",
   "metadata": {},
   "source": [
    "**e.g.9**\n",
    "\n",
    "1. Consider the sets $A$ and $B$ of the context after **e.g.1** ($A$ is the set of all *positive* rationals $p$ such that $p^2<2$ and $B$ consist of all *positive* rationals $p$ such that $p^2>2$), as subsets of the ordered set $\\QQ$ (*not* $\\RR$). The set $A$ is bounded above. In fact, the upper bounds of $A$ are exactly the members of $B$. Since $B$ contains no smallest number, $A$ has *no* **least upper bound in** $\\QQ$\n",
    "2. If $\\alpha = \\sup E$ exists, then $\\alpha$ may or may not be a member of $E$. For instance, let $E_1$ be the set of all $r\\in \\QQ$ with $r<0$. Let $E_2$ be the set of all $r\\in\\QQ$ wiht $r\\leq 0$. Then $\\sup E_1 = \\sup E_2 = 0$.\n",
    "3. Let $E$ consist of all numbers $1/n$ where $n$ are positive integers. Then $\\sup E = 1 \\in E$ and $\\inf E = 0 \\notin E$\n",
    "\n",
    "> 1. since $\\sqrt 2$ is not in $B$\n",
    "2. by defination\n",
    "3. $1$ is greater than or equal to all elements in $E$. And if there exists a number less then $1$, which is written as $1-\\epsilon$ with $\\epsilon>0$. Then it will no longer be a bound if $n$ exceeds certain $N$.\n",
    "***"
   ]
  },
  {
   "cell_type": "markdown",
   "metadata": {},
   "source": [
    "$Def$\n",
    "\n",
    "An ordered set $S$ is said to have the **least-upper-bound property** if the following is true: if $E\\subset S$ and $E$ is not empty, and $E$ is **bounded above**, then $\\sup E$ exists in $S$.\n",
    "\n",
    "**e.g.9.1** shows that $\\QQ$ does not have the least-upper-bound property.\n",
    "***"
   ]
  },
  {
   "cell_type": "markdown",
   "metadata": {},
   "source": [
    "Now we show that *every ordered set with the least-upper-bound property also has the greatest-lower-bound property*.\n",
    "\n",
    "$Theorem$\n",
    "\n",
    "Supose $S$ is an ordered set with the least-upper bound property, $B\\in S$, $B$ is not empty, and $B$ is bounded below. Let $L$ be the set of all lower bouneds of $B$. Then\n",
    "\n",
    "$$\\alpha = \\sup L$$\n",
    "\n",
    "exists in $S$ and $\\alpha = \\inf B$. In particular, $\\inf B$ exists in $S$.\n",
    "\n",
    "**Proof**\n",
    "\n",
    ">Since $B$ is **bounded below**, $L$ is not empty. Then since $\\forall \\; y \\in L$ we have $y \\leq x$ for every $x \\in B$, we see that every $x\\in B$ is an upper bound of $L$. Thus $L$ is **bounded above**.\n",
    ">\n",
    ">Thus by definition, $L$ has a supremum in $S$, call it $\\alpha = \\sup L$.\n",
    ">\n",
    ">Consider $\\gamma<\\alpha$, by definition, $\\gamma$ is not an upper bound of $L$. And thus, $\\gamma \\notin B$. It follows that $\\forall \\; x \\in B$ $\\alpha \\leq x$. Thus, $\\alpha \\in L$, one of the lower bound of $B$.\n",
    ">\n",
    ">Consider $\\beta > \\alpha$, by definition, $\\beta \\notin L$"
   ]
  },
  {
   "cell_type": "markdown",
   "metadata": {},
   "source": []
  },
  {
   "cell_type": "markdown",
   "metadata": {},
   "source": []
  },
  {
   "cell_type": "markdown",
   "metadata": {},
   "source": []
  },
  {
   "cell_type": "markdown",
   "metadata": {},
   "source": []
  },
  {
   "cell_type": "markdown",
   "metadata": {},
   "source": []
  },
  {
   "cell_type": "markdown",
   "metadata": {},
   "source": []
  },
  {
   "cell_type": "markdown",
   "metadata": {},
   "source": []
  },
  {
   "cell_type": "markdown",
   "metadata": {},
   "source": []
  },
  {
   "cell_type": "markdown",
   "metadata": {},
   "source": []
  },
  {
   "cell_type": "markdown",
   "metadata": {},
   "source": []
  },
  {
   "cell_type": "markdown",
   "metadata": {},
   "source": []
  }
 ],
 "metadata": {
  "kernelspec": {
   "display_name": "Python 3",
   "language": "python",
   "name": "python3"
  },
  "language_info": {
   "codemirror_mode": {
    "name": "ipython",
    "version": 3
   },
   "file_extension": ".py",
   "mimetype": "text/x-python",
   "name": "python",
   "nbconvert_exporter": "python",
   "pygments_lexer": "ipython3",
   "version": "3.5.2"
  },
  "toc": {
   "colors": {
    "hover_highlight": "#DAA520",
    "navigate_num": "#000000",
    "navigate_text": "#333333",
    "running_highlight": "#FF0000",
    "selected_highlight": "#FFD700",
    "sidebar_border": "#EEEEEE",
    "wrapper_background": "#FFFFFF"
   },
   "moveMenuLeft": true,
   "nav_menu": {
    "height": "66.1333px",
    "width": "252px"
   },
   "navigate_menu": true,
   "number_sections": true,
   "sideBar": true,
   "threshold": 4,
   "toc_cell": false,
   "toc_section_display": "block",
   "toc_window_display": false,
   "widenNotebook": false
  }
 },
 "nbformat": 4,
 "nbformat_minor": 2
}
