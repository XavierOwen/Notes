{
 "cells": [
  {
   "cell_type": "markdown",
   "id": "da5f621f",
   "metadata": {},
   "source": [
    "# Assignment 0 problem E\n",
    "\n",
    "Yuanxing Cheng, A20453410, CS577-f22"
   ]
  },
  {
   "cell_type": "code",
   "execution_count": 1,
   "id": "0fcd54cb",
   "metadata": {},
   "outputs": [],
   "source": [
    "import numpy as np"
   ]
  },
  {
   "cell_type": "markdown",
   "id": "f2c197a0",
   "metadata": {},
   "source": [
    "## A"
   ]
  },
  {
   "cell_type": "code",
   "execution_count": 2,
   "id": "c78f40c6",
   "metadata": {},
   "outputs": [],
   "source": [
    "a = np.array([1,2,3])[:,None]\n",
    "b = np.array([4,5,6])[:,None]\n",
    "c = np.array([-1,1,3])[:,None]"
   ]
  },
  {
   "cell_type": "markdown",
   "id": "4d52e515",
   "metadata": {},
   "source": [
    "### 1"
   ]
  },
  {
   "cell_type": "code",
   "execution_count": 3,
   "id": "ef262a21",
   "metadata": {},
   "outputs": [
    {
     "data": {
      "text/plain": [
       "array([[-2],\n",
       "       [-1],\n",
       "       [ 0]])"
      ]
     },
     "execution_count": 3,
     "metadata": {},
     "output_type": "execute_result"
    }
   ],
   "source": [
    "2*a-b"
   ]
  },
  {
   "cell_type": "markdown",
   "id": "526fd085",
   "metadata": {},
   "source": [
    "### 2"
   ]
  },
  {
   "cell_type": "code",
   "execution_count": 4,
   "id": "743e933d",
   "metadata": {},
   "outputs": [
    {
     "data": {
      "text/plain": [
       "array([[0.26726124],\n",
       "       [0.53452248],\n",
       "       [0.80178373]])"
      ]
     },
     "execution_count": 4,
     "metadata": {},
     "output_type": "execute_result"
    }
   ],
   "source": [
    "a/np.linalg.norm(a)"
   ]
  },
  {
   "cell_type": "markdown",
   "id": "36c11834",
   "metadata": {},
   "source": [
    "### 3"
   ]
  },
  {
   "cell_type": "code",
   "execution_count": 5,
   "id": "1471a96e",
   "metadata": {},
   "outputs": [
    {
     "data": {
      "text/plain": [
       "3.7416573867739413"
      ]
     },
     "execution_count": 5,
     "metadata": {},
     "output_type": "execute_result"
    }
   ],
   "source": [
    "np.linalg.norm(a)"
   ]
  },
  {
   "cell_type": "code",
   "execution_count": 6,
   "id": "b40bd3d6",
   "metadata": {},
   "outputs": [],
   "source": [
    "i = np.array([1,0,0])[:,None]\n",
    "j = np.array([0,1,0])[:,None]\n",
    "k = np.array([0,0,1])[:,None]"
   ]
  },
  {
   "cell_type": "code",
   "execution_count": 7,
   "id": "e2b7c8c3",
   "metadata": {},
   "outputs": [
    {
     "data": {
      "text/plain": [
       "array([[1.30024656]])"
      ]
     },
     "execution_count": 7,
     "metadata": {},
     "output_type": "execute_result"
    }
   ],
   "source": [
    "np.arccos(np.dot(np.transpose(a),i)/np.linalg.norm(a))"
   ]
  },
  {
   "cell_type": "markdown",
   "id": "c94111ed",
   "metadata": {},
   "source": [
    "### 4"
   ]
  },
  {
   "cell_type": "code",
   "execution_count": 8,
   "id": "a2eef3e4",
   "metadata": {},
   "outputs": [
    {
     "data": {
      "text/plain": [
       "array([[1.30024656]])"
      ]
     },
     "execution_count": 8,
     "metadata": {},
     "output_type": "execute_result"
    }
   ],
   "source": [
    "np.arccos(np.dot(np.transpose(a),i)/np.linalg.norm(a))"
   ]
  },
  {
   "cell_type": "code",
   "execution_count": 9,
   "id": "b9924544",
   "metadata": {},
   "outputs": [
    {
     "data": {
      "text/plain": [
       "array([[1.00685369]])"
      ]
     },
     "execution_count": 9,
     "metadata": {},
     "output_type": "execute_result"
    }
   ],
   "source": [
    "np.arccos(np.dot(np.transpose(a),j)/np.linalg.norm(a))"
   ]
  },
  {
   "cell_type": "code",
   "execution_count": 10,
   "id": "f30e10ea",
   "metadata": {},
   "outputs": [
    {
     "data": {
      "text/plain": [
       "array([[0.64052231]])"
      ]
     },
     "execution_count": 10,
     "metadata": {},
     "output_type": "execute_result"
    }
   ],
   "source": [
    "np.arccos(np.dot(np.transpose(a),k)/np.linalg.norm(a))"
   ]
  },
  {
   "cell_type": "markdown",
   "id": "d4a7dde6",
   "metadata": {},
   "source": [
    "### 5"
   ]
  },
  {
   "cell_type": "code",
   "execution_count": 11,
   "id": "9289c6bf",
   "metadata": {},
   "outputs": [
    {
     "data": {
      "text/plain": [
       "array([[0.22572613]])"
      ]
     },
     "execution_count": 11,
     "metadata": {},
     "output_type": "execute_result"
    }
   ],
   "source": [
    "np.arccos(np.dot(np.transpose(a),b)/np.linalg.norm(a)/np.linalg.norm(b))"
   ]
  },
  {
   "cell_type": "markdown",
   "id": "4957981e",
   "metadata": {},
   "source": [
    "### 6"
   ]
  },
  {
   "cell_type": "code",
   "execution_count": 12,
   "id": "93e77050",
   "metadata": {},
   "outputs": [
    {
     "data": {
      "text/plain": [
       "array([[32]])"
      ]
     },
     "execution_count": 12,
     "metadata": {},
     "output_type": "execute_result"
    }
   ],
   "source": [
    "np.dot(np.transpose(a),b)"
   ]
  },
  {
   "cell_type": "code",
   "execution_count": 13,
   "id": "2131f952",
   "metadata": {},
   "outputs": [
    {
     "data": {
      "text/plain": [
       "array([[32]])"
      ]
     },
     "execution_count": 13,
     "metadata": {},
     "output_type": "execute_result"
    }
   ],
   "source": [
    "np.dot(np.transpose(b),a)"
   ]
  },
  {
   "cell_type": "markdown",
   "id": "6bbddad9",
   "metadata": {},
   "source": [
    "### 7"
   ]
  },
  {
   "cell_type": "code",
   "execution_count": 14,
   "id": "c4dba079",
   "metadata": {},
   "outputs": [
    {
     "data": {
      "text/plain": [
       "array([[32.]])"
      ]
     },
     "execution_count": 14,
     "metadata": {},
     "output_type": "execute_result"
    }
   ],
   "source": [
    "np.linalg.norm(a)*np.linalg.norm(b)*np.cos(np.arccos(np.dot(np.transpose(a),b)/np.linalg.norm(a)/np.linalg.norm(b)))"
   ]
  },
  {
   "cell_type": "markdown",
   "id": "6981bfd4",
   "metadata": {},
   "source": [
    "### 8"
   ]
  },
  {
   "cell_type": "code",
   "execution_count": 15,
   "id": "e59250b5",
   "metadata": {},
   "outputs": [
    {
     "data": {
      "text/plain": [
       "array([[8.55235974]])"
      ]
     },
     "execution_count": 15,
     "metadata": {},
     "output_type": "execute_result"
    }
   ],
   "source": [
    "np.dot(np.transpose(b),a/np.linalg.norm(a))"
   ]
  },
  {
   "cell_type": "markdown",
   "id": "82d71430",
   "metadata": {},
   "source": [
    "### 9"
   ]
  },
  {
   "cell_type": "code",
   "execution_count": 16,
   "id": "4e793ee7",
   "metadata": {},
   "outputs": [
    {
     "data": {
      "text/plain": [
       "array([0])"
      ]
     },
     "execution_count": 16,
     "metadata": {},
     "output_type": "execute_result"
    }
   ],
   "source": [
    "np.dot(np.array([0,-3,2]),a)"
   ]
  },
  {
   "cell_type": "markdown",
   "id": "4740ebe1",
   "metadata": {},
   "source": [
    "### 10"
   ]
  },
  {
   "cell_type": "code",
   "execution_count": 17,
   "id": "ac938721",
   "metadata": {},
   "outputs": [
    {
     "data": {
      "text/plain": [
       "array([[-3,  6, -3]])"
      ]
     },
     "execution_count": 17,
     "metadata": {},
     "output_type": "execute_result"
    }
   ],
   "source": [
    "np.cross(np.transpose(a),np.transpose(b))"
   ]
  },
  {
   "cell_type": "code",
   "execution_count": 18,
   "id": "976993c9",
   "metadata": {},
   "outputs": [
    {
     "data": {
      "text/plain": [
       "array([[ 3, -6,  3]])"
      ]
     },
     "execution_count": 18,
     "metadata": {},
     "output_type": "execute_result"
    }
   ],
   "source": [
    "np.cross(np.transpose(b),np.transpose(a))"
   ]
  },
  {
   "cell_type": "markdown",
   "id": "8b9639fc",
   "metadata": {},
   "source": [
    "### 11"
   ]
  },
  {
   "cell_type": "code",
   "execution_count": 19,
   "id": "44b64ffd",
   "metadata": {},
   "outputs": [
    {
     "data": {
      "text/plain": [
       "array([[-3,  6, -3]])"
      ]
     },
     "execution_count": 19,
     "metadata": {},
     "output_type": "execute_result"
    }
   ],
   "source": [
    "np.cross(np.transpose(a),np.transpose(b))"
   ]
  },
  {
   "cell_type": "code",
   "execution_count": 20,
   "id": "db99cdf5",
   "metadata": {},
   "outputs": [
    {
     "data": {
      "text/plain": [
       "array([[0]])"
      ]
     },
     "execution_count": 20,
     "metadata": {},
     "output_type": "execute_result"
    }
   ],
   "source": [
    "np.dot(np.cross(np.transpose(a),np.transpose(b)),a)"
   ]
  },
  {
   "cell_type": "code",
   "execution_count": 21,
   "id": "b0b10311",
   "metadata": {},
   "outputs": [
    {
     "data": {
      "text/plain": [
       "array([[0]])"
      ]
     },
     "execution_count": 21,
     "metadata": {},
     "output_type": "execute_result"
    }
   ],
   "source": [
    "np.dot(np.cross(np.transpose(a),np.transpose(b)),b)"
   ]
  },
  {
   "cell_type": "markdown",
   "id": "ae68ba2c",
   "metadata": {},
   "source": [
    "### 12"
   ]
  },
  {
   "cell_type": "code",
   "execution_count": 22,
   "id": "823cd471",
   "metadata": {},
   "outputs": [
    {
     "data": {
      "text/plain": [
       "array([[0],\n",
       "       [0],\n",
       "       [0]])"
      ]
     },
     "execution_count": 22,
     "metadata": {},
     "output_type": "execute_result"
    }
   ],
   "source": [
    "b-3*a+c"
   ]
  },
  {
   "cell_type": "markdown",
   "id": "04881419",
   "metadata": {},
   "source": [
    "### 13"
   ]
  },
  {
   "cell_type": "code",
   "execution_count": 23,
   "id": "1c3e29c6",
   "metadata": {},
   "outputs": [
    {
     "data": {
      "text/plain": [
       "array([[32]])"
      ]
     },
     "execution_count": 23,
     "metadata": {},
     "output_type": "execute_result"
    }
   ],
   "source": [
    "np.dot(np.transpose(a),b)"
   ]
  },
  {
   "cell_type": "code",
   "execution_count": 24,
   "id": "4e260dff",
   "metadata": {},
   "outputs": [
    {
     "data": {
      "text/plain": [
       "array([[ 4,  5,  6],\n",
       "       [ 8, 10, 12],\n",
       "       [12, 15, 18]])"
      ]
     },
     "execution_count": 24,
     "metadata": {},
     "output_type": "execute_result"
    }
   ],
   "source": [
    "np.dot(a,np.transpose(b))"
   ]
  },
  {
   "cell_type": "markdown",
   "id": "d8f63f87",
   "metadata": {},
   "source": [
    "## B"
   ]
  },
  {
   "cell_type": "code",
   "execution_count": 25,
   "id": "5d2e0403",
   "metadata": {},
   "outputs": [],
   "source": [
    "A = np.array([[1,2,3],[4,-2, 3],[0,5,-1]])\n",
    "B = np.array([[1,2,1],[2,1,-4],[3,-2,1]])\n",
    "C = np.array([[1,2,3],[4,5,6],[-1,1,3]])\n",
    "d = np.array([1,2,3])[:,None]"
   ]
  },
  {
   "cell_type": "markdown",
   "id": "eb7c641d",
   "metadata": {},
   "source": [
    "### 1"
   ]
  },
  {
   "cell_type": "code",
   "execution_count": 26,
   "id": "9b6c8c07",
   "metadata": {},
   "outputs": [
    {
     "data": {
      "text/plain": [
       "array([[ 1,  2,  5],\n",
       "       [ 6, -5, 10],\n",
       "       [-3, 12, -3]])"
      ]
     },
     "execution_count": 26,
     "metadata": {},
     "output_type": "execute_result"
    }
   ],
   "source": [
    "2*A-B"
   ]
  },
  {
   "cell_type": "markdown",
   "id": "251ac2a9",
   "metadata": {},
   "source": [
    "### 2"
   ]
  },
  {
   "cell_type": "code",
   "execution_count": 27,
   "id": "faa537b6",
   "metadata": {},
   "outputs": [
    {
     "data": {
      "text/plain": [
       "array([[ 14,  -2,  -4],\n",
       "       [  9,   0,  15],\n",
       "       [  7,   7, -21]])"
      ]
     },
     "execution_count": 27,
     "metadata": {},
     "output_type": "execute_result"
    }
   ],
   "source": [
    "np.matmul(A,B)"
   ]
  },
  {
   "cell_type": "code",
   "execution_count": 28,
   "id": "4a1026a9",
   "metadata": {},
   "outputs": [
    {
     "data": {
      "text/plain": [
       "array([[  9,   3,   8],\n",
       "       [  6, -18,  13],\n",
       "       [ -5,  15,   2]])"
      ]
     },
     "execution_count": 28,
     "metadata": {},
     "output_type": "execute_result"
    }
   ],
   "source": [
    "np.matmul(B,A)"
   ]
  },
  {
   "cell_type": "markdown",
   "id": "010d6a55",
   "metadata": {},
   "source": [
    "### 3"
   ]
  },
  {
   "cell_type": "code",
   "execution_count": 29,
   "id": "3b070e3a",
   "metadata": {},
   "outputs": [
    {
     "data": {
      "text/plain": [
       "array([[ 14,   9,   7],\n",
       "       [ -2,   0,   7],\n",
       "       [ -4,  15, -21]])"
      ]
     },
     "execution_count": 29,
     "metadata": {},
     "output_type": "execute_result"
    }
   ],
   "source": [
    "np.transpose(np.matmul(A,B))"
   ]
  },
  {
   "cell_type": "code",
   "execution_count": 30,
   "id": "9cef339c",
   "metadata": {},
   "outputs": [
    {
     "data": {
      "text/plain": [
       "array([[ 14,   9,   7],\n",
       "       [ -2,   0,   7],\n",
       "       [ -4,  15, -21]])"
      ]
     },
     "execution_count": 30,
     "metadata": {},
     "output_type": "execute_result"
    }
   ],
   "source": [
    "np.matmul(np.transpose(B),np.transpose(A))"
   ]
  },
  {
   "cell_type": "markdown",
   "id": "e7b2b04a",
   "metadata": {},
   "source": [
    "### 4"
   ]
  },
  {
   "cell_type": "code",
   "execution_count": 31,
   "id": "15c59e89",
   "metadata": {},
   "outputs": [
    {
     "data": {
      "text/plain": [
       "54.999999999999964"
      ]
     },
     "execution_count": 31,
     "metadata": {},
     "output_type": "execute_result"
    }
   ],
   "source": [
    "np.linalg.det(A)"
   ]
  },
  {
   "cell_type": "code",
   "execution_count": 32,
   "id": "c78cf494",
   "metadata": {},
   "outputs": [
    {
     "data": {
      "text/plain": [
       "54.999999999999964"
      ]
     },
     "execution_count": 32,
     "metadata": {},
     "output_type": "execute_result"
    }
   ],
   "source": [
    "np.exp(np.linalg.slogdet(A)[1])"
   ]
  },
  {
   "cell_type": "markdown",
   "id": "dbfd9d92",
   "metadata": {},
   "source": [
    "### 5"
   ]
  },
  {
   "cell_type": "code",
   "execution_count": 33,
   "id": "5c8ab40f",
   "metadata": {},
   "outputs": [
    {
     "data": {
      "text/plain": [
       "7.494005416219837e-16"
      ]
     },
     "execution_count": 33,
     "metadata": {},
     "output_type": "execute_result"
    }
   ],
   "source": [
    "np.linalg.det(C)"
   ]
  },
  {
   "cell_type": "code",
   "execution_count": 34,
   "id": "f3d21823",
   "metadata": {},
   "outputs": [
    {
     "data": {
      "text/plain": [
       "-42.00000000000002"
      ]
     },
     "execution_count": 34,
     "metadata": {},
     "output_type": "execute_result"
    }
   ],
   "source": [
    "np.linalg.det(B)"
   ]
  },
  {
   "cell_type": "code",
   "execution_count": 35,
   "id": "9f46db71",
   "metadata": {},
   "outputs": [
    {
     "data": {
      "text/plain": [
       "0"
      ]
     },
     "execution_count": 35,
     "metadata": {},
     "output_type": "execute_result"
    }
   ],
   "source": [
    "np.matmul(B[0,:],B[1,:])"
   ]
  },
  {
   "cell_type": "code",
   "execution_count": 36,
   "id": "45b4632d",
   "metadata": {},
   "outputs": [
    {
     "data": {
      "text/plain": [
       "0"
      ]
     },
     "execution_count": 36,
     "metadata": {},
     "output_type": "execute_result"
    }
   ],
   "source": [
    "np.matmul(B[0,:],B[2,:])"
   ]
  },
  {
   "cell_type": "code",
   "execution_count": 37,
   "id": "3e794c60",
   "metadata": {},
   "outputs": [
    {
     "data": {
      "text/plain": [
       "0"
      ]
     },
     "execution_count": 37,
     "metadata": {},
     "output_type": "execute_result"
    }
   ],
   "source": [
    "np.matmul(B[1,:],B[2,:])"
   ]
  },
  {
   "cell_type": "markdown",
   "id": "4eb18c1a",
   "metadata": {},
   "source": [
    "### 6"
   ]
  },
  {
   "cell_type": "code",
   "execution_count": 38,
   "id": "6b8b339e",
   "metadata": {},
   "outputs": [
    {
     "data": {
      "text/plain": [
       "array([[-0.23636364,  0.30909091,  0.21818182],\n",
       "       [ 0.07272727, -0.01818182,  0.16363636],\n",
       "       [ 0.36363636, -0.09090909, -0.18181818]])"
      ]
     },
     "execution_count": 38,
     "metadata": {},
     "output_type": "execute_result"
    }
   ],
   "source": [
    "np.linalg.inv(A)"
   ]
  },
  {
   "cell_type": "code",
   "execution_count": 39,
   "id": "ae13875c",
   "metadata": {},
   "outputs": [
    {
     "data": {
      "text/plain": [
       "array([[ 0.16666667,  0.0952381 ,  0.21428571],\n",
       "       [ 0.33333333,  0.04761905, -0.14285714],\n",
       "       [ 0.16666667, -0.19047619,  0.07142857]])"
      ]
     },
     "execution_count": 39,
     "metadata": {},
     "output_type": "execute_result"
    }
   ],
   "source": [
    "np.linalg.inv(B)"
   ]
  },
  {
   "cell_type": "markdown",
   "id": "957a7a39",
   "metadata": {},
   "source": [
    "### 7"
   ]
  },
  {
   "cell_type": "code",
   "execution_count": 40,
   "id": "bb5fc33b",
   "metadata": {},
   "outputs": [
    {
     "data": {
      "text/plain": [
       "array([[ 1.20095990e+16, -4.00319967e+15, -4.00319967e+15],\n",
       "       [-2.40191980e+16,  8.00639934e+15,  8.00639934e+15],\n",
       "       [ 1.20095990e+16, -4.00319967e+15, -4.00319967e+15]])"
      ]
     },
     "execution_count": 40,
     "metadata": {},
     "output_type": "execute_result"
    }
   ],
   "source": [
    "np.linalg.inv(C)"
   ]
  },
  {
   "cell_type": "markdown",
   "id": "c049ea34",
   "metadata": {},
   "source": [
    "### 8"
   ]
  },
  {
   "cell_type": "code",
   "execution_count": 41,
   "id": "5e4d2af3",
   "metadata": {},
   "outputs": [
    {
     "data": {
      "text/plain": [
       "array([[14],\n",
       "       [ 9],\n",
       "       [ 7]])"
      ]
     },
     "execution_count": 41,
     "metadata": {},
     "output_type": "execute_result"
    }
   ],
   "source": [
    "np.matmul(A,d)"
   ]
  },
  {
   "cell_type": "markdown",
   "id": "ed397fee",
   "metadata": {},
   "source": [
    "### 9"
   ]
  },
  {
   "cell_type": "code",
   "execution_count": 42,
   "id": "b45c8fdd",
   "metadata": {},
   "outputs": [
    {
     "data": {
      "text/plain": [
       "array([[3.74165739],\n",
       "       [2.40535118],\n",
       "       [1.87082869]])"
      ]
     },
     "execution_count": 42,
     "metadata": {},
     "output_type": "execute_result"
    }
   ],
   "source": [
    "np.matmul(A,d)/np.linalg.norm(d)"
   ]
  },
  {
   "cell_type": "markdown",
   "id": "ad6b2a0b",
   "metadata": {},
   "source": [
    "### 10"
   ]
  },
  {
   "cell_type": "code",
   "execution_count": 43,
   "id": "c63727fb",
   "metadata": {},
   "outputs": [
    {
     "data": {
      "text/plain": [
       "array([[ 3.74165739,  7.48331477, 11.22497216],\n",
       "       [ 2.40535118,  4.81070235,  7.21605353],\n",
       "       [ 1.87082869,  3.74165739,  5.61248608]])"
      ]
     },
     "execution_count": 43,
     "metadata": {},
     "output_type": "execute_result"
    }
   ],
   "source": [
    "np.matmul(A,np.matmul(d,np.transpose(d)))/np.linalg.norm(d)"
   ]
  },
  {
   "cell_type": "markdown",
   "id": "ae7889ee",
   "metadata": {},
   "source": [
    "### 11"
   ]
  },
  {
   "cell_type": "code",
   "execution_count": 44,
   "id": "53f0df7f",
   "metadata": {},
   "outputs": [
    {
     "data": {
      "text/plain": [
       "array([[14],\n",
       "       [ 9],\n",
       "       [ 7]])"
      ]
     },
     "execution_count": 44,
     "metadata": {},
     "output_type": "execute_result"
    }
   ],
   "source": [
    "np.matmul(A,d)"
   ]
  },
  {
   "cell_type": "markdown",
   "id": "39dcaf2b",
   "metadata": {},
   "source": [
    "### 12"
   ]
  },
  {
   "cell_type": "code",
   "execution_count": 45,
   "id": "695152f0",
   "metadata": {},
   "outputs": [
    {
     "data": {
      "text/plain": [
       "array([[1.00000000e+00],\n",
       "       [2.77555756e-17],\n",
       "       [0.00000000e+00]])"
      ]
     },
     "execution_count": 45,
     "metadata": {},
     "output_type": "execute_result"
    }
   ],
   "source": [
    "np.matmul(np.linalg.inv(B),d)"
   ]
  },
  {
   "cell_type": "code",
   "execution_count": 46,
   "id": "84acb062",
   "metadata": {},
   "outputs": [
    {
     "data": {
      "text/plain": [
       "array([[ 1.00000000e+00],\n",
       "       [ 2.37904934e-17],\n",
       "       [-1.18952467e-17]])"
      ]
     },
     "execution_count": 46,
     "metadata": {},
     "output_type": "execute_result"
    }
   ],
   "source": [
    "np.linalg.solve(B,d)"
   ]
  },
  {
   "cell_type": "markdown",
   "id": "f7eda06f",
   "metadata": {},
   "source": [
    "### 13"
   ]
  },
  {
   "cell_type": "code",
   "execution_count": 47,
   "id": "328cff82",
   "metadata": {},
   "outputs": [
    {
     "data": {
      "text/plain": [
       "array([[-8.00639934e+15],\n",
       "       [ 1.60127987e+16],\n",
       "       [-8.00639934e+15]])"
      ]
     },
     "execution_count": 47,
     "metadata": {},
     "output_type": "execute_result"
    }
   ],
   "source": [
    "np.linalg.solve(C,d)"
   ]
  },
  {
   "cell_type": "markdown",
   "id": "1f0d714e",
   "metadata": {},
   "source": [
    "## C"
   ]
  },
  {
   "cell_type": "code",
   "execution_count": 48,
   "id": "ee09e3c8",
   "metadata": {},
   "outputs": [],
   "source": [
    "D = np.array([[1,2],[3,2]])\n",
    "E = np.array([[2,-2],[-2,5]])\n",
    "F = np.array([[1,2],[2,4]])"
   ]
  },
  {
   "cell_type": "markdown",
   "id": "2b3cd2d4",
   "metadata": {},
   "source": [
    "### 1"
   ]
  },
  {
   "cell_type": "code",
   "execution_count": 49,
   "id": "de32075f",
   "metadata": {},
   "outputs": [
    {
     "data": {
      "text/plain": [
       "(array([-1.,  4.]),\n",
       " array([[-0.70710678, -0.5547002 ],\n",
       "        [ 0.70710678, -0.83205029]]))"
      ]
     },
     "execution_count": 49,
     "metadata": {},
     "output_type": "execute_result"
    }
   ],
   "source": [
    "np.linalg.eig(D)"
   ]
  },
  {
   "cell_type": "markdown",
   "id": "83417d78",
   "metadata": {},
   "source": [
    "### 2"
   ]
  },
  {
   "cell_type": "code",
   "execution_count": 50,
   "id": "a460685e",
   "metadata": {},
   "outputs": [
    {
     "data": {
      "text/plain": [
       "-0.19611613513818388"
      ]
     },
     "execution_count": 50,
     "metadata": {},
     "output_type": "execute_result"
    }
   ],
   "source": [
    "np.dot(np.linalg.eig(D)[1][:,0],np.linalg.eig(D)[1][:,1])"
   ]
  },
  {
   "cell_type": "markdown",
   "id": "d4bf2232",
   "metadata": {},
   "source": [
    "### 3\n"
   ]
  },
  {
   "cell_type": "code",
   "execution_count": 51,
   "id": "428a2f0b",
   "metadata": {},
   "outputs": [
    {
     "data": {
      "text/plain": [
       "0.0"
      ]
     },
     "execution_count": 51,
     "metadata": {},
     "output_type": "execute_result"
    }
   ],
   "source": [
    "np.dot(np.linalg.eig(E)[1][:,0],np.linalg.eig(E)[1][:,1])"
   ]
  },
  {
   "cell_type": "markdown",
   "id": "7fb58240",
   "metadata": {},
   "source": [
    "### 4\n",
    "\n",
    "Since $E$ is symmtric, it's eigenvectors are orthogonal. Proofs are in previous part."
   ]
  },
  {
   "cell_type": "markdown",
   "id": "09ee9f84",
   "metadata": {},
   "source": [
    "### 5"
   ]
  },
  {
   "cell_type": "code",
   "execution_count": 52,
   "id": "0d6aca08",
   "metadata": {},
   "outputs": [
    {
     "data": {
      "text/plain": [
       "array([0, 0])"
      ]
     },
     "execution_count": 52,
     "metadata": {},
     "output_type": "execute_result"
    }
   ],
   "source": [
    "np.matmul(F,np.array([0,0]))"
   ]
  },
  {
   "cell_type": "markdown",
   "id": "285e85cc",
   "metadata": {},
   "source": [
    "### 6"
   ]
  },
  {
   "cell_type": "code",
   "execution_count": 53,
   "id": "884c64fb",
   "metadata": {},
   "outputs": [
    {
     "data": {
      "text/plain": [
       "array([0, 0])"
      ]
     },
     "execution_count": 53,
     "metadata": {},
     "output_type": "execute_result"
    }
   ],
   "source": [
    "np.matmul(F,np.array([2,-1]))"
   ]
  },
  {
   "cell_type": "code",
   "execution_count": 54,
   "id": "5a982bac",
   "metadata": {},
   "outputs": [
    {
     "data": {
      "text/plain": [
       "array([0, 0])"
      ]
     },
     "execution_count": 54,
     "metadata": {},
     "output_type": "execute_result"
    }
   ],
   "source": [
    "np.matmul(F,np.array([4,-2]))"
   ]
  },
  {
   "cell_type": "markdown",
   "id": "87156ab9",
   "metadata": {},
   "source": [
    "### 7"
   ]
  },
  {
   "cell_type": "code",
   "execution_count": 55,
   "id": "37676860",
   "metadata": {},
   "outputs": [
    {
     "data": {
      "text/plain": [
       "array([0, 0])"
      ]
     },
     "execution_count": 55,
     "metadata": {},
     "output_type": "execute_result"
    }
   ],
   "source": [
    "np.matmul(D,np.array([0,0]))"
   ]
  }
 ],
 "metadata": {
  "kernelspec": {
   "display_name": "Python 3 (ipykernel)",
   "language": "python",
   "name": "python3"
  },
  "language_info": {
   "codemirror_mode": {
    "name": "ipython",
    "version": 3
   },
   "file_extension": ".py",
   "mimetype": "text/x-python",
   "name": "python",
   "nbconvert_exporter": "python",
   "pygments_lexer": "ipython3",
   "version": "3.9.13"
  },
  "toc": {
   "base_numbering": 1,
   "nav_menu": {},
   "number_sections": true,
   "sideBar": true,
   "skip_h1_title": false,
   "title_cell": "Table of Contents",
   "title_sidebar": "Contents",
   "toc_cell": false,
   "toc_position": {},
   "toc_section_display": true,
   "toc_window_display": false
  },
  "varInspector": {
   "cols": {
    "lenName": 16,
    "lenType": 16,
    "lenVar": 40
   },
   "kernels_config": {
    "python": {
     "delete_cmd_postfix": "",
     "delete_cmd_prefix": "del ",
     "library": "var_list.py",
     "varRefreshCmd": "print(var_dic_list())"
    },
    "r": {
     "delete_cmd_postfix": ") ",
     "delete_cmd_prefix": "rm(",
     "library": "var_list.r",
     "varRefreshCmd": "cat(var_dic_list()) "
    }
   },
   "types_to_exclude": [
    "module",
    "function",
    "builtin_function_or_method",
    "instance",
    "_Feature"
   ],
   "window_display": false
  }
 },
 "nbformat": 4,
 "nbformat_minor": 5
}
