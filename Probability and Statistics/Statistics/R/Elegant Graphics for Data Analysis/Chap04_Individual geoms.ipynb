{
 "cells": [
  {
   "cell_type": "markdown",
   "metadata": {},
   "source": [
    "# Individual geoms\n",
    "## Basic plot types\n",
    "\n",
    "all accept arguments `color` and `size`, and `fill` for filled geoms\n",
    "\n",
    "- `geom_area()` draws an area plot, which is a line plot filled to the y-axis (filled lines). Multiple groups will be stacked on top of each other\n",
    "- `geom_bar(stat = \"identity\")` makes a bar chart. `stat = \"identity\"` will leave the data unchanged, otherwise data is counted. Multiple bars in the same location will be stacked on top of one another.\n",
    "- `geom_line()` connects points from left to right. Accept `linetype` arguments\n",
    "    - `linetype=\"solid\"`\n",
    "    - `linetype=\"dotted\"`\n",
    "    - `linetype=\"dashed\"`\n",
    "- `geom_path()` connects points in the order they appear in the data. Accept `linetype` arguments\n",
    "- `geom_point()` produces a scatterplot. Accept `shape` arguments\n",
    "- `geom_polygon()` draws polygons\n",
    "- `geom_rect()`, `geom_tile()` and `geom_raster()` draw rectangles\n",
    "    - `geom_rect()`: require four corners of the rectangle, `xmin`, `ymin`, `xmax` and `ymax`\n",
    "    - `geom_tile()`: require the center of the rectangle and its size, `x`, `y`, `width` and `height`\n",
    "    - `geom_raster()`: is a fast special case of `geom_tile()` used when all the tiles are the same size."
   ]
  },
  {
   "cell_type": "code",
   "execution_count": 1,
   "metadata": {
    "code_folding": [
     4
    ]
   },
   "outputs": [
    {
     "name": "stderr",
     "output_type": "stream",
     "text": [
      "Registered S3 methods overwritten by 'ggplot2':\n",
      "  method         from \n",
      "  [.quosures     rlang\n",
      "  c.quosures     rlang\n",
      "  print.quosures rlang\n"
     ]
    }
   ],
   "source": [
    "library(ggplot2)\n",
    "library(repr)\n",
    "options(repr.plot.width=6, repr.plot.height=2)\n",
    "\n",
    "# multiplot function from Cookbook for R by Winston Chang\n",
    "# http://www.cookbook-r.com/Graphs/Multiple_graphs_on_one_page_(ggplot2)/\n",
    "multiplot <- function(..., plotlist=NULL, file, ncol=1, layout=NULL) {\n",
    "  library(grid)\n",
    "\n",
    "  # Make a list from the ... arguments and plotlist\n",
    "  plots <- c(list(...), plotlist)\n",
    "\n",
    "  numPlots = length(plots)\n",
    "\n",
    "  # If layout is NULL, then use 'ncol' to determine layout\n",
    "  if (is.null(layout)) {\n",
    "    # Make the panel\n",
    "    # ncol: Number of columns of plots\n",
    "    # nrow: Number of rows needed, calculated from # of column\n",
    "    layout <- matrix(seq(1, ncol * ceiling(numPlots/ncol)),\n",
    "                    ncol = ncol, nrow = ceiling(numPlots/ncol))\n",
    "  }\n",
    "\n",
    " if (numPlots==1) {\n",
    "    print(plots[[1]])\n",
    "\n",
    "  } else {\n",
    "    # Set up the page\n",
    "    grid.newpage()\n",
    "    pushViewport(viewport(layout = grid.layout(nrow(layout), ncol(layout))))\n",
    "\n",
    "    # Make each plot, in the correct location\n",
    "    for (i in 1:numPlots) {\n",
    "      # Get the i,j matrix positions of the regions that contain this subplot\n",
    "      matchidx <- as.data.frame(which(layout == i, arr.ind = TRUE))\n",
    "\n",
    "      print(plots[[i]], vp = viewport(layout.pos.row = matchidx$row,\n",
    "                                      layout.pos.col = matchidx$col))\n",
    "    }\n",
    "  }\n",
    "}"
   ]
  },
  {
   "cell_type": "code",
   "execution_count": 2,
   "metadata": {},
   "outputs": [],
   "source": [
    "df <- data.frame(\n",
    "  x = c(3, 1, 5), \n",
    "  y = c(2, 4, 20), \n",
    "  label = c(\"a\",\"b\",\"c\")\n",
    ")\n",
    "p <- ggplot(df, aes(x, y, label = label)) + \n",
    "  labs(x = NULL, y = NULL) + # Hide axis label\n",
    "  theme(plot.title = element_text(size = 10)) # Shrink plot title"
   ]
  },
  {
   "cell_type": "markdown",
   "metadata": {},
   "source": [
    "`theme()` can custom the component of a figure, see documentation, there's a lot"
   ]
  },
  {
   "cell_type": "code",
   "execution_count": 3,
   "metadata": {},
   "outputs": [
    {
     "data": {
      "image/png": "[encoded data removed]",
      "text/plain": [
       "plot without title"
      ]
     },
     "metadata": {},
     "output_type": "display_data"
    }
   ],
   "source": [
    "plot1 <- p + geom_point() + ggtitle(\"point\")\n",
    "plot2 <- p + geom_text() + ggtitle(\"text\")\n",
    "plot3 <- p + geom_bar(stat = \"identity\") + ggtitle(\"bar\")\n",
    "plot4 <- p + geom_tile() + ggtitle(\"raster\")\n",
    "\n",
    "multiplot(plot1, plot2, plot3, plot4, ncol=4)"
   ]
  },
  {
   "cell_type": "code",
   "execution_count": 4,
   "metadata": {},
   "outputs": [
    {
     "data": {
      "image/png": "[encoded data removed]",
      "text/plain": [
       "plot without title"
      ]
     },
     "metadata": {},
     "output_type": "display_data"
    }
   ],
   "source": [
    "plot1 <- p + geom_line() + ggtitle(\"line\")\n",
    "plot2 <- p + geom_area() + ggtitle(\"area\")\n",
    "plot3 <- p + geom_path() + ggtitle(\"path\")\n",
    "plot4 <- p + geom_polygon() + ggtitle(\"polygon\")\n",
    "\n",
    "multiplot(plot1, plot2, plot3, plot4, ncol=4)"
   ]
  },
  {
   "cell_type": "code",
   "execution_count": null,
   "metadata": {},
   "outputs": [],
   "source": []
  }
 ],
 "metadata": {
  "kernelspec": {
   "display_name": "R",
   "language": "R",
   "name": "ir"
  },
  "language_info": {
   "codemirror_mode": "r",
   "file_extension": ".r",
   "mimetype": "text/x-r-source",
   "name": "R",
   "pygments_lexer": "r",
   "version": "3.6.0"
  },
  "toc": {
   "base_numbering": 1,
   "nav_menu": {},
   "number_sections": true,
   "sideBar": true,
   "skip_h1_title": false,
   "title_cell": "Table of Contents",
   "title_sidebar": "Contents",
   "toc_cell": false,
   "toc_position": {},
   "toc_section_display": true,
   "toc_window_display": false
  },
  "varInspector": {
   "cols": {
    "lenName": 16,
    "lenType": 16,
    "lenVar": 40
   },
   "kernels_config": {
    "python": {
     "delete_cmd_postfix": "",
     "delete_cmd_prefix": "del ",
     "library": "var_list.py",
     "varRefreshCmd": "print(var_dic_list())"
    },
    "r": {
     "delete_cmd_postfix": ") ",
     "delete_cmd_prefix": "rm(",
     "library": "var_list.r",
     "varRefreshCmd": "cat(var_dic_list()) "
    }
   },
   "types_to_exclude": [
    "module",
    "function",
    "builtin_function_or_method",
    "instance",
    "_Feature"
   ],
   "window_display": false
  }
 },
 "nbformat": 4,
 "nbformat_minor": 2
}
