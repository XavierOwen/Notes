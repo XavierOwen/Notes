{
 "cells": [
  {
   "cell_type": "markdown",
   "metadata": {},
   "source": [
    "# Getting started with ggplot2\n",
    "\n",
    "## Intro\n",
    "\n",
    "try `?qplot` and `??qqplot`, or `!?qplot`, see help documentation for this quick plot function\n",
    "\n",
    "- `mpg` datasets in [Fuel economy data](#Fuel-economy-data)\n",
    "- three basic componenets: data, aesthetics and geoms in [Key components](#Key-components)\n",
    "- beautifying plot in [Colour, size, shape and other aesthetic attributes](#Colour,-size,-shape-and-other-aesthetic-attributes)\n",
    "- plotting small multiples created by facetting in [Facetting](#Facetting)\n",
    "- other geoms in [Plot geoms](#Plot-geoms)\n",
    "- adjusting axes in [Modifying the axis ](#Modifying-the-axis)\n",
    "- file operation in [Output](#Output)\n",
    "\n",
    "## Fuel economy data\n",
    "\n",
    "import `ggplot2` first, you can use other default datasets like `diamonds`\n",
    "\n",
    "## Colour, size, shape and other aesthetic attributes"
   ]
  },
  {
   "cell_type": "code",
   "execution_count": 1,
   "metadata": {},
   "outputs": [
    {
     "name": "stderr",
     "output_type": "stream",
     "text": [
      "Registered S3 methods overwritten by 'ggplot2':\n",
      "  method         from \n",
      "  [.quosures     rlang\n",
      "  c.quosures     rlang\n",
      "  print.quosures rlang\n"
     ]
    },
    {
     "data": {
      "text/html": [
       "<table>\n",
       "<thead><tr><th scope=col>manufacturer</th><th scope=col>model</th><th scope=col>displ</th><th scope=col>year</th><th scope=col>cyl</th><th scope=col>trans</th><th scope=col>drv</th><th scope=col>cty</th><th scope=col>hwy</th><th scope=col>fl</th><th scope=col>class</th></tr></thead>\n",
       "<tbody>\n",
       "\t<tr><td>audi      </td><td>a4        </td><td>1.8       </td><td>1999      </td><td>4         </td><td>auto(l5)  </td><td>f         </td><td>18        </td><td>29        </td><td>p         </td><td>compact   </td></tr>\n",
       "\t<tr><td>audi      </td><td>a4        </td><td>1.8       </td><td>1999      </td><td>4         </td><td>manual(m5)</td><td>f         </td><td>21        </td><td>29        </td><td>p         </td><td>compact   </td></tr>\n",
       "\t<tr><td>audi      </td><td>a4        </td><td>2.0       </td><td>2008      </td><td>4         </td><td>manual(m6)</td><td>f         </td><td>20        </td><td>31        </td><td>p         </td><td>compact   </td></tr>\n",
       "\t<tr><td>audi      </td><td>a4        </td><td>2.0       </td><td>2008      </td><td>4         </td><td>auto(av)  </td><td>f         </td><td>21        </td><td>30        </td><td>p         </td><td>compact   </td></tr>\n",
       "\t<tr><td>audi      </td><td>a4        </td><td>2.8       </td><td>1999      </td><td>6         </td><td>auto(l5)  </td><td>f         </td><td>16        </td><td>26        </td><td>p         </td><td>compact   </td></tr>\n",
       "\t<tr><td>audi      </td><td>a4        </td><td>2.8       </td><td>1999      </td><td>6         </td><td>manual(m5)</td><td>f         </td><td>18        </td><td>26        </td><td>p         </td><td>compact   </td></tr>\n",
       "</tbody>\n",
       "</table>\n"
      ],
      "text/latex": [
       "\\begin{tabular}{r|lllllllllll}\n",
       " manufacturer & model & displ & year & cyl & trans & drv & cty & hwy & fl & class\\\\\n",
       "\\hline\n",
       "\t audi       & a4         & 1.8        & 1999       & 4          & auto(l5)   & f          & 18         & 29         & p          & compact   \\\\\n",
       "\t audi       & a4         & 1.8        & 1999       & 4          & manual(m5) & f          & 21         & 29         & p          & compact   \\\\\n",
       "\t audi       & a4         & 2.0        & 2008       & 4          & manual(m6) & f          & 20         & 31         & p          & compact   \\\\\n",
       "\t audi       & a4         & 2.0        & 2008       & 4          & auto(av)   & f          & 21         & 30         & p          & compact   \\\\\n",
       "\t audi       & a4         & 2.8        & 1999       & 6          & auto(l5)   & f          & 16         & 26         & p          & compact   \\\\\n",
       "\t audi       & a4         & 2.8        & 1999       & 6          & manual(m5) & f          & 18         & 26         & p          & compact   \\\\\n",
       "\\end{tabular}\n"
      ],
      "text/markdown": [
       "\n",
       "| manufacturer | model | displ | year | cyl | trans | drv | cty | hwy | fl | class |\n",
       "|---|---|---|---|---|---|---|---|---|---|---|\n",
       "| audi       | a4         | 1.8        | 1999       | 4          | auto(l5)   | f          | 18         | 29         | p          | compact    |\n",
       "| audi       | a4         | 1.8        | 1999       | 4          | manual(m5) | f          | 21         | 29         | p          | compact    |\n",
       "| audi       | a4         | 2.0        | 2008       | 4          | manual(m6) | f          | 20         | 31         | p          | compact    |\n",
       "| audi       | a4         | 2.0        | 2008       | 4          | auto(av)   | f          | 21         | 30         | p          | compact    |\n",
       "| audi       | a4         | 2.8        | 1999       | 6          | auto(l5)   | f          | 16         | 26         | p          | compact    |\n",
       "| audi       | a4         | 2.8        | 1999       | 6          | manual(m5) | f          | 18         | 26         | p          | compact    |\n",
       "\n"
      ],
      "text/plain": [
       "  manufacturer model displ year cyl trans      drv cty hwy fl class  \n",
       "1 audi         a4    1.8   1999 4   auto(l5)   f   18  29  p  compact\n",
       "2 audi         a4    1.8   1999 4   manual(m5) f   21  29  p  compact\n",
       "3 audi         a4    2.0   2008 4   manual(m6) f   20  31  p  compact\n",
       "4 audi         a4    2.0   2008 4   auto(av)   f   21  30  p  compact\n",
       "5 audi         a4    2.8   1999 6   auto(l5)   f   16  26  p  compact\n",
       "6 audi         a4    2.8   1999 6   manual(m5) f   18  26  p  compact"
      ]
     },
     "metadata": {},
     "output_type": "display_data"
    }
   ],
   "source": [
    "library(ggplot2)\n",
    "head(mpg)"
   ]
  },
  {
   "cell_type": "markdown",
   "metadata": {},
   "source": [
    "before learning, in concern with the readability, we will change the default figure size using `repr`\n",
    "\n",
    "## Key components\n",
    "\n",
    "1. data: `mpg`\n",
    "2. aesthetic mappings: engine size → x position, fuel economy → y position\n",
    "3. layer: points"
   ]
  },
  {
   "cell_type": "code",
   "execution_count": 2,
   "metadata": {
    "scrolled": true
   },
   "outputs": [
    {
     "data": {
      "image/png": "[encoded data removed]",
      "text/plain": [
       "plot without title"
      ]
     },
     "metadata": {},
     "output_type": "display_data"
    }
   ],
   "source": [
    "# use package repr to limit the figure size\n",
    "library(repr)\n",
    "options(repr.plot.width=3, repr.plot.height=2)\n",
    "\n",
    "ggplot(mpg, aes(x = displ, y = hwy))+# data and mapping\n",
    "geom_point()# layer"
   ]
  },
  {
   "cell_type": "markdown",
   "metadata": {},
   "source": [
    "here `aes()` is to construct aesthetic mappings\n",
    "\n",
    "## Colour, size, shape and other aesthetic attributes\n",
    "\n",
    "another mapping, from class variables to color, by adding additional arguments when calling `aes()`\n",
    "\n",
    "- `colour = colName`\n",
    "- `shape = colName`\n",
    "- `size = colName`\n",
    "- `alpha = alphaNum`: transparency, from $0$ to $1$"
   ]
  },
  {
   "cell_type": "code",
   "execution_count": 3,
   "metadata": {},
   "outputs": [
    {
     "data": {
      "image/png": "[encoded data removed]",
      "text/plain": [
       "plot without title"
      ]
     },
     "metadata": {},
     "output_type": "display_data"
    }
   ],
   "source": [
    "options(repr.plot.width=4, repr.plot.height=2)\n",
    "ggplot(mpg, aes(displ, cty, colour = class, alpha=0.5)) + \n",
    "geom_point()"
   ]
  },
  {
   "cell_type": "markdown",
   "metadata": {
    "code_folding": [
     0
    ]
   },
   "source": [
    "a scale will be generated automatically\n",
    "\n",
    "Then to set a fixed aesthetic value, do so in the individual layer outside of `aes()`, like"
   ]
  },
  {
   "cell_type": "code",
   "execution_count": 4,
   "metadata": {},
   "outputs": [
    {
     "data": {
      "image/png": "[encoded data removed]",
      "text/plain": [
       "plot without title"
      ]
     },
     "metadata": {},
     "output_type": "display_data"
    }
   ],
   "source": [
    "ggplot(mpg, aes(displ, cty)) + geom_point(colour = \"blue\")"
   ]
  },
  {
   "cell_type": "markdown",
   "metadata": {},
   "source": [
    "more colors available are listed by running `vignette(\"ggplot2-specs\")`\n",
    "\n",
    "## Facetting\n",
    "\n",
    "- splitting the data into subsets\n",
    "- displaying the similar graph for each subset\n",
    "- put graphs into a table\n",
    "\n",
    "types of facetting\n",
    "\n",
    "- grid\n",
    "- wrapped\n",
    "\n",
    "below is an example of using wrapped facetting, add `facet_wrap(~colName)` to facet your data according to that column"
   ]
  },
  {
   "cell_type": "code",
   "execution_count": 5,
   "metadata": {},
   "outputs": [
    {
     "data": {
      "image/png": "[encoded data removed]",
      "text/plain": [
       "plot without title"
      ]
     },
     "metadata": {},
     "output_type": "display_data"
    }
   ],
   "source": [
    "options(repr.plot.width=6, repr.plot.height=4)\n",
    "ggplot(mpg, aes(displ, hwy)) + \n",
    "geom_point() + \n",
    "facet_wrap(~class)"
   ]
  },
  {
   "cell_type": "markdown",
   "metadata": {},
   "source": [
    "## Plot geoms\n",
    "\n",
    "- `geom_smooth()`: fits a smoother to the data; displays the smooth and its standard error\n",
    "- `geom_boxplot()`: produces a box-and-whisker plot to summarise the distribution of a set of points\n",
    "- `geom_histogram()`: shows histogram, default for 1d data\n",
    "- `geom_freqpoly()` shows frequency polygon, the distribution of continuous variables *(seems to cause bugs sometime)*\n",
    "- `geom_bar()` shows the distribution of categorical variables\n",
    "- `geom_path()`: draws lines between points, in any direction\n",
    "- `geom_line()`: draws lines between points from left to right, often used when dealing with time\n",
    "\n",
    "###  Adding a smoother to a plot\n",
    "\n",
    "Note that smoother layer is under points layer so add points layer first (change the order if you want)"
   ]
  },
  {
   "cell_type": "code",
   "execution_count": 6,
   "metadata": {},
   "outputs": [
    {
     "name": "stderr",
     "output_type": "stream",
     "text": [
      "`geom_smooth()` using method = 'loess' and formula 'y ~ x'\n"
     ]
    },
    {
     "data": {
      "image/png": "[encoded data removed]",
      "text/plain": [
       "plot without title"
      ]
     },
     "metadata": {},
     "output_type": "display_data"
    }
   ],
   "source": [
    "options(repr.plot.width=5, repr.plot.height=3)\n",
    "ggplot(mpg, aes(displ, hwy)) + \n",
    "geom_point() + \n",
    "geom_smooth()"
   ]
  },
  {
   "cell_type": "markdown",
   "metadata": {},
   "source": [
    "to disable showing the standard error, add another argument: `se=FALSE` to function `geom_smooth()`"
   ]
  },
  {
   "cell_type": "code",
   "execution_count": 7,
   "metadata": {},
   "outputs": [
    {
     "name": "stderr",
     "output_type": "stream",
     "text": [
      "`geom_smooth()` using method = 'loess' and formula 'y ~ x'\n"
     ]
    },
    {
     "data": {
      "image/png": "[encoded data removed]",
      "text/plain": [
       "plot without title"
      ]
     },
     "metadata": {},
     "output_type": "display_data"
    }
   ],
   "source": [
    "ggplot(mpg, aes(displ, hwy)) + \n",
    "geom_smooth(se=FALSE) + \n",
    "geom_point()"
   ]
  },
  {
   "cell_type": "markdown",
   "metadata": {},
   "source": [
    "and you can see that there're different regression methods available. The default method we just encounter is\n",
    "\n",
    "- `method='loess'`, which have another argument: `span=wigglyDegree`, from $0$ to $1$, as how wiggly the curve should be. This method is not for datasets with over $1000$ observations (it's $O(n^2)$)\n",
    "- `method='gam'`, **generalised additive model**, which require package `mgcv`\n",
    "    - default formula: `formula = y ~ s(x)`\n",
    "    - large data: `formula = y ~ s(x, bs = \"cs\")`\n",
    "- `method='lm'`, linear model\n",
    "- `method='rlm'`, linear model with robust fitting, require package `mass`"
   ]
  },
  {
   "cell_type": "code",
   "execution_count": 8,
   "metadata": {},
   "outputs": [
    {
     "name": "stderr",
     "output_type": "stream",
     "text": [
      "`geom_smooth()` using method = 'loess' and formula 'y ~ x'\n"
     ]
    },
    {
     "data": {
      "image/png": "[encoded data removed]",
      "text/plain": [
       "plot without title"
      ]
     },
     "metadata": {},
     "output_type": "display_data"
    }
   ],
   "source": [
    "ggplot(mpg, aes(displ, hwy)) + \n",
    "geom_point() + \n",
    "geom_smooth(span = 0.2)"
   ]
  },
  {
   "cell_type": "code",
   "execution_count": 9,
   "metadata": {},
   "outputs": [
    {
     "name": "stderr",
     "output_type": "stream",
     "text": [
      "Loading required package: nlme\n",
      "This is mgcv 1.8-28. For overview type 'help(\"mgcv-package\")'.\n"
     ]
    },
    {
     "data": {
      "image/png": "[encoded data removed]",
      "text/plain": [
       "plot without title"
      ]
     },
     "metadata": {},
     "output_type": "display_data"
    }
   ],
   "source": [
    "library(mgcv)\n",
    "ggplot(mpg, aes(displ, hwy)) + \n",
    "geom_point() + \n",
    "geom_smooth(method = \"gam\", formula = y ~ s(x))"
   ]
  },
  {
   "cell_type": "code",
   "execution_count": 10,
   "metadata": {},
   "outputs": [
    {
     "data": {
      "image/png": "[encoded data removed]",
      "text/plain": [
       "plot without title"
      ]
     },
     "metadata": {},
     "output_type": "display_data"
    }
   ],
   "source": [
    "ggplot(mpg, aes(displ, hwy)) + \n",
    "geom_point() + \n",
    "geom_smooth(method = \"lm\")"
   ]
  },
  {
   "cell_type": "markdown",
   "metadata": {},
   "source": [
    "### Boxplots and jittered points\n",
    "\n",
    "when dealing with a categorical variable and one or more continuous variables, we may want to know, *how the continuous variables distributed under different category*"
   ]
  },
  {
   "cell_type": "code",
   "execution_count": 11,
   "metadata": {},
   "outputs": [
    {
     "data": {
      "image/png": "[encoded data removed]",
      "text/plain": [
       "plot without title"
      ]
     },
     "metadata": {},
     "output_type": "display_data"
    }
   ],
   "source": [
    "ggplot(mpg, aes(drv, hwy, colour = drv)) + \n",
    "geom_point()"
   ]
  },
  {
   "cell_type": "markdown",
   "metadata": {},
   "source": [
    "advanced plot functions to avoid overplotting\n",
    "\n",
    "- `geom_jitter()`, Jittering, adds a little random noise to the data which can help avoid overplotting. Accept arguments:\n",
    "    - `color`\n",
    "    - `size`\n",
    "    - `shape`\n",
    "    - `width`, control the width of the noise\n",
    "- `geom_boxplot()`, Boxplots, summarise the shape of the distribution with a handful of summary statistics. Accept arguments:\n",
    "    - `color`\n",
    "    - `fill`: the color to fill\n",
    "- `geom_violin()`, Violin plots, show a compact representation of the “density” of the distribution, highlighting the areas where more points are found. Accept arguments:\n",
    "    - `color`\n",
    "    - `fill`\n",
    "\n",
    "here's a comparison between the three, we need a multiplot function first."
   ]
  },
  {
   "cell_type": "code",
   "execution_count": 12,
   "metadata": {
    "code_folding": [
     0
    ],
    "collapsed": true
   },
   "outputs": [],
   "source": [
    "# multiplot function from Cookbook for R by Winston Chang\n",
    "# http://www.cookbook-r.com/Graphs/Multiple_graphs_on_one_page_(ggplot2)/\n",
    "multiplot <- function(..., plotlist=NULL, file, ncol=1, layout=NULL) {\n",
    "  library(grid)\n",
    "\n",
    "  # Make a list from the ... arguments and plotlist\n",
    "  plots <- c(list(...), plotlist)\n",
    "\n",
    "  numPlots = length(plots)\n",
    "\n",
    "  # If layout is NULL, then use 'ncol' to determine layout\n",
    "  if (is.null(layout)) {\n",
    "    # Make the panel\n",
    "    # ncol: Number of columns of plots\n",
    "    # nrow: Number of rows needed, calculated from # of column\n",
    "    layout <- matrix(seq(1, ncol * ceiling(numPlots/ncol)),\n",
    "                    ncol = ncol, nrow = ceiling(numPlots/ncol))\n",
    "  }\n",
    "\n",
    " if (numPlots==1) {\n",
    "    print(plots[[1]])\n",
    "\n",
    "  } else {\n",
    "    # Set up the page\n",
    "    grid.newpage()\n",
    "    pushViewport(viewport(layout = grid.layout(nrow(layout), ncol(layout))))\n",
    "\n",
    "    # Make each plot, in the correct location\n",
    "    for (i in 1:numPlots) {\n",
    "      # Get the i,j matrix positions of the regions that contain this subplot\n",
    "      matchidx <- as.data.frame(which(layout == i, arr.ind = TRUE))\n",
    "\n",
    "      print(plots[[i]], vp = viewport(layout.pos.row = matchidx$row,\n",
    "                                      layout.pos.col = matchidx$col))\n",
    "    }\n",
    "  }\n",
    "}"
   ]
  },
  {
   "cell_type": "code",
   "execution_count": 13,
   "metadata": {},
   "outputs": [],
   "source": [
    "plot1 <- ggplot(mpg, aes(drv, hwy)) + geom_jitter(color='red')\n",
    "plot2 <- ggplot(mpg, aes(drv, hwy)) + geom_boxplot(color='green', fill='yellow')\n",
    "plot3 <- ggplot(mpg, aes(drv, hwy)) + geom_violin(color='blue', fill='red')"
   ]
  },
  {
   "cell_type": "markdown",
   "metadata": {},
   "source": [
    "### Histograms and frequency polygons\n",
    "\n",
    "to show the distribution of a single numeric variable"
   ]
  },
  {
   "cell_type": "code",
   "execution_count": 14,
   "metadata": {},
   "outputs": [
    {
     "name": "stderr",
     "output_type": "stream",
     "text": [
      "`stat_bin()` using `bins = 30`. Pick better value with `binwidth`.\n",
      "`stat_bin()` using `bins = 30`. Pick better value with `binwidth`.\n"
     ]
    },
    {
     "data": {
      "image/png": "[encoded data removed]",
      "text/plain": [
       "plot without title"
      ]
     },
     "metadata": {},
     "output_type": "display_data"
    }
   ],
   "source": [
    "plot1 <- ggplot(mpg, aes(hwy)) + geom_histogram()\n",
    "plot2 <- ggplot(mpg, aes(hwy)) + geom_freqpoly()\n",
    "multiplot(plot1,plot2,ncol=2)"
   ]
  },
  {
   "cell_type": "markdown",
   "metadata": {},
   "source": [
    "binwidth is the width to bin the data, add arguments `binwidth=binWidth` to control it"
   ]
  },
  {
   "cell_type": "code",
   "execution_count": 15,
   "metadata": {},
   "outputs": [
    {
     "data": {
      "image/png": "[encoded data removed]",
      "text/plain": [
       "plot without title"
      ]
     },
     "metadata": {},
     "output_type": "display_data"
    }
   ],
   "source": [
    "plot1 <- ggplot(mpg, aes(hwy)) + geom_freqpoly(binwidth = 5)\n",
    "plot2 <- ggplot(mpg, aes(hwy)) + geom_freqpoly(binwidth = 1)\n",
    "multiplot(plot1,plot2,ncol=2)"
   ]
  },
  {
   "cell_type": "markdown",
   "metadata": {},
   "source": [
    "`geom_density()` is not recommanded.\n",
    "\n",
    "`geom_freqpoly()` accept arguments `color=colName`, `geom_histogram()` accept arguments `fill=colName`"
   ]
  },
  {
   "cell_type": "code",
   "execution_count": 16,
   "metadata": {},
   "outputs": [
    {
     "data": {
      "image/png": "[encoded data removed]",
      "text/plain": [
       "plot without title"
      ]
     },
     "metadata": {},
     "output_type": "display_data"
    }
   ],
   "source": [
    "options(repr.plot.width=9, repr.plot.height=3)\n",
    "plot1 <- ggplot(mpg, aes(displ, colour = drv)) + \n",
    "geom_freqpoly(binwidth = 0.5)\n",
    "plot2 <- ggplot(mpg, aes(displ, fill = drv)) + \n",
    "geom_histogram(binwidth = 0.5) + \n",
    "facet_wrap(~drv, ncol = 2)\n",
    "\n",
    "multiplot(plot1,plot2,ncol=2)"
   ]
  },
  {
   "cell_type": "markdown",
   "metadata": {},
   "source": [
    "add arguments `ncol=colNum` to control the grid when facetting。\n",
    "\n",
    "### Bar charts\n",
    "\n",
    "`geom_bar()`, for 1d variables"
   ]
  },
  {
   "cell_type": "code",
   "execution_count": 17,
   "metadata": {},
   "outputs": [
    {
     "data": {
      "image/png": "[encoded data removed]",
      "text/plain": [
       "plot without title"
      ]
     },
     "metadata": {},
     "output_type": "display_data"
    }
   ],
   "source": [
    "ggplot(mpg, aes(manufacturer)) + \n",
    "geom_bar()"
   ]
  },
  {
   "cell_type": "markdown",
   "metadata": {},
   "source": [
    "the above bar chart is for unsummarised data, another bar chart is just the data, same as point chart like the following\n",
    "\n",
    "for `geom_bar()`, add parameter `stat = \"identity\"` to show the number, not to bin and count."
   ]
  },
  {
   "cell_type": "code",
   "execution_count": 18,
   "metadata": {},
   "outputs": [
    {
     "data": {
      "image/png": "[encoded data removed]",
      "text/plain": [
       "plot without title"
      ]
     },
     "metadata": {},
     "output_type": "display_data"
    }
   ],
   "source": [
    "myDF <- data.frame(\n",
    "  A = c(\"a\", \"b\", \"c\"),\n",
    "  B = c(4.2, 9.7, 6.1)\n",
    ")\n",
    "plot1 <- ggplot(myDF, aes(A, B)) + geom_bar(stat = \"identity\")\n",
    "plot2 <- ggplot(myDF, aes(A, B)) + geom_point()\n",
    "multiplot(plot1,plot2,ncol=2)"
   ]
  },
  {
   "cell_type": "markdown",
   "metadata": {},
   "source": [
    "just the same with `geom_point()`, so, not recommended\n",
    "\n",
    "### Time series with line and path plots\n",
    "\n",
    "using `economics` dataset"
   ]
  },
  {
   "cell_type": "code",
   "execution_count": 23,
   "metadata": {},
   "outputs": [
    {
     "data": {
      "text/html": [
       "<table>\n",
       "<thead><tr><th scope=col>date</th><th scope=col>pce</th><th scope=col>pop</th><th scope=col>psavert</th><th scope=col>uempmed</th><th scope=col>unemploy</th></tr></thead>\n",
       "<tbody>\n",
       "\t<tr><td>1967-07-01</td><td>507.4     </td><td>198712    </td><td>12.5      </td><td>4.5       </td><td>2944      </td></tr>\n",
       "\t<tr><td>1967-08-01</td><td>510.5     </td><td>198911    </td><td>12.5      </td><td>4.7       </td><td>2945      </td></tr>\n",
       "\t<tr><td>1967-09-01</td><td>516.3     </td><td>199113    </td><td>11.7      </td><td>4.6       </td><td>2958      </td></tr>\n",
       "\t<tr><td>1967-10-01</td><td>512.9     </td><td>199311    </td><td>12.5      </td><td>4.9       </td><td>3143      </td></tr>\n",
       "\t<tr><td>1967-11-01</td><td>518.1     </td><td>199498    </td><td>12.5      </td><td>4.7       </td><td>3066      </td></tr>\n",
       "\t<tr><td>1967-12-01</td><td>525.8     </td><td>199657    </td><td>12.1      </td><td>4.8       </td><td>3018      </td></tr>\n",
       "</tbody>\n",
       "</table>\n"
      ],
      "text/latex": [
       "\\begin{tabular}{r|llllll}\n",
       " date & pce & pop & psavert & uempmed & unemploy\\\\\n",
       "\\hline\n",
       "\t 1967-07-01 & 507.4      & 198712     & 12.5       & 4.5        & 2944      \\\\\n",
       "\t 1967-08-01 & 510.5      & 198911     & 12.5       & 4.7        & 2945      \\\\\n",
       "\t 1967-09-01 & 516.3      & 199113     & 11.7       & 4.6        & 2958      \\\\\n",
       "\t 1967-10-01 & 512.9      & 199311     & 12.5       & 4.9        & 3143      \\\\\n",
       "\t 1967-11-01 & 518.1      & 199498     & 12.5       & 4.7        & 3066      \\\\\n",
       "\t 1967-12-01 & 525.8      & 199657     & 12.1       & 4.8        & 3018      \\\\\n",
       "\\end{tabular}\n"
      ],
      "text/markdown": [
       "\n",
       "| date | pce | pop | psavert | uempmed | unemploy |\n",
       "|---|---|---|---|---|---|\n",
       "| 1967-07-01 | 507.4      | 198712     | 12.5       | 4.5        | 2944       |\n",
       "| 1967-08-01 | 510.5      | 198911     | 12.5       | 4.7        | 2945       |\n",
       "| 1967-09-01 | 516.3      | 199113     | 11.7       | 4.6        | 2958       |\n",
       "| 1967-10-01 | 512.9      | 199311     | 12.5       | 4.9        | 3143       |\n",
       "| 1967-11-01 | 518.1      | 199498     | 12.5       | 4.7        | 3066       |\n",
       "| 1967-12-01 | 525.8      | 199657     | 12.1       | 4.8        | 3018       |\n",
       "\n"
      ],
      "text/plain": [
       "  date       pce   pop    psavert uempmed unemploy\n",
       "1 1967-07-01 507.4 198712 12.5    4.5     2944    \n",
       "2 1967-08-01 510.5 198911 12.5    4.7     2945    \n",
       "3 1967-09-01 516.3 199113 11.7    4.6     2958    \n",
       "4 1967-10-01 512.9 199311 12.5    4.9     3143    \n",
       "5 1967-11-01 518.1 199498 12.5    4.7     3066    \n",
       "6 1967-12-01 525.8 199657 12.1    4.8     3018    "
      ]
     },
     "metadata": {},
     "output_type": "display_data"
    },
    {
     "data": {
      "image/png": "[encoded data removed]",
      "text/plain": [
       "plot without title"
      ]
     },
     "metadata": {},
     "output_type": "display_data"
    }
   ],
   "source": [
    "head(economics)\n",
    "plot1 <- ggplot(economics, aes(date, unemploy)) + geom_line()\n",
    "plot2 <- ggplot(economics, aes(unemploy / pop, uempmed)) + geom_path() + geom_point()\n",
    "multiplot(plot1,plot2,ncol=2)"
   ]
  },
  {
   "cell_type": "markdown",
   "metadata": {},
   "source": [
    "line plot is used to track *one* variable with time; path plot is to show how *two* variables change together\n",
    "\n",
    "To see how the two variables change with time, add color to it"
   ]
  },
  {
   "cell_type": "code",
   "execution_count": 20,
   "metadata": {
    "scrolled": false
   },
   "outputs": [
    {
     "data": {
      "image/png": "[encoded data removed]",
      "text/plain": [
       "plot without title"
      ]
     },
     "metadata": {},
     "output_type": "display_data"
    }
   ],
   "source": [
    "year <- function(x) as.POSIXlt(x)$year + 1900\n",
    "ggplot(economics, aes(unemploy / pop, uempmed)) + \n",
    "geom_path(colour = \"grey50\") + # grey50 is an implemented color\n",
    "geom_point(aes(colour = year(date)))"
   ]
  },
  {
   "cell_type": "markdown",
   "metadata": {},
   "source": [
    "`as.POSIXlt(x)` is a date-time conversion function, see documentation.\n",
    "\n",
    "## Modifying the axes\n",
    "\n",
    "- `xlab()` and `ylab()` modify the x- and y-axis labels\n",
    "- `xlim()` and `ylim()` modify the limits of axes"
   ]
  },
  {
   "cell_type": "code",
   "execution_count": 28,
   "metadata": {},
   "outputs": [
    {
     "data": {
      "image/png": "[encoded data removed]",
      "text/plain": [
       "plot without title"
      ]
     },
     "metadata": {},
     "output_type": "display_data"
    }
   ],
   "source": [
    "plot1 <- ggplot(mpg, aes(cty, hwy)) +\n",
    "geom_point(alpha = 1 / 3)\n",
    "\n",
    "plot2 <- ggplot(mpg, aes(cty, hwy)) +\n",
    "geom_point(alpha = 1 / 3) + \n",
    "xlab(\"city driving (mpg)\") + \n",
    "ylab(\"highway driving (mpg)\")\n",
    "\n",
    "# Remove the axis labels with NULL\n",
    "plot3 <- ggplot(mpg, aes(cty, hwy)) +\n",
    "geom_point(alpha = 1 / 3) + \n",
    "xlab(NULL) + \n",
    "ylab(NULL)\n",
    "\n",
    "multiplot(plot1,plot2,plot2，ncol=3)"
   ]
  },
  {
   "cell_type": "code",
   "execution_count": 30,
   "metadata": {},
   "outputs": [
    {
     "name": "stderr",
     "output_type": "stream",
     "text": [
      "Warning message:\n",
      "\"Removed 137 rows containing missing values (geom_point).\"Warning message:\n",
      "\"Removed 137 rows containing missing values (geom_point).\""
     ]
    },
    {
     "data": {
      "image/png": "[encoded data removed]",
      "text/plain": [
       "plot without title"
      ]
     },
     "metadata": {},
     "output_type": "display_data"
    }
   ],
   "source": [
    "plot1 <- ggplot(mpg, aes(drv, hwy)) +\n",
    "geom_jitter(width = 0.25)\n",
    "\n",
    "plot2 <- ggplot(mpg, aes(drv, hwy)) +\n",
    "geom_jitter(width = 0.25) + \n",
    "xlim(\"f\", \"r\") + \n",
    "ylim(20, 30)\n",
    "  \n",
    "# For continuous scales, use NA to set only one limit\n",
    "plot3 <- ggplot(mpg, aes(drv, hwy)) +\n",
    "geom_jitter(width = 0.25, na.rm = TRUE) + \n",
    "ylim(NA, 30)\n",
    "\n",
    "multiplot(plot1,plot2,plot2，ncol=3)"
   ]
  },
  {
   "cell_type": "markdown",
   "metadata": {},
   "source": [
    "set `na.rm = TRUE` to remove missing values silently, otherwise with a warming. And about setting `ylim` with `NA`, just to be careful when dealing with summary statistics.\n",
    "\n",
    "## Output\n",
    "\n",
    "- `print()`, show the plot\n",
    "- `ggsave()`, save the plot\n",
    "- `summary()`, breifly describe the plot\n",
    "- `saveRDS()` and `readRDS()`, save and read the plot object"
   ]
  },
  {
   "cell_type": "code",
   "execution_count": 31,
   "metadata": {},
   "outputs": [
    {
     "data": {
      "image/png": "[encoded data removed]",
      "text/plain": [
       "plot without title"
      ]
     },
     "metadata": {},
     "output_type": "display_data"
    }
   ],
   "source": [
    "p <- ggplot(mpg, aes(displ, hwy, colour = factor(cyl))) + geom_point()\n",
    "print(p)"
   ]
  },
  {
   "cell_type": "code",
   "execution_count": 33,
   "metadata": {},
   "outputs": [
    {
     "name": "stdout",
     "output_type": "stream",
     "text": [
      "data: manufacturer, model, displ, year, cyl, trans, drv, cty, hwy, fl,\n",
      "  class [234x11]\n",
      "mapping:  x = ~displ, y = ~hwy, colour = ~factor(cyl)\n",
      "faceting: <ggproto object: Class FacetNull, Facet, gg>\n",
      "    compute_layout: function\n",
      "    draw_back: function\n",
      "    draw_front: function\n",
      "    draw_labels: function\n",
      "    draw_panels: function\n",
      "    finish_data: function\n",
      "    init_scales: function\n",
      "    map_data: function\n",
      "    params: list\n",
      "    setup_data: function\n",
      "    setup_params: function\n",
      "    shrink: TRUE\n",
      "    train_scales: function\n",
      "    vars: function\n",
      "    super:  <ggproto object: Class FacetNull, Facet, gg>\n",
      "-----------------------------------\n",
      "geom_point: na.rm = FALSE\n",
      "stat_identity: na.rm = FALSE\n",
      "position_identity \n",
      "\n"
     ]
    }
   ],
   "source": [
    "ggsave(\"./assets/plot.png\", width = 5, height = 5)\n",
    "summary(p)"
   ]
  },
  {
   "cell_type": "code",
   "execution_count": 34,
   "metadata": {},
   "outputs": [],
   "source": [
    "saveRDS(p, \"./assets/plot.rds\")\n",
    "q <- readRDS(\"./assets/plot.rds\")"
   ]
  },
  {
   "cell_type": "code",
   "execution_count": 35,
   "metadata": {},
   "outputs": [
    {
     "data": {
      "image/png": "[encoded data removed]",
      "text/plain": [
       "plot without title"
      ]
     },
     "metadata": {},
     "output_type": "display_data"
    }
   ],
   "source": [
    "print(q)"
   ]
  },
  {
   "cell_type": "code",
   "execution_count": null,
   "metadata": {},
   "outputs": [],
   "source": []
  }
 ],
 "metadata": {
  "kernelspec": {
   "display_name": "R",
   "language": "R",
   "name": "ir"
  },
  "language_info": {
   "codemirror_mode": "r",
   "file_extension": ".r",
   "mimetype": "text/x-r-source",
   "name": "R",
   "pygments_lexer": "r",
   "version": "3.6.0"
  },
  "toc": {
   "base_numbering": 1,
   "nav_menu": {
    "height": "84px",
    "width": "172.9px"
   },
   "number_sections": true,
   "sideBar": true,
   "skip_h1_title": false,
   "title_cell": "Table of Contents",
   "title_sidebar": "Contents",
   "toc_cell": false,
   "toc_position": {},
   "toc_section_display": true,
   "toc_window_display": false
  },
  "varInspector": {
   "cols": {
    "lenName": 16,
    "lenType": 16,
    "lenVar": 40
   },
   "kernels_config": {
    "python": {
     "delete_cmd_postfix": "",
     "delete_cmd_prefix": "del ",
     "library": "var_list.py",
     "varRefreshCmd": "print(var_dic_list())"
    },
    "r": {
     "delete_cmd_postfix": ") ",
     "delete_cmd_prefix": "rm(",
     "library": "var_list.r",
     "varRefreshCmd": "cat(var_dic_list()) "
    }
   },
   "types_to_exclude": [
    "module",
    "function",
    "builtin_function_or_method",
    "instance",
    "_Feature"
   ],
   "window_display": false
  }
 },
 "nbformat": 4,
 "nbformat_minor": 2
}
