{
 "cells": [
  {
   "cell_type": "markdown",
   "metadata": {},
   "source": [
    "# <center>Applied Stochastic Processes HW_09</center>\n",
    "\n",
    "**<center>11510691 程远星$\\DeclareMathOperator*{\\argmin}{argmin}\n",
    "\\DeclareMathOperator*{\\argmax}{argmax}\n",
    "\\DeclareMathOperator*{\\plim}{plim}\n",
    "\\newcommand{\\using}[1]{\\stackrel{\\mathrm{#1}}{=}}\n",
    "\\newcommand{\\ffrac}{\\displaystyle \\frac}\n",
    "\\newcommand{\\asim}{\\overset{\\text{a}}{\\sim}}\n",
    "\\newcommand{\\space}{\\text{ }}\n",
    "\\newcommand{\\bspace}{\\;\\;\\;\\;}\n",
    "\\newcommand{\\QQQ}{\\boxed{?\\:}}\n",
    "\\newcommand{\\void}{\\left.\\right.}\n",
    "\\newcommand{\\Tran}[1]{{#1}^{\\mathrm{T}}}\n",
    "\\newcommand{\\d}[1]{\\displaystyle{#1}}\n",
    "\\newcommand{\\CB}[1]{\\left\\{ #1 \\right\\}}\n",
    "\\newcommand{\\SB}[1]{\\left[ #1 \\right]}\n",
    "\\newcommand{\\P}[1]{\\left( #1 \\right)}\n",
    "\\newcommand{\\abs}[1]{\\left| #1 \\right|}\n",
    "\\newcommand{\\norm}[1]{\\left\\| #1 \\right\\|}\n",
    "\\newcommand{\\dd}{\\mathrm{d}}\n",
    "\\newcommand{\\Exp}{\\mathrm{E}}\n",
    "\\newcommand{\\RR}{\\mathbb{R}}\n",
    "\\newcommand{\\EE}{\\mathbb{E}}\n",
    "\\newcommand{\\II}{\\mathbb{I}}\n",
    "\\newcommand{\\NN}{\\mathbb{N}}\n",
    "\\newcommand{\\ZZ}{\\mathbb{Z}}\n",
    "\\newcommand{\\QQ}{\\mathbb{Q}}\n",
    "\\newcommand{\\PP}{\\mathbb{P}}\n",
    "\\newcommand{\\AcA}{\\mathcal{A}}\n",
    "\\newcommand{\\FcF}{\\mathcal{F}}\n",
    "\\newcommand{\\AsA}{\\mathscr{A}}\n",
    "\\newcommand{\\FsF}{\\mathscr{F}}\n",
    "\\newcommand{\\Var}[2][\\,\\!]{\\mathrm{Var}_{#1}\\left[#2\\right]}\n",
    "\\newcommand{\\Avar}[2][\\,\\!]{\\mathrm{Avar}_{#1}\\left[#2\\right]}\n",
    "\\newcommand{\\Cov}[2][\\,\\!]{\\mathrm{Cov}_{#1}\\left(#2\\right)}\n",
    "\\newcommand{\\Corr}[2][\\,\\!]{\\mathrm{Corr}_{#1}\\left(#2\\right)}\n",
    "\\newcommand{\\I}[1]{\\mathrm{I}\\left( #1 \\right)}\n",
    "\\newcommand{\\N}[1]{\\mathcal{N} \\left( #1 \\right)}\n",
    "\\newcommand{\\ow}{\\text{otherwise}}\n",
    "\\void^\\dagger$</center>**"
   ]
  },
  {
   "cell_type": "markdown",
   "metadata": {},
   "source": [
    "## Question 1\n",
    "\n",
    "$\\bspace$Necessity$\\Rightarrow)$:\n",
    "\n",
    "> Since it's time reversible, then the following equation set has a solution\n",
    ">\n",
    ">$$\\begin{cases}\n",
    "x_iP_{ij} = x_j P_{ji}\\\\\n",
    "x_kP_{kj} = x_j P_{jk}\\\\\n",
    "x_iP_{ik} = x_k P_{ki}\n",
    "\\end{cases} \\Rightarrow \\ffrac{x_i}{x_k} = \\ffrac{P_{ki}}{P_{ik}} = \\ffrac{P_{ji}P_{kj}}{P_{ij}P_{ji}} \\Rightarrow P_{ik}P_{kj}P_{ji} = P_{ij}P_{jk}P_{ki}$$\n",
    "\n",
    "$\\bspace$Sufficiency$\\Leftarrow)$:\n",
    "\n",
    ">Given that $P_{ik}P_{kj}P_{ji} = P_{ij}P_{jk}P_{ki}$, we sum over all possible state $k$, we have\n",
    ">\n",
    ">$$P_{ij}^2P_{ji}=P_{ij}P_{ji}^2 \\Rightarrow P_{ij} = P_{ji}$$\n",
    ">\n",
    ">So that by $Theorem4.2$ we have\n",
    ">\n",
    ">$$P_{i,i_1}P_{i_1,i_2} \\cdots P_{i_k,i} = P_{i,i_k}P_{i_k,i_{{k-1}}} \\cdots P_{i_1,i} $$\n",
    ">\n",
    ">for all states $i,i_1,\\dots,i_k$, then the Markov Chain is time reversible"
   ]
  },
  {
   "cell_type": "markdown",
   "metadata": {},
   "source": [
    "## Question 2\n",
    "\n",
    "$\\P{1}$\n",
    "\n",
    "$$\\begin{align}\n",
    "P\\CB{X_{n+1} = i+1 \\mid X_n = i} &= \\P{\\ffrac{m-i}{m}}^2\\\\[0.6em]\n",
    "P\\CB{X_{n+1} = i \\mid X_n = i} &= \\ffrac{2\\P{m-i}i}{m^2}\\\\[0.6em]\n",
    "P\\CB{X_{n+1} = i-1 \\mid X_n = i} &= \\P{\\ffrac{i}{m}}^2\n",
    "\\end{align}$$\n",
    "\n",
    "$\\P{2}$\n",
    "\n",
    "$$\\pi_j = \\lim_{n\\to\\infty}P_{ij}^{\\P{n}} = \\ffrac{\\binom{m}{j}\\binom{m}{m-j}}{\\binom{2m}{m}}$$\n",
    "\n",
    "$\\bspace$And to show the time reversiblity, we can see the following two should be equal.\n",
    "\n",
    "$$\\pi_jP_{j,j+1} = \\ffrac{\\binom{m}{j}\\binom{m}{m-j}}{\\binom{2m}{m}}\\P{\\ffrac{m-j}{m}}^2 = \\ffrac{\\SB{m!}^2}{\\SB{j!}^2\\SB{\\P{m-j-1}!}^2}$$\n",
    "\n",
    "$$\\pi_{j+1}P_{j+1,j} = \\ffrac{\\binom{m}{j+1}\\binom{m}{m-j-1}}{\\binom{2m}{m}}\\P{\\ffrac{j+1}{m}}^2 = \\ffrac{\\SB{m!}^2}{\\SB{j!}^2\\SB{\\P{m-j-1}!}^2}$$\n",
    "\n",
    "$\\bspace$Done!"
   ]
  },
  {
   "cell_type": "markdown",
   "metadata": {},
   "source": [
    "## Question 3\n",
    "\n",
    "$\\P{1}$\n",
    "\n",
    "$\\bspace$To prove this, we can prove $\\sum_{i\\in S}e_{ji}\\pi_j = 1$\n",
    "\n",
    "$$\\begin{align}\n",
    "\\sum_{i\\in S}e_{ji}\\pi_j &= \\sum_{i\\in S}\\sum_{n=1}^{\\infty} e_{ji}^{\\P{n}} \\pi_j \\\\\n",
    "&= \\sum_{n=1}^{\\infty}\\sum_{i\\in S} e_{ji}^{\\P{n}} \\pi_j \\\\\n",
    "&= \\sum_{i\\in S}\\sum_{n=1}^{\\infty} \\pi_i f_{ij}^{\\P{n}} \\\\\n",
    "&= \\sum_{i\\in S} \\pi_i \\\\\n",
    "&= 1\n",
    "\\end{align}$$\n",
    "\n",
    "$\\P{2}$\n",
    "\n",
    "$\\bspace$Consider the $i$th element of vector $\\mu$, and the $i$th element after multiply the matrix $P$:\n",
    "\n",
    "$$\\begin{align}\n",
    "\\mu_i &= e_{ji}\\\\\n",
    "&= \\ffrac{\\pi_i}{\\pi_j}\\\\\n",
    "&= \\ffrac{1}{\\pi_j} \\sum_{k\\in S} \\pi_k P_{ik}\\\\\n",
    "&= \\sum_{k\\in S} e_{jk} P_{ik}\\\\\n",
    "&= \\sum_{k\\in S} \\mu_k P_{ik}\n",
    "\\end{align}$$\n",
    "\n",
    "$\\bspace$And this is to say that $\\vec \\mu P = \\vec \\mu$"
   ]
  },
  {
   "cell_type": "markdown",
   "metadata": {},
   "source": [
    "***"
   ]
  }
 ],
 "metadata": {
  "kernelspec": {
   "display_name": "Python 3",
   "language": "python",
   "name": "python3"
  },
  "language_info": {
   "codemirror_mode": {
    "name": "ipython",
    "version": 3
   },
   "file_extension": ".py",
   "mimetype": "text/x-python",
   "name": "python",
   "nbconvert_exporter": "python",
   "pygments_lexer": "ipython3",
   "version": "3.5.2"
  },
  "toc": {
   "colors": {
    "hover_highlight": "#DAA520",
    "navigate_num": "#000000",
    "navigate_text": "#333333",
    "running_highlight": "#FF0000",
    "selected_highlight": "#FFD700",
    "sidebar_border": "#EEEEEE",
    "wrapper_background": "#FFFFFF"
   },
   "moveMenuLeft": true,
   "nav_menu": {
    "height": "72px",
    "width": "252px"
   },
   "navigate_menu": true,
   "number_sections": true,
   "sideBar": true,
   "threshold": 4,
   "toc_cell": false,
   "toc_section_display": "block",
   "toc_window_display": false,
   "widenNotebook": false
  }
 },
 "nbformat": 4,
 "nbformat_minor": 2
}
