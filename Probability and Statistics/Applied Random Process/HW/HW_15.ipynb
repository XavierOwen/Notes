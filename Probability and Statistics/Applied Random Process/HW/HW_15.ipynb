{
 "cells": [
  {
   "cell_type": "markdown",
   "metadata": {},
   "source": [
    "# <center>Applied Stochastic Processes HW_15</center>\n",
    "\n",
    "**<center>11510691 程$\n",
    "% color\n",
    "% Aquamarine, black, blue, brown, cyan, darkgray, gray, green, lightgray, lime, magenta, olive, orange, pink, purple, red, teal, violet, white, yellow\n",
    "\\DeclareMathOperator*{\\argmin}{argmin}\n",
    "\\DeclareMathOperator*{\\argmax}{argmax}\n",
    "\\DeclareMathOperator*{\\plim}{plim}\n",
    "\\newcommand{\\ffrac}{\\displaystyle \\frac}\n",
    "\\newcommand{\\d}[1]{\\displaystyle{#1}}\n",
    "\\newcommand{\\space}{\\text{ }}\n",
    "\\newcommand{\\bspace}{\\;\\;\\;\\;}\n",
    "\\newcommand{\\bbspace}{\\;\\;\\;\\;\\;\\;\\;\\;}\n",
    "\\newcommand{\\QQQ}{\\boxed{?\\:}}\n",
    "\\newcommand{\\void}{\\left.\\right.}\n",
    "\\newcommand{\\Tran}[1]{{#1}^{\\mathrm{T}}}\n",
    "\\newcommand{\\CB}[1]{\\left\\{ #1 \\right\\}}\n",
    "\\newcommand{\\SB}[1]{\\left[ #1 \\right]}\n",
    "\\newcommand{\\P}[1]{\\left( #1 \\right)}\n",
    "\\newcommand{\\abs}[1]{\\left| #1 \\right|}\n",
    "\\newcommand{\\norm}[1]{\\left\\| #1 \\right\\|}\n",
    "\\newcommand{\\given}[1]{\\left. #1 \\right|}\n",
    "\\newcommand{\\using}[1]{\\stackrel{\\mathrm{#1}}{=}}\n",
    "\\newcommand{\\asim}{\\overset{\\text{a}}{\\sim}}\n",
    "\\newcommand{\\RR}{\\mathbb{R}}\n",
    "\\newcommand{\\EE}{\\mathbb{E}}\n",
    "\\newcommand{\\II}{\\mathbb{I}}\n",
    "\\newcommand{\\NN}{\\mathbb{N}}\n",
    "\\newcommand{\\ZZ}{\\mathbb{Z}}\n",
    "\\newcommand{\\QQ}{\\mathbb{Q}}\n",
    "\\newcommand{\\PP}{\\mathbb{P}}\n",
    "\\newcommand{\\AcA}{\\mathcal{A}}\n",
    "\\newcommand{\\FcF}{\\mathcal{F}}\n",
    "\\newcommand{\\AsA}{\\mathscr{A}}\n",
    "\\newcommand{\\FsF}{\\mathscr{F}}\n",
    "\\newcommand{\\dd}{\\mathrm{d}}\n",
    "\\newcommand{\\I}[1]{\\mathrm{I}\\left( #1 \\right)}\n",
    "\\newcommand{\\N}[1]{\\mathcal{N}\\left( #1 \\right)}\n",
    "\\newcommand{\\Exp}[1]{\\mathrm{E}\\left[ #1 \\right]}\n",
    "\\newcommand{\\Var}[1]{\\mathrm{Var}\\left[ #1 \\right]}\n",
    "\\newcommand{\\Avar}[1]{\\mathrm{Avar}\\left[ #1 \\right]}\n",
    "\\newcommand{\\Cov}[1]{\\mathrm{Cov}\\left( #1 \\right)}\n",
    "\\newcommand{\\Corr}[1]{\\mathrm{Corr}\\left( #1 \\right)}\n",
    "\\newcommand{\\ExpH}{\\mathrm{E}}\n",
    "\\newcommand{\\VarH}{\\mathrm{Var}}\n",
    "\\newcommand{\\AVarH}{\\mathrm{Avar}}\n",
    "\\newcommand{\\CovH}{\\mathrm{Cov}}\n",
    "\\newcommand{\\CorrH}{\\mathrm{Corr}}\n",
    "\\newcommand{\\ow}{\\text{otherwise}}\n",
    "\\newcommand{\\wp}{\\text{with probability }}\n",
    "\\newcommand{\\FSD}{\\text{FSD}}\n",
    "\\newcommand{\\SSD}{\\text{SSD}}$远星$^\\dagger$</center>**"
   ]
  },
  {
   "cell_type": "markdown",
   "metadata": {},
   "source": [
    "## Question 1\n",
    "$\\P 1$\n",
    "\n",
    "$\\bspace$First $\\Exp{V} = 0 + 0 = 0$, however its variance is\n",
    "\n",
    "$$\\begin{align}\n",
    "\\Var{V\\P t}&= \\Var{B\\P t} + \\Var{B\\P t^2} + 2\\Cov{B\\P t, B\\P{t^2}}\\\\\n",
    "&= t + t^2 + 2\\min\\P{t,t^2}\n",
    "\\end{align}$$\n",
    "\n",
    "$\\bspace$For $X\\sim V\\P t$, its pdf is $\\ffrac{1}{\\sqrt{2\\pi\\Var{V\\P t}}}\\exp\\CB{-\\ffrac{x^2}{2\\Var{V\\P t}}}$, not a standart Brownian Motion.\n",
    "\n",
    "$\\P 2$\n",
    "\n",
    "$\\bspace$Firstly, $Y\\P 0 = -B\\P 0 = 0$ and then about the increments, $Y\\P t-Y\\P s = B\\P s - B\\P t $, thus $\\CB{Y\\P t,t\\geq0}$ also has independent and stationary increments. And for every $t>0$, $Y\\P t = -B\\P t$, thus normally distributed with mean $\\Exp{Y\\P t} = -\\Exp{B\\P t} = 0$ and variance $\\Var{Y\\P t} = \\Var{B\\P t} = t$, which also implies that $\\sigma = 1$, standard."
   ]
  },
  {
   "cell_type": "markdown",
   "metadata": {},
   "source": [
    "## Question 2\n",
    "\n",
    "$\\bspace$We can write $X\\P t$ using the given information as $X\\P t = -4+2t+3B\\P t$.\n",
    "\n",
    "$\\P 1$\n",
    "\n",
    "$$\\begin{align}\n",
    "P\\CB{X\\P 5 < 10} &= P\\CB{-4+2\\cdot 5+3B\\P 5 < 10}\\\\\n",
    "&= P\\CB{B\\P 5 < \\ffrac{4}{3}}\\\\\n",
    "&= \\Phi\\P{\\ffrac{4}{3\\sqrt 5}} = 0.7245075062074533\n",
    "\\end{align}$$\n",
    "\n",
    "$\\P 2$\n",
    "\n",
    "$$\\begin{align}\n",
    "P\\CB{X\\P 5 < 10 \\mid X \\P 3 = 5} &= P\\CB{-4+2\\cdot 5+3B\\P 5 < 10 \\mid -4+2 \\cdot 3+3B\\P 3 = 5}\\\\\n",
    "&= P\\CB{B\\P 5 < \\ffrac{4}{3} \\mid B\\P 3 = 1}\\\\\n",
    "&= P\\CB{B\\P 5 - B\\P 3 < \\ffrac{1}{3} \\mid B\\P 3 = 1}\\\\\n",
    "&= P\\CB{B\\P 2 < \\ffrac{1}{3}}\\\\\n",
    "&= \\Phi\\P{\\ffrac{1}{3\\sqrt 2}} = 0.59316814211660407\n",
    "\\end{align}$$\n",
    "\n",
    "$\\P 3$\n",
    "\n",
    "$$\\begin{align}\n",
    "P\\CB{e^{X\\P 3} < 20 \\mid X\\P 2 = 0}&= P\\CB{-4+2\\cdot3+3B\\P 3 < \\ln\\P{20} \\mid -4  + 2 \\cdot 2 + 3B\\P 2 = 0}\\\\\n",
    "&= P\\CB{B\\P 3 < \\ffrac{\\ln\\P{20} - 2}{3} \\mid B\\P 2 = 0}\\\\\n",
    "&= P\\CB{B\\P 3 - B\\P 2 < \\ffrac{\\ln\\P{20} - 2}{3} - 0}\\\\\n",
    "&= \\Phi\\P{\\ffrac{\\ln\\P{20} - 2}{3\\sqrt1}} = 0.6300216765658242\n",
    "\\end{align}$$"
   ]
  },
  {
   "cell_type": "markdown",
   "metadata": {},
   "source": [
    "## Question 3\n",
    "$\\P 1$\n",
    "\n",
    "$\\bspace$Now $X\\P t = X\\P s + X\\P t - X\\P s = c + X\\P{t-s} \\sim \\N{c+\\mu\\P{t-s},\\sigma^2\\P{t-s}}$\n",
    "\n",
    "$\\P 2$\n",
    "\n",
    "$\\bspace$Since for $s< t$, $\\Exp{B\\P s \\mid B\\P t = B} = \\ffrac{s}{t}B$ and $\\Var{B\\P s \\mid B\\P t = B} = \\ffrac{s}{t}\\P{t-s}$, $X\\P t = \\mu t + \\sigma B\\P t$ and thus for $t<s$\n",
    "\n",
    "$$\\Exp{X\\P t \\mid  X\\P s = c} = \\Exp{\\sigma B\\P t \\mid B\\P s = \\ffrac{c - \\mu s}{\\sigma}} + \\mu t = \\ffrac{\\P{c - \\mu s}t}{s} + \\mu t \\\\\n",
    "\\Var{X\\P t \\mid  X\\P s = c} = \\sigma^2 \\Var{B\\P t \\mid B\\P s = \\ffrac{c - \\mu s}{\\sigma}} = \\ffrac{\\sigma^2t\\P{s-t}}{s}$$"
   ]
  },
  {
   "cell_type": "markdown",
   "metadata": {},
   "source": [
    "## Question 4\n",
    "\n",
    "$$\\begin{align}\n",
    "\\ffrac{\\partial p}{\\partial t} &= \\ffrac{1}{\\sqrt{2\\pi}\\sigma}\\P{-\\ffrac{1}{2\\sqrt{t^3}}\\exp\\CB{-\\ffrac{\\P{ y-x-\\mu t}^2}{2\\sigma^2t}}+\\ffrac{1}{\\sqrt t}\\P{-\\ffrac{1}{2\\sigma^2}}\\P{\\mu^2 - \\ffrac{\\P{y-x}^2}{t^2}}\\exp\\CB{-\\ffrac{\\P{ y-x-\\mu t}^2}{2\\sigma^2t}}}\\\\\n",
    "&= \\ffrac{-1}{\\sqrt{8\\pi t}\\sigma}\\P{\\ffrac{1}{t} + \\ffrac{\\mu^2 - \\P{y-x}^2/t^2}{\\sigma^2}}\\exp\\CB{-\\ffrac{\\P{ y-x-\\mu t}^2}{2\\sigma^2t}}\\\\\n",
    "\\ffrac{\\partial p}{\\partial x} &= \\ffrac{1}{\\sqrt{2\\pi t} \\sigma} \\ffrac{2\\P{ y-x-\\mu t}}{2\\sigma^2t}\\exp\\CB{-\\ffrac{\\P{ y-x-\\mu t}^2}{2\\sigma^2t}} = \\ffrac{2\\P{ y-x-\\mu t}}{\\sqrt{8\\pi t^3} \\sigma^3}\\exp\\CB{-\\ffrac{\\P{ y-x-\\mu t}^2}{2\\sigma^2t}}\\\\\n",
    "\\ffrac{\\partial^2 p}{\\partial x^2} &= \\ffrac{1}{\\sqrt{8\\pi t^3} \\sigma^3}\\P{-2 \\exp\\CB{-\\ffrac{\\P{ y-x-\\mu t}^2}{2\\sigma^2t}} + \\ffrac{4\\P{ y-x-\\mu t}^2}{2\\sigma^2t}\\exp\\CB{-\\ffrac{\\P{ y-x-\\mu t}^2}{2\\sigma^2t}}}\n",
    "\\end{align}$$\n",
    "\n",
    "$\\bspace$Ignoring the exponential part, we now are required to prove\n",
    "\n",
    "$$\n",
    "\\ffrac{-1}{\\sqrt{8\\pi t}\\sigma}\\P{\\ffrac{1}{t} + \\ffrac{\\mu^2 - \\P{y-x}^2/t^2}{\\sigma^2}} = \\ffrac{1}{2}\\sigma^2 \\ffrac{1}{\\sqrt{8\\pi t^3} \\sigma^3}\\P{-2 + \\ffrac{4\\P{ y-x-\\mu t}^2}{2\\sigma^2t}} + \\mu \\ffrac{2\\P{ y-x-\\mu t}}{\\sqrt{8\\pi t^3} \\sigma^3}$$\n",
    "\n",
    "$$\\begin{align}\n",
    "\\text{RHS}&= \\ffrac{-1}{\\sqrt{8\\pi t^3}\\sigma} + \\ffrac{1}{\\sqrt{8\\pi t^3}\\sigma^3}\\P{\\ffrac{\\P{ y-x-\\mu t}^2}{t} + 2\\mu\\P{ y-x-\\mu t}}\\\\\n",
    "&= \\ffrac{-1}{\\sqrt{8\\pi t}\\sigma}\\ffrac{1}{t} + \\ffrac{1}{\\sqrt{8\\pi t}\\sigma}\\ffrac{\\P{ y-x-\\mu t}^2 + 2\\mu t\\P{ y-x-\\mu t}}{t^2\\sigma^2}\\\\\n",
    "&= \\ffrac{-1}{\\sqrt{8\\pi t}\\sigma}\\ffrac{1}{t} + \\ffrac{1}{\\sqrt{8\\pi t}\\sigma}\\ffrac{\\P{y-x}^2 - \\mu^2t^2}{t^2\\sigma^2} = \\text{LHS}\n",
    "\\end{align}$$\n",
    "\n",
    "$\\bspace$And the other one is true since $\\ffrac{\\partial p}{\\partial x} = -\\ffrac{\\partial p}{\\partial y}$ and $\\ffrac{\\partial^2 p}{\\partial x^2} = \\ffrac{\\partial^2 p}{\\partial y^2}$"
   ]
  },
  {
   "cell_type": "markdown",
   "metadata": {},
   "source": [
    "## Question 5\n",
    "$\\P 1$\n",
    "\n",
    "$$\\begin{align}\n",
    "\\Exp{B\\P t \\mid B\\P u, 0 \\leq u \\leq s} &= \\Exp{B\\P t - B\\P s + B\\P s \\mid B\\P u, 0 \\leq u \\leq s}\\\\\n",
    "&= B\\P s + \\Exp{B\\P t - B\\P s \\mid B\\P u, 0 \\leq u \\leq s}\\\\\n",
    "&= B\\P s + \\Exp{B\\P{t-s}} = B\\P s\n",
    "\\end{align}$$\n",
    "\n",
    "$\\P 2$\n",
    "\n",
    "$$\\begin{align}\n",
    "\\Exp{B^2\\P t -t\\mid B^2\\P u - u, 0 \\leq u \\leq s} &= \\Exp{B^2\\P t\\mid B\\P u, 0 \\leq u \\leq s} -t\\\\\n",
    "&= \\Exp{\\P{B\\P t - B\\P s}^2 + B^2\\P s + 2B\\P s \\P{B\\P t - B\\P s}\\mid B\\P u, 0 \\leq u \\leq s} -t\\\\\n",
    "&= \\Exp{\\P{B\\P t - B\\P s}^2} + B^2\\P s + 2B\\P s\\Exp{\\P{B\\P t - B\\P s}} - t\\\\\n",
    "&= t-s + B^2\\P s + 0 - t = B^2\\P s - s\n",
    "\\end{align}$$\n",
    "\n",
    "$\\P 3$\n",
    "\n",
    "$$\\begin{align}\n",
    "\\Exp{\\exp\\CB{cB\\P t - c^2t/2} \\mid \\exp\\CB{cB\\P u - c^2u/2}, 0 \\leq u \\leq s} &= e^{ - c^2t/2}\\Exp{\\exp\\CB{cB\\P t} \\mid B\\P u, 0 \\leq u \\leq s}\\\\\n",
    "&= \\exp\\CB{cB\\P s - c^2t/2} \\Exp{\\exp\\CB{c\\P{B\\P t - B\\P s}}}\\\\\n",
    "&= \\exp\\CB{cB\\P s - c^2t/2} \\Exp{\\exp\\CB{cB\\P{t-s}}}\\\\\n",
    "&= \\exp\\CB{cB\\P s - c^2t/2}\\exp\\CB{c^2\\P{t-s}/2}\\\\\n",
    "&= \\exp\\CB{cB\\P s - c^2s/2}\n",
    "\\end{align}$$"
   ]
  },
  {
   "cell_type": "markdown",
   "metadata": {},
   "source": [
    "***\n",
    "$\\\\[50em]$"
   ]
  },
  {
   "cell_type": "code",
   "execution_count": 2,
   "metadata": {},
   "outputs": [],
   "source": [
    "import scipy.stats as scs\n",
    "import math"
   ]
  },
  {
   "cell_type": "code",
   "execution_count": 8,
   "metadata": {},
   "outputs": [
    {
     "data": {
      "text/plain": [
       "0.6300216765658242"
      ]
     },
     "execution_count": 8,
     "metadata": {},
     "output_type": "execute_result"
    }
   ],
   "source": [
    "scs.norm.cdf((math.log(20) - 2)/3)"
   ]
  },
  {
   "cell_type": "code",
   "execution_count": 4,
   "metadata": {
    "scrolled": true
   },
   "outputs": [
    {
     "data": {
      "text/plain": [
       "0.5962847939999439"
      ]
     },
     "execution_count": 4,
     "metadata": {},
     "output_type": "execute_result"
    }
   ],
   "source": [
    "4/(3*math.sqrt(5))"
   ]
  }
 ],
 "metadata": {
  "kernelspec": {
   "display_name": "Python 3",
   "language": "python",
   "name": "python3"
  },
  "language_info": {
   "codemirror_mode": {
    "name": "ipython",
    "version": 3
   },
   "file_extension": ".py",
   "mimetype": "text/x-python",
   "name": "python",
   "nbconvert_exporter": "python",
   "pygments_lexer": "ipython3",
   "version": "3.5.2"
  }
 },
 "nbformat": 4,
 "nbformat_minor": 2
}
