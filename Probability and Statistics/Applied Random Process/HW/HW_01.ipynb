{
 "cells": [
  {
   "cell_type": "markdown",
   "metadata": {},
   "source": [
    "# <center>Applied Stochastic Processes HW_01</center>\n",
    "\n",
    "**<center>11510691 程远星</center>**"
   ]
  },
  {
   "cell_type": "markdown",
   "metadata": {},
   "source": [
    "## Question 1\n",
    "\n",
    "$\\DeclareMathOperator*{\\argmin}{argmin}\n",
    "\\newcommand{\\using}[1]{\\stackrel{\\mathrm{#1}}{=}}\n",
    "\\newcommand{\\ffrac}{\\displaystyle \\frac}\n",
    "\\newcommand{\\space}{\\text{ }}\n",
    "\\newcommand{\\bspace}{\\;\\;\\;\\;}\n",
    "\\newcommand{\\QQQ}{\\boxed{?\\:}}\n",
    "\\newcommand{\\CB}[1]{\\left\\{ #1 \\right\\}}\n",
    "\\newcommand{\\SB}[1]{\\left[ #1 \\right]}\n",
    "\\newcommand{\\P}[1]{\\left( #1 \\right)}\n",
    "\\newcommand{\\dd}{\\mathrm{d}}\n",
    "\\newcommand{\\Tran}[1]{{#1}^{\\mathrm{T}}}\n",
    "\\newcommand{\\d}[1]{\\displaystyle{#1}}\n",
    "\\newcommand{\\EE}[2][\\,\\!]{\\mathbb{E}_{#1}\\left[#2\\right]}\n",
    "\\newcommand{\\Var}[2][\\,\\!]{\\mathrm{Var}_{#1}\\left[#2\\right]}\n",
    "\\newcommand{\\Cov}[2][\\,\\!]{\\mathrm{Cov}_{#1}\\left(#2\\right)}\n",
    "\\newcommand{\\Corr}[2][\\,\\!]{\\mathrm{Corr}_{#1}\\left(#2\\right)}\n",
    "\\newcommand{\\I}[1]{\\mathrm{I}\\left( #1 \\right)}\n",
    "\\newcommand{\\N}[1]{\\mathrm{N} \\left( #1 \\right)}\n",
    "\\newcommand{\\ow}{\\text{otherwise}}\n",
    "\\P{\\text{a}}$\n",
    "\n",
    "$\\bspace \\EE{Y} = \\d{\\int_{-\\infty}^{\\infty} \\sqrt{x} \\cdot 2x \\;\\dd{x} = \\int_{0}^{1} 2x^{1.5} \\;\\dd{x} = \\Big. \\ffrac{4} {5}x^{2.5}}\\Big|_{0}^{1} = 0.8$\n",
    "\n",
    "$\\P{\\text{b}}$\n",
    "\n",
    "$\\bspace \\begin{align}\n",
    "F_Y\\P{y} &= P\\CB{Y \\leq y} = P\\CB{\\sqrt{X} \\leq y} = P\\CB{0 \\leq x \\leq y^2} = \\int_{0}^{y^2} 2x \\;\\dd{x}\\\\\n",
    "&= \\begin{cases}\n",
    "1, &\\text{if } 1 \\leq y \\\\[0.5em]\n",
    "y^4, &\\text{if } 0 < y < 1 \\\\[0.5em]\n",
    "0, &\\ow\n",
    "\\end{cases}\n",
    "\\end{align}$\n",
    "\n",
    "$\\bspace$and thus the **pdf** of $Y$ is the derivative of the **cdf** which is $4y^3$ if $0 < y <1$ and $0$ otherwise."
   ]
  },
  {
   "cell_type": "markdown",
   "metadata": {},
   "source": [
    "## Question 2\n",
    "\n",
    "$\\P{\\text{a}}$ \n",
    "\n",
    "$\\bspace$Given the conditions we can directly write that $P\\CB{X = m} = e^{-\\lambda_1}\\ffrac{\\lambda_1^m} {m!}$ and $P\\CB{Y = n} = e^{-\\lambda_2}\\ffrac{\\lambda_2^n} {n!}$. Then:\n",
    "\n",
    "$\\bspace \\begin{align}\n",
    "P\\CB{X+Y = f} &= \\sum_{j=0}^{f} P\\CB{X+Y=f \\mid Y = f-j}\\cdot P\\CB{Y=f-j} \\\\\n",
    "&= \\sum_{j=0}^{f} P\\CB{X=j }\\cdot P\\CB{Y=f-j} \\\\\n",
    "&= \\sum_{j=0}^{f}e^{-\\lambda_1}\\ffrac{\\lambda_1^j} {j!} \\cdot e^{-\\lambda_2}\\ffrac{\\lambda_2^{\\P{f-j}}} {\\P{f-j}!}\\\\\n",
    "&= e^{-\\lambda_1-\\lambda_2}\\ffrac{\\lambda_1^f} {f!} \\sum_{j=0}^{f} \\ffrac{f!} {j!\\P{f-j}!}\\lambda_1^{\\P{j-f}}\\lambda_2^{\\P{f-j}} \\\\\n",
    "&= e^{-\\lambda_1-\\lambda_2}\\ffrac{\\lambda_1^f} {f!} \\sum_{j=0}^{f} \\binom{f} {j} \\P{\\ffrac{\\lambda_2} {\\lambda_1}}^{f-j} \\\\\n",
    "&= e^{-\\lambda_1-\\lambda_2}\\ffrac{\\lambda_1^f} {f!} \\P{1+\\ffrac{\\lambda_2} {\\lambda_1}}^{f} = e^{-\\P{\\lambda_1 + \\lambda_2}} \\ffrac{\\P{\\lambda_1 + \\lambda_2}^f} {f!}\n",
    "\\end{align}$\n",
    "\n",
    "$\\P{\\text{b}}$\n",
    "\n",
    "$\\bspace$ Similarly, we have $P\\CB{X = m} = \\d{n_1 \\choose m}p^{m}(1-p)^{\\d{n_1-m}}$ and $P\\CB{Y = n} = \\d{n_2 \\choose n}p^{n}(1-p)^{\\d{n_2-n}}$. Then\n",
    "\n",
    "$\\bspace \\begin{align}\n",
    "P\\CB{X+Y = f} &= \\sum_{j=0}^{f} P\\CB{X+Y=f \\mid Y = f-j}\\cdot P\\CB{Y=f-j} \\\\\n",
    "&= \\sum_{j=0}^{f} P\\CB{X=j }\\cdot P\\CB{Y=f-j} \\\\\n",
    "&= \\sum_{j=0}^{f} \\d{n_1 \\choose j}p^{j}(1-p)^{\\d{n_1-j}} \\cdot \\d{n_2 \\choose f-j}p^{f-j}(1-p)^{\\d{n_2-f+j}}\\\\\n",
    "&= p^{\\d{f}}(1-p)^{\\d{n_1+n_2-f}} \\sum_{j=0}^{f} \\d{n_1 \\choose j}\\d{n_2 \\choose f-j}\\\\\n",
    "&= p^{\\d{f}}(1-p)^{\\d{n_1+n_2-f}} \\binom{n_1 + n_2} {f}\n",
    "\\end{align}$"
   ]
  },
  {
   "cell_type": "markdown",
   "metadata": {},
   "source": [
    "## Question 3\n",
    "\n",
    "$\\P{\\text{a}}$\n",
    "\n",
    "$\\bspace\n",
    "f_X\\P{x} = \\d{\\int_{-\\infty}^{\\infty} f\\P{x,y}\\;\\dd{y} = \\int_{0}^{1} x+y \\;\\dd{y} = \\frac{1} {2} + x}$\n",
    "\n",
    "$\\P{\\text{b}}$\n",
    "\n",
    "$\\bspace$We first need to get the marginal distribution of $Y$: $f_Y\\P{y} = \\d{\\int_{-\\infty}^{\\infty} f\\P{x,y}\\;\\dd{x} = \\int_{0}^{1} x+y \\;\\dd{x} = \\frac{1} {2} + y}$. Then $\\EE{X} = \\d{\\int_{-\\infty}^{\\infty}x\\cdot f_X\\P{x}\\;\\dd{x} = \\int_{0}^{1} \\frac{x} {2} + x^2 \\;\\dd{x}=\\frac{7} {12}}$ and $\\EE{X^2} = \\d{\\int_{-\\infty}^{\\infty}x^2\\cdot f_X\\P{x}\\;\\dd{x} = \\int_{0}^{1} \\frac{x^2} {2} + x^3 \\;\\dd{x}=\\frac{5} {12}}$ thus $\\Var{X} = \\ffrac{11} {144}$. And same results for $Y$.\n",
    "\n",
    "$\\bspace$Next, $\\EE{XY} = \\d{\\int_{-\\infty}^{\\infty}\\int_{-\\infty}^{\\infty}xy\\cdot \\P{x+y}\\;\\dd{x}\\dd{y} = \\int_{0}^{1}\\int_{0}^{1}x^2y+xy^2\\;\\dd{x}\\dd{y} = \\frac{1} {3}}$, thus $\\Cov{X,Y} = \\EE{XY} - \\EE{X}\\EE{Y} = -\\ffrac{1} {144}$.\n",
    "\n",
    "$\\bspace$Finally, $\\rho = \\ffrac{\\Cov{X,Y}} {\\sqrt{\\Var{X} \\Var{Y}}} = \\ffrac{-\\ffrac{1} {144}} {\\sqrt{\\ffrac{11} {144} \\cdot \\ffrac{11} {144}}} = -\\ffrac{1} {11}$"
   ]
  },
  {
   "cell_type": "markdown",
   "metadata": {},
   "source": [
    "## Question 4\n",
    "\n",
    "$\\bspace$Since $X$ and $Y$ are independent thus their joint density function is:\n",
    "\n",
    "$$f_{X,Y}\\P{x,y} = f_X\\P{x} \\cdot f_Y\\P{y} = \\ffrac{1} {2\\pi \\sigma^2}\\exp\\CB{-\\ffrac{\\P{x-\\mu}^2 + \\P{y-\\mu}^2} {2\\sigma^2}}$$\n",
    "\n",
    "$\\bspace$Then we let $\\begin{cases}\n",
    "S \\,= X+Y\\\\\n",
    "T = X-Y\n",
    "\\end{cases}$ thus we can obtain the Jacobian determinant\n",
    "\n",
    "$$J = \\begin{vmatrix}\n",
    "\\;\\ffrac{\\partial s}{\\partial x} & \\ffrac{\\partial s}{\\partial y}\\;\\\\ \n",
    "\\;\\ffrac{\\partial t}{\\partial x} & \\ffrac{\\partial t}{\\partial y}\\;\n",
    "\\end{vmatrix} = \\begin{vmatrix}\n",
    "1 & 1\\\\ \n",
    "1 & -1\n",
    "\\end{vmatrix} = -2$$\n",
    "\n",
    "$\\bspace$And with this we can derive the joint density function for $S$ and $T$:\n",
    "\n",
    "$$f_{S,T}\\P{s,t} = f_{X,Y}\\P{x,y} \\cdot \\left|J\\right|^{-1} = \\ffrac{1} {4\\pi \\sigma^2}\\exp\\CB{-\\ffrac{\\P{s + t-2\\mu}^2 + \\P{s-t-2\\mu}^2} {8\\sigma^2}}$$\n",
    "\n",
    "$\\bspace$We can simplify that and obtain:\n",
    "\n",
    "$$f_{S,T}\\P{s,t} = \\CB{\\ffrac{1} {2\\sigma\\sqrt{\\pi}}\\exp\\CB{-\\ffrac{\\P{s-2\\mu}^2} {4\\sigma^2}}}\\cdot\\CB{\\ffrac{1} {2\\sigma\\sqrt{\\pi}}\\exp\\CB{-\\ffrac{t^2 + 4\\mu^2} {4\\sigma^2}}}$$\n",
    "\n",
    "$\\bspace$Two seperate terms with relying only on $s$ and $t$, respectively. Thus we can draw the conclusion that $S$ and $T$ are independent..."
   ]
  },
  {
   "cell_type": "markdown",
   "metadata": {},
   "source": [
    "## Question 5\n",
    "\n",
    "$\\bspace \\begin{align}\n",
    "\\EE{X\\mid Y=y} &= \\int_{-\\infty}^{\\infty} x \\cdot P\\CB{X=x \\mid Y = y} \\;\\dd{x} \\\\\n",
    "&= \\int_{-\\infty}^{\\infty} x \\cdot \\ffrac{P\\CB{X=x ,Y = y}}{P\\CB{Y=y}} \\;\\dd{x} \\\\\n",
    "&= \\int_{-\\infty}^{\\infty} x \\cdot \\ffrac{P\\CB{X=x}\\cdot P\\CB{Y = y}}{P\\CB{Y=y}} \\;\\dd{x} \\\\\n",
    "&\\using{{P\\CB{Y=y}}>0} \\int_{-\\infty}^{\\infty} x \\cdot P\\CB{X=x} \\;\\dd{x}  =\\EE{X}\n",
    "\\end{align}$"
   ]
  },
  {
   "cell_type": "markdown",
   "metadata": {},
   "source": [
    "## Question 6\n",
    "\n",
    "$\\bspace \\begin{align}\n",
    "\\EE{X \\mid Y=2} &= \\sum_{x=1,2}\\sum_{z = 1,2} x\\cdot p\\P{x,2,z} \\\\\n",
    "&= 1 \\times\\P{p\\P{1,2,1} + p\\P{1,2,2}} + 2 \\times \\P{p\\P{2,2,1} + p\\P{2,2,2}} \\\\\n",
    "&= \\ffrac{1} {16} + 0 + 2\\P{0 + \\ffrac{1} {4}} = \\ffrac{9} {16}\n",
    "\\end{align}$\n",
    "\n",
    "$\\bspace \\begin{align}\n",
    "\\EE{X \\mid Y=2,Z=1} &= \\sum_{x=1,2} x\\cdot p\\P{x,2,1} \\\\\n",
    "&= 1 \\times p\\P{1,2,1}  + 2 \\times p\\P{2,2,1} \\\\\n",
    "&= \\ffrac{1} {16}  + 2\\times 0 = \\ffrac{1} {16}\n",
    "\\end{align}$"
   ]
  }
 ],
 "metadata": {
  "kernelspec": {
   "display_name": "Python 3",
   "language": "python",
   "name": "python3"
  },
  "language_info": {
   "codemirror_mode": {
    "name": "ipython",
    "version": 3
   },
   "file_extension": ".py",
   "mimetype": "text/x-python",
   "name": "python",
   "nbconvert_exporter": "python",
   "pygments_lexer": "ipython3",
   "version": "3.5.2"
  },
  "toc": {
   "colors": {
    "hover_highlight": "#DAA520",
    "navigate_num": "#000000",
    "navigate_text": "#333333",
    "running_highlight": "#FF0000",
    "selected_highlight": "#FFD700",
    "sidebar_border": "#EEEEEE",
    "wrapper_background": "#FFFFFF"
   },
   "moveMenuLeft": true,
   "nav_menu": {
    "height": "32px",
    "width": "252px"
   },
   "navigate_menu": true,
   "number_sections": true,
   "sideBar": true,
   "threshold": 4,
   "toc_cell": false,
   "toc_section_display": "block",
   "toc_window_display": false,
   "widenNotebook": false
  }
 },
 "nbformat": 4,
 "nbformat_minor": 2
}
