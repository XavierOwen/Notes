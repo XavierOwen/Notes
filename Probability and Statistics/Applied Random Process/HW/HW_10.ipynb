{
 "cells": [
  {
   "cell_type": "markdown",
   "metadata": {},
   "source": [
    "# <center>Applied Stochastic Processes HW_10</center>\n",
    "\n",
    "**<center>11510691 程远星$\\DeclareMathOperator*{\\argmin}{argmin}\n",
    "\\DeclareMathOperator*{\\argmax}{argmax}\n",
    "\\DeclareMathOperator*{\\plim}{plim}\n",
    "\\newcommand{\\using}[1]{\\stackrel{\\mathrm{#1}}{=}}\n",
    "\\newcommand{\\ffrac}{\\displaystyle \\frac}\n",
    "\\newcommand{\\asim}{\\overset{\\text{a}}{\\sim}}\n",
    "\\newcommand{\\space}{\\text{ }}\n",
    "\\newcommand{\\bspace}{\\;\\;\\;\\;}\n",
    "\\newcommand{\\QQQ}{\\boxed{?\\:}}\n",
    "\\newcommand{\\void}{\\left.\\right.}\n",
    "\\newcommand{\\Tran}[1]{{#1}^{\\mathrm{T}}}\n",
    "\\newcommand{\\d}[1]{\\displaystyle{#1}}\n",
    "\\newcommand{\\CB}[1]{\\left\\{ #1 \\right\\}}\n",
    "\\newcommand{\\SB}[1]{\\left[ #1 \\right]}\n",
    "\\newcommand{\\P}[1]{\\left( #1 \\right)}\n",
    "\\newcommand{\\abs}[1]{\\left| #1 \\right|}\n",
    "\\newcommand{\\norm}[1]{\\left\\| #1 \\right\\|}\n",
    "\\newcommand{\\dd}{\\mathrm{d}}\n",
    "\\newcommand{\\Exp}{\\mathrm{E}}\n",
    "\\newcommand{\\RR}{\\mathbb{R}}\n",
    "\\newcommand{\\EE}{\\mathbb{E}}\n",
    "\\newcommand{\\II}{\\mathbb{I}}\n",
    "\\newcommand{\\NN}{\\mathbb{N}}\n",
    "\\newcommand{\\ZZ}{\\mathbb{Z}}\n",
    "\\newcommand{\\QQ}{\\mathbb{Q}}\n",
    "\\newcommand{\\PP}{\\mathbb{P}}\n",
    "\\newcommand{\\AcA}{\\mathcal{A}}\n",
    "\\newcommand{\\FcF}{\\mathcal{F}}\n",
    "\\newcommand{\\AsA}{\\mathscr{A}}\n",
    "\\newcommand{\\FsF}{\\mathscr{F}}\n",
    "\\newcommand{\\Var}[2][\\,\\!]{\\mathrm{Var}_{#1}\\left[#2\\right]}\n",
    "\\newcommand{\\Avar}[2][\\,\\!]{\\mathrm{Avar}_{#1}\\left[#2\\right]}\n",
    "\\newcommand{\\Cov}[2][\\,\\!]{\\mathrm{Cov}_{#1}\\left(#2\\right)}\n",
    "\\newcommand{\\Corr}[2][\\,\\!]{\\mathrm{Corr}_{#1}\\left(#2\\right)}\n",
    "\\newcommand{\\I}[1]{\\mathrm{I}\\left( #1 \\right)}\n",
    "\\newcommand{\\N}[1]{\\mathcal{N} \\left( #1 \\right)}\n",
    "\\newcommand{\\ow}{\\text{otherwise}}\n",
    "\\void^\\dagger$</center>**"
   ]
  },
  {
   "cell_type": "markdown",
   "metadata": {},
   "source": [
    "## Question 1\n",
    "\n",
    "$$\\begin{align}\n",
    "\\Exp\\SB{g\\P{T} \\mid T > a} &= \\int_{-\\infty}^{\\infty} g\\P{t}  f_{T\\mid T>a} \\P{t\\mid T>a} \\;\\dd t\\\\\n",
    "&= \\int_{a}^{\\infty} g\\P{t} \\; \\dd F_{T\\mid T>a} \\P{t\\mid T>a} \\\\\n",
    "&= \\int_{a}^{\\infty} g\\P{t} \\; \\dd \\P{1-P\\CB{T>t\\mid T>a}} \\\\\n",
    "&= \\int_{a}^{\\infty} g\\P{t} \\; \\dd \\P{- \\ffrac{e^{-\\lambda t}}{e^{-\\lambda a}}} \\\\\n",
    "&= \\int_{a}^{\\infty} g\\P{t} \\lambda e^{-\\lambda\\P{t-a}}\\; \\dd t \\\\\n",
    "&= \\int_{0}^{\\infty} g\\P{t+a} \\lambda e^{-\\lambda t}\\; \\dd t \\\\\n",
    "&= \\int_{0}^{\\infty} g\\P{t+a} f_T\\P{t} \\dd t \\\\\n",
    "&= \\Exp\\SB{g\\P{T+a}}\n",
    "\\end{align}$$"
   ]
  },
  {
   "cell_type": "markdown",
   "metadata": {},
   "source": [
    "## Question 2\n",
    "\n",
    "$$\\begin{align}\n",
    "P\\CB{X_1 < X_2 \\mid\\min\\P{X_1,X_2}=t}&= \\ffrac{P\\CB{X_1<X_2 ,\\min\\P{X_1,X_2} = t}}{P\\CB{\\min\\P{X_1,X_2} = t}}\\\\\n",
    "&= \\ffrac{P\\CB{X_1 = t, X_2 > t}}{P\\CB{X_1 = t,X_2 > t} + P\\CB{X_2 = t,X_1 >t}}\n",
    "\\end{align}$$\n",
    "\n",
    "$\\bspace$following the defintion in the textbook we let $\\bar F\\P{x} = P\\CB{X>x}$, then\n",
    "\n",
    "$$\n",
    "\\begin{align}\n",
    "P\\CB{X_1 < X_2 \\mid\\min\\P{X_1,X_2}=t} &= \\ffrac{f_1\\P{t} \\bar F_2\\P{t}}{f_1\\P{t} \\bar F_2\\P{t} + f_2\\P{t} \\bar F_1\\P{t}}\\\\\n",
    "&= \\ffrac{\\ffrac{f_1\\P{t}}{1-F_1\\P{t}}}{\\ffrac{f_1\\P{t}}{1-F_1\\P{t}} + \\ffrac{f_2\\P{t}}{1-F_2\\P{t}}}\\\\\n",
    "&= \\ffrac{r_1\\P{t}}{r_1\\P{t} + r_2\\P{t}}\n",
    "\\end{align}$$"
   ]
  },
  {
   "cell_type": "markdown",
   "metadata": {},
   "source": [
    "## Question 3\n",
    "\n",
    "$$\\begin{align}\n",
    "f_{X\\mid X<Y}\\P{x}&=\\ffrac{\\dd}{\\dd x}F_{X\\mid X<Y}\\P{x}\\\\\n",
    "&= \\ffrac{\\dd}{\\dd x}P\\CB{X<x\\mid X<Y}\\\\\n",
    "&= \\ffrac{\\dd}{\\dd x}\\P{\\ffrac{P\\CB{X<x,X<Y}}{P\\CB{X<Y}}}\\\\\n",
    "&= \\ffrac{\\dd}{\\dd x}\\P{\\ffrac{ P\\CB{X<Y}P\\CB{Y\\leq x}+P\\CB{X<x}P\\CB{x\\leq Y}}{ P\\CB{X<Y}} }\\\\\n",
    "&= \\ffrac{\\dd}{\\dd x}\\P{\\ffrac{ \\ffrac{\\lambda}{\\lambda+\\mu} \\P{1-e^{-\\mu x}}+\\P{1-e^{-\\lambda x}}e^{-\\mu x}}{ \\ffrac{\\lambda}{\\lambda+\\mu} }}\\\\\n",
    "&=-\\ffrac{\\mu^2}{\\lambda} e^{-\\mu x} + \\ffrac{\\P{\\lambda + \\mu}^2}{\\lambda}e^{-\\P{\\lambda + \\mu}x}\n",
    "\\end{align}$$"
   ]
  },
  {
   "cell_type": "markdown",
   "metadata": {},
   "source": [
    "## Question 4\n",
    "\n",
    "$\\P{1}$\n",
    "\n",
    "$$\\begin{align}\n",
    "P\\CB{X_1 <X_2<X_3} &= P\\CB{X_1 = \\min\\P{X_i}}\\cdot P\\CB{X_2 < X_3 \\mid X_1 = \\min\\P{X_i}}\\\\\n",
    "&= \\ffrac{\\lambda_1}{\\sum \\lambda_i}\\cdot P\\CB{X_2 < X_3}\\\\\n",
    "&= \\ffrac{\\lambda_1}{\\sum \\lambda_i}\\ffrac{\\lambda_2}{\\lambda_2 + \\lambda_3}\n",
    "\\end{align}$$\n",
    "\n",
    "$\\P{2}$\n",
    "\n",
    "$$\\begin{align}\n",
    "P\\CB{X_1 <X_2\\mid \\max\\P{X_1,X_2,X_3} = X_3} &= \\ffrac{P\\CB{X_1<X_2<X_3}}{P\\CB{X_1<X_2<X_3} + P\\CB{X_2<X_1<X_3}}\\\\\n",
    "&= \\ffrac{\\ffrac{\\lambda_1}{\\sum \\lambda_i}\\ffrac{\\lambda_2}{\\lambda_2 + \\lambda_3}}{\\ffrac{\\lambda_1}{\\sum \\lambda_i}\\ffrac{\\lambda_2}{\\lambda_2 + \\lambda_3} + \\ffrac{\\lambda_2}{\\sum \\lambda_i}\\ffrac{\\lambda_1}{\\lambda_1 + \\lambda_3}}\\\\\n",
    "&= \\ffrac{\\lambda_1 + \\lambda_3}{\\lambda_1 + \\lambda_2 + 2\\lambda_3}\n",
    "\\end{align}$$\n",
    "\n",
    "$\\P{3}$\n",
    "\n",
    "$$\\begin{align}\n",
    "&\\Exp\\SB{\\max X_i\\mid X_1 <X_2<X_3} \\\\[0.6em]\n",
    "= \\; & \\ffrac{\\d{\\int_0^\\infty \\int_0^{x_3}\\int_0^{x_2} x_3\\cdot f_{X_3}(x_3)\\cdot f_{X_2}(x_2)\\cdot f_{X_1}(x_1)\\;\\dd x_1 \\dd x_2\\dd x_3}}{\\d{\\int_0^\\infty \\int_0^{x_3}\\int_0^{x_2} f_{X_3}(x_3)\\cdot f_{X_2}(x_2)\\cdot f_{X_1}(x_1)\\;\\dd x_1 \\dd x_2\\dd x_3}}\\\\\n",
    "= \\; & \\ffrac{1}{\\lambda_1 + \\lambda_2 + \\lambda_3} + \\ffrac{1}{\\lambda_2+\\lambda_3} + \\ffrac{1}{\\lambda_3}\n",
    "\\end{align}$$\n",
    "\n",
    "$\\P{4}$\n",
    "\n",
    "$$\n",
    "\\begin{align}\n",
    "\\Exp\\SB{\\max X_i} &= \\Exp\\SB{\\Exp\\SB{\\max X_i\\mid X_1 <X_2<X_3}}\\\\\n",
    "&= \\sum_{i\\neq j\\neq k} \\Exp\\SB{\\max X_i\\mid X_i < X_j < X_k} \\cdot P\\CB{X_i < X_j < X_k} \\\\\n",
    "&= \\sum_{i\\neq j\\neq k} \\P{\\ffrac{1}{\\lambda_1 + \\lambda_2 + \\lambda_3} + \\ffrac{1}{\\lambda_j+\\lambda_k} + \\ffrac{1}{\\lambda_k}}\\cdot\\ffrac{\\lambda_i}{\\sum \\lambda_i}\\ffrac{\\lambda_j}{\\lambda_j + \\lambda_k}\n",
    "\\end{align}$$"
   ]
  },
  {
   "cell_type": "markdown",
   "metadata": {},
   "source": [
    "***"
   ]
  }
 ],
 "metadata": {
  "kernelspec": {
   "display_name": "Python 3",
   "language": "python",
   "name": "python3"
  },
  "language_info": {
   "codemirror_mode": {
    "name": "ipython",
    "version": 3
   },
   "file_extension": ".py",
   "mimetype": "text/x-python",
   "name": "python",
   "nbconvert_exporter": "python",
   "pygments_lexer": "ipython3",
   "version": "3.5.2"
  },
  "toc": {
   "colors": {
    "hover_highlight": "#DAA520",
    "navigate_num": "#000000",
    "navigate_text": "#333333",
    "running_highlight": "#FF0000",
    "selected_highlight": "#FFD700",
    "sidebar_border": "#EEEEEE",
    "wrapper_background": "#FFFFFF"
   },
   "moveMenuLeft": true,
   "nav_menu": {
    "height": "72px",
    "width": "252px"
   },
   "navigate_menu": true,
   "number_sections": true,
   "sideBar": true,
   "threshold": 4,
   "toc_cell": false,
   "toc_section_display": "block",
   "toc_window_display": false,
   "widenNotebook": false
  }
 },
 "nbformat": 4,
 "nbformat_minor": 2
}
