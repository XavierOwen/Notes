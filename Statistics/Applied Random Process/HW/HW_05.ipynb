{
 "cells": [
  {
   "cell_type": "markdown",
   "metadata": {},
   "source": [
    "# <center>Applied Stochastic Processes HW_05</center>\n",
    "\n",
    "**<center>11510691 程远星$\\DeclareMathOperator*{\\argmin}{argmin}\n",
    "\\DeclareMathOperator*{\\argmax}{argmax}\n",
    "\\DeclareMathOperator*{\\plim}{plim}\n",
    "\\newcommand{\\using}[1]{\\stackrel{\\mathrm{#1}}{=}}\n",
    "\\newcommand{\\ffrac}{\\displaystyle \\frac}\n",
    "\\newcommand{\\asim}{\\overset{\\text{a}}{\\sim}}\n",
    "\\newcommand{\\space}{\\text{ }}\n",
    "\\newcommand{\\bspace}{\\;\\;\\;\\;}\n",
    "\\newcommand{\\QQQ}{\\boxed{?\\:}}\n",
    "\\newcommand{\\void}{\\left.\\right.}\n",
    "\\newcommand{\\Tran}[1]{{#1}^{\\mathrm{T}}}\n",
    "\\newcommand{\\d}[1]{\\displaystyle{#1}}\n",
    "\\newcommand{\\CB}[1]{\\left\\{ #1 \\right\\}}\n",
    "\\newcommand{\\SB}[1]{\\left[ #1 \\right]}\n",
    "\\newcommand{\\P}[1]{\\left( #1 \\right)}\n",
    "\\newcommand{\\abs}[1]{\\left| #1 \\right|}\n",
    "\\newcommand{\\norm}[1]{\\left\\| #1 \\right\\|}\n",
    "\\newcommand{\\dd}{\\mathrm{d}}\n",
    "\\newcommand{\\Exp}{\\mathrm{E}}\n",
    "\\newcommand{\\RR}{\\mathbb{R}}\n",
    "\\newcommand{\\EE}{\\mathbb{E}}\n",
    "\\newcommand{\\NN}{\\mathbb{N}}\n",
    "\\newcommand{\\ZZ}{\\mathbb{Z}}\n",
    "\\newcommand{\\QQ}{\\mathbb{Q}}\n",
    "\\newcommand{\\AcA}{\\mathscr{A}}\n",
    "\\newcommand{\\FcF}{\\mathscr{F}}\n",
    "\\newcommand{\\Var}[2][\\,\\!]{\\mathrm{Var}_{#1}\\left[#2\\right]}\n",
    "\\newcommand{\\Cov}[2][\\,\\!]{\\mathrm{Cov}_{#1}\\left(#2\\right)}\n",
    "\\newcommand{\\Corr}[2][\\,\\!]{\\mathrm{Corr}_{#1}\\left(#2\\right)}\n",
    "\\newcommand{\\I}[1]{\\mathrm{I}\\left( #1 \\right)}\n",
    "\\newcommand{\\N}[1]{\\mathrm{N} \\left( #1 \\right)}\n",
    "\\newcommand{\\ow}{\\text{otherwise}}\\void^\\dagger$</center>**"
   ]
  },
  {
   "cell_type": "markdown",
   "metadata": {},
   "source": [
    "## Question 1\n",
    "\n",
    "$$\\begin{align}\n",
    "&  P\\CB{Y_{n+1} = \\P{i_{n+1},i_{n+2}} \\mid Y_n = \\P{i_n,i_{n+1}}, Y_{n-1} = \\P{i_{n-1},i_{n-2}}, \\dots, Y_{0} = \\P{ i_{0},i_{1}}} \\\\\n",
    "=& P\\CB{Y_{n+1} = \\P{i_{n+1},i_{n+2}} \\mid X_{n+1} = i_{n+1},X_{n} = i_n,\\dots,X_0 = i_0} \\\\\n",
    "=& P\\CB{Y_{n+1} = \\P{i_{n+1},i_{n+2}} \\mid X_{n+1} = i_{n+1},X_{n} = i_n} \\\\\n",
    "=& P\\CB{Y_{n+1} = \\P{i_{n+1},i_{n+2}} \\mid Y_{n} = \\P{i_{n},i_{n+1}}} \\\\\n",
    "\\end{align}$$"
   ]
  },
  {
   "cell_type": "markdown",
   "metadata": {},
   "source": [
    "## Question 2\n",
    "\n",
    "$\\bspace$First we write $\\mathbf{P}^\\P{r}$ as\n",
    "\n",
    "$$\\mathbf{P}^\\P{r} = \\begin{Vmatrix}\n",
    "q_{11} & \\cdots & q_{1n} \\\\\n",
    "\\vdots & \\ddots & \\vdots \\\\\n",
    "q_{n1} & \\cdots & q_{nn}\n",
    "\\end{Vmatrix},\\bspace q_{ij} > 0, 1 \\leq i,j \\leq n$$\n",
    "\n",
    "$\\bspace$for each column, we find the minimum, denoted as $q^{\\text{c}}_{j}>0$ for $1 \\leq j \\leq n$. Then for the next transition matrix $\\mathbf{P}^{\\P{r+1}}$, all its entries has the form:\n",
    "\n",
    "$$\\sum_{j=1}^{n} p_{ij}\\cdot q_{jk} \\geq \\sum_{j=1}^{n} p_{ij}\\cdot q^{\\text{c}}_{k} = q^{\\text{c}}_{k} > 0$$\n",
    "\n",
    "$\\bspace$and thus by induction, we have for $n\\geq r$, $\\mathbf{P}^{n}$ has all positive entries."
   ]
  },
  {
   "cell_type": "markdown",
   "metadata": {},
   "source": [
    "## Question 3\n",
    "\n",
    "$\\bspace$First we write the one-step transition matrix for states $0,1,2,\\geq3$:\n",
    "\n",
    "$$\\mathbf{P} = \\begin{Vmatrix}\n",
    "0.7 & 0.3 & 0 & 0 \\\\\n",
    "0.7 & 0 & 0.3 & 0 \\\\\n",
    "0.7 & 0 & 0 & 0.3 \\\\\n",
    "0 & 0 & 0 & 1\n",
    "\\end{Vmatrix}$$\n",
    "\n",
    "$\\bspace$and $P_{0,3}^{6} = 0.0837$\n",
    "\n",
    ">However, I came up with an alternative solution. Why it's wrong?\n",
    ">\n",
    ">Let $H = 0.3$ and $T=0.7$. Then the probability can be calculated as:\n",
    ">\n",
    ">$$\\ffrac{4} {\\d{\\binom{6} {3}}}\\times H^3T^3 + \\ffrac{3+6}{\\d{\\binom{6}{2}}} \\times H^4 T^2 + 1 \\times H^5T^1 + 1 \\times H^6 = 0.0066636$$"
   ]
  },
  {
   "cell_type": "markdown",
   "metadata": {},
   "source": [
    "## Question 4\n",
    "\n",
    "$$\\mathbf{P} = \\begin{Vmatrix}\n",
    "0.7 & 0.3 \\\\\n",
    "0.6 & 0.4\n",
    "\\end{Vmatrix},\\mathbf{P}^{\\P{3}} = \\begin{Vmatrix}\n",
    "0.667 & 0.333 \\\\\n",
    "0.666 & 0.334\n",
    "\\end{Vmatrix},\\mathbf{P}^{\\P{4}} = \\begin{Vmatrix}\n",
    "0.6667 & 0.3333 \\\\\n",
    "0.6666 & 0.3334\n",
    "\\end{Vmatrix}$$\n",
    "\n",
    "$\\P{1}$\n",
    "\n",
    "$\\bspace$The desired probability is $ 0.5 P^{\\P{3}}_{1,1} + 0.5P^{\\P{3}}_{2,1} = 0.6665$.\n",
    "\n",
    "$\\P{2}$\n",
    "\n",
    "$\\bspace$The desired probability is $ P^{\\P{4}}_{1,1} = 0.6667$."
   ]
  },
  {
   "cell_type": "markdown",
   "metadata": {},
   "source": [
    "## Question 5\n",
    "\n",
    "$\\bspace$When $n \\geq N$, there's only one possible state, $B$. and when $n < N$, by the definition of $N$ we can say that $X_n$ has never been in any state belonging to $\\AcA$, such that $\\CB{W_n, n<N} \\subset S\\backslash \\AcA$. Then the overall state space for $\\CB{W_n, N \\geq 0}$ is $\\P{S\\backslash \\AcA} \\cup \\CB{B}$.\n",
    "\n",
    "$\\bspace$When $n<N$, $W_n = X_n$, obviously it's a markov chain, and when $n\\geq N$, we have\n",
    "\n",
    "$$\\begin{align}\n",
    "&P\\CB{W_{n+1}=i_{n+1} \\mid W_{n} i_n, W_{n-1}=i_{n-1},\\dots,W_0 = i_0} \\\\[0.7em]\n",
    "=& P\\CB{W_{n+1}=i_{n+1} \\mid W_{n} =B, W_{n-1}=i_{n-1},\\dots,W_0 = i_0} \\\\[0.7em]\n",
    "=& P\\CB{W_{n+1}=i_{n+1} \\mid W_{n} =B} = \\begin{cases}\n",
    "1, &\\text{if } i_{n+1} = B\\\\\n",
    "0, &\\text{if } i_{n+1} \\neq B\n",
    "\\end{cases}\n",
    "\\end{align}$$\n",
    "\n",
    "$\\bspace$So $\\CB{W_n,n\\geq 0}$ is a Markov chain. As for it's transition probability, the result is obvious and also presented in the textbook."
   ]
  },
  {
   "cell_type": "markdown",
   "metadata": {},
   "source": [
    "## Question 6\n",
    "\n",
    "$\\bspace$Its classes are $\\CB{0,1}\\cup\\CB{2}\\cup\\CB{3}\\cup\\CB{4}$. $\\CB{0,1}$ and $\\CB{2}$ are recurrent classes; $\\CB{3}$ and $\\CB{4}$ are transient classes."
   ]
  }
 ],
 "metadata": {
  "kernelspec": {
   "display_name": "Python 3",
   "language": "python",
   "name": "python3"
  },
  "language_info": {
   "codemirror_mode": {
    "name": "ipython",
    "version": 3
   },
   "file_extension": ".py",
   "mimetype": "text/x-python",
   "name": "python",
   "nbconvert_exporter": "python",
   "pygments_lexer": "ipython3",
   "version": "3.5.2"
  },
  "toc": {
   "colors": {
    "hover_highlight": "#DAA520",
    "navigate_num": "#000000",
    "navigate_text": "#333333",
    "running_highlight": "#FF0000",
    "selected_highlight": "#FFD700",
    "sidebar_border": "#EEEEEE",
    "wrapper_background": "#FFFFFF"
   },
   "moveMenuLeft": true,
   "nav_menu": {
    "height": "52px",
    "width": "252px"
   },
   "navigate_menu": true,
   "number_sections": true,
   "sideBar": true,
   "threshold": 4,
   "toc_cell": false,
   "toc_section_display": "block",
   "toc_window_display": false,
   "widenNotebook": false
  }
 },
 "nbformat": 4,
 "nbformat_minor": 2
}
