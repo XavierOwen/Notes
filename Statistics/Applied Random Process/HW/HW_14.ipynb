{
 "cells": [
  {
   "cell_type": "markdown",
   "metadata": {},
   "source": [
    "# <center>Applied Stochastic Processes HW_14</center>\n",
    "\n",
    "**<center>11510691 程$\n",
    "% color\n",
    "% Aquamarine, black, blue, brown, cyan, darkgray, gray, green, lightgray, lime, magenta, olive, orange, pink, purple, red, teal, violet, white, yellow\n",
    "\\DeclareMathOperator*{\\argmin}{argmin}\n",
    "\\DeclareMathOperator*{\\argmax}{argmax}\n",
    "\\DeclareMathOperator*{\\plim}{plim}\n",
    "\\newcommand{\\ffrac}{\\displaystyle \\frac}\n",
    "\\newcommand{\\d}[1]{\\displaystyle{#1}}\n",
    "\\newcommand{\\space}{\\text{ }}\n",
    "\\newcommand{\\bspace}{\\;\\;\\;\\;}\n",
    "\\newcommand{\\bbspace}{\\;\\;\\;\\;\\;\\;\\;\\;}\n",
    "\\newcommand{\\QQQ}{\\boxed{?\\:}}\n",
    "\\newcommand{\\void}{\\left.\\right.}\n",
    "\\newcommand{\\Tran}[1]{{#1}^{\\mathrm{T}}}\n",
    "\\newcommand{\\CB}[1]{\\left\\{ #1 \\right\\}}\n",
    "\\newcommand{\\SB}[1]{\\left[ #1 \\right]}\n",
    "\\newcommand{\\P}[1]{\\left( #1 \\right)}\n",
    "\\newcommand{\\abs}[1]{\\left| #1 \\right|}\n",
    "\\newcommand{\\norm}[1]{\\left\\| #1 \\right\\|}\n",
    "\\newcommand{\\given}[1]{\\left. #1 \\right|}\n",
    "\\newcommand{\\using}[1]{\\stackrel{\\mathrm{#1}}{=}}\n",
    "\\newcommand{\\asim}{\\overset{\\text{a}}{\\sim}}\n",
    "\\newcommand{\\RR}{\\mathbb{R}}\n",
    "\\newcommand{\\EE}{\\mathbb{E}}\n",
    "\\newcommand{\\II}{\\mathbb{I}}\n",
    "\\newcommand{\\NN}{\\mathbb{N}}\n",
    "\\newcommand{\\ZZ}{\\mathbb{Z}}\n",
    "\\newcommand{\\QQ}{\\mathbb{Q}}\n",
    "\\newcommand{\\PP}{\\mathbb{P}}\n",
    "\\newcommand{\\AcA}{\\mathcal{A}}\n",
    "\\newcommand{\\FcF}{\\mathcal{F}}\n",
    "\\newcommand{\\AsA}{\\mathscr{A}}\n",
    "\\newcommand{\\FsF}{\\mathscr{F}}\n",
    "\\newcommand{\\dd}{\\mathrm{d}}\n",
    "\\newcommand{\\I}[1]{\\mathrm{I}\\left( #1 \\right)}\n",
    "\\newcommand{\\N}[1]{\\mathcal{N}\\left( #1 \\right)}\n",
    "\\newcommand{\\Exp}[1]{\\mathrm{E}\\left[ #1 \\right]}\n",
    "\\newcommand{\\Var}[1]{\\mathrm{Var}\\left[ #1 \\right]}\n",
    "\\newcommand{\\Avar}[1]{\\mathrm{Avar}\\left[ #1 \\right]}\n",
    "\\newcommand{\\Cov}[1]{\\mathrm{Cov}\\left( #1 \\right)}\n",
    "\\newcommand{\\Corr}[1]{\\mathrm{Corr}\\left( #1 \\right)}\n",
    "\\newcommand{\\ExpH}{\\mathrm{E}}\n",
    "\\newcommand{\\VarH}{\\mathrm{Var}}\n",
    "\\newcommand{\\AVarH}{\\mathrm{Avar}}\n",
    "\\newcommand{\\CovH}{\\mathrm{Cov}}\n",
    "\\newcommand{\\CorrH}{\\mathrm{Corr}}\n",
    "\\newcommand{\\ow}{\\text{otherwise}}\n",
    "\\newcommand{\\wp}{\\text{with probability }}\n",
    "\\newcommand{\\FSD}{\\text{FSD}}\n",
    "\\newcommand{\\SSD}{\\text{SSD}}$远星$^\\dagger$</center>**"
   ]
  },
  {
   "cell_type": "markdown",
   "metadata": {},
   "source": [
    "## Question 1\n",
    "\n",
    "$\\P 1$\n",
    "\n",
    "$\\bspace$Given $\\mathbf Q$ we write $\\mathbf P = \\begin{Vmatrix}\n",
    "\\tiny 0 & \\frac{1}{3} & \\frac{2}{3}\\\\\n",
    "\\frac{1}{2} & \\tiny 0 & \\frac{1}{2}\\\\\n",
    "\\frac{2}{3} & \\frac{1}{3} & \\tiny 0\n",
    "\\end{Vmatrix}$. Obviously, $P_{12}$, $P_{23}$, $P_{31}$ are positive and thus all states communicate. So this Markov Chain is irreducible\n",
    "\n",
    "$\\P 2$\n",
    "\n",
    "$$\\begin{cases}\n",
    "\\pi\\mathbf Q = [0,0,0]\\\\\n",
    "\\pi \\mathbf 1 = 1\n",
    "\\end{cases} \\Longrightarrow \\pi = \\begin{bmatrix}\n",
    "\\ffrac{1}{5} & \\ffrac{1}{10} & \\ffrac{1}{5}\n",
    "\\end{bmatrix}$$"
   ]
  },
  {
   "cell_type": "markdown",
   "metadata": {},
   "source": [
    "## Question 2\n",
    "$\\P 1$\n",
    "\n",
    "$\\bspace$Given $\\mathbf Q$, the transition probabilities of the embedded chian is $\\mathbf P = \\begin{Vmatrix}\n",
    "\\tiny 0 & \\tiny 1 & \\tiny 0\\\\\n",
    "\\tiny 0 & \\tiny 0 & \\tiny 1\\\\\n",
    "\\tiny 1 & \\tiny 0 & \\tiny 0\n",
    "\\end{Vmatrix}$ and obviously $P_{12} = P_{23} = P_{31} = 1$, thus all states communicate. So this Markov Chain is irreducible.\n",
    "\n",
    "$\\P 2$\n",
    "\n",
    "$\\bspace$YES! Consider solving the equation\n",
    "\n",
    "$$\\begin{cases}\n",
    "\\pi\\mathbf Q = [0,0,0]\\\\\n",
    "\\pi \\mathbf 1 = 1\n",
    "\\end{cases} \\Longrightarrow \\pi = \\begin{bmatrix}\n",
    "\\ffrac{6}{11} & \\ffrac{3}{11} & \\ffrac{2}{11}\n",
    "\\end{bmatrix}$$\n",
    "\n",
    "$\\bspace$The equation has a solution that consequently that's the limiting probabilities."
   ]
  },
  {
   "cell_type": "markdown",
   "metadata": {},
   "source": [
    "## Question 3\n",
    "$\\P 1$\n",
    "\n",
    "$\\bspace$The condition comes directly from the textbook, that\n",
    "\n",
    "$$\\sum_{n=1}^\\infty \\ffrac{\\lambda_{n-1}\\lambda_{n-2}\\cdots \\lambda_2 \\lambda_1 \\lambda_0}{\\mu_n\\mu_{n-1}\\cdots \\mu_2 \\mu_1} = \\sum_{n=1}^\\infty \\ffrac{b^{n-1}b^{n-2}\\cdots b^2 b^1 b^0}{ab^nab^{n-1}\\cdots ab^2 ab^1} = \\ffrac{\\ffrac{1}{ab}}{1-\\ffrac{1}{a}}< \\infty \\iff a>1$$\n",
    "\n",
    "$\\P 2$\n",
    "\n",
    "$$\\begin{align}\n",
    "P_0 &= \\ffrac{1}{1+\\sum\\limits_{n=1}^\\infty \\ffrac{\\lambda_{n-1}\\lambda_{n-2}\\cdots \\lambda_2 \\lambda_1 \\lambda_0}{\\mu_m\\mu_{n-1}\\cdots \\mu_2 \\mu_1}} = \\ffrac{1}{1+\\ffrac{\\frac{1}{ab}}{1-\\frac{1}{a}}} = \\ffrac{ab-b}{1+ab-b}\\\\\n",
    "P_n &= \\ffrac{\\lambda_0\\lambda_1\\cdots\\lambda_{n-1}}{\\mu_1 \\mu_2\\cdots \\mu_n\\P{1+\\sum\\limits_{n=1}^\\infty \\ffrac{\\lambda_{n-1}\\lambda_{n-2}\\cdots \\lambda_2 \\lambda_1 \\lambda_0}{\\mu_m\\mu_{n-1}\\cdots \\mu_2 \\mu_1}}} = \\ffrac{ab-b}{a^n\\P{1+ab-b}}\n",
    "\\end{align}$$"
   ]
  },
  {
   "cell_type": "markdown",
   "metadata": {},
   "source": [
    "## Question 4\n",
    "\n",
    "$\\bspace$Let the rate and transition probabilities of $X\\P t$ be $v_i$ and $P_{ij}$ respectively, and $v_i'$ and $P_{ij}'$ for $Y\\P t$. Since the two are independent, the rate and transition probabilities now are\n",
    "\n",
    "$$v_{\\P{a,d}} = v_{a} + v_d'\\\\\n",
    "P_{\\P{a,d},\\P{s,d}} = \\ffrac{v_a}{v_a + v_d'}P_{as},\\bspace P_{\\P{a,d},\\P{a,f}} =\\ffrac{v_d'}{v_a + v_d'}P_{df}'$$\n",
    "\n",
    "$\\bspace$To prove the Chain is time reversible, define the limiting probabilities first, as\n",
    "\n",
    "$\\bspace\\d{\\lim_{t\\to\\infty} P\\CB{\\P{X\\P t,Y\\P t} = \\P{i,j}}} = P_iP_j'$\n",
    "\n",
    "$\\bspace$And from $Proposition\\,6.7$ we now check whether $P_{\\P{a,d},\\P{s,d}} = P_aP_d'v_aP_{as} = P_sP_d'v_sP_{sa} = P_{\\P{s,d},\\P{a,d}}$ and $P_{\\P{a,d},\\P{a,f}} = P_aP_d'v_d'P_{df}' = P_aP_f'v_fP_{fd}' = P_{\\P{a,f},\\P{a,d}}$. However the two can be directly proved true by the fact that $X\\P t$ and $Y\\P t$ are time reversible which means\n",
    "\n",
    "$$P_av_aP_{as} = P_{s}v_sP_{sa},\\bspace P_d'v_d'P_{df}' = P_f'v_fP_{fd}'$$"
   ]
  },
  {
   "cell_type": "markdown",
   "metadata": {},
   "source": [
    "## Question 5\n",
    "$\\P 1$\n",
    "\n",
    "$\\bspace$First we write $\\mathbf Q = \\begin{pmatrix}\n",
    "-v_1 & \\frac{v_{\\void_1}}{n-1} & \\cdots & \\frac{v_{\\void_1}}{n-1}\\\\ \n",
    "\\frac{v_{\\void_2}}{n-1} & -v_2 & \\cdots & \\frac{v_{\\void_2}}{n-1}\\\\ \n",
    "\\vdots & \\vdots & \\ddots & \\vdots\\\\ \n",
    "\\frac{v_n}{n-1} & \\frac{v_n}{n-1} & \\cdots & -v_n\n",
    "\\end{pmatrix}$ and thus we now trying to find the limiting probabilities\n",
    "\n",
    "$$\\begin{cases}\n",
    "\\pi\\mathbf Q = [0,0,0]\\\\\n",
    "\\pi \\mathbf 1 = 1\n",
    "\\end{cases} \\Longrightarrow \\pi = \\ffrac{1}{\\sum\\limits_{i=1}^n \\ffrac{1}{v_i}}\\begin{bmatrix}\n",
    "\\ffrac{1}{v_1} & \\ffrac{1}{v_2} &\\cdots& \\ffrac{1}{v_n}\n",
    "\\end{bmatrix}$$\n",
    "\n",
    "$\\bspace$And thus, $\\forall\\: i,j$, $P_i\\cdot q_{ij} = \\ffrac{\\ffrac{1}{v_i}}{\\sum\\limits_{i=1}^n \\ffrac{1}{v_i}} \\cdot \\ffrac{v_i}{n} = \\ffrac{1}{n\\sum\\limits_{i=1}^n \\ffrac{1}{v_i}} = P_j\\cdot q_{ji}$. Done!"
   ]
  },
  {
   "cell_type": "markdown",
   "metadata": {},
   "source": [
    "***"
   ]
  }
 ],
 "metadata": {
  "kernelspec": {
   "display_name": "Python 3",
   "language": "python",
   "name": "python3"
  },
  "language_info": {
   "codemirror_mode": {
    "name": "ipython",
    "version": 3
   },
   "file_extension": ".py",
   "mimetype": "text/x-python",
   "name": "python",
   "nbconvert_exporter": "python",
   "pygments_lexer": "ipython3",
   "version": "3.5.2"
  },
  "toc": {
   "colors": {
    "hover_highlight": "#DAA520",
    "navigate_num": "#000000",
    "navigate_text": "#333333",
    "running_highlight": "#FF0000",
    "selected_highlight": "#FFD700",
    "sidebar_border": "#EEEEEE",
    "wrapper_background": "#FFFFFF"
   },
   "moveMenuLeft": true,
   "nav_menu": {
    "height": "52px",
    "width": "252px"
   },
   "navigate_menu": true,
   "number_sections": true,
   "sideBar": true,
   "threshold": 4,
   "toc_cell": false,
   "toc_section_display": "block",
   "toc_window_display": false,
   "widenNotebook": false
  }
 },
 "nbformat": 4,
 "nbformat_minor": 2
}
