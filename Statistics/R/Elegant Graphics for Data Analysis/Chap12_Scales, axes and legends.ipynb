{
 "cells": [
  {
   "cell_type": "markdown",
   "metadata": {},
   "source": [
    "# Scales, axes and legends\n",
    "\n",
    "## Intro\n",
    "\n",
    "Each scale is a function from a **region in data space** (the domain of the scale) to a **region in aesthetic space** (the range of the scale).\n",
    "\n",
    "Scales control the mapping from data to aesthetics. They take your data and turn it into something that you can see, like size, colour. Scales also provide the tools that let you read the plot: the axes and legends.\n"
   ]
  },
  {
   "cell_type": "code",
   "execution_count": 1,
   "metadata": {},
   "outputs": [
    {
     "name": "stderr",
     "output_type": "stream",
     "text": [
      "Registered S3 methods overwritten by 'ggplot2':\n",
      "  method         from \n",
      "  [.quosures     rlang\n",
      "  c.quosures     rlang\n",
      "  print.quosures rlang\n"
     ]
    }
   ],
   "source": [
    "library(ggplot2)\n",
    "library(repr)\n",
    "options(repr.plot.width=3, repr.plot.height=2, repr.plot.res=180)\n",
    "\n",
    "# multiplot function from Cookbook for R by Winston Chang\n",
    "# modified by Yuanxing Cheng\n",
    "# http://www.cookbook-r.com/Graphs/Multiple_graphs_on_one_page_(ggplot2)/\n",
    "multiplot <- function(..., plotlist=NULL, file, ncol=1, layout=NULL, res=180, width=0) {\n",
    "    library(grid)\n",
    "\n",
    "    # Make a list from the ... arguments and plotlist\n",
    "    plots <- c(list(...), plotlist)\n",
    "\n",
    "    numPlots = length(plots)\n",
    "    if (width>0){\n",
    "        options(repr.plot.width=width, repr.plot.height=2*max(numPlots%/%ncol,1), repr.plot.res=res)\n",
    "    } else{\n",
    "        options(repr.plot.width=min(9,3*ncol), repr.plot.height=2*max(numPlots%/%ncol,1), repr.plot.res=res)   \n",
    "    }\n",
    "\n",
    "    # If layout is NULL, then use 'ncol' to determine layout\n",
    "    if (is.null(layout)) {\n",
    "        # Make the panel\n",
    "        # ncol: Number of columns of plots\n",
    "        # nrow: Number of rows needed, calculated from # of column\n",
    "        layout <- matrix(\n",
    "            seq(1, ncol * ceiling(numPlots/ncol)),\n",
    "            ncol = ncol, nrow = ceiling(numPlots/ncol),\n",
    "            byrow=TRUE # set byrow=TRUE will make the subplots listed by row\n",
    "        )\n",
    "    }\n",
    "\n",
    "    if (numPlots==1) {\n",
    "        print(plots[[1]])\n",
    "    } else {\n",
    "        # Set up the page\n",
    "        grid.newpage()\n",
    "        pushViewport(viewport(layout = grid.layout(nrow(layout), ncol(layout))))\n",
    "\n",
    "        # Make each plot, in the correct location\n",
    "        for (i in 1:numPlots) {\n",
    "            # Get the i,j matrix positions of the regions that contain this subplot\n",
    "            matchidx <- as.data.frame(which(layout == i, arr.ind = TRUE))\n",
    "            print(\n",
    "                plots[[i]],\n",
    "                vp = viewport(\n",
    "                    layout.pos.row = matchidx$row,\n",
    "                    layout.pos.col = matchidx$col\n",
    "                )\n",
    "            )\n",
    "        }\n",
    "    }\n",
    "}\n",
    "myTheme = theme(\n",
    "    plot.title = element_text(size = rel(0.5)), \n",
    "    axis.title = element_text(size = rel(0.8)), \n",
    "    legend.title = element_text(size = rel(0.8))\n",
    ")"
   ]
  },
  {
   "cell_type": "code",
   "execution_count": null,
   "metadata": {},
   "outputs": [],
   "source": []
  },
  {
   "cell_type": "code",
   "execution_count": null,
   "metadata": {},
   "outputs": [],
   "source": []
  }
 ],
 "metadata": {
  "kernelspec": {
   "display_name": "R",
   "language": "R",
   "name": "ir"
  },
  "language_info": {
   "codemirror_mode": "r",
   "file_extension": ".r",
   "mimetype": "text/x-r-source",
   "name": "R",
   "pygments_lexer": "r",
   "version": "3.6.0"
  },
  "toc": {
   "base_numbering": 1,
   "nav_menu": {
    "height": "84px",
    "width": "172.9px"
   },
   "number_sections": true,
   "sideBar": true,
   "skip_h1_title": false,
   "title_cell": "Table of Contents",
   "title_sidebar": "Contents",
   "toc_cell": false,
   "toc_position": {},
   "toc_section_display": true,
   "toc_window_display": false
  },
  "varInspector": {
   "cols": {
    "lenName": 16,
    "lenType": 16,
    "lenVar": 40
   },
   "kernels_config": {
    "python": {
     "delete_cmd_postfix": "",
     "delete_cmd_prefix": "del ",
     "library": "var_list.py",
     "varRefreshCmd": "print(var_dic_list())"
    },
    "r": {
     "delete_cmd_postfix": ") ",
     "delete_cmd_prefix": "rm(",
     "library": "var_list.r",
     "varRefreshCmd": "cat(var_dic_list()) "
    }
   },
   "types_to_exclude": [
    "module",
    "function",
    "builtin_function_or_method",
    "instance",
    "_Feature"
   ],
   "window_display": false
  }
 },
 "nbformat": 4,
 "nbformat_minor": 2
}
