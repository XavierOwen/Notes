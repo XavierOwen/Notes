{
 "cells": [
  {
   "cell_type": "markdown",
   "metadata": {},
   "source": [
    "# Build a plot layer by layer\n",
    "\n",
    "## Intro\n",
    "\n",
    "Learn all five components of a layer\n",
    "\n",
    "- data\n",
    "- aesthetic mappings\n",
    "- geom\n",
    "- stat\n",
    "- position adjustments\n",
    "\n",
    "## Building a plot\n",
    "\n",
    "Use dataset `mpg`"
   ]
  },
  {
   "cell_type": "code",
   "execution_count": 2,
   "metadata": {
    "code_folding": [
     7
    ]
   },
   "outputs": [
    {
     "data": {
      "text/html": [
       "<table>\n",
       "<thead><tr><th scope=col>manufacturer</th><th scope=col>model</th><th scope=col>displ</th><th scope=col>year</th><th scope=col>cyl</th><th scope=col>trans</th><th scope=col>drv</th><th scope=col>cty</th><th scope=col>hwy</th><th scope=col>fl</th><th scope=col>class</th></tr></thead>\n",
       "<tbody>\n",
       "\t<tr><td>audi      </td><td>a4        </td><td>1.8       </td><td>1999      </td><td>4         </td><td>auto(l5)  </td><td>f         </td><td>18        </td><td>29        </td><td>p         </td><td>compact   </td></tr>\n",
       "\t<tr><td>audi      </td><td>a4        </td><td>1.8       </td><td>1999      </td><td>4         </td><td>manual(m5)</td><td>f         </td><td>21        </td><td>29        </td><td>p         </td><td>compact   </td></tr>\n",
       "\t<tr><td>audi      </td><td>a4        </td><td>2.0       </td><td>2008      </td><td>4         </td><td>manual(m6)</td><td>f         </td><td>20        </td><td>31        </td><td>p         </td><td>compact   </td></tr>\n",
       "\t<tr><td>audi      </td><td>a4        </td><td>2.0       </td><td>2008      </td><td>4         </td><td>auto(av)  </td><td>f         </td><td>21        </td><td>30        </td><td>p         </td><td>compact   </td></tr>\n",
       "\t<tr><td>audi      </td><td>a4        </td><td>2.8       </td><td>1999      </td><td>6         </td><td>auto(l5)  </td><td>f         </td><td>16        </td><td>26        </td><td>p         </td><td>compact   </td></tr>\n",
       "\t<tr><td>audi      </td><td>a4        </td><td>2.8       </td><td>1999      </td><td>6         </td><td>manual(m5)</td><td>f         </td><td>18        </td><td>26        </td><td>p         </td><td>compact   </td></tr>\n",
       "</tbody>\n",
       "</table>\n"
      ],
      "text/latex": [
       "\\begin{tabular}{r|lllllllllll}\n",
       " manufacturer & model & displ & year & cyl & trans & drv & cty & hwy & fl & class\\\\\n",
       "\\hline\n",
       "\t audi       & a4         & 1.8        & 1999       & 4          & auto(l5)   & f          & 18         & 29         & p          & compact   \\\\\n",
       "\t audi       & a4         & 1.8        & 1999       & 4          & manual(m5) & f          & 21         & 29         & p          & compact   \\\\\n",
       "\t audi       & a4         & 2.0        & 2008       & 4          & manual(m6) & f          & 20         & 31         & p          & compact   \\\\\n",
       "\t audi       & a4         & 2.0        & 2008       & 4          & auto(av)   & f          & 21         & 30         & p          & compact   \\\\\n",
       "\t audi       & a4         & 2.8        & 1999       & 6          & auto(l5)   & f          & 16         & 26         & p          & compact   \\\\\n",
       "\t audi       & a4         & 2.8        & 1999       & 6          & manual(m5) & f          & 18         & 26         & p          & compact   \\\\\n",
       "\\end{tabular}\n"
      ],
      "text/markdown": [
       "\n",
       "| manufacturer | model | displ | year | cyl | trans | drv | cty | hwy | fl | class |\n",
       "|---|---|---|---|---|---|---|---|---|---|---|\n",
       "| audi       | a4         | 1.8        | 1999       | 4          | auto(l5)   | f          | 18         | 29         | p          | compact    |\n",
       "| audi       | a4         | 1.8        | 1999       | 4          | manual(m5) | f          | 21         | 29         | p          | compact    |\n",
       "| audi       | a4         | 2.0        | 2008       | 4          | manual(m6) | f          | 20         | 31         | p          | compact    |\n",
       "| audi       | a4         | 2.0        | 2008       | 4          | auto(av)   | f          | 21         | 30         | p          | compact    |\n",
       "| audi       | a4         | 2.8        | 1999       | 6          | auto(l5)   | f          | 16         | 26         | p          | compact    |\n",
       "| audi       | a4         | 2.8        | 1999       | 6          | manual(m5) | f          | 18         | 26         | p          | compact    |\n",
       "\n"
      ],
      "text/plain": [
       "  manufacturer model displ year cyl trans      drv cty hwy fl class  \n",
       "1 audi         a4    1.8   1999 4   auto(l5)   f   18  29  p  compact\n",
       "2 audi         a4    1.8   1999 4   manual(m5) f   21  29  p  compact\n",
       "3 audi         a4    2.0   2008 4   manual(m6) f   20  31  p  compact\n",
       "4 audi         a4    2.0   2008 4   auto(av)   f   21  30  p  compact\n",
       "5 audi         a4    2.8   1999 6   auto(l5)   f   16  26  p  compact\n",
       "6 audi         a4    2.8   1999 6   manual(m5) f   18  26  p  compact"
      ]
     },
     "metadata": {},
     "output_type": "display_data"
    }
   ],
   "source": [
    "library(ggplot2)\n",
    "library(repr)\n",
    "options(repr.plot.width=3, repr.plot.height=2, repr.plot.res=180)\n",
    "\n",
    "# multiplot function from Cookbook for R by Winston Chang\n",
    "# modified by Yuanxing Cheng\n",
    "# http://www.cookbook-r.com/Graphs/Multiple_graphs_on_one_page_(ggplot2)/\n",
    "multiplot <- function(..., plotlist=NULL, file, ncol=1, layout=NULL, res=180, width=0) {\n",
    "    library(grid)\n",
    "\n",
    "    # Make a list from the ... arguments and plotlist\n",
    "    plots <- c(list(...), plotlist)\n",
    "\n",
    "    numPlots = length(plots)\n",
    "    if (width>0){\n",
    "        options(repr.plot.width=width, repr.plot.height=2*max(numPlots%/%ncol,1), repr.plot.res=res)\n",
    "    } else{\n",
    "        options(repr.plot.width=min(9,3*ncol), repr.plot.height=2*max(numPlots%/%ncol,1), repr.plot.res=res)   \n",
    "    }\n",
    "\n",
    "    # If layout is NULL, then use 'ncol' to determine layout\n",
    "    if (is.null(layout)) {\n",
    "        # Make the panel\n",
    "        # ncol: Number of columns of plots\n",
    "        # nrow: Number of rows needed, calculated from # of column\n",
    "        layout <- matrix(\n",
    "            seq(1, ncol * ceiling(numPlots/ncol)),\n",
    "            ncol = ncol, nrow = ceiling(numPlots/ncol),\n",
    "            byrow=TRUE # set byrow=TRUE will make the subplots listed by row\n",
    "        )\n",
    "    }\n",
    "\n",
    "    if (numPlots==1) {\n",
    "        print(plots[[1]])\n",
    "    } else {\n",
    "        # Set up the page\n",
    "        grid.newpage()\n",
    "        pushViewport(viewport(layout = grid.layout(nrow(layout), ncol(layout))))\n",
    "\n",
    "        # Make each plot, in the correct location\n",
    "        for (i in 1:numPlots) {\n",
    "            # Get the i,j matrix positions of the regions that contain this subplot\n",
    "            matchidx <- as.data.frame(which(layout == i, arr.ind = TRUE))\n",
    "            print(\n",
    "                plots[[i]],\n",
    "                vp = viewport(\n",
    "                    layout.pos.row = matchidx$row,\n",
    "                    layout.pos.col = matchidx$col\n",
    "                )\n",
    "            )\n",
    "        }\n",
    "    }\n",
    "}\n",
    "myTheme = theme(\n",
    "    plot.title = element_text(size = rel(0.5)), \n",
    "    axis.title = element_text(size = rel(0.8)), \n",
    "    legend.title = element_text(size = rel(0.8))\n",
    ")\n",
    "\n",
    "head(mpg)"
   ]
  },
  {
   "cell_type": "code",
   "execution_count": 3,
   "metadata": {},
   "outputs": [
    {
     "data": {
      "image/png": "[encoded data removed]",
      "text/plain": [
       "plot without title"
      ]
     },
     "metadata": {},
     "output_type": "display_data"
    }
   ],
   "source": [
    "base <- ggplot(mpg, aes(displ, hwy))\n",
    "p1 <- base + geom_point()\n",
    "multiplot(base,p1,ncol=2)"
   ]
  },
  {
   "cell_type": "markdown",
   "metadata": {},
   "source": [
    "Actually `geom_point()` calls function `layer()` as bellow:\n",
    "\n",
    "```R\n",
    "layer(\n",
    "    mapping = NULL, \n",
    "    data = NULL,\n",
    "    geom = \"point\", \n",
    "    stat = \"identity\",\n",
    "    position = \"identity\"\n",
    ")\n",
    "```\n",
    "\n",
    "Setting an argument to `NULL` will use the default.\n",
    "\n",
    "Geoms also have additional arguments. All geoms take aesthetics as parameters."
   ]
  },
  {
   "cell_type": "code",
   "execution_count": null,
   "metadata": {},
   "outputs": [],
   "source": []
  }
 ],
 "metadata": {
  "kernelspec": {
   "display_name": "R",
   "language": "R",
   "name": "ir"
  },
  "language_info": {
   "codemirror_mode": "r",
   "file_extension": ".r",
   "mimetype": "text/x-r-source",
   "name": "R",
   "pygments_lexer": "r",
   "version": "3.6.0"
  },
  "toc": {
   "base_numbering": 1,
   "nav_menu": {},
   "number_sections": true,
   "sideBar": true,
   "skip_h1_title": false,
   "title_cell": "Table of Contents",
   "title_sidebar": "Contents",
   "toc_cell": false,
   "toc_position": {},
   "toc_section_display": true,
   "toc_window_display": false
  },
  "varInspector": {
   "cols": {
    "lenName": 16,
    "lenType": 16,
    "lenVar": 40
   },
   "kernels_config": {
    "python": {
     "delete_cmd_postfix": "",
     "delete_cmd_prefix": "del ",
     "library": "var_list.py",
     "varRefreshCmd": "print(var_dic_list())"
    },
    "r": {
     "delete_cmd_postfix": ") ",
     "delete_cmd_prefix": "rm(",
     "library": "var_list.r",
     "varRefreshCmd": "cat(var_dic_list()) "
    }
   },
   "types_to_exclude": [
    "module",
    "function",
    "builtin_function_or_method",
    "instance",
    "_Feature"
   ],
   "window_display": false
  }
 },
 "nbformat": 4,
 "nbformat_minor": 2
}
