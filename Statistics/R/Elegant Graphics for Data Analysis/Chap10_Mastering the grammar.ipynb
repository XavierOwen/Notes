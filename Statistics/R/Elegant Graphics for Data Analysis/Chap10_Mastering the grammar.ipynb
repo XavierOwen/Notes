{
 "cells": [
  {
   "cell_type": "markdown",
   "metadata": {},
   "source": [
    "# Mastering the grammar\n",
    "\n",
    "## Introduction\n",
    "\n",
    "- [scatter plot](#Building-a-scatterplot)\n",
    "- [adding smoother and facet](#Adding-complexity)\n",
    "- [precisely defined grammer](#Components-of-the-layered-grammer)\n",
    "\n",
    "## Building a scatterplot\n",
    "\n",
    "use dataset `mpg`"
   ]
  },
  {
   "cell_type": "code",
   "execution_count": 1,
   "metadata": {
    "code_folding": [
     7
    ]
   },
   "outputs": [
    {
     "name": "stderr",
     "output_type": "stream",
     "text": [
      "Registered S3 methods overwritten by 'ggplot2':\n",
      "  method         from \n",
      "  [.quosures     rlang\n",
      "  c.quosures     rlang\n",
      "  print.quosures rlang\n"
     ]
    },
    {
     "data": {
      "text/html": [
       "<table>\n",
       "<thead><tr><th scope=col>manufacturer</th><th scope=col>model</th><th scope=col>displ</th><th scope=col>year</th><th scope=col>cyl</th><th scope=col>trans</th><th scope=col>drv</th><th scope=col>cty</th><th scope=col>hwy</th><th scope=col>fl</th><th scope=col>class</th></tr></thead>\n",
       "<tbody>\n",
       "\t<tr><td>audi      </td><td>a4        </td><td>1.8       </td><td>1999      </td><td>4         </td><td>auto(l5)  </td><td>f         </td><td>18        </td><td>29        </td><td>p         </td><td>compact   </td></tr>\n",
       "\t<tr><td>audi      </td><td>a4        </td><td>1.8       </td><td>1999      </td><td>4         </td><td>manual(m5)</td><td>f         </td><td>21        </td><td>29        </td><td>p         </td><td>compact   </td></tr>\n",
       "\t<tr><td>audi      </td><td>a4        </td><td>2.0       </td><td>2008      </td><td>4         </td><td>manual(m6)</td><td>f         </td><td>20        </td><td>31        </td><td>p         </td><td>compact   </td></tr>\n",
       "\t<tr><td>audi      </td><td>a4        </td><td>2.0       </td><td>2008      </td><td>4         </td><td>auto(av)  </td><td>f         </td><td>21        </td><td>30        </td><td>p         </td><td>compact   </td></tr>\n",
       "\t<tr><td>audi      </td><td>a4        </td><td>2.8       </td><td>1999      </td><td>6         </td><td>auto(l5)  </td><td>f         </td><td>16        </td><td>26        </td><td>p         </td><td>compact   </td></tr>\n",
       "\t<tr><td>audi      </td><td>a4        </td><td>2.8       </td><td>1999      </td><td>6         </td><td>manual(m5)</td><td>f         </td><td>18        </td><td>26        </td><td>p         </td><td>compact   </td></tr>\n",
       "</tbody>\n",
       "</table>\n"
      ],
      "text/latex": [
       "\\begin{tabular}{r|lllllllllll}\n",
       " manufacturer & model & displ & year & cyl & trans & drv & cty & hwy & fl & class\\\\\n",
       "\\hline\n",
       "\t audi       & a4         & 1.8        & 1999       & 4          & auto(l5)   & f          & 18         & 29         & p          & compact   \\\\\n",
       "\t audi       & a4         & 1.8        & 1999       & 4          & manual(m5) & f          & 21         & 29         & p          & compact   \\\\\n",
       "\t audi       & a4         & 2.0        & 2008       & 4          & manual(m6) & f          & 20         & 31         & p          & compact   \\\\\n",
       "\t audi       & a4         & 2.0        & 2008       & 4          & auto(av)   & f          & 21         & 30         & p          & compact   \\\\\n",
       "\t audi       & a4         & 2.8        & 1999       & 6          & auto(l5)   & f          & 16         & 26         & p          & compact   \\\\\n",
       "\t audi       & a4         & 2.8        & 1999       & 6          & manual(m5) & f          & 18         & 26         & p          & compact   \\\\\n",
       "\\end{tabular}\n"
      ],
      "text/markdown": [
       "\n",
       "| manufacturer | model | displ | year | cyl | trans | drv | cty | hwy | fl | class |\n",
       "|---|---|---|---|---|---|---|---|---|---|---|\n",
       "| audi       | a4         | 1.8        | 1999       | 4          | auto(l5)   | f          | 18         | 29         | p          | compact    |\n",
       "| audi       | a4         | 1.8        | 1999       | 4          | manual(m5) | f          | 21         | 29         | p          | compact    |\n",
       "| audi       | a4         | 2.0        | 2008       | 4          | manual(m6) | f          | 20         | 31         | p          | compact    |\n",
       "| audi       | a4         | 2.0        | 2008       | 4          | auto(av)   | f          | 21         | 30         | p          | compact    |\n",
       "| audi       | a4         | 2.8        | 1999       | 6          | auto(l5)   | f          | 16         | 26         | p          | compact    |\n",
       "| audi       | a4         | 2.8        | 1999       | 6          | manual(m5) | f          | 18         | 26         | p          | compact    |\n",
       "\n"
      ],
      "text/plain": [
       "  manufacturer model displ year cyl trans      drv cty hwy fl class  \n",
       "1 audi         a4    1.8   1999 4   auto(l5)   f   18  29  p  compact\n",
       "2 audi         a4    1.8   1999 4   manual(m5) f   21  29  p  compact\n",
       "3 audi         a4    2.0   2008 4   manual(m6) f   20  31  p  compact\n",
       "4 audi         a4    2.0   2008 4   auto(av)   f   21  30  p  compact\n",
       "5 audi         a4    2.8   1999 6   auto(l5)   f   16  26  p  compact\n",
       "6 audi         a4    2.8   1999 6   manual(m5) f   18  26  p  compact"
      ]
     },
     "metadata": {},
     "output_type": "display_data"
    }
   ],
   "source": [
    "library(ggplot2)\n",
    "library(repr)\n",
    "options(repr.plot.width=3, repr.plot.height=2, repr.plot.res=180)\n",
    "\n",
    "# multiplot function from Cookbook for R by Winston Chang\n",
    "# modified by Yuanxing Cheng\n",
    "# http://www.cookbook-r.com/Graphs/Multiple_graphs_on_one_page_(ggplot2)/\n",
    "multiplot <- function(..., plotlist=NULL, file, ncol=1, layout=NULL, res=180, width=0) {\n",
    "    library(grid)\n",
    "\n",
    "    # Make a list from the ... arguments and plotlist\n",
    "    plots <- c(list(...), plotlist)\n",
    "\n",
    "    numPlots = length(plots)\n",
    "    if (width>0){\n",
    "        options(repr.plot.width=width, repr.plot.height=2*max(numPlots%/%ncol,1), repr.plot.res=res)\n",
    "    } else{\n",
    "        options(repr.plot.width=min(9,3*ncol), repr.plot.height=2*max(numPlots%/%ncol,1), repr.plot.res=res)   \n",
    "    }\n",
    "\n",
    "    # If layout is NULL, then use 'ncol' to determine layout\n",
    "    if (is.null(layout)) {\n",
    "        # Make the panel\n",
    "        # ncol: Number of columns of plots\n",
    "        # nrow: Number of rows needed, calculated from # of column\n",
    "        layout <- matrix(\n",
    "            seq(1, ncol * ceiling(numPlots/ncol)),\n",
    "            ncol = ncol, nrow = ceiling(numPlots/ncol),\n",
    "            byrow=TRUE # set byrow=TRUE will make the subplots listed by row\n",
    "        )\n",
    "    }\n",
    "\n",
    "    if (numPlots==1) {\n",
    "        print(plots[[1]])\n",
    "    } else {\n",
    "        # Set up the page\n",
    "        grid.newpage()\n",
    "        pushViewport(viewport(layout = grid.layout(nrow(layout), ncol(layout))))\n",
    "\n",
    "        # Make each plot, in the correct location\n",
    "        for (i in 1:numPlots) {\n",
    "            # Get the i,j matrix positions of the regions that contain this subplot\n",
    "            matchidx <- as.data.frame(which(layout == i, arr.ind = TRUE))\n",
    "            print(\n",
    "                plots[[i]],\n",
    "                vp = viewport(\n",
    "                    layout.pos.row = matchidx$row,\n",
    "                    layout.pos.col = matchidx$col\n",
    "                )\n",
    "            )\n",
    "        }\n",
    "    }\n",
    "}\n",
    "myTheme = theme(\n",
    "    plot.title = element_text(size = rel(0.5)), \n",
    "    axis.title = element_text(size = rel(0.8)), \n",
    "    legend.title = element_text(size = rel(0.8))\n",
    ")\n",
    "\n",
    "head(mpg)"
   ]
  },
  {
   "cell_type": "code",
   "execution_count": 2,
   "metadata": {},
   "outputs": [
    {
     "data": {
      "image/png": "[encoded data removed]",
      "text/plain": [
       "plot without title"
      ]
     },
     "metadata": {},
     "output_type": "display_data"
    }
   ],
   "source": [
    "ggplot(mpg,aes(displ,hwy,color=factor(cyl))) + \n",
    "geom_point() + myTheme"
   ]
  },
  {
   "cell_type": "markdown",
   "metadata": {},
   "source": [
    "Let's see what's underneath the whole process.\n",
    "\n",
    "### Mapping aesthetics to data\n",
    "\n",
    "**aesthetics**: the properties that be be perceived on the graphic. And it can be \n",
    "\n",
    "- mapped to a variable\n",
    "- set to a constant\n",
    "\n",
    "For the previous one:\n",
    "\n",
    "- `displ` → horizontal position\n",
    "- `hwy` → vertical posiiton\n",
    "- `cyl` → color\n",
    "\n",
    "then we have\n",
    "\n",
    "| X    | Y    | color |\n",
    "| :--: | :--: | :---: |\n",
    "| 1.8  | 29   | 4     |\n",
    "| 1.8  | 29   | 4     |\n",
    "| 2.0  | 31   | 4     |\n",
    "| 2.0  | 30   | 4     |\n",
    "| 2.8  | 36   | 6     |\n",
    "| ...  | ...   | ...    |\n",
    "\n",
    "Here we can draw some meaningless plots, if you have to."
   ]
  },
  {
   "cell_type": "code",
   "execution_count": 3,
   "metadata": {},
   "outputs": [
    {
     "data": {
      "image/png": "[encoded data removed]",
      "text/plain": [
       "plot without title"
      ]
     },
     "metadata": {},
     "output_type": "display_data"
    }
   ],
   "source": [
    "g1 <- ggplot(mpg,aes(displ,hwy,color=factor(cyl))) + \n",
    "geom_line() + myTheme\n",
    "g2 <- ggplot(mpg,aes(displ,hwy,color=factor(cyl))) + \n",
    "geom_bar(stat='identity', position='identity', fill=NA) + myTheme\n",
    "\n",
    "multiplot(g1,g2,ncol=2)"
   ]
  },
  {
   "cell_type": "markdown",
   "metadata": {},
   "source": [
    "**geoms**: define the type of the current plot process\n",
    "\n",
    "Complex plots with multiple geoms are created by them."
   ]
  },
  {
   "cell_type": "code",
   "execution_count": 4,
   "metadata": {},
   "outputs": [
    {
     "data": {
      "image/png": "[encoded data removed]",
      "text/plain": [
       "plot without title"
      ]
     },
     "metadata": {},
     "output_type": "display_data"
    }
   ],
   "source": [
    "ggplot(mpg,aes(displ,hwy,color=factor(cyl))) + \n",
    "geom_point() + \n",
    "geom_smooth(method='lm') + myTheme"
   ]
  },
  {
   "cell_type": "markdown",
   "metadata": {},
   "source": [
    "`method=lm` meaning using linear method, see Chap02 for more details.\n",
    "\n",
    "### Scaling\n",
    "\n",
    "**Scaling**: convert the data units, using scales, to graphical units, like pixels and colors. Using command `vignette('gplot2-specs')` to see the documents. Or find the html file, `\"..\\R\\library\\ggplot2\\doc\\ggplot2-specs.html\"`\n",
    "\n",
    "Default scaling is linear, a mapping from the range of the data to range $[0,1]$, since we're using ggplot **grid** system.\n",
    "\n",
    "Another important system is the **coord** system, in most cases the Cartesian coordinates.\n",
    "\n",
    "After mapping the constant variables, we have the final result.\n",
    "\n",
    "|   x   |   y   |  color  | size | shape |\n",
    "|:-----:|:-----:|:-------:|:----:|:-----:|\n",
    "| 0.037 | 0.531 | #F8766D |   1  |   19  |\n",
    "| 0.037 | 0.531 | #F8766D |   1  |   19  |\n",
    "| 0.074 | 0.594 | #F8766D |   1  |   19  |\n",
    "|  ...  |  ...  |   ...   |  ... |  ...  |\n",
    "\n",
    "When plotting, we need:\n",
    "\n",
    "- point geoms to represent data\n",
    "- axes generated by scale\n",
    "- legends generated by coordinate system\n",
    "- other annotation like background and title\n",
    "\n",
    "## Adding complexity\n",
    "\n",
    "Start with this"
   ]
  },
  {
   "cell_type": "code",
   "execution_count": 6,
   "metadata": {},
   "outputs": [
    {
     "name": "stderr",
     "output_type": "stream",
     "text": [
      "`geom_smooth()` using method = 'loess' and formula 'y ~ x'\n"
     ]
    },
    {
     "data": {
      "image/png": "[encoded data removed]",
      "text/plain": [
       "plot without title"
      ]
     },
     "metadata": {},
     "output_type": "display_data"
    }
   ],
   "source": [
    "ggplot(mpg, aes(displ, hwy)) + \n",
    "geom_point() +\n",
    "geom_smooth() + \n",
    "facet_wrap(~year) + myTheme"
   ]
  },
  {
   "attachments": {},
   "cell_type": "markdown",
   "metadata": {},
   "source": [
    "Facet panel in each layer can have its own dataset. Point layer has already been explained above.\n",
    "\n",
    "The smoother layer is complicated. It displays a statistical transformation of the data. Process:\n",
    "\n",
    "- map the data to aesthetics\n",
    "- facet datasets\n",
    "- scale transformation, more in Chap 12.6.1\n",
    "- a statistical transformation manipulate the scale-transformed data and return the required statistics\n",
    "- coordinate transformations\n",
    "- compute other aesthetics\n",
    "- each scale is trained on every dataset so as to overlay different layers, more in Chap14\n",
    "- the scales map the data values into aesthetic values\n",
    "- render the data using geoms\n",
    "\n",
    "<img src=\"./assets/plotGenerationProcess.png\" width=400px>\n",
    "\n",
    "## Components of the layered grammar\n",
    "\n",
    "The data, mappings, stat, geom and position adjustment form a layer. A plot may have multiple layers. The layered grammar defines a plot as the combination of: \n",
    "\n",
    "- default dataset and set of mappings from variables to aesthetics\n",
    "- one or more layers, each composed of a geometric object, a statistical transformation, a position adjustment, and optionally, a dataset and aesthetic mappings\n",
    "- one scale for each aesthetic mapping\n",
    "- a coordinate system\n",
    "- the facetting specification\n",
    "\n",
    "### Layers\n",
    "\n",
    "Five parts:\n",
    "\n",
    "- Data\n",
    "- Aesthetic mappings\n",
    "- A statistical transformation (stat)\n",
    "- A geometric object (geom)\n",
    "- A position adjustment\n",
    "\n",
    "More in Chap11, and key points are covered in Chap04-08\n",
    "\n",
    "### Scales\n",
    "\n",
    "It controls the mapping from data to aesthetic attributes. Here're some examples.\n",
    "\n",
    "<img src=\"./assets/scaleLegends1.png\" width=600px>\n",
    "\n",
    "- continuous variable mapped to size\n",
    "- continuous variable mapped to colour\n",
    "- discrete variable mapped to shape\n",
    "- discrete variable mapped to colour\n",
    "\n",
    "Here the scale is a function, and its inverse, and some parameters. The inverse function is used to draw a guide to help read values. The guides are either axes (for position scales) or legends (for everything else).\n",
    "\n",
    "### Coordinate system\n",
    "\n",
    "**Coord** maps the position of objects onto the plane of the plot. See the following three:\n",
    "\n",
    "|   Cartesian   |   semi-log   |  polar  |\n",
    "|:-----:|:-----:|:-------:|\n",
    "| <img src=\"./assets/Coord1.png\" width=200px> | <img src=\"./assets/Coord2.png\" width=200px> | <img src=\"./assets/Coord3.png\" width=200px> |\n",
    "\n",
    "### Facetting\n",
    "\n",
    "This is a powerful tool when investigating whether patterns hold across all conditions."
   ]
  }
 ],
 "metadata": {
  "kernelspec": {
   "display_name": "R",
   "language": "R",
   "name": "ir"
  },
  "language_info": {
   "codemirror_mode": "r",
   "file_extension": ".r",
   "mimetype": "text/x-r-source",
   "name": "R",
   "pygments_lexer": "r",
   "version": "3.6.0"
  },
  "toc": {
   "base_numbering": 1,
   "nav_menu": {},
   "number_sections": true,
   "sideBar": true,
   "skip_h1_title": false,
   "title_cell": "Table of Contents",
   "title_sidebar": "Contents",
   "toc_cell": false,
   "toc_position": {},
   "toc_section_display": true,
   "toc_window_display": false
  },
  "varInspector": {
   "cols": {
    "lenName": 16,
    "lenType": 16,
    "lenVar": 40
   },
   "kernels_config": {
    "python": {
     "delete_cmd_postfix": "",
     "delete_cmd_prefix": "del ",
     "library": "var_list.py",
     "varRefreshCmd": "print(var_dic_list())"
    },
    "r": {
     "delete_cmd_postfix": ") ",
     "delete_cmd_prefix": "rm(",
     "library": "var_list.r",
     "varRefreshCmd": "cat(var_dic_list()) "
    }
   },
   "types_to_exclude": [
    "module",
    "function",
    "builtin_function_or_method",
    "instance",
    "_Feature"
   ],
   "window_display": false
  }
 },
 "nbformat": 4,
 "nbformat_minor": 2
}
