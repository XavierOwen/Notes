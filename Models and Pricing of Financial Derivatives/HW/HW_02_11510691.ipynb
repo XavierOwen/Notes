{
 "cells": [
  {
   "cell_type": "markdown",
   "metadata": {},
   "source": [
    "# <center>Models and Pricing of Financial Derivatives HW_02</center>\n",
    "\n",
    "**<center>11510691 程远星$\\DeclareMathOperator*{\\argmin}{argmin}\n",
    "\\DeclareMathOperator*{\\argmax}{argmax}\n",
    "\\DeclareMathOperator*{\\plim}{plim}\n",
    "\\newcommand{\\using}[1]{\\stackrel{\\mathrm{#1}}{=}}\n",
    "\\newcommand{\\ffrac}{\\displaystyle \\frac}\n",
    "\\newcommand{\\asim}{\\overset{\\text{a}}{\\sim}}\n",
    "\\newcommand{\\space}{\\text{ }}\n",
    "\\newcommand{\\bspace}{\\;\\;\\;\\;}\n",
    "\\newcommand{\\QQQ}{\\boxed{?\\:}}\n",
    "\\newcommand{\\void}{\\left.\\right.}\n",
    "\\newcommand{\\Tran}[1]{{#1}^{\\mathrm{T}}}\n",
    "\\newcommand{\\d}[1]{\\displaystyle{#1}}\n",
    "\\newcommand{\\CB}[1]{\\left\\{ #1 \\right\\}}\n",
    "\\newcommand{\\SB}[1]{\\left[ #1 \\right]}\n",
    "\\newcommand{\\P}[1]{\\left( #1 \\right)}\n",
    "\\newcommand{\\abs}[1]{\\left| #1 \\right|}\n",
    "\\newcommand{\\norm}[1]{\\left\\| #1 \\right\\|}\n",
    "\\newcommand{\\dd}{\\mathrm{d}}\n",
    "\\newcommand{\\Exp}{\\mathrm{E}}\n",
    "\\newcommand{\\RR}{\\mathbb{R}}\n",
    "\\newcommand{\\EE}{\\mathbb{E}}\n",
    "\\newcommand{\\NN}{\\mathbb{N}}\n",
    "\\newcommand{\\ZZ}{\\mathbb{Z}}\n",
    "\\newcommand{\\QQ}{\\mathbb{Q}}\n",
    "\\newcommand{\\AcA}{\\mathscr{A}}\n",
    "\\newcommand{\\FcF}{\\mathscr{F}}\n",
    "\\newcommand{\\Var}[2][\\,\\!]{\\mathrm{Var}_{#1}\\left[#2\\right]}\n",
    "\\newcommand{\\Avar}[2][\\,\\!]{\\mathrm{Avar}_{#1}\\left[#2\\right]}\n",
    "\\newcommand{\\Cov}[2][\\,\\!]{\\mathrm{Cov}_{#1}\\left(#2\\right)}\n",
    "\\newcommand{\\Corr}[2][\\,\\!]{\\mathrm{Corr}_{#1}\\left(#2\\right)}\n",
    "\\newcommand{\\I}[1]{\\mathrm{I}\\left( #1 \\right)}\n",
    "\\newcommand{\\N}[1]{\\mathcal{N} \\left( #1 \\right)}\n",
    "\\newcommand{\\ow}{\\text{otherwise}}\n",
    "\\void^\\dagger$</center>**"
   ]
  },
  {
   "cell_type": "markdown",
   "metadata": {},
   "source": [
    "## Question 1\n",
    "\n",
    "$$x = \\ffrac{1.125\\times5 - 0.875\\times0} {\\P{1.125-0.875} e^{0.08\\times0.25}}=22.054,y = \\ffrac{0-5} {\\P{1.125-0.875}40} =-0.5$$\n",
    "\n",
    "$\\bspace$Then we have the put option price: $p = x+yS_0 = 22.054-0.5\\times40 = 2.054$"
   ]
  },
  {
   "cell_type": "markdown",
   "metadata": {},
   "source": [
    "## Question 2\n",
    "\n",
    "$\\bspace$When the stock price enters the second phase, the stock price will change, usually, so that the riskless hedging principle fails after that. To continue doing so, we need to find the new value of the number of shares to hold."
   ]
  },
  {
   "cell_type": "markdown",
   "metadata": {},
   "source": [
    "## Question 3\n",
    "\n",
    "$$q = \\ffrac{e^{0.05\\times 0.25-0.95}} {1.06-0.95} = 0.569$$\n",
    "\n",
    "$\\bspace$So at the end of the first phase, the option price would be \n",
    "\n",
    "$$c_1\\P{1} = e^{-0.05\\times0.25}\\SB{\\P{50\\times1.06^2-51}\\times q} = 2.911$$\n",
    "\n",
    "$\\bspace$And then the first phase, we have\n",
    "\n",
    "$$c_0\\P{0} = e^{-0.05\\times0.25}\\SB{c_1\\P{1}\\times q} = 1.636$$"
   ]
  },
  {
   "cell_type": "markdown",
   "metadata": {},
   "source": [
    "## Question 4\n",
    "\n",
    "$\\bspace$We now share the $q$ with the last question so we can directly use the path probability method:\n",
    "\n",
    "$$p = e^{-0.05\\times0.5}\\SB{\\P{1-q}^2\\P{51 - 50\\times0.95^2} + \\binom{2} {1} q\\P{1-q}\\P{51-50 \\times 0.95 \\times 1.06}} = 1.375$$\n",
    "\n",
    "$\\bspace$And to test the put-call parity:\n",
    "\n",
    "$$1.636 + 51 \\times e^{-0.05\\times0.5}-1.375-50 \\approx 0$$\n",
    "\n",
    "$\\bspace$That's it. And if it's American call options (without dividend), we won't early exercise cause it's never optimal while if it's American put option, first, we won't do that if the price goes up, or at the begining. Second, if the price goes down in the first period, at that time the payoff from early exercise is $51-50\\times 0.95 = 3.5$ while the American put option value at that time is\n",
    "\n",
    "$$P_1\\P{0} = e^{-0.05\\times0.25}\\SB{\\P{1-q}\\P{51 - 50\\times0.95^2}+q\\times\\P{51-50 \\times 0.95 \\times 1.06}} = 2.866 < 3.5$$\n",
    "\n",
    "$\\bspace$That's to say that it's better to early exercise the American Put option if the stock price goes down in the first phase."
   ]
  },
  {
   "cell_type": "markdown",
   "metadata": {},
   "source": [
    "## Question 5\n",
    "\n",
    "$\\bspace$We replicate that portfolio with a claim which is priced as $V_t^h$, with $x$ amount of cash and $y$ amount of the stocks. Then by the riskless hedging principle, we have\n",
    "\n",
    "$$\\begin{cases}\n",
    "x\\cdot e^{0.1\\times 1/6} + y \\times 27 = 27^2 \\\\\n",
    "x\\cdot e^{0.1\\times 1/6} + y \\times 23 = 23^2 \n",
    "\\end{cases} \\\\[2em]\n",
    "\\Rightarrow x= \\ffrac{-27\\times23} {e^{0.1 \\times 1/6}},\\bspace y = 50$$\n",
    "\n",
    "$\\bspace$So that the price of that claim would be\n",
    "\n",
    "$$\\Pi\\P{\\ffrac{1} {6}, U} = V_{1/6}^{h} = x + y\\cdot S_0 = \\ffrac{-27\\times23} {e^{0.1 \\times 1/6}} + 50 \\times 25 = 639.264$$"
   ]
  },
  {
   "cell_type": "markdown",
   "metadata": {},
   "source": [
    "## Question 6\n",
    "\n",
    "$$q = \\ffrac{e^{0.12 \\times 0.25} - 0.9} {1.1-0.9} = 0.652$$\n",
    "\n",
    "$\\P{\\text a}$\n",
    "\n",
    "$\\bspace$The European put option can be find similarly:\n",
    "\n",
    "$$p = e^{-0.12\\times 0.5} \\SB{\\P{1-q}^2 \\P{42-40\\times0.9^2} + \\binom{2} {1} \\P{1-q}q\\P{42-40 \\times 0.9 \\times 0.1}}=2.121$$\n",
    "\n",
    "$\\P{\\text b}$\n",
    "\n",
    "$\\bspace$We will calculate the American Put option backwards.\n",
    "\n",
    "$$\\begin{align}\n",
    "P_{1}\\P{1} &= \\max\\P{e^{-0.12\\times 0.25}\\SB{\\P{1-q}\\P{42-40 \\times 0.9 \\times 0.1}},0} = 0.811 \\\\\n",
    "P_{1}\\P{0} &= \\max\\P{e^{-0.12\\times 0.25}\\SB{q\\P{42-40 \\times 0.9 \\times 0.1} + \\P{1-q}\\P{42-40\\times0.9^2}},42-40\\times0.9} = 6 \\\\[1em]\n",
    "p_{0}\\P{0} &= \\max\\P{e^{-0.12\\times 0.25}\\SB{q\\cdot P_{1}\\P{1} + \\P{1-q}\\cdot P_{1}\\P{0}},42-40} = 2.539\n",
    "\\end{align}\n",
    "$$\n"
   ]
  },
  {
   "cell_type": "markdown",
   "metadata": {},
   "source": [
    "## Question 7\n",
    "\n",
    "$\\bspace$It's not hard to find the value of the tree in the last column: $0$, $\\P{30-29.16}^2 = 0.7056$ and $\\P{30-24.3}^2 = 32.49$. Then we calculate the probability $q$:\n",
    "\n",
    "$$q = \\ffrac{e^{0.05 \\times 1/6}-0.9} {1.08-0.9} = 0.602$$\n",
    "\n",
    "$\\bspace$Then for the European styled derivatives, the option value is:\n",
    "\n",
    "$$e^{-0.05\\times1/3}\\SB{\\P{1-q}^2\\times 32.49+\\binom{2} {1}\\P{1-q}q\\times0.7056} = 5.394$$\n",
    "\n",
    "$\\bspace$While for the American styled, firstly, like the same, it won't happen at the end of second phase, nor the begining. Then at the end of the first phase, if the stock price goes up in the first period, then still nothing should be done. If it goes down, then the payoff from early exercise is $\\P{30-30\\times0.9}^2=9$ however the value of American Put option at that time is\n",
    "\n",
    "$$P_{1}\\P{0} = \\max\\P{e^{-0.05\\times1/6}\\SB{q\\times 0.7056 + \\P{1-q}\\times 32.49},9} = 13.245>9$$\n",
    "\n",
    "So, even if it's an American styled derivatives, at no point of time should you early exercise it."
   ]
  }
 ],
 "metadata": {
  "kernelspec": {
   "display_name": "Python 3",
   "language": "python",
   "name": "python3"
  },
  "language_info": {
   "codemirror_mode": {
    "name": "ipython",
    "version": 3
   },
   "file_extension": ".py",
   "mimetype": "text/x-python",
   "name": "python",
   "nbconvert_exporter": "python",
   "pygments_lexer": "ipython3",
   "version": "3.5.2"
  },
  "toc": {
   "colors": {
    "hover_highlight": "#DAA520",
    "navigate_num": "#000000",
    "navigate_text": "#333333",
    "running_highlight": "#FF0000",
    "selected_highlight": "#FFD700",
    "sidebar_border": "#EEEEEE",
    "wrapper_background": "#FFFFFF"
   },
   "moveMenuLeft": true,
   "nav_menu": {
    "height": "69px",
    "width": "252px"
   },
   "navigate_menu": true,
   "number_sections": true,
   "sideBar": true,
   "threshold": 4,
   "toc_cell": false,
   "toc_section_display": "block",
   "toc_window_display": false,
   "widenNotebook": false
  }
 },
 "nbformat": 4,
 "nbformat_minor": 2
}
