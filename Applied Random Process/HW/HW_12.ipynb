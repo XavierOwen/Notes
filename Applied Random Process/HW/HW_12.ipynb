{
 "cells": [
  {
   "cell_type": "markdown",
   "metadata": {},
   "source": [
    "# <center>Applied Stochastic Processes HW_12</center>\n",
    "\n",
    "**<center>11510691 程远星$\\DeclareMathOperator*{\\argmin}{argmin}\n",
    "\\DeclareMathOperator*{\\argmax}{argmax}\n",
    "\\DeclareMathOperator*{\\plim}{plim}\n",
    "\\newcommand{\\ffrac}{\\displaystyle \\frac}\n",
    "\\newcommand{\\d}[1]{\\displaystyle{#1}}\n",
    "\\newcommand{\\space}{\\text{ }}\n",
    "\\newcommand{\\bspace}{\\;\\;\\;\\;}\n",
    "\\newcommand{\\bbspace}{\\;\\;\\;\\;\\;\\;\\;\\;}\n",
    "\\newcommand{\\QQQ}{\\boxed{?\\:}}\n",
    "\\newcommand{\\void}{\\left.\\right.}\n",
    "\\newcommand{\\Tran}[1]{{#1}^{\\mathrm{T}}}\n",
    "\\newcommand{\\CB}[1]{\\left\\{ #1 \\right\\}}\n",
    "\\newcommand{\\SB}[1]{\\left[ #1 \\right]}\n",
    "\\newcommand{\\P}[1]{\\left( #1 \\right)}\n",
    "\\newcommand{\\abs}[1]{\\left| #1 \\right|}\n",
    "\\newcommand{\\norm}[1]{\\left\\| #1 \\right\\|}\n",
    "\\newcommand{\\given}[1]{\\left. #1 \\right|}\n",
    "\\newcommand{\\using}[1]{\\stackrel{\\mathrm{#1}}{=}}\n",
    "\\newcommand{\\asim}{\\overset{\\text{a}}{\\sim}}\n",
    "\\newcommand{\\RR}{\\mathbb{R}}\n",
    "\\newcommand{\\EE}{\\mathbb{E}}\n",
    "\\newcommand{\\II}{\\mathbb{I}}\n",
    "\\newcommand{\\NN}{\\mathbb{N}}\n",
    "\\newcommand{\\ZZ}{\\mathbb{Z}}\n",
    "\\newcommand{\\QQ}{\\mathbb{Q}}\n",
    "\\newcommand{\\PP}{\\mathbb{P}}\n",
    "\\newcommand{\\AcA}{\\mathcal{A}}\n",
    "\\newcommand{\\FcF}{\\mathcal{F}}\n",
    "\\newcommand{\\AsA}{\\mathscr{A}}\n",
    "\\newcommand{\\FsF}{\\mathscr{F}}\n",
    "\\newcommand{\\dd}{\\mathrm{d}}\n",
    "\\newcommand{\\I}[1]{\\mathrm{I}\\left( #1 \\right)}\n",
    "\\newcommand{\\N}[1]{\\mathcal{N}\\left( #1 \\right)}\n",
    "\\newcommand{\\Exp}[1]{\\mathrm{E}\\left[ #1 \\right]}\n",
    "\\newcommand{\\Var}[1]{\\mathrm{Var}\\left[ #1 \\right]}\n",
    "\\newcommand{\\Avar}[1]{\\mathrm{Avar}\\left[ #1 \\right]}\n",
    "\\newcommand{\\Cov}[1]{\\mathrm{Cov}\\left( #1 \\right)}\n",
    "\\newcommand{\\Corr}[1]{\\mathrm{Corr}\\left( #1 \\right)}\n",
    "\\newcommand{\\ExpH}{\\mathrm{E}}\n",
    "\\newcommand{\\VarH}{\\mathrm{Var}}\n",
    "\\newcommand{\\AVarH}{\\mathrm{Avar}}\n",
    "\\newcommand{\\CovH}{\\mathrm{Cov}}\n",
    "\\newcommand{\\CorrH}{\\mathrm{Corr}}\n",
    "\\newcommand{\\ow}{\\text{otherwise}}\n",
    "\\newcommand{\\FSD}{\\text{FSD}}\n",
    "\\newcommand{\\SSD}{\\text{SSD}}\n",
    "\\void^\\dagger$</center>**\n"
   ]
  },
  {
   "cell_type": "markdown",
   "metadata": {},
   "source": [
    "## Question 1\n",
    "\n",
    "$\\P{1}$\n",
    "\n",
    "$\\bspace$From $Proposition\\space5.1$, we see that $\\d{P\\CB{T_2 > t} = \\int_0^\\infty \\lambda e^{-m\\P{t+s}}\\;\\dd s}$ and then we guess that they are not independent.\n",
    "\n",
    "$\\P{2}$\n",
    "\n",
    "$\\bspace$No, judging from the previous result.\n",
    "\n",
    "$\\P 3$\n",
    "\n",
    "$\\bspace \\d{P\\CB{T_1 > t} = e^{-m\\P t} \\Rightarrow f_{T_1}\\P t = m'\\P t e^{-m\\P t} = \\lambda\\P t e^{-m\\P t}}$"
   ]
  },
  {
   "cell_type": "markdown",
   "metadata": {},
   "source": [
    "## Question 2\n",
    "\n",
    "$\\bspace N\\P 0 = N_0\\P{m\\P 0} = N_0\\P 0 = 0$\n",
    "\n",
    "$\\bspace$The increment $N\\P{t+s} - N\\P t = N_0\\P{m\\P{t+s}} - N_0\\P{m\\P t}$. Since $m\\P t$ is increasing, $N_0\\P{m\\P{t+s}}$ and $N_0\\P{m\\P{t}}$ can be considered rely only on $\\P{t,t+s}$. Thus, independent increment property holds\n",
    "\n",
    "$\\bspace\\begin{align}\n",
    "P\\CB{N\\P{t+h} - N\\P t = 1} &= P\\CB{N_0\\P{m\\P{t+h}} - N_0\\P{m\\P{t}} = 1}\\\\\n",
    "&\\bspace\\text{using the hint}: m\\P{t+h} = m\\P t + \\lambda\\P t \\cdot h + o\\P h\\\\\n",
    "&= P\\CB{N_0\\P{m\\P t + \\lambda\\P t \\cdot h + o\\P h} - N_0\\P{m\\P{t}} = 1}\\\\\n",
    "&= P\\CB{N_0\\P{\\lambda\\P t \\cdot h + o\\P h} = 1}\\\\\n",
    "&= \\P{\\lambda\\P t \\cdot h + o\\P h}\\cdot 1 + o\\P h = \\lambda\\P t \\cdot h + o\\P h\n",
    "\\end{align}$\n",
    "\n",
    "$\\bspace\\begin{align}\n",
    "P\\CB{N\\P{t+h} - N\\P t \\geq 2} &= P\\CB{N_0\\P{m\\P t + \\lambda\\P t \\cdot h + o\\P h} - N_0\\P{m\\P{t}} \\geq 2}\\\\\n",
    "&= P\\CB{N_0\\P{\\lambda\\P t \\cdot h + o\\P h} \\geq 2}\\\\\n",
    "&= o\\P{\\lambda\\P t \\cdot h + o\\P h} = o\\P h\n",
    "\\end{align}$"
   ]
  },
  {
   "cell_type": "markdown",
   "metadata": {},
   "source": [
    "## Question 3\n",
    "\n",
    "$\\bspace\\begin{align}\n",
    "\\Cov{X\\P t , X\\P{t+s}} &= \\Cov{X\\P t , X\\P{t}} + \\Cov{X\\P t , X\\P{t+s} - X\\P t}\\\\\n",
    "&= \\Cov{X\\P t , X\\P{t}} + \\Cov{X\\P t , X\\P{s}}\\\\\n",
    "&= \\Var{X\\P t} = \\lambda t \\Exp{Y^2}\n",
    "\\end{align}$"
   ]
  },
  {
   "cell_type": "markdown",
   "metadata": {},
   "source": [
    "## Question 4\n",
    "\n",
    "$\\bspace$Let $N\\P t$ denote the number of customers in the station at time $t$ then we can consider $\\CB{N\\P t, t\\geq 0}$ as a birth and death process with $\\lambda_n = \\lambda \\alpha_n$ and $\\mu_n = \\mu$."
   ]
  },
  {
   "cell_type": "markdown",
   "metadata": {},
   "source": [
    "## Question 5\n",
    "\n",
    "$\\P 1$\n",
    "\n",
    "$\\bspace \\Exp{T_0} = \\ffrac{1}{\\lambda_0} = \\ffrac{1}{\\lambda}$, $\\Exp{T_1} = \\ffrac{1}{\\lambda_1} + \\ffrac{\\mu_1}{\\lambda_1}\\Exp{T_0} = \\ffrac{\\lambda + \\mu}{2\\lambda^2}$, $\\Exp{T_2} = \\ffrac{1}{\\lambda_2} + \\ffrac{\\mu_2}{\\lambda_2}\\Exp{T_1} = \\ffrac{\\lambda^2 + \\lambda\\mu + \\mu^2}{3\\lambda^3}$\n",
    "\n",
    "$\\bspace \\Exp{T_3} = \\ffrac{\\lambda^3 + \\lambda^2\\mu + \\lambda\\mu^2 + \\mu^3}{4\\lambda^4}$, $\\Exp{T_0} + \\Exp{T_1} + \\Exp{T_2} + \\Exp{T_3} = \\ffrac{25\\lambda^3 + 13\\lambda^2\\mu+7\\lambda\\mu^2+ 3\\mu^2}{12\\lambda^4}$\n",
    "\n",
    "$\\P 2$\n",
    "\n",
    "$\\bspace \\Exp{T_4} = \\ffrac{\\lambda^4 + \\lambda^3\\mu + \\lambda^2\\mu^2 + \\lambda\\mu^3 +\\mu^4}{5\\lambda^5}$, $ \\Exp{T_2} + \\Exp{T_3} + \\Exp{T_4} = \\ffrac{47\\lambda^4 + 47\\lambda^3\\mu + 47\\lambda^2\\mu^2 + 27\\lambda\\mu^3+ 12\\mu^4}{60\\lambda^5}$\n",
    "\n",
    "$\\P 3$\n",
    "\n",
    "$\\bspace \\Var{T_0} = \\ffrac{1}{\\lambda_0^2} = \\ffrac{1}{\\lambda^2}$, $\\Var{T_1} = \\ffrac{1}{\\lambda_1\\P{\\lambda_1 + \\mu_1}} + \\ffrac{\\mu_1}{\\lambda_1}\\Var{T_0} + \\ffrac{\\mu_1}{\\lambda_1 + \\mu_1} \\P{\\Exp{T_0} + \\Exp{T_1}}^2= \\cdots$,\n",
    "\n",
    "$\\bspace$Not worth doing this, give up."
   ]
  },
  {
   "cell_type": "markdown",
   "metadata": {},
   "source": [
    "***"
   ]
  }
 ],
 "metadata": {
  "kernelspec": {
   "display_name": "Python 3",
   "language": "python",
   "name": "python3"
  },
  "language_info": {
   "codemirror_mode": {
    "name": "ipython",
    "version": 3
   },
   "file_extension": ".py",
   "mimetype": "text/x-python",
   "name": "python",
   "nbconvert_exporter": "python",
   "pygments_lexer": "ipython3",
   "version": "3.5.2"
  },
  "toc": {
   "colors": {
    "hover_highlight": "#DAA520",
    "navigate_num": "#000000",
    "navigate_text": "#333333",
    "running_highlight": "#FF0000",
    "selected_highlight": "#FFD700",
    "sidebar_border": "#EEEEEE",
    "wrapper_background": "#FFFFFF"
   },
   "moveMenuLeft": true,
   "nav_menu": {
    "height": "52px",
    "width": "252px"
   },
   "navigate_menu": true,
   "number_sections": true,
   "sideBar": true,
   "threshold": 4,
   "toc_cell": false,
   "toc_section_display": "block",
   "toc_window_display": false,
   "widenNotebook": false
  }
 },
 "nbformat": 4,
 "nbformat_minor": 2
}
