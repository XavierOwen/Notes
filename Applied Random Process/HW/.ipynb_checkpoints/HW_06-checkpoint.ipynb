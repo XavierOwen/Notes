{
 "cells": [
  {
   "cell_type": "markdown",
   "metadata": {},
   "source": [
    "# <center>Applied Stochastic Processes HW_06</center>\n",
    "\n",
    "**<center>11510691 程远星$\\DeclareMathOperator*{\\argmin}{argmin}\n",
    "\\DeclareMathOperator*{\\argmax}{argmax}\n",
    "\\DeclareMathOperator*{\\plim}{plim}\n",
    "\\newcommand{\\using}[1]{\\stackrel{\\mathrm{#1}}{=}}\n",
    "\\newcommand{\\ffrac}{\\displaystyle \\frac}\n",
    "\\newcommand{\\asim}{\\overset{\\text{a}}{\\sim}}\n",
    "\\newcommand{\\space}{\\text{ }}\n",
    "\\newcommand{\\bspace}{\\;\\;\\;\\;}\n",
    "\\newcommand{\\QQQ}{\\boxed{?\\:}}\n",
    "\\newcommand{\\void}{\\left.\\right.}\n",
    "\\newcommand{\\Tran}[1]{{#1}^{\\mathrm{T}}}\n",
    "\\newcommand{\\d}[1]{\\displaystyle{#1}}\n",
    "\\newcommand{\\CB}[1]{\\left\\{ #1 \\right\\}}\n",
    "\\newcommand{\\SB}[1]{\\left[ #1 \\right]}\n",
    "\\newcommand{\\P}[1]{\\left( #1 \\right)}\n",
    "\\newcommand{\\abs}[1]{\\left| #1 \\right|}\n",
    "\\newcommand{\\norm}[1]{\\left\\| #1 \\right\\|}\n",
    "\\newcommand{\\dd}{\\mathrm{d}}\n",
    "\\newcommand{\\Exp}{\\mathrm{E}}\n",
    "\\newcommand{\\RR}{\\mathbb{R}}\n",
    "\\newcommand{\\EE}{\\mathbb{E}}\n",
    "\\newcommand{\\NN}{\\mathbb{N}}\n",
    "\\newcommand{\\ZZ}{\\mathbb{Z}}\n",
    "\\newcommand{\\QQ}{\\mathbb{Q}}\n",
    "\\newcommand{\\AcA}{\\mathscr{A}}\n",
    "\\newcommand{\\FcF}{\\mathscr{F}}\n",
    "\\newcommand{\\Var}[2][\\,\\!]{\\mathrm{Var}_{#1}\\left[#2\\right]}\n",
    "\\newcommand{\\Cov}[2][\\,\\!]{\\mathrm{Cov}_{#1}\\left(#2\\right)}\n",
    "\\newcommand{\\Corr}[2][\\,\\!]{\\mathrm{Corr}_{#1}\\left(#2\\right)}\n",
    "\\newcommand{\\I}[1]{\\mathrm{I}\\left( #1 \\right)}\n",
    "\\newcommand{\\N}[1]{\\mathrm{N} \\left( #1 \\right)}\n",
    "\\newcommand{\\ow}{\\text{otherwise}}\\void^\\dagger$</center>**"
   ]
  },
  {
   "cell_type": "markdown",
   "metadata": {},
   "source": [
    "## Question 1\n",
    "\n",
    "$\\bspace$We consider each of his step, if we consider this as the Markov chain for the drunk man, a $r.v.$ with distribution\n",
    "\n",
    "$$P\\P{X_i} = \\begin{cases}\n",
    "p, & \\text{if } X_i = 1 \\\\\n",
    "1-p, & \\text{if } X_i = -1\n",
    "\\end{cases}$$\n",
    "\n",
    "$\\bspace$then by the strong law of large numbers, we have the expected value of his final step, $S = \\sum X_i$ lands on:\n",
    "\n",
    "$$\\Exp\\SB{S} = n\\Exp\\SB{X_i} = n\\P{2p-1} \\Rightarrow P\\CB{\\lim_{n\\to\\infty} \\Exp\\SB{S} = \\infty} = 1, p\\neq 0.5$$\n",
    "\n",
    "$\\bspace$meaning that the state $0$ cannot be recurrent."
   ]
  },
  {
   "cell_type": "markdown",
   "metadata": {},
   "source": [
    "## Question 2\n",
    "\n",
    "$\\bspace$Suppose the little $p$ in the problem has the same meaning with the capital $P$ in the textbook (please note that next time THANKS), then we have\n",
    "\n",
    "$$\\begin{align}\n",
    "p_{ij}^{\\P{n}} &= P\\CB{X_n = j \\mid X_0 = i}\\\\\n",
    "&= \\sum_{m=1}^{\\infty}P\\CB{X_n=j \\mid X_{n-m} = j}\\cdot P\\CB{X_{n-m} = j,X_k \\neq j, 1\\leq k < m \\mid X_0 = i}\\\\\n",
    "&= \\sum_{m=1}^{\\infty}f_{ij}^{m} \\cdot p_{jj}^{\\P{n-m}}\n",
    "\\end{align}$$"
   ]
  },
  {
   "cell_type": "markdown",
   "metadata": {},
   "source": [
    "## Question 3\n",
    "\n",
    "$\\P{1}$\n",
    "\n",
    "$\\bspace$There are two classes, $\\CB{0,1}$ and $\\CB{2}$. State $2$ is recurrent since ever in, never out. And states $0$ and $1$ are transient since it's possible they move to state $2$ and never come back.\n",
    "\n",
    "$\\P{2}$\n",
    "\n",
    "$\\bspace$Since $T>2$, $X_2 \\neq 2$ which also concludes that $X_1 \\neq 2$. So that after calculating the $\\mathbf{P}^2$\n",
    "\n",
    "$$\\mathbf{P}^2 = \\begin{Vmatrix}\n",
    "0.7 & 0.2 & 0.1 \\\\\n",
    "0.3 & 0.5 & 0.2 \\\\\n",
    "0 & 0 & 1\n",
    "\\end{Vmatrix}^2 = \\begin{Vmatrix}\n",
    "0.55 & 0.24 & 0.21 \\\\\n",
    "0.36 & 0.31 & 0.33 \\\\\n",
    "0 & 0 & 1\n",
    "\\end{Vmatrix}$$\n",
    "\n",
    "$\\bspace$Thus the probability to find is $\\ffrac{0.55} {0.55+0.24} = \\ffrac{55} {79}$\n",
    "\n",
    ">I just met a problem to find why this method is different and I just feel something is not right but don't know how. Since $T>2$, during the first two steps the $r.v.$ will never enter state $2$ so we have the new transition matrix $\\mathbf{P}'$ and its square is:\n",
    ">\n",
    ">$$\\mathbf{P'}^2 = \\begin{Vmatrix}\n",
    "7/9 & 2/9 \\\\\n",
    "3/8 & 5/8\n",
    "\\end{Vmatrix}^2 = \\begin{Vmatrix}\n",
    "223/324 & 101/324 \\\\\n",
    "101/192 & 91/192\n",
    "\\end{Vmatrix}$$\n",
    ">\n",
    ">$\\bspace$So that the probability is\n",
    ">\n",
    ">$$P\\CB{X_2 = 0\\mid X_0 = 0,T >2} = P\\CB{X_2 = 0\\mid X_0 = 0,X_1 \\neq 2,X_2 \\neq 2} = \\ffrac{223} {324}$$"
   ]
  },
  {
   "cell_type": "markdown",
   "metadata": {},
   "source": [
    "## Question 4\n",
    "\n",
    "$\\bspace$By the given information we can assert that $P_{ij}^{\\P{n}}>0$ for certain $n$. If $n\\leq M$ then the proof is finished, otherwise, there're must be at least one state that has been entered for at least twice.\n",
    "\n",
    "$\\bspace$So we just ignore the transitions that happen between that \"two\" identical states so that during moving from state $i$ to $j$, there's no time we're in the same state. And since there's only $M$ possible states, we conclude that there's still one possible way with less than $M$ transitions that can move from $i$ to $j$."
   ]
  },
  {
   "cell_type": "markdown",
   "metadata": {},
   "source": [
    "## Question 5\n",
    "\n",
    "$$\\begin{align}\n",
    "\\;&P\\CB{X_n = m \\mid X_0 = i, X_k \\neq r, k = 1,2,\\dots,n} \\\\[0.8em]\n",
    "=\\;& \\ffrac{P\\CB{X_n = m, X_k \\neq r, k = 1,2,\\dots,n \\mid X_0 = i}} {P\\CB{X_k \\neq r, k = 1,2,\\dots,n\\mid X_0 = i}}\\\\\n",
    "=\\;& \\ffrac{P\\CB{X_n = m, X_n \\neq r \\mid X_0 = i}\\cdot \\d{\\prod_{j=1}^{n-1}P\\CB{X_j\\neq r\\mid X_0 = i}}} {\\d{\\prod_{j=1}^{n}P\\CB{X_j\\neq r\\mid X_0 = i}}}\\\\\n",
    "=\\;& \\ffrac{P\\CB{X_n = m \\mid X_0 = i}} {P\\CB{X_n \\neq r\\mid X_0 = i}}, r\\neq m,i\\\\\n",
    "=\\;& \\ffrac{P\\CB{X_n = m \\mid X_0 = i}} {1-P\\CB{X_n = r \\mid X_0 = i}} \\\\\n",
    "=\\;& \\ffrac{P_{i,m}^n} {1-P_{i,r}^n} = Q_{i,m}^{n} \n",
    "\\end{align}$$\n",
    "\n",
    ">Can't find a counterexample...😭😭😭"
   ]
  }
 ],
 "metadata": {
  "kernelspec": {
   "display_name": "Python 3",
   "language": "python",
   "name": "python3"
  },
  "language_info": {
   "codemirror_mode": {
    "name": "ipython",
    "version": 3
   },
   "file_extension": ".py",
   "mimetype": "text/x-python",
   "name": "python",
   "nbconvert_exporter": "python",
   "pygments_lexer": "ipython3",
   "version": "3.5.2"
  }
 },
 "nbformat": 4,
 "nbformat_minor": 2
}
