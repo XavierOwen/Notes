{
 "cells": [
  {
   "cell_type": "markdown",
   "metadata": {},
   "source": [
    "# <center>Applied Stochastic Processes HW_04</center>\n",
    "\n",
    "**<center>11510691 程远星$\\DeclareMathOperator*{\\argmin}{argmin}\n",
    "\\DeclareMathOperator*{\\argmax}{argmax}\n",
    "\\newcommand{\\using}[1]{\\stackrel{\\mathrm{#1}}{=}}\n",
    "\\newcommand{\\ffrac}{\\displaystyle \\frac}\n",
    "\\newcommand{\\space}{\\text{ }}\n",
    "\\newcommand{\\bspace}{\\;\\;\\;\\;}\n",
    "\\newcommand{\\QQQ}{\\boxed{?\\:}}\n",
    "\\newcommand{\\void}{\\left.\\right.}\n",
    "\\newcommand{\\CB}[1]{\\left\\{ #1 \\right\\}}\n",
    "\\newcommand{\\SB}[1]{\\left[ #1 \\right]}\n",
    "\\newcommand{\\P}[1]{\\left( #1 \\right)}\n",
    "\\newcommand{\\dd}{\\mathrm{d}}\n",
    "\\newcommand{\\Tran}[1]{{#1}^{\\mathrm{T}}}\n",
    "\\newcommand{\\d}[1]{\\displaystyle{#1}}\n",
    "\\newcommand{\\EE}[2][\\,\\!]{\\mathbb{E}_{#1}\\left[#2\\right]}\n",
    "\\newcommand{\\Var}[2][\\,\\!]{\\mathrm{Var}_{#1}\\left[#2\\right]}\n",
    "\\newcommand{\\Cov}[2][\\,\\!]{\\mathrm{Cov}_{#1}\\left(#2\\right)}\n",
    "\\newcommand{\\Corr}[2][\\,\\!]{\\mathrm{Corr}_{#1}\\left(#2\\right)}\n",
    "\\newcommand{\\I}[1]{\\mathrm{I}\\left( #1 \\right)}\n",
    "\\newcommand{\\N}[1]{\\mathrm{N} \\left( #1 \\right)}\n",
    "\\newcommand{\\ow}{\\text{otherwise}}\\void^\\dagger$</center>**"
   ]
  },
  {
   "cell_type": "markdown",
   "metadata": {},
   "source": [
    "## Question 1\n",
    "\n",
    "$$\\begin{align}\n",
    "\\Cov{N,S} &= \\EE{NS} -\\EE{N}\\EE{S}\\\\\n",
    "&= \\EE{\\EE{NS\\mid N}} - \\EE{N}\\EE{N}\\EE{X_1} \\\\\n",
    "&= \\EE{N\\EE{S \\mid N}}- \\EE{N}\\EE{N}\\EE{X_1} \\\\\n",
    "&= \\EE{N^2 \\EE{X_1}}- \\EE{N}\\EE{N}\\EE{X_1} \\\\\n",
    "&\\using{\\text{independency}}\\P{\\EE{N^2} - \\SB{\\EE{N}}^2}\\EE{X_1}\\\\\n",
    "&= \\EE{X_1}\\Var{N}\n",
    "\\end{align}$$"
   ]
  },
  {
   "cell_type": "markdown",
   "metadata": {},
   "source": [
    "## Question 2\n",
    "\n",
    "$\\P{1}$\n",
    "\n",
    "$\\bspace P\\CB{N = k+r}$ means that during the $k+r$ times of trial, the last $k$ trials are all successful while the $k+1$-th from the last is failed. Besides, the first $N-1$ trials cannot complete the experiment. Combine all conditions above we can conclude that\n",
    "\n",
    "$$P\\CB{N = k+r} = P\\CB{N > r-1} q p^k,r>0$$\n",
    "\n",
    "$\\P{2}$\n",
    "\n",
    "$\\bspace$The mean value of $N$ is given in class, which is also in one example from the textbook that\n",
    "\n",
    "$$M_k = \\ffrac{1} {p} + \\ffrac{1}{p}+\\cdots + \\ffrac{1} {p^k}$$\n",
    "\n",
    "$\\bspace$Here's how to prove this:\n",
    "\n",
    ">Let $N_k$ denote the number of necessary trials to obtain $k$ consecutive success and $M_k = \\EE{N_k}$. Then we might write: $N_k = N_{k-1} + \\texttt{something}$... And actually that something is the number of additional trials needed to go from have $k-1$ successes in a row to having $k$ in a row. We denote that by $A_{k-1,k}$. Then we take the expectation and obtain:\n",
    ">\n",
    ">$\\bspace M_k = M_{k-1} + \\EE{A_{k-1,k}}$. Wanna know what's $\\EE{A_{k-1,k}}$? There're only two possible result, the $k\\texttt{-th}$ trial is a success, or not, then:\n",
    ">\n",
    ">$\\bspace \\EE{A_{k-1,k}} = 1 \\cdot p + \\P{1+M_k}\\cdot\\P{1-p} = 1+\\P{1-p}M_k \\Rightarrow M_k = \\ffrac{1} {p} + \\ffrac{M_{k-1}} {p}$\n",
    ">\n",
    ">Well, what's $M_1$? Obviously $N_1$ is a geometric with parameter $p$, thus $M_1 = 1/p$ and recursively we have:\n",
    ">\n",
    ">$\\bspace M_k = \\ffrac{1} {p} + \\ffrac{1} {p^2} + \\cdots \\ffrac{1} {p^k}$\n",
    "\n",
    "$\\bspace$After this the equation to be proven is quite simple now,\n",
    "\n",
    "$$\\begin{align}\n",
    "qp^k\\EE{N} &= \\P{1-p}p^k\\P{\\ffrac{1} {p} + \\ffrac{1} {p^2} + \\cdots \\ffrac{1} {p^k}} \\\\\n",
    "&= \\P{1-p}\\P{1+p+p^2+\\cdots+p^{k-1}}\\\\\n",
    "&= 1-p^k\n",
    "\\end{align}$$"
   ]
  },
  {
   "cell_type": "markdown",
   "metadata": {},
   "source": [
    "## Question 3\n",
    "\n",
    "$$\\begin{array}{rll}\n",
    "& P\\CB{X_{n+1} = j\\mid X_n =i,X_{n-1} = i_{n-1},\\cdots, X_0 = i_0} = &\\!\\!\\!\\!\\! P\\CB{X_{n+1}= j \\mid X_n = i} \\\\[0.7em]\n",
    "\\Leftrightarrow\\!\\!\\! & \\ffrac{P\\CB{X_{n+1} = j, X_n =i,X_{n-1} = i_{n-1},\\cdots, X_0 = i_0}} {P\\CB{X_n =i,X_{n-1} = i_{n-1},\\cdots, X_0 = i_0}} = &\\!\\!\\!\\!\\! \\ffrac{P\\CB{X_{n+1} = j,X_{n} = i}} {P\\CB{X_n = i}} \\\\[0.7em]\n",
    "\\Leftrightarrow\\!\\!\\! & \\ffrac{P\\CB{X_{n+1} = j, X_n =i,X_{n-1} = i_{n-1},\\cdots, X_0 = i_0}} {P\\CB{X_n = i}} = &\\!\\!\\!\\!\\! \\ffrac{P\\CB{X_{n+1} = j,X_{n} = i}} {P\\CB{X_n = i}} \\\\\n",
    "&&\\!\\!\\!\\!\\!\\bspace\\times \\ffrac{P\\CB{X_n =i,X_{n-1} = i_{n-1},\\cdots, X_0 = i_0}} {P\\CB{X_n = i}}\\\\[0.7em]\n",
    "\\Leftrightarrow\\!\\!\\! & P\\CB{X_{n+1} = j ,X_{n-1} = i_{n-1},\\cdots, X_0 = i_0\\mid X_n =i} =&\\!\\!\\!\\!\\! P\\CB{X_{n+1}= j \\mid X_n = i}\\cdot P\\CB{X_{n-1} = i_{n-1},\\cdots, X_0 = i_0\\mid X_n =i}\n",
    "\\end{array}$$"
   ]
  },
  {
   "cell_type": "markdown",
   "metadata": {},
   "source": [
    "## Question 4\n",
    "\n",
    "\n",
    "$$\n",
    "\\begin{array}{rlrl}\n",
    "P_{00} &= P\\CB{X_{n+1} = 0\\mid X_n = 0} & P_{11} \\!\\!\\!\\!&= P\\CB{X_{n+1} = 1\\mid X_n = 1}\\\\\n",
    "\\!\\!\\!\\!&= P\\CB{\\max\\P{X_n,\\xi_{n+1}} = 0\\mid X_n = 0} & \\!\\!\\!\\!&= P\\CB{\\max\\P{X_n,\\xi_{n+1}} = 1\\mid X_n = 1}\\\\\n",
    "\\!\\!\\!\\!&= P\\CB{\\max\\P{0,\\xi_{n+1}} = 0\\mid X_n = 0}  & \\!\\!\\!\\!&= P\\CB{\\max\\P{1,\\xi_{n+1}} = 1\\mid X_n = 1} \\\\\n",
    "\\!\\!\\!\\!&= P\\CB{\\max\\P{0,\\xi_{n+1}} = 0} & \\!\\!\\!\\!&= P\\CB{\\max\\P{1,\\xi_{n+1}} = 1}\\\\\n",
    "\\!\\!\\!\\!&= P\\CB{\\xi_{n+1} \\leq 0} & \\!\\!\\!\\!&= P\\CB{\\xi_{n+1} \\leq 1} = 0.3 + 0.4 \\\\\n",
    "\\!\\!\\!\\!&= 0.3 & \\!\\!\\!\\!&= 0.7\\\\\n",
    "P_{22} &= P\\CB{X_{n+1} = 2\\mid X_n = 2} & P_{12} \\!\\!\\!\\!&= P\\CB{X_{n+1} = 2\\mid X_n = 1}\\\\\n",
    "\\!\\!\\!\\!&= P\\CB{\\max\\P{X_n,\\xi_{n+1}} = 2\\mid X_n = 2} & \\!\\!\\!\\!&= P\\CB{\\max\\P{X_n,\\xi_{n+1}} = 2\\mid X_n = 1}\\\\\n",
    "\\!\\!\\!\\!&= P\\CB{\\max\\P{2,\\xi_{n+1}} = 2\\mid X_n = 2}  & \\!\\!\\!\\!&= P\\CB{\\max\\P{1,\\xi_{n+1}} = 2\\mid X_n = 1} \\\\\n",
    "\\!\\!\\!\\!&= P\\CB{\\max\\P{2,\\xi_{n+1}} = 2} & \\!\\!\\!\\!&= P\\CB{\\max\\P{1,\\xi_{n+1}} = 2}\\\\\n",
    "\\!\\!\\!\\!&= P\\CB{\\xi_{n+1} \\leq 2} = 0.3 + 0.4 + 0.3 & \\!\\!\\!\\!&= P\\CB{\\xi_{n+1} = 2}\\\\\n",
    "\\!\\!\\!\\!&= 1 & \\!\\!\\!\\!&= 0.3\\\\\n",
    "P_{02} &= P\\CB{X_{n+1} = 2\\mid X_n = 0} & P_{01} \\!\\!\\!\\!&= P\\CB{X_{n+1} = 1\\mid X_n = 0}\\\\\n",
    "\\!\\!\\!\\!&= P\\CB{\\max\\P{X_n,\\xi_{n+1}} = 2\\mid X_n = 0} & \\!\\!\\!\\!&= P\\CB{\\max\\P{X_n,\\xi_{n+1}} = 1\\mid X_n = 0}\\\\\n",
    "\\!\\!\\!\\!&= P\\CB{\\max\\P{0,\\xi_{n+1}} = 2\\mid X_n = 0}  & \\!\\!\\!\\!&= P\\CB{\\max\\P{0,\\xi_{n+1}} = 1\\mid X_n = 0} \\\\\n",
    "\\!\\!\\!\\!&= P\\CB{\\max\\P{0,\\xi_{n+1}} = 2} & &= P\\CB{\\max\\P{0,\\xi_{n+1}} = 1}\\\\\n",
    "\\!\\!\\!\\!&= P\\CB{\\xi_{n+1} = 2} & \\!\\!\\!\\!&= P\\CB{\\xi_{n+1} = 1}\\\\\n",
    "\\!\\!\\!\\!&= 0.3 & \\!\\!\\!\\!&= 0.4\\\\\n",
    "\\end{array}$$\n",
    "\n",
    "$$\\mathbf{P} = \\begin{Vmatrix}\n",
    "0.3 & 0.4 & 0.3\\\\ \n",
    "0  & 0.7 & 0.3 \\\\ \n",
    "0  & 0   & 1\n",
    "\\end{Vmatrix}$$"
   ]
  },
  {
   "cell_type": "markdown",
   "metadata": {},
   "source": [
    "## Question 5\n",
    "\n",
    "$\\P{1}$\n",
    "\n",
    "$$\\begin{align}\n",
    "P\\CB{X_2 = 1, X_3 = 1\\mid X_1 = 0} &= P\\CB{X_2 = 1\\mid X_1 = 0}\\cdot P\\CB{X_3 = 1\\mid X_2 = 1, X_1 = 0}\\\\\n",
    "&= P\\CB{X_2 = 1\\mid X_1 = 0}\\cdot P\\CB{X_3 = 1\\mid X_2 = 1}\\\\\n",
    "&= P_{01} \\times P_{11} = 0.12\n",
    "\\end{align}$$\n",
    "\n",
    "$\\P{2}$\n",
    "\n",
    "$$\\begin{align}\n",
    "P\\CB{X_1 = 1, X_2 = 1\\mid X_0 = 0} &= P\\CB{X_1 = 1\\mid X_0 = 0}\\cdot P\\CB{X_2 = 1\\mid X_1 = 1, X_0 = 0}\\\\\n",
    "&= P_{01} \\times P_{11} = 0.12\n",
    "\\end{align}$$"
   ]
  },
  {
   "cell_type": "markdown",
   "metadata": {},
   "source": [
    "## Question 6\n",
    "\n",
    "$\\P{1}$\n",
    "\n",
    "$\\bspace$To apply the markov chain, we need $2^3 = 8$ states. Each is a triad containing all information of the past $3$ days. If to rain is to success and denote that as $1$, all $8$ possible states then are $\\P{0,0,0}$, $\\P{0,0,1}$, $\\P{0,1,0}$, $\\P{1,0,0}$, $\\P{0,1,1}$, $\\P{1,0,1}$, $\\P{1,1,0}$, $\\P{1,1,1}$.\n",
    "\n",
    "$\\P{2}$\n",
    "\n",
    "$$\\mathbf{P} = \\begin{Vmatrix}\n",
    "0.8 & 0.2 & 0 & 0 & 0 & 0 & 0 & 0\\\\\n",
    "0 & 0 & 0.4 & 0.6 & 0 & 0 & 0 & 0\\\\\n",
    "0 & 0 & 0 & 0 & 0.6 & 0.4 & 0 & 0\\\\\n",
    "0 & 0 & 0 & 0 & 0 & 0 & 0.4 & 0.6\\\\\n",
    "0.6 & 0.4 & 0 & 0 & 0 & 0 & 0 & 0\\\\\n",
    "0 & 0 & 0.4 & 0.6 & 0 & 0 & 0 & 0\\\\\n",
    "0 & 0 & 0 & 0 & 0.6 & 0.4 & 0 & 0\\\\\n",
    "0 & 0 & 0 & 0 & 0 & 0 & 0.2 & 0.8\n",
    "\\end{Vmatrix}$$"
   ]
  }
 ],
 "metadata": {
  "kernelspec": {
   "display_name": "Python 3",
   "language": "python",
   "name": "python3"
  },
  "language_info": {
   "codemirror_mode": {
    "name": "ipython",
    "version": 3
   },
   "file_extension": ".py",
   "mimetype": "text/x-python",
   "name": "python",
   "nbconvert_exporter": "python",
   "pygments_lexer": "ipython3",
   "version": "3.5.2"
  },
  "toc": {
   "colors": {
    "hover_highlight": "#DAA520",
    "navigate_num": "#000000",
    "navigate_text": "#333333",
    "running_highlight": "#FF0000",
    "selected_highlight": "#FFD700",
    "sidebar_border": "#EEEEEE",
    "wrapper_background": "#FFFFFF"
   },
   "moveMenuLeft": true,
   "nav_menu": {
    "height": "172px",
    "width": "252px"
   },
   "navigate_menu": true,
   "number_sections": true,
   "sideBar": true,
   "threshold": 4,
   "toc_cell": false,
   "toc_section_display": "block",
   "toc_window_display": false,
   "widenNotebook": false
  }
 },
 "nbformat": 4,
 "nbformat_minor": 2
}
