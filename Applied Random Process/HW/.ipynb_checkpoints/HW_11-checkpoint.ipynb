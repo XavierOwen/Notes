{
 "cells": [
  {
   "cell_type": "markdown",
   "metadata": {},
   "source": [
    "# <center>Applied Stochastic Processes HW_11</center>\n",
    "\n",
    "**<center>11510691 程远星\n",
    "$\\DeclareMathOperator*{\\argmin}{argmin}\n",
    "\\DeclareMathOperator*{\\argmax}{argmax}\n",
    "\\DeclareMathOperator*{\\plim}{plim}\n",
    "\\newcommand{\\ffrac}{\\displaystyle \\frac}\n",
    "\\newcommand{\\d}[1]{\\displaystyle{#1}}\n",
    "\\newcommand{\\space}{\\text{ }}\n",
    "\\newcommand{\\bspace}{\\;\\;\\;\\;}\n",
    "\\newcommand{\\bbspace}{\\;\\;\\;\\;\\;\\;\\;\\;}\n",
    "\\newcommand{\\QQQ}{\\boxed{?\\:}}\n",
    "\\newcommand{\\void}{\\left.\\right.}\n",
    "\\newcommand{\\Tran}[1]{{#1}^{\\mathrm{T}}}\n",
    "\\newcommand{\\CB}[1]{\\left\\{ #1 \\right\\}}\n",
    "\\newcommand{\\SB}[1]{\\left[ #1 \\right]}\n",
    "\\newcommand{\\P}[1]{\\left( #1 \\right)}\n",
    "\\newcommand{\\abs}[1]{\\left| #1 \\right|}\n",
    "\\newcommand{\\norm}[1]{\\left\\| #1 \\right\\|}\n",
    "\\newcommand{\\given}[1]{\\left. #1 \\right|}\n",
    "\\newcommand{\\using}[1]{\\stackrel{\\mathrm{#1}}{=}}\n",
    "\\newcommand{\\asim}{\\overset{\\text{a}}{\\sim}}\n",
    "\\newcommand{\\RR}{\\mathbb{R}}\n",
    "\\newcommand{\\EE}{\\mathbb{E}}\n",
    "\\newcommand{\\II}{\\mathbb{I}}\n",
    "\\newcommand{\\NN}{\\mathbb{N}}\n",
    "\\newcommand{\\ZZ}{\\mathbb{Z}}\n",
    "\\newcommand{\\QQ}{\\mathbb{Q}}\n",
    "\\newcommand{\\PP}{\\mathbb{P}}\n",
    "\\newcommand{\\AcA}{\\mathcal{A}}\n",
    "\\newcommand{\\FcF}{\\mathcal{F}}\n",
    "\\newcommand{\\AsA}{\\mathscr{A}}\n",
    "\\newcommand{\\FsF}{\\mathscr{F}}\n",
    "\\newcommand{\\dd}{\\mathrm{d}}\n",
    "\\newcommand{\\I}[1]{\\mathrm{I}\\left( #1 \\right)}\n",
    "\\newcommand{\\N}[1]{\\mathcal{N}\\left( #1 \\right)}\n",
    "\\newcommand{\\Exp}[1]{\\mathrm{E}\\left[ #1 \\right]}\n",
    "\\newcommand{\\Var}[1]{\\mathrm{Var}\\left[ #1 \\right]}\n",
    "\\newcommand{\\Avar}[1]{\\mathrm{Avar}\\left[ #1 \\right]}\n",
    "\\newcommand{\\Cov}[1]{\\mathrm{Cov}\\left( #1 \\right)}\n",
    "\\newcommand{\\Corr}[1]{\\mathrm{Corr}\\left( #1 \\right)}\n",
    "\\newcommand{\\ExpH}{\\mathrm{E}}\n",
    "\\newcommand{\\VarH}{\\mathrm{Var}}\n",
    "\\newcommand{\\AVarH}{\\mathrm{Avar}}\n",
    "\\newcommand{\\CovH}{\\mathrm{Cov}}\n",
    "\\newcommand{\\CorrH}{\\mathrm{Corr}}\n",
    "\\newcommand{\\ow}{\\text{otherwise}}\n",
    "\\newcommand{\\FSD}{\\text{FSD}}\n",
    "\\void^\\dagger$</center>**"
   ]
  },
  {
   "cell_type": "markdown",
   "metadata": {},
   "source": [
    "## Question 1\n",
    "\n",
    "$\\bspace$Since $N_1\\P t$ and $N_2\\P t$ are also Poisson process, we have $N_1\\P0 = N_2\\P0 = 0$ and thus\n",
    "\n",
    "$$N\\P0 = N_1\\P0 + N_2\\P0 = 0$$\n",
    "\n",
    "$\\bspace$Then for the second condtion, we first write the increment\n",
    "\n",
    "$$N\\P{t+h} - N\\P t = \\P{N_1\\P{t+h} - N_1\\P t} + \\P{N_2\\P{t+h} - N_2\\P t}$$\n",
    "\n",
    "$\\bspace$Since $N_i\\P{t+h} - N_i\\P t$ is independent of any single $N_i\\P t$, $N_i\\P{t+h} - N_i\\P t$ is independent of $N\\P t$ and consequently, $N\\P{t+h} - N\\P t$ is independent of $N\\P t$, meaning the independent increment is proved.\n",
    "\n",
    "$\\bspace$Finally we calculate $P\\P{N\\P{t+h} - N\\P t = n}$\n",
    "\n",
    "$$\\begin{align}\n",
    "&    P\\P{N\\P{t+h} - N\\P t = n}\\\\\n",
    "=\\;& P\\P{\\P{N_1\\P{t+h} - N_1\\P t} + \\P{N_2\\P{t+h} - N_2\\P t} = n}\\\\\n",
    "=\\;& \\sum_{k=0}^n P\\CB{N_1\\P h = k}P\\CB{N_2\\P h = n-k}\\\\\n",
    "=\\;& \\sum_{k=0}^n e^{-\\lambda_{\\void_1} h}\\ffrac{\\P{\\lambda_1 h}^k}{k!}e^{-\\lambda_{\\void_2} t}\\ffrac{\\P{\\lambda_2t}^\\P{n-k}}{\\P{n-k}!}\\\\\n",
    "=\\;& \\ffrac{h^n}{n!}e^{-\\P{\\lambda_{\\void_1} + \\lambda_{\\void_2}}h}\\sum_{k=0}^n \\binom{n}{k} \\lambda_1^k \\lambda_2^{n-k} \\\\\n",
    "=\\;& e^{-\\P{\\lambda_{\\void_1} + \\lambda_{\\void_2}}h} \\ffrac{\\P{\\lambda_1 + \\lambda_2}^nh^n}{n!}\n",
    "\\end{align}$$\n",
    "\n",
    "$\\bspace$Of all sub-conclusions above, we claim $N\\P t$ is a Poisson process. Now\n",
    "\n",
    "$$\\begin{align}\n",
    "&P\\CB{\\text{first event in }N_1 \\mid \\text{first event at }t}\\\\\n",
    "=\\;& \\ffrac{P\\CB{X_1 < X_2, \\min\\P{X_1,X_2} = t}}{P\\CB{\\min\\P{X_1,X_2} = t}}\\\\\n",
    "=\\;& \\ffrac{P\\P{X_2>t}\\cdot f_{X_1}\\P{t}}{P\\CB{X_2>t}\\cdot f_{X_1}\\P t + P\\CB{X_1>t}\\cdot f_{X_2}\\P t}\\\\\n",
    "=\\;& \\ffrac{e^{-\\lambda_{\\void_2}t}\\cdot \\lambda_1 e^{-\\lambda_{\\void_1}t}} {e^{-\\lambda_{\\void_2}t}\\cdot \\lambda_1 e^{-\\lambda_{\\void_1}t} + e^{-\\lambda_{\\void_1}t}\\cdot \\lambda_1 e^{-\\lambda_{\\void_2}t}}\\\\\n",
    "=\\;& \\ffrac{\\lambda_1}{\\lambda_1 + \\lambda_2}\n",
    "\\end{align}$$"
   ]
  },
  {
   "cell_type": "markdown",
   "metadata": {},
   "source": [
    "## Question 2\n",
    "\n",
    "$\\bspace$We separate the increment and obtain\n",
    "\n",
    "$$\\begin{align}\n",
    "\\Exp{N\\P t N\\P{t+s}} &= \\Exp{N\\P t\\cdot \\P{N\\P{t+s} - N\\P t} + N^2\\P t}\\\\\n",
    "&= \\Exp{N\\P t} \\cdot \\Exp{N\\P s} + \\Var{N\\P t} + \\P{\\Exp{N\\P t}}^2\\\\\n",
    "&= \\lambda t \\cdot \\lambda s + \\lambda t+ \\P{\\lambda t}^2 \\\\\n",
    "&= \\lambda t\\P{\\lambda\\P{t+s}+1}\n",
    "\\end{align}$$"
   ]
  },
  {
   "cell_type": "markdown",
   "metadata": {},
   "source": [
    "## Question 3\n",
    "\n",
    "$\\P{\\text a}$\n",
    "\n",
    "$$\\begin{align}\n",
    "\\Cov{T,N\\P t} &= \\Exp{TN\\P T} - \\Exp T \\Exp{N\\P T}\\\\\n",
    "&= \\Exp{\\Exp{TN\\P T\\mid T}} - \\Exp T \\Exp{\\Exp{N\\P T\\mid T}}\\\\\n",
    "&= \\Exp{T\\lambda T} - \\Exp T \\cdot \\Exp{\\lambda T}\\\\\n",
    "&= \\lambda\\P{\\Exp{T^2} - \\P{\\Exp{T}}^2} = \\lambda \\sigma^2\n",
    "\\end{align}$$\n",
    "\n",
    "$\\P{\\text b}$\n",
    "\n",
    "$$\n",
    "\\begin{align}\n",
    "\\Var{N\\P T} &= \\Exp{N^2\\P T} - \\P{\\Exp{N\\P T}}^2\\\\\n",
    "&= \\Exp{\\Exp{N^2\\P T\\mid T}} - \\P{\\lambda \\Exp{T}}^2\\\\\n",
    "&= \\Exp{\\lambda T + \\P{\\lambda T}^2} - \\lambda^2 \\P{\\Exp{T}}^2\\\\\n",
    "&= \\lambda \\Exp T + \\lambda^2\\P{\\Exp{T^2} - \\P{\\Exp{T}}^2}\\\\\n",
    "&= \\lambda \\mu + \\lambda^2\\sigma^2\n",
    "\\end{align}$$"
   ]
  },
  {
   "cell_type": "markdown",
   "metadata": {},
   "source": [
    "## Question 4\n",
    "\n",
    "$$\\begin{align}\n",
    "\\Cov{N\\P t, \\sum_{i=1}^{N\\P t}X_i}&= \\Exp{N\\P t\\cdot \\sum_{i=1}^{N\\P t}X_i} - \\Exp{N\\P t}\\Exp{\\sum_{i=1}^{N\\P t}X_i}\\\\\n",
    "&= \\Exp{\\Exp{N\\P t\\cdot \\sum_{i=1}^{N\\P t}X_i\\mid N\\P t}} - \\lambda t\\Exp{\\Exp{\\sum_{i=1}^{N\\P t}X_i\\mid N\\P t}}\\\\\n",
    "&= \\Exp{N^2\\P t \\cdot X_i} - \\lambda t \\cdot \\Exp{N\\P t \\cdot X_i}\\\\\n",
    "&= \\mu\\P{\\lambda t + \\lambda^2t^2} -\\lambda t \\mu\\P{ \\lambda t} = \\mu\\lambda t\n",
    "\\end{align}$$"
   ]
  },
  {
   "cell_type": "markdown",
   "metadata": {},
   "source": [
    "## Question 5\n",
    "\n",
    "$\\P{\\text i}$\n",
    "\n",
    "$\\bspace$Given $p=1$, all customers will enter the shop and therefore\n",
    "\n",
    "$$\\Exp{X_4} = \\Exp{N_4} = \\lambda\\times4 = 4\\times 0.75 = 3$$\n",
    "\n",
    "$$P\\CB{X_{5.5} - X_{1.5}\\leq 2} = P\\CB{N_{5.5} - N_{1.5} = 0,1,2} = e^{-4\\lambda}\\P{1+\\ffrac{4\\lambda}{1!} + \\ffrac{\\P{4\\lambda}^2}{2!}} = 0.4231900811268436$$\n",
    "\n",
    "$\\P{\\text{ii}}$\n",
    "\n",
    "$\\bspace$Now $X_t$ is a Poisson Process with rate $\\lambda p$, thus the interarrival, from the $proposition$ in textbook, are $i.i.d.$ exponential $r.v.$s. Thus\n",
    "\n",
    "$$f\\P t = \\begin{cases}\n",
    "\\lambda p e^{-\\lambda p t} = \\ffrac{3p}{4} \\exp\\CB{-\\ffrac{3p}{4}t},&\\text{if }t\\geq 0\\\\\n",
    "0,&\\ow\n",
    "\\end{cases}$$\n",
    "\n",
    "$\\P{\\text{iii}}$\n",
    "\n",
    "$\\bspace p=2/3\\Rightarrow r = \\ffrac{2}{3}\\cdot\\ffrac{3}{4} = 0.5\\Rightarrow \\Exp{X_4} = 4\\times 0.5 = 2$, and\n",
    "\n",
    "$$P\\CB{X_{6.5} - X_{2.5}\\geq 4} = 1 - P\\CB{X_{6.5} - X_{2.5}=0,1,2,3} = 1-e^{-2}\\P{1 + \\ffrac{2}{1!} + \\ffrac{2^2}{2!} + \\ffrac{2^3}{3!}} = 0.14287653950145296$$"
   ]
  },
  {
   "cell_type": "markdown",
   "metadata": {},
   "source": [
    "## Question 6\n",
    "\n",
    "$$\\begin{align}\n",
    "P\\CB{X\\P s = m \\mid X\\P t = n} &= \\ffrac{P\\CB{X\\P s = m, X\\P t = n}}{P\\CB{X\\P t = n}}\\\\\n",
    "&= \\ffrac{P\\CB{X\\P s = m, X\\P t - X\\P s = n-m}}{P\\CB{X\\P t = n}}\\\\\n",
    "&= \\ffrac{P\\CB{X\\P s = m}P\\CB{X\\P t - X\\P s = n-m}}{P\\CB{X\\P t = n}}\\\\\n",
    "&= \\ffrac{e^{-\\lambda s} \\ffrac{\\P{\\lambda s}^m}{m!} e^{-\\lambda \\P{t-s}} \\ffrac{\\P{\\lambda \\P{t-s}}^\\P{n-m}}{\\P{n-m}!} }{e^{-\\lambda t} \\ffrac{\\P{\\lambda t}^n}{n!}}\\\\\n",
    "&= \\ffrac{n!}{m!\\P{n-m}!}\\P{\\ffrac{s}{t}}^m\\P{\\ffrac{t-s}{t}}^{n-m}\n",
    "\\end{align}$$"
   ]
  },
  {
   "cell_type": "markdown",
   "metadata": {},
   "source": [
    "***"
   ]
  }
 ],
 "metadata": {
  "kernelspec": {
   "display_name": "Python 3",
   "language": "python",
   "name": "python3"
  },
  "language_info": {
   "codemirror_mode": {
    "name": "ipython",
    "version": 3
   },
   "file_extension": ".py",
   "mimetype": "text/x-python",
   "name": "python",
   "nbconvert_exporter": "python",
   "pygments_lexer": "ipython3",
   "version": "3.5.2"
  }
 },
 "nbformat": 4,
 "nbformat_minor": 2
}
