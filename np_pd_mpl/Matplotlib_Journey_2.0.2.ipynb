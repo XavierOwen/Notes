{
 "cells": [
  {
   "cell_type": "code",
   "execution_count": 1,
   "metadata": {
    "collapsed": false
   },
   "outputs": [
    {
     "name": "stdout",
     "output_type": "stream",
     "text": [
      "Python version:  3.5.2 (v3.5.2:4def2a2901a5, Jun 25 2016, 22:18:55) [MSC v.1900 64 bit (AMD64)]\n",
      "NumPy version: \t 1.12.1\n",
      "Pandas version:\t 0.20.1\n"
     ]
    }
   ],
   "source": [
    "import numpy as np\n",
    "import pandas as pd\n",
    "import sys\n",
    "print('Python version: ',sys.version)\n",
    "print('NumPy version: \\t',np.__version__)\n",
    "print('Pandas version:\\t',pd.__version__)"
   ]
  },
  {
   "cell_type": "markdown",
   "metadata": {},
   "source": [
    "**This notebook is based on Python 3.5.2, NumPy 1.12.0 and Pandas 0.20.1, if the versions are not completely matched, some problems may occur while running it.**"
   ]
  },
  {
   "cell_type": "markdown",
   "metadata": {},
   "source": [
    "# <span id = \"INTRODUCTION\">INTRODUCTION</span>"
   ]
  },
  {
   "cell_type": "markdown",
   "metadata": {},
   "source": [
    "Matplotlib is a library for making 2D plots of arraysin [Python](http://www.python.org \"python.org\"). Although it has its origins in emulating the MATLAB®[¹](# \"MATLAB is a registered trademark of The MathWorks, Inc.\") graphics commands, it is independent of MATLAB, and can be used in a Pythonic, object oriented way. Although Matplotlib is written primarily in pure Python, it makes heavy use of NumPy and other extension code to provide good performance even for large arrays.  \n",
    "Matplotlib is designed with the philosophy that you should be able to create simple plots with just a few commands, or just one! If you want to see a histogram of your data, you shouldn't need to instantiate objects, call methods, set properties, and so on; it should just work.  \n",
    "For years, I used to use MATLAB exclusively for data analysis and visualization. MATLAB excels at making nice looking plots easy. When I began working with EEG data, I found that I needed to write applications to interact with my data, and developed an EEG analysis application in MATLAB. As the application grew in complexity, interacting with databases, http servers, manipulating complex data structures, I began to strain against the limitations of MATLAB as a programming language, and decided to start over in Python. Python more than makes up for all of MATLAB’s deficiencies as a programming language, but I was having difficulty finding a 2D plotting package (for 3D [VTK](http://www.vtk.org/) more than exceeds all of my needs).  \n",
    "When I went searching for a Python plotting package, I had several requirements:\n",
    "- Plots should look great - publication quality. One important requirement for me is that the text looks good (antialiased, etc.)\n",
    "- Postscript output for inclusion with TeX documents\n",
    "- Embeddable in a graphical user interface for application development\n",
    "- Code should be easy enough that I can understand it and extend it\n",
    "- Making plots should be easy  \n",
    "Finding no package that suited me just right, I did what any self-respecting Python programmer would do: rolled up my sleeves and dived in. Not having any real experience with computer graphics, I decided to emulate MATLAB’s plotting capabilities because that is something MATLAB does very well. This had the added advantage that many people have a lot of MATLAB experience, and thus they can quickly get up to steam plotting in python. From a developer’s perspective, having a fixed user interface (the pylab interface) has been very useful, because the guts of the code base can be redesigned without affecting user code.\n",
    "The Matplotlib code is conceptually divided into three parts: the pylab interface is the set of functions provided by `matplotlib.pylab` which allow the user to create plots with code quite similar to MATLAB figure generating code ([*Pyplot tutorial*](#3.1.1 Pyplot tutorial)). The Matplotlib frontend or Matplotlib API is the set of classes that do the heavy lifting, creating and managing figures, text, lines, plots and so on ([*Artist tutorial*](#3.2.1 Artist tutorial)). This is an abstract interface that knows nothing about output. The backends are device-dependent drawing devices, aka renderers, that transform the frontend representation to hardcopy or a display device ([*What is a backend?*](#60.6 What is a backend)). Example backends: PS creates [PostScript®](http://www.adobe.com/products/postscript/) hardcopy, SVG creates [Scalable Vector Graphics](https://www.w3.org/Graphics/SVG/) hardcopy, Agg creates PNG output using the high quality [Anti-Grain Geometry](http://antigrain.com/) library that ships with Matplotlib, GTK embeds Matplotlib in a [Gtk+](https://www.gtk.org/) application, GTKAgg uses the Anti-Grain renderer to create a figure and embed it in a Gtk+ application, and so on for [PDF](https://acrobat.adobe.com/us/en/why-adobe/about-adobe-pdf.html), [WxWidgets](https://www.wxpython.org/), [Tkinter](https://docs.python.org/3/library/tkinter.html), etc.  \n",
    "Matplotlib is used by many people in many different contexts. Some people want to automatically generate PostScript files to send to a printer or publishers. Others deploy Matplotlib on a web application server to generate PNG output for inclusion in dynamically-generated web pages. Some use Matplotlib interactively from the Python shell in Tkinter on Windows™. My primary use is to embed Matplotlib in a Gtk+ EEG application that runs on Windows, Linux and Macintosh OS X."
   ]
  },
  {
   "cell_type": "code",
   "execution_count": null,
   "metadata": {
    "collapsed": true
   },
   "outputs": [],
   "source": []
  }
 ],
 "metadata": {
  "kernelspec": {
   "display_name": "Python 3",
   "language": "python",
   "name": "python3"
  },
  "language_info": {
   "codemirror_mode": {
    "name": "ipython",
    "version": 3
   },
   "file_extension": ".py",
   "mimetype": "text/x-python",
   "name": "python",
   "nbconvert_exporter": "python",
   "pygments_lexer": "ipython3",
   "version": "3.5.2"
  }
 },
 "nbformat": 4,
 "nbformat_minor": 1
}
