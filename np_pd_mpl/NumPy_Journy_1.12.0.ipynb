{
 "cells": [
  {
   "cell_type": "code",
   "execution_count": 86,
   "metadata": {},
   "outputs": [
    {
     "name": "stdout",
     "output_type": "stream",
     "text": [
      "Python version: \t 3.5.2 (v3.5.2:4def2a2901a5, Jun 25 2016, 22:18:55) [MSC v.1900 64 bit (AMD64)]\n",
      "NumPy version: \t\t 1.12.1\n",
      "Pandas version:\t\t 0.20.1\n",
      "This notebook is based on NumPy 1.12.0 and Pandas 0.20.1, if your version is not completely matched, some problems may occur while running it\n"
     ]
    }
   ],
   "source": [
    "import numpy as np\n",
    "import pandas as pd\n",
    "import sys\n",
    "print('Python version: ',sys.version)\n",
    "print('NumPy version: \\t',np.__version__)\n",
    "print('Pandas version:\\t',pd.__version__)"
   ]
  },
  {
   "cell_type": "markdown",
   "metadata": {},
   "source": [
    "**This notebook is based on Python 3.5.2, NumPy 1.12.0 and Pandas 0.20.1, if the versions are not completely matched, some problems may occur while running it.**"
   ]
  },
  {
   "cell_type": "markdown",
   "metadata": {},
   "source": [
    "# <span id = \"SETTING UP\">SETTING UP</span>"
   ]
  },
  {
   "cell_type": "markdown",
   "metadata": {},
   "source": [
    "## <span id = \"What is NumPy\">1.1 What is NumPy</span>"
   ]
  },
  {
   "cell_type": "markdown",
   "metadata": {},
   "source": [
    "At the core of the NumPy package, is the *ndarrray* object."
   ]
  },
  {
   "cell_type": "markdown",
   "metadata": {},
   "source": [
    "### Difference between NumPy arrays and Python sequence"
   ]
  },
  {
   "cell_type": "markdown",
   "metadata": {},
   "source": [
    "- NumPy arrays have a fixed size at creation, unlike Python lists, which can grow dynamically. Changing the size of an *ndarray* will create a new array and delete the original\n",
    "- The elements in a Numpy array are all required to be of the same data type, and thus will be the same size in memory. **The exception:** one can have arrays of (Python, including NumPy) objects, thereby allowing for arrays of different sized elements.\n",
    "- NumPy arrays facilitate advanced mathematical and other types of operations on large numbers of data. Typically, such operations are executed more efficiently and with less code than is possible using Python's built-in sequences.\n",
    "- A growing plethora of scientific and mathematical... er... Nevermind, it means NumPy is getting more and more important."
   ]
  },
  {
   "cell_type": "markdown",
   "metadata": {
    "collapsed": true
   },
   "source": [
    "The points about **sequence size and speed** are particularly important in scientific computing. As a simple example, consider the case of multiplying each element in a 1-D sequence with the corresponding element in another sequence of the same length. If the data are stored in two Python lists, `a` and `b`, we could iterate over each element:"
   ]
  },
  {
   "cell_type": "markdown",
   "metadata": {
    "collapsed": true
   },
   "source": [
    "```\n",
    "c = []\n",
    "for i in range(len(a)):\n",
    "    c.append(a[i]*b[i])\n",
    "```"
   ]
  },
  {
   "cell_type": "markdown",
   "metadata": {},
   "source": [
    "This produces the correct answer, but if `a` and `b` each contain millions of numbers, we will pay the price for the inefficiencies of looping in Python. We could accomplish the same task much more quickly in C by writing (for clarity we neglect variable declarations and initializations, memory allocation, etc.)"
   ]
  },
  {
   "cell_type": "markdown",
   "metadata": {},
   "source": [
    "```\n",
    "for (i=0; i< rows; i++):{\n",
    "    c[i] = a[i] + b[i];\n",
    "}\n",
    "```"
   ]
  },
  {
   "cell_type": "markdown",
   "metadata": {},
   "source": [
    "This saves all the overhead involved in interpreting the Python code and manipulating Python objects, but at the expense of the benefits gained from coding in Python. Futhermore, the coding work required increases with the dimensionality of our data. In the case of a 2-D array, for example, the C code (abridged as before) expands to"
   ]
  },
  {
   "cell_type": "markdown",
   "metadata": {},
   "source": [
    "```\n",
    "for (i = 0; i < rows; i++):{\n",
    "    for (j = 0; j < columns; j++):{\n",
    "        c[i][j] = a[i][j]*b[i][j];\n",
    "    }\n",
    "}\n",
    "```"
   ]
  },
  {
   "cell_type": "markdown",
   "metadata": {},
   "source": [
    "NumPy gives us the best of both worlds: element-by-element operations are the \"default mode\" when an *ndarray* is involved, but the element-by-element operation is speedily executed by pre-compiled C code. In NumPy"
   ]
  },
  {
   "cell_type": "markdown",
   "metadata": {},
   "source": [
    "```\n",
    "c = a * b\n",
    "```"
   ]
  },
  {
   "cell_type": "markdown",
   "metadata": {},
   "source": [
    "does what the earlier examples do, at **near-C speeds**, but with the code **simplicity** we expect from something based on Python. Indeed, the NumPy idiom is even simpler!\n",
    "This last example illustrates two of NumPy's features which are the basis of much of its power: **vectorization** and **boradcasting**."
   ]
  },
  {
   "cell_type": "markdown",
   "metadata": {},
   "source": [
    "**Vectorization** describes the absence of any explicit looping, indexing, etc., in the code - these things are taking place, of course, just \"behind the scenes\" in optimized, pre-compiled C code. Vectorized code has many advantages, among which are\n",
    "- vectorized code is more **concise** and **easier** to read\n",
    "- fewer lines of code generally means **fewer bugs**\n",
    "- the code more closely resembles **standard mathematical notation** (making it easier, typically, to correctly code mathematical constructs)\n",
    "- vectorization results in more \"Pythonic\" code. Without vectorization, our code would be littered with inefficient and difficult to read `for` loops\n",
    "***\n",
    "**Broadcasting** is the term used to describe the implicit element-by-element behavior of operations; generally speaking, in NumPy all operations, not just arithmetic operations, but logical, bit-wise, functional, etc., behave in this implicit element-by-element fashion, i.e., the broadcast. Moreover, in the example above, `a` and `b` could be multidimensional arrays of the same shape, or a scalar and no array, or even two arrays, or even two arrays of with different shapes, provided that the smaller array is \"expandable\" to the shape of the larger in such a way that the resulting broadcasting is unambiguous. For detailed \"rules\" of broadcasting see [numpy.doc.broadcasting](#Broadcasting)\n",
    "***"
   ]
  },
  {
   "cell_type": "markdown",
   "metadata": {},
   "source": [
    "Numpy fully supports an **object-oriented approach**, startinng, once again, with *ndarray*. For example, *ndarray* is a class, possessing numerous methods and attributes. Many of its methods mirror functions in the outer-most (最外层的) NumPy namespace, giving the programmer complete freedom to code in whichever paradigm (范式) she prefers and/or which seems most approprite to the task at hand."
   ]
  },
  {
   "cell_type": "markdown",
   "metadata": {},
   "source": [
    "## <span id = \"Installing NumPy\">1.2 What is Numpy</span>"
   ]
  },
  {
   "cell_type": "markdown",
   "metadata": {},
   "source": [
    "In most use cases the best way to install NumPy on your system is by using an pre-built package for your operating system. Please see http://scipy.org/install.html for links to available options."
   ]
  },
  {
   "cell_type": "markdown",
   "metadata": {},
   "source": [
    "For instructions on building for source package, see [*Building from source*](#BUILDING FROM SOURCE). This information is useful mainly for advanced users."
   ]
  },
  {
   "cell_type": "markdown",
   "metadata": {},
   "source": [
    "# <span id=\"QUICKSTART TUTORIAL\">QUICKSTART TUTORIAL</span>"
   ]
  },
  {
   "cell_type": "markdown",
   "metadata": {},
   "source": [
    "## <span id=\"Prerequisites\">2.1 Prerequisites</span>"
   ]
  },
  {
   "cell_type": "markdown",
   "metadata": {},
   "source": [
    "Before reading this tutorial you shold know a bit of Python. If you would like to refresh your memory, take a look at the [Python tutorial](http://docs.python.org/3/tutorial/ \"Link to tutorial\")."
   ]
  },
  {
   "cell_type": "markdown",
   "metadata": {},
   "source": [
    "If you wish to work the examples in this tutorial, you must also have some software installed on your computer. Please see http://scipy.org/install.html for instructions."
   ]
  },
  {
   "cell_type": "markdown",
   "metadata": {},
   "source": [
    "## <span id=\"The Basics\">2.2 The Basics</span>"
   ]
  },
  {
   "cell_type": "markdown",
   "metadata": {},
   "source": [
    "NumPy's main object is the homogeneous multidimensional array. It is a table of elements (usually numbers), all off the same type, indexed by a tuple of positive integers. In NumPy dimensions are called *axes*. The numbers of axes is *rank*.\n",
    "For example, the coordinates of a point in 3D space `[1,2,1]` is an array of rank 1, because it has one axis. That axis has a length of 3. In the example pictured below, the array has rank 2 (it is 2-dimensional). The first dimension (axis) has a length of 2, the second dimension has a length of 3.\n",
    "```\n",
    "[[1.,0.,0.],\n",
    " [0.,1.,2.]]\n",
    "```\n",
    "NumPy's array class is called `ndarray`. It is also known by the alias `array`. Note that `numpy.array` is **not the same as the Standard Python Library class** `array.array`, which **only handles one-dimensional arrays** and offers less functionally. The more important attributes of an `ndarray` objects are:"
   ]
  },
  {
   "cell_type": "markdown",
   "metadata": {
    "collapsed": true
   },
   "source": [
    "- **ndarray.ndim**\n",
    "    the number of axes (dimensions) of the array. In the Python world, the number of dimensions is referred to as *rank*\n",
    "- **ndarray.shape**\n",
    "    the dimensions of the array. This is a tuple of integers indicating the size of the array in each dimension. For a       matrix with *n* rows and *m* columns, `shape` will be `(n,m)`. The length of the `shape` tuple is therefore the \n",
    "    rank, or number of dimensions, `ndim`.\n",
    "- **ndarray.size**\n",
    "    the total number of elements of the array. This is equal to the product of the elements of `shape`.\n",
    "- **ndarray.dtype**\n",
    "    an object describing the type of the elements in the array. One can create or specify dtype's using standard Python\n",
    "    types. Additionally NumPy provides types of its own. numpy.int32, numpy.int16, and numpy.float64 are some examples.\n",
    "- **ndarray.itemsize**\n",
    "    the size in bytes of each element of the array. For example, an array of elements of type `float64` has `itemsize` 8\n",
    "    =(64/8), while one of type `complex32` has `itemsize` 4 (=32/8). It is equivalent to `ndarray.dtype.itemsize`.\n",
    "- **ndarray.data**\n",
    "    the buffer containing the actual elements of the array. Normally, we won't need to use this attribute because we\n",
    "    will access the elements in an array using indexing facilities."
   ]
  },
  {
   "cell_type": "markdown",
   "metadata": {},
   "source": [
    "### <span id = \"2.2.1 An example\">2.2.1 An example</span>"
   ]
  },
  {
   "cell_type": "code",
   "execution_count": 2,
   "metadata": {
    "scrolled": true
   },
   "outputs": [
    {
     "data": {
      "text/plain": [
       "array([[ 0,  1,  2,  3,  4],\n",
       "       [ 5,  6,  7,  8,  9],\n",
       "       [10, 11, 12, 13, 14]])"
      ]
     },
     "execution_count": 2,
     "metadata": {},
     "output_type": "execute_result"
    }
   ],
   "source": [
    "a = np.arange(15).reshape(3,5)\n",
    "a"
   ]
  },
  {
   "cell_type": "code",
   "execution_count": 3,
   "metadata": {},
   "outputs": [
    {
     "name": "stdout",
     "output_type": "stream",
     "text": [
      "(3, 5)\n",
      "2\n",
      "int32\n",
      "4\n",
      "15\n",
      "<class 'numpy.ndarray'>\n"
     ]
    }
   ],
   "source": [
    "print(a.shape)\n",
    "print(a.ndim)\n",
    "print(a.dtype.name)\n",
    "print(a.itemsize)\n",
    "print(a.size)\n",
    "print(type(a))"
   ]
  },
  {
   "cell_type": "code",
   "execution_count": 4,
   "metadata": {},
   "outputs": [
    {
     "name": "stdout",
     "output_type": "stream",
     "text": [
      "[6 7 8]\n"
     ]
    },
    {
     "data": {
      "text/plain": [
       "array([6, 7, 8])"
      ]
     },
     "execution_count": 4,
     "metadata": {},
     "output_type": "execute_result"
    }
   ],
   "source": [
    "b = np.array([6,7,8])\n",
    "print(b)\n",
    "b"
   ]
  },
  {
   "cell_type": "code",
   "execution_count": 5,
   "metadata": {},
   "outputs": [
    {
     "name": "stdout",
     "output_type": "stream",
     "text": [
      "<class 'numpy.ndarray'>\n"
     ]
    },
    {
     "data": {
      "text/plain": [
       "numpy.ndarray"
      ]
     },
     "execution_count": 5,
     "metadata": {},
     "output_type": "execute_result"
    }
   ],
   "source": [
    "print(type(b))\n",
    "type(b)"
   ]
  },
  {
   "cell_type": "markdown",
   "metadata": {},
   "source": [
    "### <span id = \"2.2.2 Array Creation\">2.2.2 Array Creation</span>"
   ]
  },
  {
   "cell_type": "markdown",
   "metadata": {},
   "source": [
    "There are several ways to creat arrays.\n",
    "For example, you can create an array from a regular Python *list* or *tuple* using the `array` function. The type of the resulting array is deduced from the type of the elements in the sequences."
   ]
  },
  {
   "cell_type": "code",
   "execution_count": 6,
   "metadata": {},
   "outputs": [
    {
     "data": {
      "text/plain": [
       "array([2, 3, 4])"
      ]
     },
     "execution_count": 6,
     "metadata": {},
     "output_type": "execute_result"
    }
   ],
   "source": [
    "# import numpy as np\n",
    "c = np.array([2,3,4])\n",
    "c"
   ]
  },
  {
   "cell_type": "code",
   "execution_count": 7,
   "metadata": {},
   "outputs": [
    {
     "data": {
      "text/plain": [
       "dtype('int32')"
      ]
     },
     "execution_count": 7,
     "metadata": {},
     "output_type": "execute_result"
    }
   ],
   "source": [
    "c.dtype"
   ]
  },
  {
   "cell_type": "code",
   "execution_count": 8,
   "metadata": {},
   "outputs": [
    {
     "data": {
      "text/plain": [
       "dtype('float64')"
      ]
     },
     "execution_count": 8,
     "metadata": {},
     "output_type": "execute_result"
    }
   ],
   "source": [
    "d = np.array([2.2,3.3,4.4])\n",
    "d.dtype"
   ]
  },
  {
   "cell_type": "markdown",
   "metadata": {},
   "source": [
    "***\n",
    "**Important**  \n",
    "A frequent error consists in calling `array` with multiple numeric arguments, rather than providing a single list of numbers as an argument."
   ]
  },
  {
   "cell_type": "raw",
   "metadata": {},
   "source": [
    ">>> a = np.array(1,2,3,4)    #WRONG\n",
    ">>> a = np.array([1,2,3,4])  #RIGHT"
   ]
  },
  {
   "cell_type": "markdown",
   "metadata": {},
   "source": [
    "***\n",
    "`array` transforms sequences of sequences into two-dimensional arrays, sequences of sequences of sequences into three-dimensional arrays, and so on."
   ]
  },
  {
   "cell_type": "code",
   "execution_count": 9,
   "metadata": {},
   "outputs": [
    {
     "data": {
      "text/plain": [
       "array([[ 1.5,  2. ,  3. ],\n",
       "       [ 4. ,  5. ,  6. ]])"
      ]
     },
     "execution_count": 9,
     "metadata": {},
     "output_type": "execute_result"
    }
   ],
   "source": [
    "b = np.array([(1.5,2,3), (4,5,6)])\n",
    "b"
   ]
  },
  {
   "cell_type": "markdown",
   "metadata": {},
   "source": [
    "The type of the array can also be explicitly specified at creation time:"
   ]
  },
  {
   "cell_type": "code",
   "execution_count": 10,
   "metadata": {},
   "outputs": [
    {
     "data": {
      "text/plain": [
       "array([[ 1.+0.j,  2.+0.j],\n",
       "       [ 3.+0.j,  4.+0.j]])"
      ]
     },
     "execution_count": 10,
     "metadata": {},
     "output_type": "execute_result"
    }
   ],
   "source": [
    "c = np.array( [ [1,2], [3,4] ], dtype=complex)\n",
    "c"
   ]
  },
  {
   "cell_type": "markdown",
   "metadata": {},
   "source": [
    "Often, the elements of an array are originally unknown, but its size is known. Hence, NumPy offers several functions to create arrays with initial placeholder content. There minimize the necessity of growing arrays, an **expensive operation.**  \n",
    "The function `zeros` createa an array full of zeros, the function `ones` creates an array full of ones, the the function `empty` creates an array whose initial content is random and depends on the state of the memory. By default, the dtype of the created array is **`float64`**."
   ]
  },
  {
   "cell_type": "code",
   "execution_count": 11,
   "metadata": {},
   "outputs": [
    {
     "data": {
      "text/plain": [
       "array([[ 0.,  0.,  0.,  0.],\n",
       "       [ 0.,  0.,  0.,  0.],\n",
       "       [ 0.,  0.,  0.,  0.]])"
      ]
     },
     "execution_count": 11,
     "metadata": {},
     "output_type": "execute_result"
    }
   ],
   "source": [
    "np.zeros( (3,4) )"
   ]
  },
  {
   "cell_type": "code",
   "execution_count": 12,
   "metadata": {},
   "outputs": [
    {
     "data": {
      "text/plain": [
       "array([[[1, 1, 1, 1],\n",
       "        [1, 1, 1, 1],\n",
       "        [1, 1, 1, 1]],\n",
       "\n",
       "       [[1, 1, 1, 1],\n",
       "        [1, 1, 1, 1],\n",
       "        [1, 1, 1, 1]]], dtype=int16)"
      ]
     },
     "execution_count": 12,
     "metadata": {},
     "output_type": "execute_result"
    }
   ],
   "source": [
    "np.ones( (2,3,4), dtype=np.int16) #dtype can also be specified"
   ]
  },
  {
   "cell_type": "code",
   "execution_count": 13,
   "metadata": {},
   "outputs": [
    {
     "data": {
      "text/plain": [
       "array([[ 0.,  0.,  0.],\n",
       "       [ 0.,  0.,  0.]])"
      ]
     },
     "execution_count": 13,
     "metadata": {},
     "output_type": "execute_result"
    }
   ],
   "source": [
    "np.empty( (2,3) )               # uninitialized, output may vary"
   ]
  },
  {
   "cell_type": "markdown",
   "metadata": {},
   "source": [
    "To create sequences of numbers, NumPy provides a function analogous to `range` that returns **arrays** instead of **lists**."
   ]
  },
  {
   "cell_type": "code",
   "execution_count": 14,
   "metadata": {},
   "outputs": [
    {
     "data": {
      "text/plain": [
       "array([10, 15, 20, 25])"
      ]
     },
     "execution_count": 14,
     "metadata": {},
     "output_type": "execute_result"
    }
   ],
   "source": [
    "np.arange( 10, 30, 5 )"
   ]
  },
  {
   "cell_type": "code",
   "execution_count": 15,
   "metadata": {},
   "outputs": [
    {
     "data": {
      "text/plain": [
       "array([ 0. ,  0.3,  0.6,  0.9,  1.2,  1.5,  1.8])"
      ]
     },
     "execution_count": 15,
     "metadata": {},
     "output_type": "execute_result"
    }
   ],
   "source": [
    "np.arange( 0, 2, 0.3 )"
   ]
  },
  {
   "cell_type": "markdown",
   "metadata": {},
   "source": [
    "When `arange` is used with floating point arguments, it is generally not possible to predict the number of elements obtained, due to the finite point  precision. For this reason, it is usually better to use the funtion `linspace` that receives as an argument the number of elements that we want, instead of the step:"
   ]
  },
  {
   "cell_type": "code",
   "execution_count": 16,
   "metadata": {},
   "outputs": [
    {
     "data": {
      "text/plain": [
       "array([ 0.  ,  0.25,  0.5 ,  0.75,  1.  ,  1.25,  1.5 ,  1.75,  2.  ])"
      ]
     },
     "execution_count": 16,
     "metadata": {},
     "output_type": "execute_result"
    }
   ],
   "source": [
    "from numpy import pi\n",
    "np.linspace( 0, 2, 9 )         # 9 numbers from 0 to 2"
   ]
  },
  {
   "cell_type": "code",
   "execution_count": 17,
   "metadata": {
    "collapsed": true
   },
   "outputs": [],
   "source": [
    "x = np.linspace( 0, 2*pi, 100)"
   ]
  },
  {
   "cell_type": "code",
   "execution_count": 18,
   "metadata": {
    "collapsed": true
   },
   "outputs": [],
   "source": [
    "f = np.sin(x)"
   ]
  },
  {
   "cell_type": "markdown",
   "metadata": {},
   "source": [
    "**See also:**  \n",
    "array, zeros, zeros_like, ones, ones_like, empty, empty_like, arange.linspace, numpy.random.rand, numpy.random.randn, fromfunction, fromfile"
   ]
  },
  {
   "cell_type": "markdown",
   "metadata": {},
   "source": [
    "### <span id = \"2.2.3 Printing Arrays\">2.2.3 Printing Arrays</span>"
   ]
  },
  {
   "cell_type": "markdown",
   "metadata": {},
   "source": [
    "When you print an array, NumPy displays it in a similar way to nested lists, but with the following layout:\n",
    "* the last axis is printed from left to right,\n",
    "* the second-to-last is printed from top to bottom,\n",
    "* the rest are also printed from top to bottom, with each slice separated from the next by an empty line."
   ]
  },
  {
   "cell_type": "markdown",
   "metadata": {},
   "source": [
    "One-dimensional arrays are then printed as rows, bidmensionals as matrices and tridimentionals as lists of matrices"
   ]
  },
  {
   "cell_type": "code",
   "execution_count": 19,
   "metadata": {},
   "outputs": [
    {
     "name": "stdout",
     "output_type": "stream",
     "text": [
      "[0 1 2 3 4 5] \n",
      "---a---\n",
      "[[ 0  1  2]\n",
      " [ 3  4  5]\n",
      " [ 6  7  8]\n",
      " [ 9 10 11]] \n",
      "---b---\n",
      "[[[ 0  1  2  3]\n",
      "  [ 4  5  6  7]\n",
      "  [ 8  9 10 11]]\n",
      "\n",
      " [[12 13 14 15]\n",
      "  [16 17 18 19]\n",
      "  [20 21 22 23]]] \n",
      "---c---\n"
     ]
    }
   ],
   "source": [
    "a = np.arange(6)\n",
    "print(a , '\\n---a---')\n",
    "b = np.arange(12).reshape(4,3)\n",
    "print(b , '\\n---b---')\n",
    "c = np.arange(24).reshape(2,3,4)\n",
    "print(c , '\\n---c---')"
   ]
  },
  {
   "cell_type": "markdown",
   "metadata": {},
   "source": [
    "See [*below*](#2.3 Shape Manipulation) to get more details on `reshape`."
   ]
  },
  {
   "cell_type": "markdown",
   "metadata": {},
   "source": [
    "If an array is too *large* to be printed, NumPy automatically **skips** the *central part* of the array and **only** prints the *corners*:"
   ]
  },
  {
   "cell_type": "code",
   "execution_count": 20,
   "metadata": {},
   "outputs": [
    {
     "name": "stdout",
     "output_type": "stream",
     "text": [
      "[   0    1    2 ..., 9997 9998 9999] \n",
      "- - - - - - -\n",
      " [[   0    1    2 ...,   97   98   99]\n",
      " [ 100  101  102 ...,  197  198  199]\n",
      " [ 200  201  202 ...,  297  298  299]\n",
      " ..., \n",
      " [9700 9701 9702 ..., 9797 9798 9799]\n",
      " [9800 9801 9802 ..., 9897 9898 9899]\n",
      " [9900 9901 9902 ..., 9997 9998 9999]]\n"
     ]
    }
   ],
   "source": [
    "print(np.arange(10000),'\\n- - - - - - -\\n',np.arange(10000).reshape(100,100))"
   ]
  },
  {
   "cell_type": "markdown",
   "metadata": {},
   "source": [
    "***\n",
    "**Important**\n",
    "To disable this behaviour and force NumPy to print the entire array, you can change the printing options using **`set_printoptions`**.  \n",
    "`>>> np.set_printoptions(threshold='nan')`\n",
    "***"
   ]
  },
  {
   "cell_type": "markdown",
   "metadata": {},
   "source": [
    "### <span id = \"2.2.4 Basic Operations\">2.2.4 Basic Operations</span>"
   ]
  },
  {
   "cell_type": "markdown",
   "metadata": {},
   "source": [
    "Arithmetic operations on arrays apply ***elementwise***. A new array is created and filled with the result."
   ]
  },
  {
   "cell_type": "code",
   "execution_count": 21,
   "metadata": {},
   "outputs": [
    {
     "data": {
      "text/plain": [
       "array([0, 1, 2, 3])"
      ]
     },
     "execution_count": 21,
     "metadata": {},
     "output_type": "execute_result"
    }
   ],
   "source": [
    "a = np.array( [20,30,40,50])\n",
    "b = np.arange(4)\n",
    "b"
   ]
  },
  {
   "cell_type": "code",
   "execution_count": 22,
   "metadata": {},
   "outputs": [
    {
     "data": {
      "text/plain": [
       "array([20, 29, 38, 47])"
      ]
     },
     "execution_count": 22,
     "metadata": {},
     "output_type": "execute_result"
    }
   ],
   "source": [
    "c = a-b\n",
    "c"
   ]
  },
  {
   "cell_type": "code",
   "execution_count": 23,
   "metadata": {},
   "outputs": [
    {
     "data": {
      "text/plain": [
       "array([ 400,  841, 1444, 2209])"
      ]
     },
     "execution_count": 23,
     "metadata": {},
     "output_type": "execute_result"
    }
   ],
   "source": [
    "c**2"
   ]
  },
  {
   "cell_type": "code",
   "execution_count": 24,
   "metadata": {},
   "outputs": [
    {
     "data": {
      "text/plain": [
       "array([ 9.12945251, -9.88031624,  7.4511316 , -2.62374854])"
      ]
     },
     "execution_count": 24,
     "metadata": {},
     "output_type": "execute_result"
    }
   ],
   "source": [
    "10*np.sin(a)"
   ]
  },
  {
   "cell_type": "code",
   "execution_count": 25,
   "metadata": {
    "scrolled": true
   },
   "outputs": [
    {
     "data": {
      "text/plain": [
       "array([ True,  True, False, False], dtype=bool)"
      ]
     },
     "execution_count": 25,
     "metadata": {},
     "output_type": "execute_result"
    }
   ],
   "source": [
    "a<35"
   ]
  },
  {
   "cell_type": "markdown",
   "metadata": {},
   "source": [
    "Unlike in many matrix languages, the product operator * operates elementwise in NumPy arrays. The matrix product can be performed using the `dot` function or method:"
   ]
  },
  {
   "cell_type": "code",
   "execution_count": 26,
   "metadata": {},
   "outputs": [
    {
     "name": "stdout",
     "output_type": "stream",
     "text": [
      "[[1 1]\n",
      " [0 1]]\n",
      "[[2 0]\n",
      " [3 4]]\n",
      "\n",
      "Their elementwise product is:\n",
      " [[2 0]\n",
      " [0 4]]\n",
      "\n",
      "Their matrix product is:\n",
      " [[5 4]\n",
      " [3 4]]\n",
      "\n",
      "Or we can write np.dot(A, B):\n",
      " [[5 4]\n",
      " [3 4]]\n"
     ]
    }
   ],
   "source": [
    "A = np.array( [[1,1],\n",
    "              [0,1]] )\n",
    "B = np.array( [[2,0],\n",
    "              [3,4]] )\n",
    "print(A)\n",
    "print(B)\n",
    "print(\"\\nTheir elementwise product is:\\n\",A*B)\n",
    "print(\"\\nTheir matrix product is:\\n\", A.dot(B))\n",
    "print(\"\\nOr we can write np.dot(A, B):\\n\", np.dot(A, B))"
   ]
  },
  {
   "cell_type": "markdown",
   "metadata": {},
   "source": [
    "Some operations, such as **`+=`** and **`*=`**, act in place to *modify* an existing array **rather than** create a *new* one"
   ]
  },
  {
   "cell_type": "code",
   "execution_count": 27,
   "metadata": {},
   "outputs": [
    {
     "name": "stdout",
     "output_type": "stream",
     "text": [
      "- - a - -\n",
      " [[3 3 3]\n",
      " [3 3 3]]\n",
      "- - b - -\n",
      " [[ 3.04976786  3.66149786  3.37968256]\n",
      " [ 3.59406947  3.81112475  3.93220162]]\n"
     ]
    }
   ],
   "source": [
    "a = np.ones((2,3), dtype = int)\n",
    "b = np.random.random((2,3))\n",
    "a *= 3\n",
    "print('- - a - -\\n', a)\n",
    "b += a\n",
    "print('- - b - -\\n', b)"
   ]
  },
  {
   "cell_type": "markdown",
   "metadata": {},
   "source": [
    "***\n",
    "**Important**  \n",
    "When operating with arrays of different types, the type of the resulting array corresponds to the more general or precise one (a behaviour known as upcasting)\n",
    "```\n",
    ">>> a += b\n",
    "Traceback (most recent call last):\n",
    "    ...\n",
    "TypeError: Canot cast ufunc add output from dtype('float64') to dtype('int32') with casting rule 'same_kind'\n",
    "```  \n",
    "See the next cell for more information\n",
    "***"
   ]
  },
  {
   "cell_type": "code",
   "execution_count": 28,
   "metadata": {},
   "outputs": [
    {
     "name": "stdout",
     "output_type": "stream",
     "text": [
      ">>> b.dtype.name\n",
      " float64\n",
      ">>> c\n",
      " [ 1.          2.57079633  4.14159265]\n",
      ">>> c.dtype.name\n",
      " float64\n",
      ">>> d\n",
      " [ 0.54030231+0.84147098j -0.84147098+0.54030231j -0.54030231-0.84147098j]\n",
      ">>> d.dtype.name\n",
      " complex128\n"
     ]
    }
   ],
   "source": [
    "a = np.ones(3, dtype=np.int32)\n",
    "b = np.linspace(0,pi,3)\n",
    "print('>>> b.dtype.name\\n', b.dtype.name)\n",
    "c = a+b\n",
    "print('>>> c\\n', c)\n",
    "print('>>> c.dtype.name\\n', c.dtype.name)\n",
    "d = np.exp(c*1j)  # use 'j' to present the complex number unit\n",
    "print('>>> d\\n', d)\n",
    "print('>>> d.dtype.name\\n', d.dtype.name)"
   ]
  },
  {
   "cell_type": "markdown",
   "metadata": {},
   "source": [
    "Many unary operations, such as computing the sum of all the elements in the array, are implemented as methods of the `ndarray` class."
   ]
  },
  {
   "cell_type": "code",
   "execution_count": 29,
   "metadata": {
    "scrolled": true
   },
   "outputs": [
    {
     "name": "stdout",
     "output_type": "stream",
     "text": [
      ">>> a\n",
      " [[ 0.85635234  0.48532854  0.35547222]\n",
      " [ 0.54724554  0.91314307  0.28809035]]\n",
      ">>> a.sum()\n",
      " 3.4456320674\n",
      ">>> a.min()\n",
      " 0.288090353891\n",
      ">>> a.max()\n",
      " 0.913143074817\n"
     ]
    }
   ],
   "source": [
    "a = np.random.random((2,3))\n",
    "print('>>> a\\n', a)\n",
    "print('>>> a.sum()\\n', a.sum())\n",
    "print('>>> a.min()\\n', a.min())\n",
    "print('>>> a.max()\\n', a.max())"
   ]
  },
  {
   "cell_type": "markdown",
   "metadata": {},
   "source": [
    "By default, these operations apply to the array as though it were a list of numbers, regardless of its shape. However, by specifying the **`axis`** parameter you can apply an operation along the specified axis of an array:  \n",
    "*Here, **axis=1** for calculation along each **row** and **0** for **column***"
   ]
  },
  {
   "cell_type": "code",
   "execution_count": 30,
   "metadata": {},
   "outputs": [
    {
     "name": "stdout",
     "output_type": "stream",
     "text": [
      ">>> b\n",
      " [[ 0  1  2  3]\n",
      " [ 4  5  6  7]\n",
      " [ 8  9 10 11]]\n",
      ">>> b.sum(axis=0)\n",
      " [12 15 18 21]\n",
      ">>> b.min(axis=1)\n",
      " [0 4 8]\n",
      ">>> b.cumsum(axis=1)\n",
      " [[ 0  1  3  6]\n",
      " [ 4  9 15 22]\n",
      " [ 8 17 27 38]]\n"
     ]
    }
   ],
   "source": [
    "b = np.arange(12).reshape(3,4)\n",
    "print('>>> b\\n', b)\n",
    "print('>>> b.sum(axis=0)\\n', b.sum(axis=0))\n",
    "print('>>> b.min(axis=1)\\n', b.min(axis=1))\n",
    "print('>>> b.cumsum(axis=1)\\n', b.cumsum(axis=1))"
   ]
  },
  {
   "cell_type": "markdown",
   "metadata": {},
   "source": [
    "### <span id = \"2.2.5 Universal Functions\">2.2.5 Universal Functions</span>"
   ]
  },
  {
   "cell_type": "markdown",
   "metadata": {},
   "source": [
    "NumPy provides familiar mathematical functions such as *sin*, *cos*, and *exp*. In NumPy, these are called \"universal functions\" (`ufunc`). Within NumPy, these functions operate *elementwise* on an array, producing an *array* as **output**."
   ]
  },
  {
   "cell_type": "code",
   "execution_count": 31,
   "metadata": {},
   "outputs": [
    {
     "name": "stdout",
     "output_type": "stream",
     "text": [
      ">>> B\n",
      " [0 1 2]\n",
      ">>> np.exp(B)\n",
      " [ 1.          2.71828183  7.3890561 ]\n",
      ">>> np.sqrt(B)\n",
      " [ 0.          1.          1.41421356]\n"
     ]
    }
   ],
   "source": [
    "B = np.arange(3)\n",
    "print(\">>> B\\n\", B)\n",
    "print(\">>> np.exp(B)\\n\", np.exp(B))\n",
    "print(\">>> np.sqrt(B)\\n\", np.sqrt(B))"
   ]
  },
  {
   "cell_type": "code",
   "execution_count": 32,
   "metadata": {},
   "outputs": [
    {
     "name": "stdout",
     "output_type": "stream",
     "text": [
      ">>> np.add(B, C)\n",
      " [ 2.  0.  6.]\n"
     ]
    }
   ],
   "source": [
    "C = np.array([2., -1., 4.])\n",
    "print(\">>> np.add(B, C)\\n\", np.add(B, C))"
   ]
  },
  {
   "cell_type": "markdown",
   "metadata": {},
   "source": [
    "**See also:**  \n",
    "all, any, apply_along_axis, argmax, argmin, argsort, average, bincount, ceil, clip, conj, corrcoef, cov, cross, cumprod, cumsum, diff, dot, floor, inner, *inv*, lexsort, [max](https://docs.python.org/dev/library/functions.html#max \"Link to max\"), maximum, mean, median, [min](https://docs.python.org/dev/library/functions.html#min \"Link to min\"), minimum, nonzero, outer, prod, [re](https://docs.python.org/dev/library/re.html#module-re \"Link to re\"), [round](https://docs.python.org/dev/library/functions.html#round \"Link to round\"), sort, std, sum, trace, transpose, var, vdot, vectorize, where"
   ]
  },
  {
   "cell_type": "markdown",
   "metadata": {},
   "source": [
    "### <span id = \"2.2.6 Indexing, Slicing and Iterating\">2.2.6 Indexing, Slicing and Iterating</span>"
   ]
  },
  {
   "cell_type": "markdown",
   "metadata": {},
   "source": [
    "**One-dimensional** arrays can be indexed, sliced and iterated over, much like [lists](https://docs.python.org/3/tutorial/introduction.html#lists \"Link to lists\") and other Python sequences."
   ]
  },
  {
   "cell_type": "code",
   "execution_count": 33,
   "metadata": {
    "scrolled": true
   },
   "outputs": [
    {
     "name": "stdout",
     "output_type": "stream",
     "text": [
      ">>> a\n",
      " [  0   1   8  27  64 125 216 343 512 729]\n",
      ">>> a[2]\n",
      " 8\n",
      ">>> a[2:5]\n",
      " [ 8 27 64]\n",
      ">>> a\n",
      " [-1000     1 -1000    27 -1000   125   216   343   512   729]\n",
      ">>> a[ : :-1]\n",
      " [  729   512   343   216   125 -1000    27 -1000     1 -1000]\n",
      "- - cube root of elements in a - -\n",
      "nan\n",
      "1.0\n",
      "nan\n",
      "3.0\n",
      "nan\n",
      "5.0\n",
      "6.0\n",
      "7.0\n",
      "8.0\n",
      "9.0\n"
     ]
    },
    {
     "name": "stderr",
     "output_type": "stream",
     "text": [
      "c:\\program files\\python35\\lib\\site-packages\\ipykernel\\__main__.py:12: RuntimeWarning: invalid value encountered in power\n"
     ]
    }
   ],
   "source": [
    "a = np.arange(10)**3\n",
    "print(\">>> a\\n\", a)\n",
    "print(\">>> a[2]\\n\", a[2])\n",
    "print(\">>> a[2:5]\\n\", a[2:5])\n",
    "a[:6:2] = -1000\n",
    "# equivalent to a[0:6:2] = -1000; from start to position 6, exclusive, set even position numbers -1000\n",
    "print(\">>> a\\n\", a)\n",
    "print(\">>> a[ : :-1]\\n\", a[ : :-1])\n",
    "# the inverse of a\n",
    "print('- - cube root of elements in a - -')\n",
    "for i in a:\n",
    "    print(i**(1/3.))"
   ]
  },
  {
   "cell_type": "markdown",
   "metadata": {},
   "source": [
    "***\n",
    "*Why there is an error here?*  \n",
    "Because the cubic root of a negative number is more than one, can be real of complex, who knows\n",
    "***"
   ]
  },
  {
   "cell_type": "markdown",
   "metadata": {},
   "source": [
    "***\n",
    "**Multidimensional** arrays can have one index per axis. These indices are given in a tuple separated by commas:"
   ]
  },
  {
   "cell_type": "code",
   "execution_count": 34,
   "metadata": {},
   "outputs": [
    {
     "name": "stdout",
     "output_type": "stream",
     "text": [
      ">>> b\n",
      " [[ 0  1  2  3]\n",
      " [10 11 12 13]\n",
      " [20 21 22 23]\n",
      " [30 31 32 33]\n",
      " [40 41 42 43]]\n"
     ]
    }
   ],
   "source": [
    "def f(x,y):\n",
    "    return 10*x+y\n",
    "b = np.fromfunction(f,(5,4),dtype=int)\n",
    "print(\">>> b\\n\", b)"
   ]
  },
  {
   "cell_type": "code",
   "execution_count": 35,
   "metadata": {},
   "outputs": [
    {
     "name": "stdout",
     "output_type": "stream",
     "text": [
      ">>> b[2,3]\n",
      " 23\n",
      ">>> b[0:5,1]\n",
      " [ 1 11 21 31 41]\n",
      ">>> b[ : ,1]\n",
      " [ 1 11 21 31 41]\n",
      ">>> b[1:3, : ]\n",
      " [[10 11 12 13]\n",
      " [20 21 22 23]]\n"
     ]
    }
   ],
   "source": [
    "print(\">>> b[2,3]\\n\", b[2,3])\n",
    "print(\">>> b[0:5,1]\\n\", b[0:5,1])\n",
    "print(\">>> b[ : ,1]\\n\", b[ : ,1])\n",
    "print(\">>> b[1:3, : ]\\n\", b[1:3, : ])"
   ]
  },
  {
   "cell_type": "markdown",
   "metadata": {},
   "source": [
    "When fewer indices are provided than the number of axes, the missing indeces are considered complete slices, here `b[-1]` is equivalent to `b[-1, :]`"
   ]
  },
  {
   "cell_type": "code",
   "execution_count": 36,
   "metadata": {},
   "outputs": [
    {
     "name": "stdout",
     "output_type": "stream",
     "text": [
      ">>> b[-1]\n",
      " [40 41 42 43]\n"
     ]
    }
   ],
   "source": [
    "print(\">>> b[-1]\\n\", b[-1]) "
   ]
  },
  {
   "cell_type": "markdown",
   "metadata": {},
   "source": [
    "The expression within brackets in `b[i]` is treated as an `i` followed by as many instances of : as needed to represent the remaining axes. NumPy also allows you to write this using dots as `b[i,...]`.  \n",
    "The **dots**(...) represent as many colons as needed to preduce a complete indexting tuple. For instance, if `x` is a rank 5 array (i.e., it has 5 axes), then\n",
    "- `x[1,2,...]` is equivalent to `x[1,2,:,:,:]` or more axes,\n",
    "- `x[...,3]` to `x[:,:,:,:,:,:,3]` and, \n",
    "- `x[4,...,5,:]` to `x[4,:,:,5,:]`."
   ]
  },
  {
   "cell_type": "code",
   "execution_count": 37,
   "metadata": {},
   "outputs": [
    {
     "name": "stdout",
     "output_type": "stream",
     "text": [
      ">>> c.shape\n",
      " (2, 2, 3)\n",
      ">>> c[1,...]\n",
      " [[100 101 102]\n",
      " [110 112 113]]\n",
      ">>> c[...,2]\n",
      " [[  2  13]\n",
      " [102 113]]\n"
     ]
    }
   ],
   "source": [
    "c = np.array( [[[ 0,  1,  2],\n",
    "               [ 10, 12, 13]],\n",
    "              [[100,101,102],\n",
    "               [110,112,113]]])\n",
    "print(\">>> c.shape\\n\", c.shape)\n",
    "print(\">>> c[1,...]\\n\", c[1,...])       # same as c[1,:,:] or c[1]\n",
    "print(\">>> c[...,2]\\n\", c[...,2])       # same as c[:,:,2]"
   ]
  },
  {
   "cell_type": "markdown",
   "metadata": {},
   "source": [
    "***\n",
    "**Iterating** over multidimensional arrays is done with respect to the first axis:"
   ]
  },
  {
   "cell_type": "code",
   "execution_count": 38,
   "metadata": {},
   "outputs": [
    {
     "name": "stdout",
     "output_type": "stream",
     "text": [
      "[0 1 2 3]\n",
      "[10 11 12 13]\n",
      "[20 21 22 23]\n",
      "[30 31 32 33]\n",
      "[40 41 42 43]\n"
     ]
    }
   ],
   "source": [
    "for row in b:\n",
    "    print(row)"
   ]
  },
  {
   "cell_type": "markdown",
   "metadata": {},
   "source": [
    "However, if one wants to perform an operation on **each element** in the array, one can use the **`flat`** attribute which is an [iterator](https://docs.python.org/2/tutorial/classes.html#iterators \"Link to iterator\") over all the elements of the array:"
   ]
  },
  {
   "cell_type": "code",
   "execution_count": 39,
   "metadata": {
    "scrolled": true
   },
   "outputs": [
    {
     "name": "stdout",
     "output_type": "stream",
     "text": [
      "0\n",
      "1\n",
      "2\n",
      "3\n",
      "10\n",
      "11\n",
      "12\n",
      "13\n",
      "20\n",
      "21\n",
      "22\n",
      "23\n",
      "30\n",
      "31\n",
      "32\n",
      "33\n",
      "40\n",
      "41\n",
      "42\n",
      "43\n"
     ]
    }
   ],
   "source": [
    "for ele in b.flat:\n",
    "    print(ele)"
   ]
  },
  {
   "cell_type": "markdown",
   "metadata": {},
   "source": [
    "**See also:**  \n",
    "[*Indexing*](#3.4 Indexing), *arrays.indexing* (reference), newaxis, ndenumerate, indices"
   ]
  },
  {
   "cell_type": "markdown",
   "metadata": {},
   "source": [
    "## <span id = \"2.3 Shape Manipulation\">2.3 Shape Manipulation</span>"
   ]
  },
  {
   "cell_type": "markdown",
   "metadata": {},
   "source": [
    "### <span id = \"2.3.1 Changing the shape of an array\">2.3.1 Changing the shape of an array</span>"
   ]
  },
  {
   "cell_type": "markdown",
   "metadata": {},
   "source": [
    "An array has a shape given by the number of elements along each axis"
   ]
  },
  {
   "cell_type": "code",
   "execution_count": 40,
   "metadata": {
    "collapsed": true
   },
   "outputs": [],
   "source": [
    "a = np.floor(10*np.random.random((3,4)))"
   ]
  },
  {
   "cell_type": "code",
   "execution_count": 41,
   "metadata": {},
   "outputs": [
    {
     "name": "stdout",
     "output_type": "stream",
     "text": [
      "[[ 2.  4.  7.  5.]\n",
      " [ 3.  4.  1.  6.]\n",
      " [ 7.  0.  4.  3.]]\n",
      ">>> a.shape\n",
      " (3, 4)\n"
     ]
    }
   ],
   "source": [
    "print(a)\n",
    "print(\">>> a.shape\\n\", a.shape)"
   ]
  },
  {
   "cell_type": "markdown",
   "metadata": {},
   "source": [
    "The shape of an array can be changed with various commands:"
   ]
  },
  {
   "cell_type": "code",
   "execution_count": 42,
   "metadata": {
    "scrolled": true
   },
   "outputs": [
    {
     "name": "stdout",
     "output_type": "stream",
     "text": [
      ">>> a.ravel()\n",
      " [ 2.  4.  7.  5.  3.  4.  1.  6.  7.  0.  4.  3.]\n",
      "- - After let the shape be (6,2) - -\n",
      "[[ 2.  4.]\n",
      " [ 7.  5.]\n",
      " [ 3.  4.]\n",
      " [ 1.  6.]\n",
      " [ 7.  0.]\n",
      " [ 4.  3.]]\n",
      "- - After a transpose operation - -\n",
      "[[ 2.  7.  3.  1.  7.  4.]\n",
      " [ 4.  5.  4.  6.  0.  3.]]\n"
     ]
    }
   ],
   "source": [
    "print(\">>> a.ravel()\\n\", a.ravel())\n",
    "a.shape = (6, 2)\n",
    "print('- - After let the shape be (6,2) - -')\n",
    "print(a)\n",
    "print('- - After a transpose operation - -')\n",
    "print(a.T)"
   ]
  },
  {
   "cell_type": "markdown",
   "metadata": {},
   "source": [
    "The order of the elements in the array resulting from ravel() is **normally \"C-style\", that is, the rightmost index \"changes the fastest\"**, so the element after a [0,0] is a [0,1], that is to say, *we move from the first element in the first row to the second element in the first row, if it exists, not the first element in the second row.*  \n",
    "If the array is reshaped to some other shape, again the array is treated as \"C-style\". Numpy normally creates arrays stored in this order, so ravel() will usually not need to copy its argument, but if the array was made by taking slices of another array or created with unusual options, it may need to be copied. The function ravel() and reshape() can also be instructed, using an optional argument, to use FORTRAN-style arrays, in which the leftmost index changes the fastest.\n",
    "***\n",
    "The `reshape` function returns its argument with a modified shape, whereas the `ndarray.resize` method modifies the array itself:"
   ]
  },
  {
   "cell_type": "code",
   "execution_count": 43,
   "metadata": {},
   "outputs": [
    {
     "data": {
      "text/plain": [
       "array([[ 2.,  4.],\n",
       "       [ 7.,  5.],\n",
       "       [ 3.,  4.],\n",
       "       [ 1.,  6.],\n",
       "       [ 7.,  0.],\n",
       "       [ 4.,  3.]])"
      ]
     },
     "execution_count": 43,
     "metadata": {},
     "output_type": "execute_result"
    }
   ],
   "source": [
    "a"
   ]
  },
  {
   "cell_type": "code",
   "execution_count": 44,
   "metadata": {},
   "outputs": [
    {
     "data": {
      "text/plain": [
       "array([[ 2.,  4.],\n",
       "       [ 7.,  5.],\n",
       "       [ 3.,  4.],\n",
       "       [ 1.,  6.],\n",
       "       [ 7.,  0.],\n",
       "       [ 4.,  3.]])"
      ]
     },
     "execution_count": 44,
     "metadata": {},
     "output_type": "execute_result"
    }
   ],
   "source": [
    "a.reshape((2,6))\n",
    "a"
   ]
  },
  {
   "cell_type": "code",
   "execution_count": 45,
   "metadata": {},
   "outputs": [
    {
     "data": {
      "text/plain": [
       "array([[ 2.,  4.,  7.,  5.,  3.,  4.],\n",
       "       [ 1.,  6.,  7.,  0.,  4.,  3.]])"
      ]
     },
     "execution_count": 45,
     "metadata": {},
     "output_type": "execute_result"
    }
   ],
   "source": [
    "a.resize((2,6))\n",
    "a"
   ]
  },
  {
   "cell_type": "markdown",
   "metadata": {},
   "source": [
    "If a dimension is given as -1 in a reshapeing operation, the other dimensions are automatically calculated:"
   ]
  },
  {
   "cell_type": "code",
   "execution_count": 46,
   "metadata": {},
   "outputs": [
    {
     "name": "stdout",
     "output_type": "stream",
     "text": [
      "[[ 2.  4.  7.  5.  3.  4.]\n",
      " [ 1.  6.  7.  0.  4.  3.]]\n"
     ]
    }
   ],
   "source": [
    "print(a.reshape((2,-1)))"
   ]
  },
  {
   "cell_type": "markdown",
   "metadata": {},
   "source": [
    "**Important**  \n",
    "*ValueError: negative dimensions not allowed*, if you use -1 in a resizing operation like this: a.resize((2,-1))"
   ]
  },
  {
   "cell_type": "markdown",
   "metadata": {},
   "source": [
    "**See also:**  \n",
    "ndarray.shape, reshape, resize, ravel"
   ]
  },
  {
   "cell_type": "markdown",
   "metadata": {},
   "source": [
    "### <span id = \"2.3.2 Stacking together different arrays\">2.3.2 Stacking together different arrays</span>"
   ]
  },
  {
   "cell_type": "markdown",
   "metadata": {},
   "source": [
    "Several arrays can be stacked together along different axes:"
   ]
  },
  {
   "cell_type": "code",
   "execution_count": 47,
   "metadata": {},
   "outputs": [
    {
     "data": {
      "text/plain": [
       "array([[ 7.,  2.],\n",
       "       [ 1.,  7.]])"
      ]
     },
     "execution_count": 47,
     "metadata": {},
     "output_type": "execute_result"
    }
   ],
   "source": [
    "a = np.floor(10*np.random.random((2,2)))\n",
    "a"
   ]
  },
  {
   "cell_type": "code",
   "execution_count": 48,
   "metadata": {},
   "outputs": [
    {
     "data": {
      "text/plain": [
       "array([[ 5.,  9.],\n",
       "       [ 5.,  1.]])"
      ]
     },
     "execution_count": 48,
     "metadata": {},
     "output_type": "execute_result"
    }
   ],
   "source": [
    "b = np.floor(10*np.random.random((2,2)))\n",
    "b"
   ]
  },
  {
   "cell_type": "code",
   "execution_count": 49,
   "metadata": {},
   "outputs": [
    {
     "data": {
      "text/plain": [
       "array([[ 7.,  2.],\n",
       "       [ 1.,  7.],\n",
       "       [ 5.,  9.],\n",
       "       [ 5.,  1.]])"
      ]
     },
     "execution_count": 49,
     "metadata": {},
     "output_type": "execute_result"
    }
   ],
   "source": [
    "np.vstack((a,b)) # stack them vertically"
   ]
  },
  {
   "cell_type": "code",
   "execution_count": 50,
   "metadata": {
    "scrolled": true
   },
   "outputs": [
    {
     "data": {
      "text/plain": [
       "array([[ 7.,  2.,  5.,  9.],\n",
       "       [ 1.,  7.,  5.,  1.]])"
      ]
     },
     "execution_count": 50,
     "metadata": {},
     "output_type": "execute_result"
    }
   ],
   "source": [
    "np.hstack((a,b)) # stack them horizontally"
   ]
  },
  {
   "cell_type": "markdown",
   "metadata": {},
   "source": [
    "The function `column_stack` stacks 1D arrays as columns into a 2D array. It is equivalent to `vstack` only for 1D array:"
   ]
  },
  {
   "cell_type": "code",
   "execution_count": 51,
   "metadata": {},
   "outputs": [
    {
     "data": {
      "text/plain": [
       "array([[ 7.,  2.,  5.,  9.],\n",
       "       [ 1.,  7.,  5.,  1.]])"
      ]
     },
     "execution_count": 51,
     "metadata": {},
     "output_type": "execute_result"
    }
   ],
   "source": [
    "np.column_stack((a,b)) # with 2D array"
   ]
  },
  {
   "cell_type": "code",
   "execution_count": 52,
   "metadata": {
    "collapsed": true
   },
   "outputs": [],
   "source": [
    "a = np.array([4., 2.])\n",
    "b = np.array([2., 8.])\n",
    "from numpy import newaxis"
   ]
  },
  {
   "cell_type": "code",
   "execution_count": 53,
   "metadata": {},
   "outputs": [
    {
     "data": {
      "text/plain": [
       "array([[ 4.],\n",
       "       [ 2.]])"
      ]
     },
     "execution_count": 53,
     "metadata": {},
     "output_type": "execute_result"
    }
   ],
   "source": [
    "a[:,newaxis]"
   ]
  },
  {
   "cell_type": "markdown",
   "metadata": {},
   "source": [
    "For arrays of with more than two dimensions, `hstack` stacks along their second axes, `vstack` stacks along their first axes, and `concatenate` allows for an optional arguments giving the number of the axis along which the concatenation should happen.\n",
    "***\n",
    "**Note**  \n",
    "In complex cases, `r_` (real part) and `c_` (~complex part~) are useful for creating arrays by stacking numbers along one axis. They allow the use of range literals (\":\")  \n",
    "**Important**  \n",
    "Actually, `r_`, translates slice objects to concatenation along the first axis; `c_`, translates slice objects to concatenation along the second axis. For more uses see the documentation."
   ]
  },
  {
   "cell_type": "code",
   "execution_count": 54,
   "metadata": {},
   "outputs": [
    {
     "name": "stdout",
     "output_type": "stream",
     "text": [
      "[1 2 3 6 8 3 4 5 6 7 8]\n",
      "[[ 1  5 12]\n",
      " [ 2  6 13]\n",
      " [ 3  7 14]]\n"
     ]
    }
   ],
   "source": [
    "print(np.r_[1:4, 6,8,3:9])\n",
    "print(np.c_[1:4, 5:8, 12:15])"
   ]
  },
  {
   "cell_type": "markdown",
   "metadata": {},
   "source": [
    "When used with arrays as arguments, `r_` and `c_` are similar to `vstack` and `hstack` in their default behavior, but allow for an optional argument giving the number of the axis along which to concatenate.  \n",
    "**See also:**  \n",
    "hstack, vstack, column\\_stack, concatenate, c\\_,r\\_"
   ]
  },
  {
   "cell_type": "markdown",
   "metadata": {},
   "source": [
    "### <span id = \"2.3.3 Splitting one array into several smaller ones\">2.3.3 Splitting one array into several smaller ones</span>"
   ]
  },
  {
   "cell_type": "markdown",
   "metadata": {},
   "source": [
    "Using `hsplit`, you can split an array along its horizontal axis, either by specifying the number of equally shaped arrays to return, or by specifying the columns after which the division should occur:"
   ]
  },
  {
   "cell_type": "code",
   "execution_count": 55,
   "metadata": {},
   "outputs": [
    {
     "name": "stdout",
     "output_type": "stream",
     "text": [
      ">>> a\n",
      " [[ 9.  1.  4.  3.  9.  6.  2.  2.  7.  5.  5.  6.]\n",
      " [ 5.  0.  4.  0.  3.  3.  1.  2.  4.  4.  7.  6.]]\n",
      ">>> np.hsplit(a,3)\n",
      " [array([[ 9.,  1.,  4.,  3.],\n",
      "       [ 5.,  0.,  4.,  0.]]), array([[ 9.,  6.,  2.,  2.],\n",
      "       [ 3.,  3.,  1.,  2.]]), array([[ 7.,  5.,  5.,  6.],\n",
      "       [ 4.,  4.,  7.,  6.]])]\n",
      ">>> np.hsplit(a,(3,4))\n",
      " [array([[ 9.,  1.,  4.],\n",
      "       [ 5.,  0.,  4.]]), array([[ 3.],\n",
      "       [ 0.]]), array([[ 9.,  6.,  2.,  2.,  7.,  5.,  5.,  6.],\n",
      "       [ 3.,  3.,  1.,  2.,  4.,  4.,  7.,  6.]])]\n"
     ]
    }
   ],
   "source": [
    "a = np.floor(10*np.random.random((2,12)))\n",
    "print('>>> a\\n', a)\n",
    "print('>>> np.hsplit(a,3)\\n', np.hsplit(a,3)) # this split array a into 3 equal length parts\n",
    "print('>>> np.hsplit(a,(3,4))\\n', np.hsplit(a,(3,4))) # this split a after the third and forth column, both horizontally"
   ]
  },
  {
   "cell_type": "markdown",
   "metadata": {},
   "source": [
    "## <span id = \"2.4 Copies and Views\">2.4 Copies and Views</span>\n",
    "While operating and manipulating arrays, their data is sometimes *copied into a new array* and sometimes not. There are **3 cases:**\n",
    "### <span id = \"2.4.1 No Copy at All\">2.4.1 No Copy at All</span>\n",
    "- Simple assignments make no copy of array objects or of their data"
   ]
  },
  {
   "cell_type": "code",
   "execution_count": 56,
   "metadata": {},
   "outputs": [
    {
     "name": "stdout",
     "output_type": "stream",
     "text": [
      ">>> b is a\n",
      " True\n",
      ">>> b.shape = 3,4\n",
      ">>> a.shape\n",
      " (3, 4)\n"
     ]
    }
   ],
   "source": [
    "a = np.arange(12)\n",
    "b = a\n",
    "print('>>> b is a\\n', b is a)\n",
    "b.shape = 3,4\n",
    "print('>>> b.shape = 3,4')\n",
    "print('>>> a.shape\\n', a.shape)"
   ]
  },
  {
   "cell_type": "markdown",
   "metadata": {},
   "source": [
    "- Function calls make no copy, for Python passes mutable objects as references"
   ]
  },
  {
   "cell_type": "code",
   "execution_count": 57,
   "metadata": {},
   "outputs": [
    {
     "name": "stdout",
     "output_type": "stream",
     "text": [
      "972310692848\n"
     ]
    }
   ],
   "source": [
    "def f(x):\n",
    "    print(id(x))\n",
    "print(id(a)) #id is a unique identifier of an object"
   ]
  },
  {
   "cell_type": "code",
   "execution_count": 58,
   "metadata": {},
   "outputs": [
    {
     "name": "stdout",
     "output_type": "stream",
     "text": [
      "972310692848\n"
     ]
    }
   ],
   "source": [
    "f(a) # this can't apply the print function to f(a) cause there's no return!!!!"
   ]
  },
  {
   "cell_type": "markdown",
   "metadata": {},
   "source": [
    "### <span id = \"2.4.2 View or Shallow Copy\">2.4.2 View or Shallow Copy</span>\n",
    "Different array objects can share the same data. The `view` method creates a new array object that looks at the same data."
   ]
  },
  {
   "cell_type": "code",
   "execution_count": 59,
   "metadata": {},
   "outputs": [
    {
     "data": {
      "text/plain": [
       "False"
      ]
     },
     "execution_count": 59,
     "metadata": {},
     "output_type": "execute_result"
    }
   ],
   "source": [
    "c = a.view()\n",
    "c is a"
   ]
  },
  {
   "cell_type": "code",
   "execution_count": 60,
   "metadata": {},
   "outputs": [
    {
     "data": {
      "text/plain": [
       "True"
      ]
     },
     "execution_count": 60,
     "metadata": {},
     "output_type": "execute_result"
    }
   ],
   "source": [
    "c.base is a #c is a view of the data owned by a"
   ]
  },
  {
   "cell_type": "code",
   "execution_count": 61,
   "metadata": {},
   "outputs": [
    {
     "data": {
      "text/plain": [
       "False"
      ]
     },
     "execution_count": 61,
     "metadata": {},
     "output_type": "execute_result"
    }
   ],
   "source": [
    "c.flags.owndata"
   ]
  },
  {
   "cell_type": "code",
   "execution_count": 62,
   "metadata": {},
   "outputs": [
    {
     "data": {
      "text/plain": [
       "(3, 4)"
      ]
     },
     "execution_count": 62,
     "metadata": {},
     "output_type": "execute_result"
    }
   ],
   "source": [
    "c.shape = 2,6\n",
    "a.shape                         # here a's shape doesn't change with c's"
   ]
  },
  {
   "cell_type": "code",
   "execution_count": 63,
   "metadata": {},
   "outputs": [
    {
     "data": {
      "text/plain": [
       "array([[         0,          1,          2,          3],\n",
       "       [1236454465,          5,          6,          7],\n",
       "       [         8,          9,         10,         11]])"
      ]
     },
     "execution_count": 63,
     "metadata": {},
     "output_type": "execute_result"
    }
   ],
   "source": [
    "c[0,4] = 1236454465\n",
    "a                               # here a's value changes with c's"
   ]
  },
  {
   "cell_type": "markdown",
   "metadata": {},
   "source": [
    "Slicing an array returns a view of it!"
   ]
  },
  {
   "cell_type": "code",
   "execution_count": 64,
   "metadata": {
    "scrolled": true
   },
   "outputs": [
    {
     "data": {
      "text/plain": [
       "array([[ 1,  2],\n",
       "       [ 5,  6],\n",
       "       [ 9, 10]])"
      ]
     },
     "execution_count": 64,
     "metadata": {},
     "output_type": "execute_result"
    }
   ],
   "source": [
    "s = a[:,1:3]\n",
    "s"
   ]
  },
  {
   "cell_type": "code",
   "execution_count": 65,
   "metadata": {
    "collapsed": true
   },
   "outputs": [],
   "source": [
    "# Now we use slicing to change its view, which can result in the change of a\n",
    "s[:]=10"
   ]
  },
  {
   "cell_type": "code",
   "execution_count": 66,
   "metadata": {
    "scrolled": false
   },
   "outputs": [
    {
     "data": {
      "text/plain": [
       "array([[         0,         10,         10,          3],\n",
       "       [1236454465,         10,         10,          7],\n",
       "       [         8,         10,         10,         11]])"
      ]
     },
     "execution_count": 66,
     "metadata": {},
     "output_type": "execute_result"
    }
   ],
   "source": [
    "a"
   ]
  },
  {
   "cell_type": "markdown",
   "metadata": {},
   "source": [
    "***\n",
    "**Important** \n",
    "This copied array share nothing but the base with the original array.\n",
    "Thus change the view data can lead to the same change in the original data."
   ]
  },
  {
   "cell_type": "markdown",
   "metadata": {},
   "source": [
    "### <span id = \"2.4.3 Deep Copy\">2.4.3 Deep Copy</span>"
   ]
  },
  {
   "cell_type": "markdown",
   "metadata": {
    "collapsed": true
   },
   "source": [
    "The `copy` method makes a complete copy of the array and its data."
   ]
  },
  {
   "cell_type": "code",
   "execution_count": 67,
   "metadata": {},
   "outputs": [
    {
     "name": "stdout",
     "output_type": "stream",
     "text": [
      "d is a False\n",
      "d.base is a False\n"
     ]
    },
    {
     "data": {
      "text/plain": [
       "array([[         0,         10,         10,          3],\n",
       "       [1236454465,         10,         10,          7],\n",
       "       [         8,         10,         10,         11]])"
      ]
     },
     "execution_count": 67,
     "metadata": {},
     "output_type": "execute_result"
    }
   ],
   "source": [
    "d = a.copy()\n",
    "print('d is a', d is a)\n",
    "print('d.base is a', d.base is a)\n",
    "d[0,0]=9999\n",
    "a"
   ]
  },
  {
   "cell_type": "markdown",
   "metadata": {},
   "source": [
    "***\n",
    "**Important** \n",
    "This copied array share nothing with the original array"
   ]
  },
  {
   "cell_type": "markdown",
   "metadata": {},
   "source": [
    "### <span id = \"2.4.4 Function and Methods Overview\">2.4.4 Function and Methods Overview</span>"
   ]
  },
  {
   "cell_type": "markdown",
   "metadata": {},
   "source": [
    "Here is a list of some useful NumPy functions and methods names ordered in categories. See *routines* for the full list.  \n",
    "**Array Creation**  \n",
    "```\n",
    "arrange, array, copy, empty, empty_like, eye, fromfile, fromfunction, identity, linspace, logspace, mgrid, ogrid, ones, ones_like, r, zeros, zeros_like\n",
    "```\n",
    "**Conversions**\n",
    "```\n",
    "arrange, array, copy, empty, empty_like, eye, fromfile, fromfunction, identity, linspace, logspace, mgrid, ogrid, ones, ones_like, r, zeros, zeros_like\n",
    "```\n",
    "**Conversions**\n",
    "```\n",
    "ndarray.astype, atleast_1d, atleast_2d, atleast_3d, mat\n",
    "```\n",
    "**Manipulations**\n",
    "```\n",
    "array_split, column_stack, concatenate, diagonal, dsplit, dstack, hsplit, hstack, ndarray.item, newaxis, ravel, repeat, reshape, resize, squeeze, swapaxes, take, transpose, vsplit, vstack\n",
    "```\n",
    "**Questions**\n",
    "```\n",
    "all, any, nonzero, where\n",
    "```\n",
    "**Ordering**\n",
    "```\n",
    "argmax, argmin, argsort, max, min, ptp, searchsorted, sort\n",
    "```\n",
    "**Operations**\n",
    "```\n",
    "choose, compress, cumprod, cumsum, inner, ndarray.fill, imag, prod, put, putmask, real, sum\n",
    "```\n",
    "**Basic Statistics**\n",
    "```\n",
    "cov, mean, std, var\n",
    "```\n",
    "**Basic Linear Algebra**\n",
    "```\n",
    "cross, dot, outer, linalg.svd, vdot\n",
    "```"
   ]
  },
  {
   "cell_type": "markdown",
   "metadata": {},
   "source": [
    "## <span id = \"2.5 Less Basic\">2.5 Less Basic</span>"
   ]
  },
  {
   "cell_type": "markdown",
   "metadata": {},
   "source": [
    "### <span id = \"2.5.1 Broadcasting rules\">2.5.1 Broadcasting rules</span>"
   ]
  },
  {
   "cell_type": "markdown",
   "metadata": {},
   "source": [
    "Broadcasting allows universal functions to deal in a meaningful way with inputs that do not have exactly the same shape.  \n",
    "**The first rule of broadcasting** is that if all input arrays do not have the same number of dimensions, a \"1\" will be repeatedly prepended to the shapes of the smaller arrays until all the arrays have the same number of dimensions.  \n",
    "**The second rule of broadcasting** ensures that arrays with a size of 1 along a particular dimension act as if they had the size of the array with the largest shape along that dimension. The value of the array elemnet is assumed to be the same along the dimension for the \"broadcast\" array.  \n",
    "After application of the broadcasting rules, the sizes of all arrays must match. More details can be found in [*Broadcasting*](#3.5 Broadcasting)."
   ]
  },
  {
   "cell_type": "markdown",
   "metadata": {},
   "source": [
    "## <span id = \"2.6 Fancy indexing and index tricks\">2.6 Fancy indexing and index tricks</span>\n",
    "NumPy offers more indexing facilities than regular Python sequences. In addition to indexing by integers and slies, as we saw before, arrays can be indexed by **arrays of integers of booleans**."
   ]
  },
  {
   "cell_type": "markdown",
   "metadata": {},
   "source": [
    "### <span id = \"2.6.1 Indexing with Arrays of Indices\">2.6.1 Indexing with Arrays of Indices</span>"
   ]
  },
  {
   "cell_type": "code",
   "execution_count": 68,
   "metadata": {},
   "outputs": [
    {
     "name": "stdout",
     "output_type": "stream",
     "text": [
      "a[i]: \n",
      " [ 1  1  9 64 25]\n",
      "a[j]: \n",
      " [[ 9 16]\n",
      " [81 49]]\n"
     ]
    }
   ],
   "source": [
    "a = np.arange(12)**2\n",
    "i = np.array([1,1,3,8,5])\n",
    "j = np.array([[3,4],[9,7]])\n",
    "print('a[i]: \\n', a[i])\n",
    "print('a[j]: \\n', a[j])"
   ]
  },
  {
   "cell_type": "markdown",
   "metadata": {},
   "source": [
    "When the indexed array is *multidimensional*, a single array of indices refers to the first dimension of `a`. The following example shows this behavior by converting an image of labels into a color image using a palette调色板."
   ]
  },
  {
   "cell_type": "code",
   "execution_count": 69,
   "metadata": {},
   "outputs": [
    {
     "data": {
      "text/plain": [
       "array([[[  0,   0,   0],\n",
       "        [255,   0,   0],\n",
       "        [  0, 255,   0],\n",
       "        [  0,   0,   0]],\n",
       "\n",
       "       [[  0,   0,   0],\n",
       "        [  0,   0, 255],\n",
       "        [255, 255, 255],\n",
       "        [  0,   0,   0]]])"
      ]
     },
     "execution_count": 69,
     "metadata": {},
     "output_type": "execute_result"
    }
   ],
   "source": [
    "palette = np.array( [ [0,0,0],\n",
    "                    [255,0,0],\n",
    "                    [0,255,0],\n",
    "                    [0,0,255],\n",
    "                    [255,255,255] ] )\n",
    "image = np.array( [ [0,1,2,0],\n",
    "                    [0,3,4,0] ] )\n",
    "palette[image]"
   ]
  },
  {
   "cell_type": "markdown",
   "metadata": {},
   "source": [
    "***\n",
    "**Important**  \n",
    "The returned array is just the same shape of how you slicing the original array.\n",
    "***\n",
    "We can also give indexes for more than one dimension. The arrays of indices for each dimension must have the same shape."
   ]
  },
  {
   "cell_type": "code",
   "execution_count": 70,
   "metadata": {
    "collapsed": true
   },
   "outputs": [],
   "source": [
    "a = np.arange(12).reshape(3,4)\n",
    "i = np.array( [ [0,1],\n",
    "                [1,2] ] )\n",
    "j=np.array( [ [2,1],\n",
    "              [3,3] ] )"
   ]
  },
  {
   "cell_type": "code",
   "execution_count": 72,
   "metadata": {},
   "outputs": [
    {
     "name": "stdout",
     "output_type": "stream",
     "text": [
      "a[i,j]:\n",
      " [[ 2  5]\n",
      " [ 7 11]]\n",
      "a[:,j]:\n",
      " [[[ 2  1]\n",
      "  [ 3  3]]\n",
      "\n",
      " [[ 6  5]\n",
      "  [ 7  7]]\n",
      "\n",
      " [[10  9]\n",
      "  [11 11]]]\n",
      "a[i,:]:\n",
      " [[[ 0  1  2  3]\n",
      "  [ 4  5  6  7]]\n",
      "\n",
      " [[ 4  5  6  7]\n",
      "  [ 8  9 10 11]]]\n"
     ]
    }
   ],
   "source": [
    "print('a[i,j]:\\n',a[i,j])\n",
    "print('a[:,j]:\\n',a[:,j])\n",
    "print('a[i,:]:\\n',a[i,:])"
   ]
  },
  {
   "cell_type": "markdown",
   "metadata": {},
   "source": [
    "***\n",
    "**Important**  \n",
    "Thus how you slicing must obey the rule of being a matrix.  \n",
    "Another important thing to notice is shown below."
   ]
  },
  {
   "cell_type": "code",
   "execution_count": 73,
   "metadata": {},
   "outputs": [
    {
     "data": {
      "text/plain": [
       "array([[ 2,  5],\n",
       "       [ 7, 11]])"
      ]
     },
     "execution_count": 73,
     "metadata": {},
     "output_type": "execute_result"
    }
   ],
   "source": [
    "# now i and j can be seen as a tuple of two element with each element be a x-y plane coordinate\n",
    "l = [i,j]\n",
    "a[l]"
   ]
  },
  {
   "cell_type": "code",
   "execution_count": 74,
   "metadata": {
    "collapsed": true
   },
   "outputs": [],
   "source": [
    "s = np.array( [i,j] )"
   ]
  },
  {
   "cell_type": "code",
   "execution_count": 78,
   "metadata": {},
   "outputs": [
    {
     "name": "stdout",
     "output_type": "stream",
     "text": [
      "s:\n",
      " [[[0 1]\n",
      "  [1 2]]\n",
      "\n",
      " [[2 1]\n",
      "  [3 3]]]\n",
      "l:\n",
      " [array([[0, 1],\n",
      "       [1, 2]]), array([[2, 1],\n",
      "       [3, 3]])]\n",
      "THEY　ARE NOT THE SAME ARRAY!!!\n"
     ]
    }
   ],
   "source": [
    "print('s:\\n',s)\n",
    "print('l:\\n',l)\n",
    "print('THEY　ARE NOT THE SAME ARRAY!!!')"
   ]
  },
  {
   "cell_type": "code",
   "execution_count": 79,
   "metadata": {},
   "outputs": [
    {
     "data": {
      "text/plain": [
       "array([[ 2,  5],\n",
       "       [ 7, 11]])"
      ]
     },
     "execution_count": 79,
     "metadata": {},
     "output_type": "execute_result"
    }
   ],
   "source": [
    "a[tuple(s)]"
   ]
  },
  {
   "cell_type": "markdown",
   "metadata": {},
   "source": [
    "We cannot use `a[s]`, because this array will be interpreted as indexing the first dimension of a. Obviously out of range!\n",
    "***"
   ]
  },
  {
   "cell_type": "markdown",
   "metadata": {},
   "source": [
    "Another common use of indexing with arrays is the search of the maximum value of time-dependent series:"
   ]
  },
  {
   "cell_type": "code",
   "execution_count": 84,
   "metadata": {},
   "outputs": [
    {
     "name": "stdout",
     "output_type": "stream",
     "text": [
      "time:\n",
      " [  20.     51.25   82.5   113.75  145.  ]\n",
      "data:\n",
      " [[ 0.          0.84147098  0.90929743  0.14112001]\n",
      " [-0.7568025  -0.95892427 -0.2794155   0.6569866 ]\n",
      " [ 0.98935825  0.41211849 -0.54402111 -0.99999021]\n",
      " [-0.53657292  0.42016704  0.99060736  0.65028784]\n",
      " [-0.28790332 -0.96139749 -0.75098725  0.14987721]]\n",
      "ind:\n",
      " [2 0 3 1]\n",
      "time_max:\n",
      " [  82.5    20.    113.75   51.25]\n",
      "data_max:\n",
      " [ 0.98935825  0.84147098  0.99060736  0.6569866 ]\n"
     ]
    },
    {
     "data": {
      "text/plain": [
       "True"
      ]
     },
     "execution_count": 84,
     "metadata": {},
     "output_type": "execute_result"
    }
   ],
   "source": [
    "time = np.linspace(20,145,5)\n",
    "data = np.sin(np.arange(20).reshape(5,4))\n",
    "print('time:\\n',time)\n",
    "print('data:\\n',data)\n",
    "ind = data.argmax(axis = 0)\n",
    "print('ind:\\n',ind)\n",
    "time_max = time[ind]\n",
    "data_max = data[ind, range(data.shape[1])]\n",
    "print('time_max:\\n',time_max)\n",
    "print('data_max:\\n',data_max)\n",
    "np.all(data_max == data.max(axis=0))"
   ]
  },
  {
   "cell_type": "markdown",
   "metadata": {},
   "source": [
    "`data[ind, range(data.shape[1])]`, equals to `[data[ind[0],0],data[ind[1],1],data[ind[2],2],data[ind[3],3]]`.  \n",
    "And we can let all these operation be substituted by `data.max(axis=0)`.  \n",
    "You can also use indexing with **arrays as a target to assign** to:"
   ]
  },
  {
   "cell_type": "code",
   "execution_count": 89,
   "metadata": {},
   "outputs": [
    {
     "data": {
      "text/plain": [
       "array([0, 0, 2, 0, 0])"
      ]
     },
     "execution_count": 89,
     "metadata": {},
     "output_type": "execute_result"
    }
   ],
   "source": [
    "a = np.arange(5)\n",
    "a[[1,3,4]] = 0\n",
    "a"
   ]
  },
  {
   "cell_type": "markdown",
   "metadata": {},
   "source": [
    "If the list of indices have **same index more than once**, the assignment will finnaly leaving **the last value** as is last assigned to."
   ]
  },
  {
   "cell_type": "code",
   "execution_count": 90,
   "metadata": {},
   "outputs": [
    {
     "data": {
      "text/plain": [
       "array([0, 6, 2, 3, 4])"
      ]
     },
     "execution_count": 90,
     "metadata": {},
     "output_type": "execute_result"
    }
   ],
   "source": [
    "a = np.arange(5)\n",
    "a[[1,1,1,1,1,1]] = [1,2,3,4,5,6]\n",
    "a"
   ]
  },
  {
   "cell_type": "markdown",
   "metadata": {},
   "source": [
    "Unless you use another operation, the Python's `+=` construct, things may get more complex..."
   ]
  },
  {
   "cell_type": "code",
   "execution_count": 91,
   "metadata": {},
   "outputs": [
    {
     "data": {
      "text/plain": [
       "array([0, 7, 2, 3, 4])"
      ]
     },
     "execution_count": 91,
     "metadata": {},
     "output_type": "execute_result"
    }
   ],
   "source": [
    "a = np.arange(5)\n",
    "a[[1,1,1,1,1,1]] += [1,2,3,4,5,6]\n",
    "a"
   ]
  },
  {
   "cell_type": "markdown",
   "metadata": {},
   "source": [
    "### <span id = \"2.6.2 Indexing with Boolean Arrays\">2.6.2 Indexing with Boolean Arrays</span>"
   ]
  },
  {
   "cell_type": "code",
   "execution_count": null,
   "metadata": {
    "collapsed": true
   },
   "outputs": [],
   "source": []
  },
  {
   "cell_type": "code",
   "execution_count": null,
   "metadata": {
    "collapsed": true
   },
   "outputs": [],
   "source": []
  },
  {
   "cell_type": "code",
   "execution_count": null,
   "metadata": {
    "collapsed": true
   },
   "outputs": [],
   "source": []
  },
  {
   "cell_type": "code",
   "execution_count": null,
   "metadata": {
    "collapsed": true
   },
   "outputs": [],
   "source": []
  },
  {
   "cell_type": "code",
   "execution_count": null,
   "metadata": {
    "collapsed": true
   },
   "outputs": [],
   "source": []
  },
  {
   "cell_type": "code",
   "execution_count": null,
   "metadata": {
    "collapsed": true
   },
   "outputs": [],
   "source": []
  },
  {
   "cell_type": "code",
   "execution_count": null,
   "metadata": {
    "collapsed": true
   },
   "outputs": [],
   "source": []
  },
  {
   "cell_type": "code",
   "execution_count": null,
   "metadata": {
    "collapsed": true
   },
   "outputs": [],
   "source": []
  },
  {
   "cell_type": "code",
   "execution_count": null,
   "metadata": {
    "collapsed": true
   },
   "outputs": [],
   "source": []
  },
  {
   "cell_type": "code",
   "execution_count": null,
   "metadata": {
    "collapsed": true
   },
   "outputs": [],
   "source": []
  },
  {
   "cell_type": "code",
   "execution_count": null,
   "metadata": {
    "collapsed": true
   },
   "outputs": [],
   "source": []
  },
  {
   "cell_type": "code",
   "execution_count": null,
   "metadata": {
    "collapsed": true
   },
   "outputs": [],
   "source": []
  },
  {
   "cell_type": "code",
   "execution_count": null,
   "metadata": {
    "collapsed": true
   },
   "outputs": [],
   "source": []
  },
  {
   "cell_type": "code",
   "execution_count": null,
   "metadata": {
    "collapsed": true
   },
   "outputs": [],
   "source": []
  },
  {
   "cell_type": "code",
   "execution_count": null,
   "metadata": {
    "collapsed": true
   },
   "outputs": [],
   "source": []
  },
  {
   "cell_type": "code",
   "execution_count": null,
   "metadata": {
    "collapsed": true
   },
   "outputs": [],
   "source": []
  },
  {
   "cell_type": "code",
   "execution_count": null,
   "metadata": {
    "collapsed": true
   },
   "outputs": [],
   "source": []
  },
  {
   "cell_type": "code",
   "execution_count": null,
   "metadata": {
    "collapsed": true
   },
   "outputs": [],
   "source": []
  },
  {
   "cell_type": "code",
   "execution_count": null,
   "metadata": {
    "collapsed": true
   },
   "outputs": [],
   "source": []
  },
  {
   "cell_type": "code",
   "execution_count": null,
   "metadata": {
    "collapsed": true
   },
   "outputs": [],
   "source": []
  },
  {
   "cell_type": "code",
   "execution_count": null,
   "metadata": {
    "collapsed": true
   },
   "outputs": [],
   "source": []
  },
  {
   "cell_type": "code",
   "execution_count": null,
   "metadata": {
    "collapsed": true
   },
   "outputs": [],
   "source": []
  },
  {
   "cell_type": "code",
   "execution_count": null,
   "metadata": {
    "collapsed": true
   },
   "outputs": [],
   "source": []
  },
  {
   "cell_type": "code",
   "execution_count": null,
   "metadata": {
    "collapsed": true
   },
   "outputs": [],
   "source": []
  },
  {
   "cell_type": "code",
   "execution_count": null,
   "metadata": {
    "collapsed": true
   },
   "outputs": [],
   "source": []
  },
  {
   "cell_type": "code",
   "execution_count": null,
   "metadata": {
    "collapsed": true
   },
   "outputs": [],
   "source": []
  },
  {
   "cell_type": "code",
   "execution_count": null,
   "metadata": {
    "collapsed": true
   },
   "outputs": [],
   "source": []
  },
  {
   "cell_type": "code",
   "execution_count": null,
   "metadata": {
    "collapsed": true
   },
   "outputs": [],
   "source": []
  },
  {
   "cell_type": "code",
   "execution_count": null,
   "metadata": {
    "collapsed": true
   },
   "outputs": [],
   "source": []
  },
  {
   "cell_type": "code",
   "execution_count": null,
   "metadata": {
    "collapsed": true
   },
   "outputs": [],
   "source": []
  },
  {
   "cell_type": "code",
   "execution_count": null,
   "metadata": {
    "collapsed": true
   },
   "outputs": [],
   "source": []
  },
  {
   "cell_type": "code",
   "execution_count": null,
   "metadata": {
    "collapsed": true
   },
   "outputs": [],
   "source": []
  },
  {
   "cell_type": "code",
   "execution_count": null,
   "metadata": {
    "collapsed": true
   },
   "outputs": [],
   "source": []
  },
  {
   "cell_type": "code",
   "execution_count": null,
   "metadata": {
    "collapsed": true
   },
   "outputs": [],
   "source": []
  },
  {
   "cell_type": "code",
   "execution_count": null,
   "metadata": {
    "collapsed": true
   },
   "outputs": [],
   "source": []
  },
  {
   "cell_type": "code",
   "execution_count": null,
   "metadata": {
    "collapsed": true
   },
   "outputs": [],
   "source": []
  },
  {
   "cell_type": "markdown",
   "metadata": {},
   "source": [
    "## <span id = \"3.4 Indexing\">3.4 Indexing</span>"
   ]
  },
  {
   "cell_type": "code",
   "execution_count": null,
   "metadata": {
    "collapsed": true
   },
   "outputs": [],
   "source": []
  }
 ],
 "metadata": {
  "kernelspec": {
   "display_name": "Python 3",
   "language": "python",
   "name": "python3"
  },
  "language_info": {
   "codemirror_mode": {
    "name": "ipython",
    "version": 3
   },
   "file_extension": ".py",
   "mimetype": "text/x-python",
   "name": "python",
   "nbconvert_exporter": "python",
   "pygments_lexer": "ipython3",
   "version": "3.5.2"
  }
 },
 "nbformat": 4,
 "nbformat_minor": 1
}
